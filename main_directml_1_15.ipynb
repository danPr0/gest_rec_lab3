{
 "cells": [
  {
   "cell_type": "code",
   "metadata": {
    "id": "OVAdgMoRi6si",
    "ExecuteTime": {
     "end_time": "2025-03-28T12:26:50.990387Z",
     "start_time": "2025-03-28T12:26:50.980370Z"
    }
   },
   "source": [
    "################################################\n",
    "### using filtered data"
   ],
   "outputs": [],
   "execution_count": 1
  },
  {
   "cell_type": "code",
   "metadata": {
    "colab": {
     "base_uri": "https://localhost:8080/",
     "height": 180
    },
    "id": "LyUj_oZqi6sm",
    "outputId": "92d21141-5656-41fb-9045-025062590251",
    "ExecuteTime": {
     "end_time": "2025-03-28T12:26:51.052829Z",
     "start_time": "2025-03-28T12:26:50.994370Z"
    }
   },
   "source": [
    "import pickle\n",
    "with open('shaped.pickle', 'rb') as f:\n",
    "    ab = pickle.load(f)"
   ],
   "outputs": [],
   "execution_count": 2
  },
  {
   "cell_type": "code",
   "metadata": {
    "id": "slx70xjxi6sn",
    "outputId": "effd2e2d-4c8c-4732-8fb2-0644657badf3",
    "ExecuteTime": {
     "end_time": "2025-03-28T12:26:51.114269Z",
     "start_time": "2025-03-28T12:26:51.100253Z"
    }
   },
   "source": [
    "ab.shape"
   ],
   "outputs": [
    {
     "data": {
      "text/plain": [
       "(297, 1200)"
      ]
     },
     "execution_count": 3,
     "metadata": {},
     "output_type": "execute_result"
    }
   ],
   "execution_count": 3
  },
  {
   "cell_type": "code",
   "metadata": {
    "id": "VCrarOqZi6so",
    "ExecuteTime": {
     "end_time": "2025-03-28T12:26:52.117811Z",
     "start_time": "2025-03-28T12:26:51.145817Z"
    }
   },
   "source": [
    "from sklearn import model_selection, preprocessing, linear_model, naive_bayes, metrics, svm\n",
    "#from sklearn.feature_extraction.text import TfidfVectorizer, CountVectorizer\n",
    "from sklearn import decomposition, ensemble\n",
    "\n",
    "import numpy #,  string #pandas, xgboost, textblob,\n",
    "#from tensorflow.keras.preprocessing import text, sequence\n",
    "from tensorflow.keras import layers, models, optimizers"
   ],
   "outputs": [],
   "execution_count": 4
  },
  {
   "cell_type": "code",
   "metadata": {
    "id": "FINs3Y7pi6sp",
    "outputId": "6df54803-7f4e-43a1-d9a8-52a930a2eed1",
    "ExecuteTime": {
     "end_time": "2025-03-28T12:26:52.133303Z",
     "start_time": "2025-03-28T12:26:52.126793Z"
    }
   },
   "source": [
    "import tensorflow as tf\n",
    "tf. __version__"
   ],
   "outputs": [
    {
     "data": {
      "text/plain": [
       "'1.15.8'"
      ]
     },
     "execution_count": 5,
     "metadata": {},
     "output_type": "execute_result"
    }
   ],
   "execution_count": 5
  },
  {
   "metadata": {
    "ExecuteTime": {
     "end_time": "2025-03-28T12:26:52.353930Z",
     "start_time": "2025-03-28T12:26:52.150302Z"
    }
   },
   "cell_type": "code",
   "source": [
    "from tensorflow.python.client import device_lib\n",
    "device_lib.list_local_devices()"
   ],
   "outputs": [
    {
     "data": {
      "text/plain": [
       "[name: \"/device:CPU:0\"\n",
       " device_type: \"CPU\"\n",
       " memory_limit: 268435456\n",
       " locality {\n",
       " }\n",
       " incarnation: 17383008892478354005,\n",
       " name: \"/device:DML:0\"\n",
       " device_type: \"DML\"\n",
       " memory_limit: 1589431502\n",
       " locality {\n",
       " }\n",
       " incarnation: 4436694877747088735\n",
       " physical_device_desc: \"{\\\"name\\\": \\\"Intel(R) Iris(R) Xe Graphics\\\", \\\"vendor_id\\\": 32902, \\\"device_id\\\": 42912, \\\"driver_version\\\": \\\"32.0.101.5542\\\"}\"]"
      ]
     },
     "execution_count": 6,
     "metadata": {},
     "output_type": "execute_result"
    }
   ],
   "execution_count": 6
  },
  {
   "cell_type": "code",
   "metadata": {
    "id": "knzBAADPi6sp",
    "ExecuteTime": {
     "end_time": "2025-03-28T12:26:52.385372Z",
     "start_time": "2025-03-28T12:26:52.370930Z"
    }
   },
   "source": [
    "# Define models:\n",
    "\n",
    "def train_model(classifier, feature_vector_train, label, feature_vector_valid, is_neural_net=False):\n",
    "    # fit the training dataset on the classifier\n",
    "    classifier.fit(feature_vector_train, label)\n",
    "\n",
    "    # predict the labels on validation dataset\n",
    "    predictions = classifier.predict(feature_vector_valid)\n",
    "\n",
    "    if is_neural_net:\n",
    "        predictions = predictions.argmax(axis=-1)\n",
    "\n",
    "    return metrics.accuracy_score(predictions, valid_y)\n",
    "\n",
    "def train_model2(classifier, feature_vector_train, label, feature_vector_valid, valid_Y, is_neural_net=False):\n",
    "    # fit the training dataset on the classifier\n",
    "    classifier.fit(feature_vector_train, label)\n",
    "\n",
    "    # predict the labels on validation dataset\n",
    "    predictions = classifier.predict(feature_vector_valid)\n",
    "\n",
    "    if is_neural_net:\n",
    "        predictions = predictions.argmax(axis=-1)\n",
    "\n",
    "    return metrics.accuracy_score(predictions, valid_Y)"
   ],
   "outputs": [],
   "execution_count": 7
  },
  {
   "cell_type": "code",
   "metadata": {
    "id": "yAfQ7puBi6sq",
    "ExecuteTime": {
     "end_time": "2025-03-28T12:26:52.762846Z",
     "start_time": "2025-03-28T12:26:52.402104Z"
    }
   },
   "source": [
    "from sklearn.decomposition import PCA\n",
    "from sklearn.decomposition import TruncatedSVD\n",
    "import numpy as np\n",
    "from scipy.sparse import csr_matrix\n",
    "\n",
    "from sklearn.manifold import TSNE\n",
    "from sklearn.cluster import KMeans\n",
    "import time\n",
    "import warnings\n",
    "\n",
    "import matplotlib.pyplot as plt\n",
    "\n",
    "from sklearn import cluster, datasets, mixture\n",
    "from sklearn.neighbors import kneighbors_graph\n",
    "from sklearn.preprocessing import StandardScaler\n",
    "from itertools import cycle, islice\n",
    "\n",
    "import scipy"
   ],
   "outputs": [],
   "execution_count": 8
  },
  {
   "cell_type": "code",
   "metadata": {
    "id": "GwncsoKci6sr",
    "ExecuteTime": {
     "end_time": "2025-03-28T12:26:52.794055Z",
     "start_time": "2025-03-28T12:26:52.779847Z"
    }
   },
   "source": [
    "y_ = np.ones(len(ab))"
   ],
   "outputs": [],
   "execution_count": 9
  },
  {
   "cell_type": "code",
   "metadata": {
    "id": "BaSBlmubi6sr",
    "outputId": "462283e9-8d9b-4dbf-e223-102fa6f22433",
    "ExecuteTime": {
     "end_time": "2025-03-28T12:26:52.841677Z",
     "start_time": "2025-03-28T12:26:52.811163Z"
    }
   },
   "source": [
    "start_time = time.time()\n",
    "#a = np.reshape(np.array(tempvar),(297*20,60))\n",
    "\n",
    "#base parameters\n",
    "default_base = {'quantile': .3,\n",
    "                'eps': .3,\n",
    "                'damping': .9,\n",
    "                'preference': -200,\n",
    "                'n_neighbors': 10, #maybe more\n",
    "                'n_clusters': 4, #3 is actual number\n",
    "                'min_samples': 20,\n",
    "                'xi': 0.05,\n",
    "                'min_cluster_size': 0.1}\n",
    "\n",
    "params = default_base.copy()\n",
    "\n",
    "pca = TruncatedSVD(n_components=10)\n",
    "pca.fit(ab)\n",
    "#csr_matrix(\n",
    "transformed_ = pca.transform(ab)\n",
    "end_time = time.time()\n",
    "end_time-start_time"
   ],
   "outputs": [
    {
     "data": {
      "text/plain": [
       "0.016512155532836914"
      ]
     },
     "execution_count": 10,
     "metadata": {},
     "output_type": "execute_result"
    }
   ],
   "execution_count": 10
  },
  {
   "cell_type": "code",
   "metadata": {
    "id": "GvJ3CMz1i6ss",
    "ExecuteTime": {
     "end_time": "2025-03-28T12:26:52.872856Z",
     "start_time": "2025-03-28T12:26:52.858703Z"
    }
   },
   "source": [
    "#X_embedded2 = X_embedded"
   ],
   "outputs": [],
   "execution_count": 11
  },
  {
   "cell_type": "code",
   "metadata": {
    "id": "ti2G5fm3i6ss",
    "ExecuteTime": {
     "end_time": "2025-03-28T12:26:52.904256Z",
     "start_time": "2025-03-28T12:26:52.889247Z"
    }
   },
   "source": [
    "#X_embedded = transformed_"
   ],
   "outputs": [],
   "execution_count": 12
  },
  {
   "cell_type": "code",
   "metadata": {
    "id": "rPIffDu_i6ss",
    "outputId": "4a19a5eb-49c5-4a62-94a8-794bbb1f2d90",
    "ExecuteTime": {
     "end_time": "2025-03-28T12:26:52.935179Z",
     "start_time": "2025-03-28T12:26:52.920625Z"
    }
   },
   "source": [
    "start_time = time.time()\n",
    "#X_embedded = TSNE(n_components=2).fit_transform(transformed_)\n",
    "X_embedded = transformed_\n",
    "end_time = time.time()\n",
    "end_time-start_time"
   ],
   "outputs": [
    {
     "data": {
      "text/plain": [
       "0.0"
      ]
     },
     "execution_count": 13,
     "metadata": {},
     "output_type": "execute_result"
    }
   ],
   "execution_count": 13
  },
  {
   "cell_type": "code",
   "metadata": {
    "id": "lXmggtVdi6st",
    "ExecuteTime": {
     "end_time": "2025-03-28T12:26:52.966610Z",
     "start_time": "2025-03-28T12:26:52.952216Z"
    }
   },
   "source": [
    "# ============\n",
    "# Create cluster objects\n",
    "# ============\n",
    "\n",
    "\n",
    "\n",
    "two_means = cluster.MiniBatchKMeans(n_clusters=params['n_clusters'])\n",
    "\n",
    "clustering_algorithms = (\n",
    "        ('MBatchKMeans', two_means),\n",
    ")\n",
    "\n",
    "plot_num = 1"
   ],
   "outputs": [],
   "execution_count": 14
  },
  {
   "cell_type": "code",
   "metadata": {
    "scrolled": true,
    "id": "i0CkOfswi6st",
    "outputId": "2ffb337e-70e2-4837-a493-8f2a10ff8ba2",
    "ExecuteTime": {
     "end_time": "2025-03-28T12:26:53.218345Z",
     "start_time": "2025-03-28T12:26:52.982610Z"
    }
   },
   "source": [
    "for name, algorithm in clustering_algorithms:\n",
    "\n",
    "        t0 = time.time()\n",
    "\n",
    "        # catch warnings related to kneighbors_graph\n",
    "        with warnings.catch_warnings():\n",
    "            warnings.filterwarnings(\n",
    "                \"ignore\",\n",
    "                message=\"the number of connected components of the \" +\n",
    "                \"connectivity matrix is [0-9]{1,2}\" +\n",
    "                \" > 1. Completing it to avoid stopping the tree early.\",\n",
    "                category=UserWarning)\n",
    "            warnings.filterwarnings(\n",
    "                \"ignore\",\n",
    "                message=\"Graph is not fully connected, spectral embedding\" +\n",
    "                \" may not work as expected.\",\n",
    "                category=UserWarning)\n",
    "            algorithm.fit(X_embedded)\n",
    "\n",
    "\n",
    "\n",
    "        t1 = time.time()\n",
    "\n",
    "        if hasattr(algorithm, 'labels_'):\n",
    "            y_pred = algorithm.labels_.astype(int)\n",
    "        else:\n",
    "            y_pred = algorithm.predict(X_embedded)\n",
    "\n",
    "        plt.subplot(1, len(clustering_algorithms), plot_num)\n",
    "\n",
    "        colors = np.array(list(islice(cycle(['#377eb8', '#ff7f00', '#4daf4a',\n",
    "                                             '#f781bf', '#a65628', '#984ea3',\n",
    "                                             '#999999', '#e41a1c', '#dede00']),\n",
    "                                      int(max(y_pred) + 1))))\n",
    "        # add black color for outliers (if any)\n",
    "        colors = np.append(colors, [\"#000000\"])\n",
    "\n",
    "\n",
    "        plt.scatter(X_embedded[:, 0], X_embedded[:, 1], s=2, color=colors[y_pred])\n",
    "\n",
    "        plt.xlim(-2.5, 2.5)\n",
    "        plt.ylim(-2.5, 2.5)\n",
    "        plt.xticks(())\n",
    "        plt.yticks(())\n",
    "\n",
    "        plot_num += 1\n",
    "\n",
    "        # stop, plot only one image\n",
    "        break\n",
    "\n",
    "#plt.show()\n",
    "t1-t0"
   ],
   "outputs": [
    {
     "data": {
      "text/plain": [
       "0.1601731777191162"
      ]
     },
     "execution_count": 15,
     "metadata": {},
     "output_type": "execute_result"
    },
    {
     "data": {
      "text/plain": [
       "<Figure size 640x480 with 1 Axes>"
      ],
      "image/png": "[encoded data removed]"
     },
     "metadata": {},
     "output_type": "display_data"
    }
   ],
   "execution_count": 15
  },
  {
   "cell_type": "code",
   "metadata": {
    "id": "I7Owfj0Qi6st",
    "outputId": "dad0c58e-0c4e-4a5d-82e8-07558917d572",
    "ExecuteTime": {
     "end_time": "2025-03-28T12:26:53.376535Z",
     "start_time": "2025-03-28T12:26:53.244852Z"
    }
   },
   "source": [
    "colors = np.array(list(islice(cycle(['#377eb8', '#ff7f00', '#4daf4a',\n",
    "                                             '#f781bf', '#a65628', '#984ea3',\n",
    "                                             '#999999', '#e41a1c', '#dede00']), int(max(y_pred) + 1))))\n",
    "\n",
    "plt.figure(figsize=(6, 6))\n",
    "plt.scatter(X_embedded[:, 0], X_embedded[:, 1], s=2, c=colors[y_pred])\n",
    "plt.colorbar()\n",
    "plt.show()"
   ],
   "outputs": [
    {
     "data": {
      "text/plain": [
       "<Figure size 600x600 with 2 Axes>"
      ],
      "image/png": "[encoded data removed]"
     },
     "metadata": {},
     "output_type": "display_data"
    }
   ],
   "execution_count": 16
  },
  {
   "cell_type": "code",
   "metadata": {
    "id": "SnBb2R2mi6su",
    "outputId": "629e3b95-1da5-41e9-ddd1-f46f17effecb",
    "ExecuteTime": {
     "end_time": "2025-03-28T12:26:53.408378Z",
     "start_time": "2025-03-28T12:26:53.393361Z"
    }
   },
   "source": [
    "y_pred.shape"
   ],
   "outputs": [
    {
     "data": {
      "text/plain": [
       "(297,)"
      ]
     },
     "execution_count": 17,
     "metadata": {},
     "output_type": "execute_result"
    }
   ],
   "execution_count": 17
  },
  {
   "cell_type": "code",
   "metadata": {
    "id": "xa46Vk3Ui6su",
    "ExecuteTime": {
     "end_time": "2025-03-28T12:26:53.439728Z",
     "start_time": "2025-03-28T12:26:53.425193Z"
    }
   },
   "source": [
    "#optional classifiers to choose\n",
    "from sklearn.naive_bayes import MultinomialNB\n",
    "from sklearn.linear_model import LogisticRegression\n",
    "from sklearn.ensemble import RandomForestClassifier\n",
    "from sklearn.svm import LinearSVC\n",
    "from sklearn.neural_network import MLPClassifier\n",
    "from sklearn.neighbors import KNeighborsClassifier\n",
    "from sklearn.svm import SVC\n",
    "from sklearn.gaussian_process import GaussianProcessClassifier\n",
    "from sklearn.gaussian_process.kernels import RBF\n",
    "from sklearn.tree import DecisionTreeClassifier\n",
    "from sklearn.ensemble import RandomForestClassifier, AdaBoostClassifier\n",
    "from sklearn.naive_bayes import GaussianNB\n",
    "from sklearn.discriminant_analysis import QuadraticDiscriminantAnalysis\n",
    "from sklearn.model_selection import cross_val_score\n",
    "import matplotlib.pyplot as plt\n",
    "#import seaborn as sns"
   ],
   "outputs": [],
   "execution_count": 18
  },
  {
   "cell_type": "code",
   "metadata": {
    "id": "VgQKR2tPi6su",
    "ExecuteTime": {
     "end_time": "2025-03-28T12:26:53.470012Z",
     "start_time": "2025-03-28T12:26:53.455977Z"
    }
   },
   "source": [
    "# ab (297x1200)!"
   ],
   "outputs": [],
   "execution_count": 19
  },
  {
   "cell_type": "code",
   "metadata": {
    "id": "lI2HsX6ri6su",
    "outputId": "fe9a4105-d34a-4477-adaf-467738fa4563",
    "ExecuteTime": {
     "end_time": "2025-03-28T12:26:53.502091Z",
     "start_time": "2025-03-28T12:26:53.487087Z"
    }
   },
   "source": [
    "start_time = time.time()\n",
    "train_x, valid_x, train_y, valid_y = model_selection.train_test_split(X_embedded, y_pred)\n",
    "end_time = time.time()\n",
    "end_time-start_time"
   ],
   "outputs": [
    {
     "data": {
      "text/plain": [
       "0.0009911060333251953"
      ]
     },
     "execution_count": 20,
     "metadata": {},
     "output_type": "execute_result"
    }
   ],
   "execution_count": 20
  },
  {
   "cell_type": "code",
   "metadata": {
    "id": "-VE5h4XSi6sv",
    "ExecuteTime": {
     "end_time": "2025-03-28T12:26:53.533960Z",
     "start_time": "2025-03-28T12:26:53.518935Z"
    }
   },
   "source": [
    "import numpy as np\n",
    "#import pandas as pd\n",
    "import os\n",
    "\n",
    "import tensorflow as tf\n",
    "#import tensorflow_addons as tfa #none\n",
    "from tensorflow.keras import layers\n",
    "\n",
    "import matplotlib.pyplot as plt\n",
    "from IPython import display\n",
    "from IPython.display import clear_output\n",
    "\n",
    "import glob\n",
    "#import imageio\n",
    "import time\n",
    "import IPython.display as ipd\n",
    "\n",
    "#AUTOTUNE = tf.data.experimental.AUTOTUNE"
   ],
   "outputs": [],
   "execution_count": 21
  },
  {
   "cell_type": "code",
   "metadata": {
    "id": "XalkKf_6i6sv",
    "ExecuteTime": {
     "end_time": "2025-03-28T12:26:53.565271Z",
     "start_time": "2025-03-28T12:26:53.551263Z"
    }
   },
   "source": [
    "# Shallow Neural Networks\n",
    "# model nx100xn\n",
    "\n",
    "import numpy as np\n",
    "import scipy.sparse\n",
    "import tensorflow as tf\n",
    "\n",
    "import tensorflow.keras\n",
    "from tensorflow.keras import layers\n",
    "from tensorflow.keras import regularizers"
   ],
   "outputs": [],
   "execution_count": 22
  },
  {
   "cell_type": "code",
   "metadata": {
    "id": "9nCoLZd7i6sv",
    "ExecuteTime": {
     "end_time": "2025-03-28T12:26:53.596154Z",
     "start_time": "2025-03-28T12:26:53.581642Z"
    }
   },
   "source": [
    "import tensorflow.keras as keras\n",
    "from tensorflow.keras import backend as K"
   ],
   "outputs": [],
   "execution_count": 23
  },
  {
   "cell_type": "code",
   "metadata": {
    "id": "M9H0QwSvi6sv",
    "ExecuteTime": {
     "end_time": "2025-03-28T12:26:53.627166Z",
     "start_time": "2025-03-28T12:26:53.613649Z"
    }
   },
   "source": [
    "from tensorflow.keras.layers import Input, Dense, Flatten, Reshape\n",
    "from tensorflow.keras.models import Model"
   ],
   "outputs": [],
   "execution_count": 24
  },
  {
   "cell_type": "code",
   "metadata": {
    "id": "wsHtvAYji6sv",
    "ExecuteTime": {
     "end_time": "2025-03-28T12:26:53.658695Z",
     "start_time": "2025-03-28T12:26:53.645187Z"
    }
   },
   "source": [
    "def create_dense_ae():\n",
    "    # Розмірність кодованого простору\n",
    "    hidden_dim = 60\n",
    "    encoding_dim = 2\n",
    "\n",
    "    # Кодувальник\n",
    "    input = Input(shape=(10*1, )) # 10*1,  - розмірність вхідного шару\n",
    "    # Додатковий шар для кодування вхідного представлення\n",
    "    flat = Flatten()(input)\n",
    "\n",
    "    hidden = Dense(hidden_dim, activation='relu')(flat)\n",
    "    hidden2 = Dense(hidden_dim, activation='relu')(hidden)\n",
    "    # Приховане подання кодувальника\n",
    "    encoded = Dense(encoding_dim, activation='relu')(hidden2)\n",
    "\n",
    "    # Декодувальник\n",
    "    # Аналогічним чином, але послідовність шарів протилежна кодувальнику\n",
    "    input_encoded = Input(shape=(encoding_dim,))\n",
    "    hidden_encoded = Dense(hidden_dim, activation='sigmoid')(input_encoded)\n",
    "    hidden_encoded2 = Dense(hidden_dim, activation='sigmoid')(hidden_encoded)\n",
    "\n",
    "    flat_decoded = Dense(10*1, activation='sigmoid')(hidden_encoded2)\n",
    "    decoded = Reshape((10*1, ))(flat_decoded)\n",
    "\n",
    "    # Таким чином можна подати окремо модель як для кодувальника так і декодувальника\n",
    "    # Або подавати шари окермо\n",
    "    encoder = Model(input, encoded, name=\"encoder\")\n",
    "    decoder = Model(input_encoded, decoded, name=\"decoder\")\n",
    "    autoencoder = Model(input, decoder(encoder(input)), name=\"autoencoder\")\n",
    "    return encoder, decoder, autoencoder"
   ],
   "outputs": [],
   "execution_count": 25
  },
  {
   "cell_type": "code",
   "metadata": {
    "id": "HPKG2myHi6sw",
    "ExecuteTime": {
     "end_time": "2025-03-28T12:26:53.690657Z",
     "start_time": "2025-03-28T12:26:53.676541Z"
    }
   },
   "source": [
    "# перелік наявних пристроїв (у випадку TF-DML)"
   ],
   "outputs": [],
   "execution_count": 26
  },
  {
   "cell_type": "code",
   "metadata": {
    "id": "saf7akn4i6sw",
    "outputId": "320c7392-f94f-4ea6-b1a6-ac7aa107fe8b",
    "ExecuteTime": {
     "end_time": "2025-03-28T12:26:53.721122Z",
     "start_time": "2025-03-28T12:26:53.706567Z"
    }
   },
   "source": [
    "from tensorflow.python.client import device_lib\n",
    "device_lib.list_local_devices()"
   ],
   "outputs": [
    {
     "data": {
      "text/plain": [
       "[name: \"/device:CPU:0\"\n",
       " device_type: \"CPU\"\n",
       " memory_limit: 268435456\n",
       " locality {\n",
       " }\n",
       " incarnation: 10599671424921703869,\n",
       " name: \"/device:DML:0\"\n",
       " device_type: \"DML\"\n",
       " memory_limit: 1589431502\n",
       " locality {\n",
       " }\n",
       " incarnation: 8496316706953709651\n",
       " physical_device_desc: \"{\\\"name\\\": \\\"Intel(R) Iris(R) Xe Graphics\\\", \\\"vendor_id\\\": 32902, \\\"device_id\\\": 42912, \\\"driver_version\\\": \\\"32.0.101.5542\\\"}\"]"
      ]
     },
     "execution_count": 27,
     "metadata": {},
     "output_type": "execute_result"
    }
   ],
   "execution_count": 27
  },
  {
   "cell_type": "code",
   "metadata": {
    "id": "hkWK0oU2i6sw",
    "ExecuteTime": {
     "end_time": "2025-03-28T12:26:53.831416Z",
     "start_time": "2025-03-28T12:26:53.737630Z"
    }
   },
   "source": [
    "with tf.device(\"/device:DML:0\"): # /device:DML:0 для версії 1.15\n",
    "    encoder, decoder, autoencoder = create_dense_ae()\n",
    "    autoencoder.compile(optimizer='adam', loss='binary_crossentropy', metrics=[\"accuracy\"])"
   ],
   "outputs": [
    {
     "name": "stdout",
     "output_type": "stream",
     "text": [
      "WARNING:tensorflow:From C:\\Users\\dan\\PycharmProjects\\univ\\4-year\\2-term\\gest_reg\\lab3\\.venv37\\lib\\site-packages\\tensorflow_core\\python\\ops\\resource_variable_ops.py:1630: calling BaseResourceVariable.__init__ (from tensorflow.python.ops.resource_variable_ops) with constraint is deprecated and will be removed in a future version.\n",
      "Instructions for updating:\n",
      "If using Keras pass *_constraint arguments to layers.\n"
     ]
    }
   ],
   "execution_count": 28
  },
  {
   "cell_type": "code",
   "metadata": {
    "id": "UAcbw9_gi6sx",
    "ExecuteTime": {
     "end_time": "2025-03-28T12:26:53.862376Z",
     "start_time": "2025-03-28T12:26:53.847971Z"
    }
   },
   "source": [
    "# якщо все гаразд, у консолі Conda має бути подібний текст:\n",
    "# tensorflow/c/logging.cc:34] DirectML: creating device on adapter 0 (___ім'я вашої відеокарти___)\n",
    "# tensorflow/c/logging.cc:34] Successfully opened dynamic library Kernel32.dll\n",
    "# tensorflow/core/common_runtime/pluggable_device/pluggable_device_factory.cc:272]\n",
    "# Created TensorFlow device (/job:localhost/replica:0/task:0/device:GPU:0 with XXXX MB memory) -> physical PluggableDevice (device: 0, name: DML, pci bus id: <undefined>)\n",
    "\n",
    "# зазвичай обсяг пам'яті може бути вищим через віртуальну пам'ять системи, наприклад 8192 замість 4096 МB, якщо відеокарта на 4096 MB"
   ],
   "outputs": [],
   "execution_count": 29
  },
  {
   "cell_type": "code",
   "metadata": {
    "id": "gJN7vhp2i6sx",
    "ExecuteTime": {
     "end_time": "2025-03-28T12:26:53.893075Z",
     "start_time": "2025-03-28T12:26:53.878616Z"
    }
   },
   "source": [
    "# якщо немає відеокарти як такої (наприклад, якщо є процесор з ARM архітектурою без виділеного відеоядра), можливо написати і так:"
   ],
   "outputs": [],
   "execution_count": 30
  },
  {
   "cell_type": "code",
   "metadata": {
    "id": "E6tOBZiBi6sx",
    "ExecuteTime": {
     "end_time": "2025-03-28T12:26:53.924255Z",
     "start_time": "2025-03-28T12:26:53.910001Z"
    }
   },
   "source": [
    "#with tf.device(\"/device:CPU:0\"):\n",
    "#    encoder, decoder, autoencoder = create_dense_ae()\n",
    "#    autoencoder.compile(optimizer='adam', loss='binary_crossentropy', metrics=[\"accuracy\"])"
   ],
   "outputs": [],
   "execution_count": 31
  },
  {
   "cell_type": "code",
   "metadata": {
    "id": "dG2g1TKoi6sx",
    "outputId": "a79e9e94-42d6-4863-e6c8-09639412fb68",
    "ExecuteTime": {
     "end_time": "2025-03-28T12:26:53.955169Z",
     "start_time": "2025-03-28T12:26:53.941797Z"
    }
   },
   "source": [
    "autoencoder.summary()"
   ],
   "outputs": [
    {
     "name": "stdout",
     "output_type": "stream",
     "text": [
      "Model: \"autoencoder\"\n",
      "_________________________________________________________________\n",
      "Layer (type)                 Output Shape              Param #   \n",
      "=================================================================\n",
      "input_1 (InputLayer)         [(None, 10)]              0         \n",
      "_________________________________________________________________\n",
      "encoder (Model)              (None, 2)                 4442      \n",
      "_________________________________________________________________\n",
      "decoder (Model)              (None, 10)                4450      \n",
      "=================================================================\n",
      "Total params: 8,892\n",
      "Trainable params: 8,892\n",
      "Non-trainable params: 0\n",
      "_________________________________________________________________\n"
     ]
    }
   ],
   "execution_count": 32
  },
  {
   "cell_type": "code",
   "metadata": {
    "id": "QrCIdlz2i6sy",
    "outputId": "4908162e-43fa-4c85-ae2f-6bacf507d016",
    "ExecuteTime": {
     "end_time": "2025-03-28T12:27:12.025143Z",
     "start_time": "2025-03-28T12:26:58.932475Z"
    }
   },
   "source": [
    "with tf.device(\"/device:DML:0\"):    # у версії TF-DML для 2.10 можна писати \"/device:GPU:0\" замість \"/device:DML:0\"\n",
    "    start_time = time.time()\n",
    "    autoencoder.fit(train_x, train_x,\n",
    "        epochs=500,\n",
    "        batch_size=50,\n",
    "        shuffle=True,\n",
    "        validation_data=(valid_x, valid_x))\n",
    "    end_time = time.time()\n",
    "    print(end_time-start_time)"
   ],
   "outputs": [
    {
     "name": "stdout",
     "output_type": "stream",
     "text": [
      "WARNING:tensorflow:From C:\\Users\\dan\\PycharmProjects\\univ\\4-year\\2-term\\gest_reg\\lab3\\.venv37\\lib\\site-packages\\tensorflow_core\\python\\ops\\math_grad.py:1424: where (from tensorflow.python.ops.array_ops) is deprecated and will be removed in a future version.\n",
      "Instructions for updating:\n",
      "Use tf.where in 2.0, which has the same broadcast rule as np.where\n",
      "Train on 222 samples, validate on 75 samples\n",
      "Epoch 1/500\n",
      "222/222 [==============================] - 0s 427us/sample - loss: 0.5966 - acc: 0.0000e+00 - val_loss: 0.2952 - val_acc: 0.0000e+00\n",
      "Epoch 2/500\n",
      "222/222 [==============================] - 0s 144us/sample - loss: 0.4281 - acc: 0.0000e+00 - val_loss: 0.1225 - val_acc: 0.0000e+00\n",
      "Epoch 3/500\n",
      "222/222 [==============================] - 0s 95us/sample - loss: 0.2670 - acc: 0.0000e+00 - val_loss: -0.0480 - val_acc: 0.0000e+00\n",
      "Epoch 4/500\n",
      "222/222 [==============================] - 0s 90us/sample - loss: 0.1181 - acc: 0.0000e+00 - val_loss: -0.2137 - val_acc: 0.0000e+00\n",
      "Epoch 5/500\n",
      "222/222 [==============================] - 0s 86us/sample - loss: -0.0279 - acc: 0.0000e+00 - val_loss: -0.3697 - val_acc: 0.0000e+00\n",
      "Epoch 6/500\n",
      "222/222 [==============================] - 0s 90us/sample - loss: -0.1702 - acc: 0.0000e+00 - val_loss: -0.5178 - val_acc: 0.0000e+00\n",
      "Epoch 7/500\n",
      "222/222 [==============================] - 0s 81us/sample - loss: -0.3007 - acc: 0.0000e+00 - val_loss: -0.6699 - val_acc: 0.0000e+00\n",
      "Epoch 8/500\n",
      "222/222 [==============================] - 0s 72us/sample - loss: -0.4463 - acc: 0.0000e+00 - val_loss: -0.8191 - val_acc: 0.0000e+00\n",
      "Epoch 9/500\n",
      "222/222 [==============================] - 0s 72us/sample - loss: -0.5837 - acc: 0.0000e+00 - val_loss: -0.9739 - val_acc: 0.0000e+00\n",
      "Epoch 10/500\n",
      "222/222 [==============================] - 0s 68us/sample - loss: -0.7256 - acc: 0.0000e+00 - val_loss: -1.1388 - val_acc: 0.0000e+00\n",
      "Epoch 11/500\n",
      "222/222 [==============================] - 0s 67us/sample - loss: -0.8805 - acc: 0.0000e+00 - val_loss: -1.3137 - val_acc: 0.0000e+00\n",
      "Epoch 12/500\n",
      "222/222 [==============================] - 0s 75us/sample - loss: -1.0427 - acc: 0.0000e+00 - val_loss: -1.5071 - val_acc: 0.0000e+00\n",
      "Epoch 13/500\n",
      "222/222 [==============================] - 0s 76us/sample - loss: -1.2278 - acc: 0.0000e+00 - val_loss: -1.7126 - val_acc: 0.0000e+00\n",
      "Epoch 14/500\n",
      "222/222 [==============================] - 0s 74us/sample - loss: -1.4221 - acc: 0.0000e+00 - val_loss: -1.9334 - val_acc: 0.0000e+00\n",
      "Epoch 15/500\n",
      "222/222 [==============================] - 0s 75us/sample - loss: -1.6457 - acc: 0.0000e+00 - val_loss: -2.1582 - val_acc: 0.0000e+00\n",
      "Epoch 16/500\n",
      "222/222 [==============================] - 0s 68us/sample - loss: -1.8574 - acc: 0.0000e+00 - val_loss: -2.3900 - val_acc: 0.0000e+00\n",
      "Epoch 17/500\n",
      "222/222 [==============================] - 0s 72us/sample - loss: -2.0866 - acc: 0.0000e+00 - val_loss: -2.6240 - val_acc: 0.0000e+00\n",
      "Epoch 18/500\n",
      "222/222 [==============================] - 0s 68us/sample - loss: -2.3125 - acc: 0.0000e+00 - val_loss: -2.8563 - val_acc: 0.0000e+00\n",
      "Epoch 19/500\n",
      "222/222 [==============================] - 0s 68us/sample - loss: -2.5359 - acc: 0.0000e+00 - val_loss: -3.0837 - val_acc: 0.0000e+00\n",
      "Epoch 20/500\n",
      "222/222 [==============================] - 0s 68us/sample - loss: -2.7556 - acc: 0.0000e+00 - val_loss: -3.3089 - val_acc: 0.0000e+00\n",
      "Epoch 21/500\n",
      "222/222 [==============================] - 0s 68us/sample - loss: -2.9718 - acc: 0.0000e+00 - val_loss: -3.5328 - val_acc: 0.0000e+00\n",
      "Epoch 22/500\n",
      "222/222 [==============================] - 0s 72us/sample - loss: -3.1914 - acc: 0.0000e+00 - val_loss: -3.7538 - val_acc: 0.0000e+00\n",
      "Epoch 23/500\n",
      "222/222 [==============================] - 0s 69us/sample - loss: -3.4042 - acc: 0.0000e+00 - val_loss: -3.9740 - val_acc: 0.0000e+00\n",
      "Epoch 24/500\n",
      "222/222 [==============================] - 0s 63us/sample - loss: -3.6160 - acc: 0.0000e+00 - val_loss: -4.1973 - val_acc: 0.0000e+00\n",
      "Epoch 25/500\n",
      "222/222 [==============================] - 0s 68us/sample - loss: -3.8334 - acc: 0.0000e+00 - val_loss: -4.4168 - val_acc: 0.0000e+00\n",
      "Epoch 26/500\n",
      "222/222 [==============================] - 0s 72us/sample - loss: -4.0445 - acc: 0.0000e+00 - val_loss: -4.6359 - val_acc: 0.0000e+00\n",
      "Epoch 27/500\n",
      "222/222 [==============================] - 0s 67us/sample - loss: -4.2559 - acc: 0.0000e+00 - val_loss: -4.8561 - val_acc: 0.0000e+00\n",
      "Epoch 28/500\n",
      "222/222 [==============================] - 0s 72us/sample - loss: -4.4689 - acc: 0.0000e+00 - val_loss: -5.0739 - val_acc: 0.0000e+00\n",
      "Epoch 29/500\n",
      "222/222 [==============================] - 0s 61us/sample - loss: -4.6790 - acc: 0.0000e+00 - val_loss: -5.2921 - val_acc: 0.0000e+00\n",
      "Epoch 30/500\n",
      "222/222 [==============================] - 0s 68us/sample - loss: -4.8876 - acc: 0.0000e+00 - val_loss: -5.5073 - val_acc: 0.0000e+00\n",
      "Epoch 31/500\n",
      "222/222 [==============================] - 0s 63us/sample - loss: -5.0918 - acc: 0.0000e+00 - val_loss: -5.7162 - val_acc: 0.0000e+00\n",
      "Epoch 32/500\n",
      "222/222 [==============================] - 0s 66us/sample - loss: -5.2942 - acc: 0.0000e+00 - val_loss: -5.9269 - val_acc: 0.0000e+00\n",
      "Epoch 33/500\n",
      "222/222 [==============================] - 0s 63us/sample - loss: -5.4938 - acc: 0.0000e+00 - val_loss: -6.1302 - val_acc: 0.0000e+00\n",
      "Epoch 34/500\n",
      "222/222 [==============================] - 0s 68us/sample - loss: -5.6899 - acc: 0.0000e+00 - val_loss: -6.3305 - val_acc: 0.0000e+00\n",
      "Epoch 35/500\n",
      "222/222 [==============================] - 0s 65us/sample - loss: -5.8824 - acc: 0.0000e+00 - val_loss: -6.5248 - val_acc: 0.0000e+00\n",
      "Epoch 36/500\n",
      "222/222 [==============================] - 0s 72us/sample - loss: -6.0701 - acc: 0.0000e+00 - val_loss: -6.7154 - val_acc: 0.0000e+00\n",
      "Epoch 37/500\n",
      "222/222 [==============================] - 0s 72us/sample - loss: -6.2544 - acc: 0.0000e+00 - val_loss: -6.9079 - val_acc: 0.0000e+00\n",
      "Epoch 38/500\n",
      "222/222 [==============================] - 0s 68us/sample - loss: -6.4424 - acc: 0.0000e+00 - val_loss: -7.0906 - val_acc: 0.0000e+00\n",
      "Epoch 39/500\n",
      "222/222 [==============================] - 0s 66us/sample - loss: -6.6150 - acc: 0.0000e+00 - val_loss: -7.2756 - val_acc: 0.0000e+00\n",
      "Epoch 40/500\n",
      "222/222 [==============================] - 0s 84us/sample - loss: -6.7964 - acc: 0.0000e+00 - val_loss: -7.4520 - val_acc: 0.0000e+00\n",
      "Epoch 41/500\n",
      "222/222 [==============================] - 0s 81us/sample - loss: -6.9643 - acc: 0.0000e+00 - val_loss: -7.6572 - val_acc: 0.0000e+00\n",
      "Epoch 42/500\n",
      "222/222 [==============================] - 0s 88us/sample - loss: -7.1369 - acc: 0.0000e+00 - val_loss: -7.7857 - val_acc: 0.0000e+00\n",
      "Epoch 43/500\n",
      "222/222 [==============================] - 0s 73us/sample - loss: -7.2917 - acc: 0.0000e+00 - val_loss: -7.9956 - val_acc: 0.0000e+00\n",
      "Epoch 44/500\n",
      "222/222 [==============================] - 0s 72us/sample - loss: -7.4494 - acc: 0.0000e+00 - val_loss: -8.1494 - val_acc: 0.0000e+00\n",
      "Epoch 45/500\n",
      "222/222 [==============================] - 0s 79us/sample - loss: -7.6074 - acc: 0.0000e+00 - val_loss: -8.2166 - val_acc: 0.0000e+00\n",
      "Epoch 46/500\n",
      "222/222 [==============================] - 0s 72us/sample - loss: -7.7094 - acc: 0.0000e+00 - val_loss: -8.4017 - val_acc: 0.0000e+00\n",
      "Epoch 47/500\n",
      "222/222 [==============================] - 0s 77us/sample - loss: -7.8551 - acc: 0.0000e+00 - val_loss: -8.4633 - val_acc: 0.0000e+00\n",
      "Epoch 48/500\n",
      "222/222 [==============================] - 0s 70us/sample - loss: -7.9098 - acc: 0.0000e+00 - val_loss: -8.6983 - val_acc: 0.0000e+00\n",
      "Epoch 49/500\n",
      "222/222 [==============================] - 0s 79us/sample - loss: -8.1533 - acc: 0.0000e+00 - val_loss: -8.7524 - val_acc: 0.0000e+00\n",
      "Epoch 50/500\n",
      "222/222 [==============================] - 0s 75us/sample - loss: -8.2089 - acc: 0.0000e+00 - val_loss: -8.8078 - val_acc: 0.0000e+00\n",
      "Epoch 51/500\n",
      "222/222 [==============================] - 0s 74us/sample - loss: -8.2647 - acc: 0.0000e+00 - val_loss: -8.8682 - val_acc: 0.0000e+00\n",
      "Epoch 52/500\n",
      "222/222 [==============================] - 0s 75us/sample - loss: -8.3225 - acc: 0.0000e+00 - val_loss: -8.9281 - val_acc: 0.0000e+00\n",
      "Epoch 53/500\n",
      "222/222 [==============================] - 0s 72us/sample - loss: -8.3793 - acc: 0.0000e+00 - val_loss: -8.9849 - val_acc: 0.0000e+00\n",
      "Epoch 54/500\n",
      "222/222 [==============================] - 0s 73us/sample - loss: -8.4364 - acc: 0.0000e+00 - val_loss: -9.0417 - val_acc: 0.0000e+00\n",
      "Epoch 55/500\n",
      "222/222 [==============================] - 0s 73us/sample - loss: -8.4948 - acc: 0.0000e+00 - val_loss: -9.1002 - val_acc: 0.0000e+00\n",
      "Epoch 56/500\n",
      "222/222 [==============================] - 0s 71us/sample - loss: -8.5532 - acc: 0.0000e+00 - val_loss: -9.1655 - val_acc: 0.0000e+00\n",
      "Epoch 57/500\n",
      "222/222 [==============================] - 0s 72us/sample - loss: -8.6202 - acc: 0.0000e+00 - val_loss: -9.2304 - val_acc: 0.0000e+00\n",
      "Epoch 58/500\n",
      "222/222 [==============================] - 0s 72us/sample - loss: -8.6848 - acc: 0.0000e+00 - val_loss: -9.3002 - val_acc: 0.0000e+00\n",
      "Epoch 59/500\n",
      "222/222 [==============================] - 0s 82us/sample - loss: -8.7531 - acc: 0.0000e+00 - val_loss: -9.3688 - val_acc: 0.0000e+00\n",
      "Epoch 60/500\n",
      "222/222 [==============================] - 0s 81us/sample - loss: -8.8211 - acc: 0.0000e+00 - val_loss: -9.4358 - val_acc: 0.0000e+00\n",
      "Epoch 61/500\n",
      "222/222 [==============================] - 0s 81us/sample - loss: -8.8885 - acc: 0.0000e+00 - val_loss: -9.5048 - val_acc: 0.0000e+00\n",
      "Epoch 62/500\n",
      "222/222 [==============================] - 0s 97us/sample - loss: -8.9524 - acc: 0.0000e+00 - val_loss: -9.5718 - val_acc: 0.0000e+00\n",
      "Epoch 63/500\n",
      "222/222 [==============================] - 0s 83us/sample - loss: -9.0178 - acc: 0.0000e+00 - val_loss: -9.6334 - val_acc: 0.0000e+00\n",
      "Epoch 64/500\n",
      "222/222 [==============================] - 0s 75us/sample - loss: -9.0807 - acc: 0.0000e+00 - val_loss: -9.6923 - val_acc: 0.0000e+00\n",
      "Epoch 65/500\n",
      "222/222 [==============================] - 0s 77us/sample - loss: -9.1397 - acc: 0.0000e+00 - val_loss: -9.7558 - val_acc: 0.0000e+00\n",
      "Epoch 66/500\n",
      "222/222 [==============================] - 0s 77us/sample - loss: -9.2020 - acc: 0.0000e+00 - val_loss: -9.8144 - val_acc: 0.0000e+00\n",
      "Epoch 67/500\n",
      "222/222 [==============================] - 0s 81us/sample - loss: -9.2617 - acc: 0.0000e+00 - val_loss: -9.8739 - val_acc: 0.0000e+00\n",
      "Epoch 68/500\n",
      "222/222 [==============================] - 0s 70us/sample - loss: -9.3232 - acc: 0.0000e+00 - val_loss: -9.9303 - val_acc: 0.0000e+00\n",
      "Epoch 69/500\n",
      "222/222 [==============================] - 0s 68us/sample - loss: -9.3812 - acc: 0.0000e+00 - val_loss: -9.9906 - val_acc: 0.0000e+00\n",
      "Epoch 70/500\n",
      "222/222 [==============================] - 0s 76us/sample - loss: -9.4352 - acc: 0.0000e+00 - val_loss: -10.0544 - val_acc: 0.0000e+00\n",
      "Epoch 71/500\n",
      "222/222 [==============================] - 0s 75us/sample - loss: -9.4956 - acc: 0.0000e+00 - val_loss: -10.1113 - val_acc: 0.0000e+00\n",
      "Epoch 72/500\n",
      "222/222 [==============================] - 0s 73us/sample - loss: -9.5549 - acc: 0.0000e+00 - val_loss: -10.1655 - val_acc: 0.0000e+00\n",
      "Epoch 73/500\n",
      "222/222 [==============================] - 0s 74us/sample - loss: -9.6137 - acc: 0.0000e+00 - val_loss: -10.2246 - val_acc: 0.0000e+00\n",
      "Epoch 74/500\n",
      "222/222 [==============================] - 0s 69us/sample - loss: -9.6704 - acc: 0.0000e+00 - val_loss: -10.2835 - val_acc: 0.0000e+00\n",
      "Epoch 75/500\n",
      "222/222 [==============================] - 0s 65us/sample - loss: -9.7255 - acc: 0.0000e+00 - val_loss: -10.3452 - val_acc: 0.0000e+00\n",
      "Epoch 76/500\n",
      "222/222 [==============================] - 0s 74us/sample - loss: -9.7844 - acc: 0.0000e+00 - val_loss: -10.4015 - val_acc: 0.0000e+00\n",
      "Epoch 77/500\n",
      "222/222 [==============================] - 0s 69us/sample - loss: -9.8440 - acc: 0.0000e+00 - val_loss: -10.4579 - val_acc: 0.0000e+00\n",
      "Epoch 78/500\n",
      "222/222 [==============================] - 0s 77us/sample - loss: -9.8985 - acc: 0.0000e+00 - val_loss: -10.5149 - val_acc: 0.0000e+00\n",
      "Epoch 79/500\n",
      "222/222 [==============================] - 0s 82us/sample - loss: -9.9576 - acc: 0.0000e+00 - val_loss: -10.5722 - val_acc: 0.0000e+00\n",
      "Epoch 80/500\n",
      "222/222 [==============================] - 0s 77us/sample - loss: -10.0162 - acc: 0.0000e+00 - val_loss: -10.6291 - val_acc: 0.0000e+00\n",
      "Epoch 81/500\n",
      "222/222 [==============================] - 0s 77us/sample - loss: -10.0701 - acc: 0.0000e+00 - val_loss: -10.6888 - val_acc: 0.0000e+00\n",
      "Epoch 82/500\n",
      "222/222 [==============================] - 0s 77us/sample - loss: -10.1287 - acc: 0.0000e+00 - val_loss: -10.7497 - val_acc: 0.0000e+00\n",
      "Epoch 83/500\n",
      "222/222 [==============================] - 0s 72us/sample - loss: -10.1858 - acc: 0.0000e+00 - val_loss: -10.8078 - val_acc: 0.0000e+00\n",
      "Epoch 84/500\n",
      "222/222 [==============================] - 0s 76us/sample - loss: -10.2419 - acc: 0.0000e+00 - val_loss: -10.8655 - val_acc: 0.0000e+00\n",
      "Epoch 85/500\n",
      "222/222 [==============================] - 0s 73us/sample - loss: -10.2985 - acc: 0.0000e+00 - val_loss: -10.9205 - val_acc: 0.0000e+00\n",
      "Epoch 86/500\n",
      "222/222 [==============================] - 0s 66us/sample - loss: -10.3553 - acc: 0.0000e+00 - val_loss: -10.9730 - val_acc: 0.0000e+00\n",
      "Epoch 87/500\n",
      "222/222 [==============================] - 0s 72us/sample - loss: -10.4088 - acc: 0.0000e+00 - val_loss: -11.0286 - val_acc: 0.0000e+00\n",
      "Epoch 88/500\n",
      "222/222 [==============================] - 0s 68us/sample - loss: -10.4649 - acc: 0.0000e+00 - val_loss: -11.0854 - val_acc: 0.0000e+00\n",
      "Epoch 89/500\n",
      "222/222 [==============================] - 0s 77us/sample - loss: -10.5208 - acc: 0.0000e+00 - val_loss: -11.1368 - val_acc: 0.0000e+00\n",
      "Epoch 90/500\n",
      "222/222 [==============================] - 0s 69us/sample - loss: -10.5725 - acc: 0.0000e+00 - val_loss: -11.1905 - val_acc: 0.0000e+00\n",
      "Epoch 91/500\n",
      "222/222 [==============================] - 0s 68us/sample - loss: -10.6268 - acc: 0.0000e+00 - val_loss: -11.2451 - val_acc: 0.0000e+00\n",
      "Epoch 92/500\n",
      "222/222 [==============================] - 0s 72us/sample - loss: -10.6815 - acc: 0.0000e+00 - val_loss: -11.3011 - val_acc: 0.0000e+00\n",
      "Epoch 93/500\n",
      "222/222 [==============================] - 0s 77us/sample - loss: -10.7358 - acc: 0.0000e+00 - val_loss: -11.3512 - val_acc: 0.0000e+00\n",
      "Epoch 94/500\n",
      "222/222 [==============================] - 0s 73us/sample - loss: -10.7870 - acc: 0.0000e+00 - val_loss: -11.4001 - val_acc: 0.0000e+00\n",
      "Epoch 95/500\n",
      "222/222 [==============================] - 0s 72us/sample - loss: -10.8387 - acc: 0.0000e+00 - val_loss: -11.4506 - val_acc: 0.0000e+00\n",
      "Epoch 96/500\n",
      "222/222 [==============================] - 0s 67us/sample - loss: -10.8897 - acc: 0.0000e+00 - val_loss: -11.5027 - val_acc: 0.0000e+00\n",
      "Epoch 97/500\n",
      "222/222 [==============================] - 0s 68us/sample - loss: -10.9408 - acc: 0.0000e+00 - val_loss: -11.5569 - val_acc: 0.0000e+00\n",
      "Epoch 98/500\n",
      "222/222 [==============================] - 0s 68us/sample - loss: -10.9899 - acc: 0.0000e+00 - val_loss: -11.6013 - val_acc: 0.0000e+00\n",
      "Epoch 99/500\n",
      "222/222 [==============================] - 0s 68us/sample - loss: -11.0461 - acc: 0.0000e+00 - val_loss: -11.6426 - val_acc: 0.0000e+00\n",
      "Epoch 100/500\n",
      "222/222 [==============================] - 0s 72us/sample - loss: -11.0807 - acc: 0.0000e+00 - val_loss: -11.7057 - val_acc: 0.0000e+00\n",
      "Epoch 101/500\n",
      "222/222 [==============================] - 0s 88us/sample - loss: -11.1454 - acc: 0.0000e+00 - val_loss: -11.7421 - val_acc: 0.0000e+00\n",
      "Epoch 102/500\n",
      "222/222 [==============================] - 0s 86us/sample - loss: -11.1780 - acc: 0.0000e+00 - val_loss: -11.7791 - val_acc: 0.0000e+00\n",
      "Epoch 103/500\n",
      "222/222 [==============================] - 0s 77us/sample - loss: -11.2198 - acc: 0.0000e+00 - val_loss: -11.8447 - val_acc: 0.0000e+00\n",
      "Epoch 104/500\n",
      "222/222 [==============================] - 0s 76us/sample - loss: -11.2816 - acc: 0.0000e+00 - val_loss: -11.8788 - val_acc: 0.0000e+00\n",
      "Epoch 105/500\n",
      "222/222 [==============================] - 0s 77us/sample - loss: -11.3124 - acc: 0.0000e+00 - val_loss: -11.9176 - val_acc: 0.0000e+00\n",
      "Epoch 106/500\n",
      "222/222 [==============================] - 0s 80us/sample - loss: -11.3547 - acc: 0.0000e+00 - val_loss: -11.9672 - val_acc: 0.0000e+00\n",
      "Epoch 107/500\n",
      "222/222 [==============================] - 0s 77us/sample - loss: -11.3937 - acc: 0.0000e+00 - val_loss: -12.0064 - val_acc: 0.0000e+00\n",
      "Epoch 108/500\n",
      "222/222 [==============================] - 0s 72us/sample - loss: -11.4517 - acc: 0.0000e+00 - val_loss: -12.0722 - val_acc: 0.0000e+00\n",
      "Epoch 109/500\n",
      "222/222 [==============================] - 0s 70us/sample - loss: -11.4962 - acc: 0.0000e+00 - val_loss: -12.1087 - val_acc: 0.0000e+00\n",
      "Epoch 110/500\n",
      "222/222 [==============================] - 0s 72us/sample - loss: -11.5266 - acc: 0.0000e+00 - val_loss: -12.1455 - val_acc: 0.0000e+00\n",
      "Epoch 111/500\n",
      "222/222 [==============================] - 0s 77us/sample - loss: -11.5577 - acc: 0.0000e+00 - val_loss: -12.1770 - val_acc: 0.0000e+00\n",
      "Epoch 112/500\n",
      "222/222 [==============================] - 0s 74us/sample - loss: -11.6015 - acc: 0.0000e+00 - val_loss: -12.2276 - val_acc: 0.0000e+00\n",
      "Epoch 113/500\n",
      "222/222 [==============================] - 0s 75us/sample - loss: -11.6464 - acc: 0.0000e+00 - val_loss: -12.2651 - val_acc: 0.0000e+00\n",
      "Epoch 114/500\n",
      "222/222 [==============================] - 0s 72us/sample - loss: -11.6722 - acc: 0.0000e+00 - val_loss: -12.2945 - val_acc: 0.0000e+00\n",
      "Epoch 115/500\n",
      "222/222 [==============================] - 0s 72us/sample - loss: -11.6992 - acc: 0.0000e+00 - val_loss: -12.3211 - val_acc: 0.0000e+00\n",
      "Epoch 116/500\n",
      "222/222 [==============================] - 0s 73us/sample - loss: -11.7242 - acc: 0.0000e+00 - val_loss: -12.3599 - val_acc: 0.0000e+00\n",
      "Epoch 117/500\n",
      "222/222 [==============================] - 0s 81us/sample - loss: -11.7592 - acc: 0.0000e+00 - val_loss: -12.3863 - val_acc: 0.0000e+00\n",
      "Epoch 118/500\n",
      "222/222 [==============================] - 0s 70us/sample - loss: -11.7839 - acc: 0.0000e+00 - val_loss: -12.4170 - val_acc: 0.0000e+00\n",
      "Epoch 119/500\n",
      "222/222 [==============================] - 0s 77us/sample - loss: -11.8086 - acc: 0.0000e+00 - val_loss: -12.4428 - val_acc: 0.0000e+00\n",
      "Epoch 120/500\n",
      "222/222 [==============================] - 0s 67us/sample - loss: -11.8315 - acc: 0.0000e+00 - val_loss: -12.4697 - val_acc: 0.0000e+00\n",
      "Epoch 121/500\n",
      "222/222 [==============================] - 0s 69us/sample - loss: -11.8545 - acc: 0.0000e+00 - val_loss: -12.4968 - val_acc: 0.0000e+00\n",
      "Epoch 122/500\n",
      "222/222 [==============================] - 0s 79us/sample - loss: -11.8818 - acc: 0.0000e+00 - val_loss: -12.5414 - val_acc: 0.0000e+00\n",
      "Epoch 123/500\n",
      "222/222 [==============================] - 0s 86us/sample - loss: -11.9112 - acc: 0.0000e+00 - val_loss: -12.5654 - val_acc: 0.0000e+00\n",
      "Epoch 124/500\n",
      "222/222 [==============================] - 0s 77us/sample - loss: -11.9312 - acc: 0.0000e+00 - val_loss: -12.5927 - val_acc: 0.0000e+00\n",
      "Epoch 125/500\n",
      "222/222 [==============================] - 0s 81us/sample - loss: -11.9504 - acc: 0.0000e+00 - val_loss: -12.6154 - val_acc: 0.0000e+00\n",
      "Epoch 126/500\n",
      "222/222 [==============================] - 0s 88us/sample - loss: -11.9719 - acc: 0.0000e+00 - val_loss: -12.6401 - val_acc: 0.0000e+00\n",
      "Epoch 127/500\n",
      "222/222 [==============================] - 0s 86us/sample - loss: -11.9877 - acc: 0.0000e+00 - val_loss: -12.6621 - val_acc: 0.0000e+00\n",
      "Epoch 128/500\n",
      "222/222 [==============================] - 0s 86us/sample - loss: -12.0073 - acc: 0.0000e+00 - val_loss: -12.6831 - val_acc: 0.0000e+00\n",
      "Epoch 129/500\n",
      "222/222 [==============================] - 0s 97us/sample - loss: -12.0246 - acc: 0.0000e+00 - val_loss: -12.7045 - val_acc: 0.0000e+00\n",
      "Epoch 130/500\n",
      "222/222 [==============================] - 0s 93us/sample - loss: -12.0411 - acc: 0.0000e+00 - val_loss: -12.7237 - val_acc: 0.0000e+00\n",
      "Epoch 131/500\n",
      "222/222 [==============================] - 0s 96us/sample - loss: -12.0569 - acc: 0.0000e+00 - val_loss: -12.7415 - val_acc: 0.0000e+00\n",
      "Epoch 132/500\n",
      "222/222 [==============================] - 0s 94us/sample - loss: -12.0723 - acc: 0.0000e+00 - val_loss: -12.7592 - val_acc: 0.0000e+00\n",
      "Epoch 133/500\n",
      "222/222 [==============================] - 0s 91us/sample - loss: -12.0845 - acc: 0.0000e+00 - val_loss: -12.7738 - val_acc: 0.0000e+00\n",
      "Epoch 134/500\n",
      "222/222 [==============================] - 0s 88us/sample - loss: -12.0976 - acc: 0.0000e+00 - val_loss: -12.7876 - val_acc: 0.0000e+00\n",
      "Epoch 135/500\n",
      "222/222 [==============================] - 0s 101us/sample - loss: -12.1114 - acc: 0.0000e+00 - val_loss: -12.8016 - val_acc: 0.0000e+00\n",
      "Epoch 136/500\n",
      "222/222 [==============================] - 0s 96us/sample - loss: -12.1206 - acc: 0.0000e+00 - val_loss: -12.8137 - val_acc: 0.0000e+00\n",
      "Epoch 137/500\n",
      "222/222 [==============================] - 0s 94us/sample - loss: -12.1314 - acc: 0.0000e+00 - val_loss: -12.8277 - val_acc: 0.0000e+00\n",
      "Epoch 138/500\n",
      "222/222 [==============================] - 0s 108us/sample - loss: -12.1411 - acc: 0.0000e+00 - val_loss: -12.8386 - val_acc: 0.0000e+00\n",
      "Epoch 139/500\n",
      "222/222 [==============================] - 0s 103us/sample - loss: -12.1479 - acc: 0.0000e+00 - val_loss: -12.8435 - val_acc: 0.0000e+00\n",
      "Epoch 140/500\n",
      "222/222 [==============================] - 0s 104us/sample - loss: -12.1485 - acc: 0.0000e+00 - val_loss: -12.8452 - val_acc: 0.0000e+00\n",
      "Epoch 141/500\n",
      "222/222 [==============================] - 0s 99us/sample - loss: -12.1499 - acc: 0.0000e+00 - val_loss: -12.8476 - val_acc: 0.0000e+00\n",
      "Epoch 142/500\n",
      "222/222 [==============================] - 0s 100us/sample - loss: -12.1511 - acc: 0.0000e+00 - val_loss: -12.8487 - val_acc: 0.0000e+00\n",
      "Epoch 143/500\n",
      "222/222 [==============================] - 0s 110us/sample - loss: -12.1523 - acc: 0.0000e+00 - val_loss: -12.8535 - val_acc: 0.0000e+00\n",
      "Epoch 144/500\n",
      "222/222 [==============================] - 0s 113us/sample - loss: -12.1540 - acc: 0.0000e+00 - val_loss: -12.8568 - val_acc: 0.0000e+00\n",
      "Epoch 145/500\n",
      "222/222 [==============================] - 0s 116us/sample - loss: -12.1553 - acc: 0.0000e+00 - val_loss: -12.8584 - val_acc: 0.0000e+00\n",
      "Epoch 146/500\n",
      "222/222 [==============================] - 0s 112us/sample - loss: -12.1572 - acc: 0.0000e+00 - val_loss: -12.8674 - val_acc: 0.0000e+00\n",
      "Epoch 147/500\n",
      "222/222 [==============================] - 0s 114us/sample - loss: -12.1590 - acc: 0.0000e+00 - val_loss: -12.8711 - val_acc: 0.0000e+00\n",
      "Epoch 148/500\n",
      "222/222 [==============================] - 0s 117us/sample - loss: -12.1609 - acc: 0.0000e+00 - val_loss: -12.8730 - val_acc: 0.0000e+00\n",
      "Epoch 149/500\n",
      "222/222 [==============================] - 0s 120us/sample - loss: -12.1627 - acc: 0.0000e+00 - val_loss: -12.8740 - val_acc: 0.0000e+00\n",
      "Epoch 150/500\n",
      "222/222 [==============================] - 0s 121us/sample - loss: -12.1644 - acc: 0.0000e+00 - val_loss: -12.8775 - val_acc: 0.0000e+00\n",
      "Epoch 151/500\n",
      "222/222 [==============================] - 0s 133us/sample - loss: -12.1663 - acc: 0.0000e+00 - val_loss: -12.8786 - val_acc: 0.0000e+00\n",
      "Epoch 152/500\n",
      "222/222 [==============================] - 0s 140us/sample - loss: -12.1676 - acc: 0.0000e+00 - val_loss: -12.8838 - val_acc: 0.0000e+00\n",
      "Epoch 153/500\n",
      "222/222 [==============================] - 0s 143us/sample - loss: -12.1693 - acc: 0.0000e+00 - val_loss: -12.8891 - val_acc: 0.0000e+00\n",
      "Epoch 154/500\n",
      "222/222 [==============================] - 0s 137us/sample - loss: -12.1705 - acc: 0.0000e+00 - val_loss: -12.8949 - val_acc: 0.0000e+00\n",
      "Epoch 155/500\n",
      "222/222 [==============================] - 0s 135us/sample - loss: -12.1725 - acc: 0.0000e+00 - val_loss: -12.8961 - val_acc: 0.0000e+00\n",
      "Epoch 156/500\n",
      "222/222 [==============================] - 0s 148us/sample - loss: -12.1740 - acc: 0.0000e+00 - val_loss: -12.9000 - val_acc: 0.0000e+00\n",
      "Epoch 157/500\n",
      "222/222 [==============================] - 0s 140us/sample - loss: -12.1743 - acc: 0.0000e+00 - val_loss: -12.9031 - val_acc: 0.0000e+00\n",
      "Epoch 158/500\n",
      "222/222 [==============================] - 0s 141us/sample - loss: -12.1768 - acc: 0.0000e+00 - val_loss: -12.9067 - val_acc: 0.0000e+00\n",
      "Epoch 159/500\n",
      "222/222 [==============================] - 0s 137us/sample - loss: -12.1788 - acc: 0.0000e+00 - val_loss: -12.9129 - val_acc: 0.0000e+00\n",
      "Epoch 160/500\n",
      "222/222 [==============================] - 0s 127us/sample - loss: -12.1804 - acc: 0.0000e+00 - val_loss: -12.9188 - val_acc: 0.0000e+00\n",
      "Epoch 161/500\n",
      "222/222 [==============================] - 0s 186us/sample - loss: -12.1822 - acc: 0.0000e+00 - val_loss: -12.9238 - val_acc: 0.0000e+00\n",
      "Epoch 162/500\n",
      "222/222 [==============================] - 0s 126us/sample - loss: -12.1842 - acc: 0.0000e+00 - val_loss: -12.9292 - val_acc: 0.0000e+00\n",
      "Epoch 163/500\n",
      "222/222 [==============================] - 0s 134us/sample - loss: -12.1870 - acc: 0.0000e+00 - val_loss: -12.9334 - val_acc: 0.0000e+00\n",
      "Epoch 164/500\n",
      "222/222 [==============================] - 0s 134us/sample - loss: -12.1884 - acc: 0.0000e+00 - val_loss: -12.9369 - val_acc: 0.0000e+00\n",
      "Epoch 165/500\n",
      "222/222 [==============================] - 0s 134us/sample - loss: -12.1905 - acc: 0.0000e+00 - val_loss: -12.9414 - val_acc: 0.0000e+00\n",
      "Epoch 166/500\n",
      "222/222 [==============================] - 0s 140us/sample - loss: -12.1923 - acc: 0.0000e+00 - val_loss: -12.9452 - val_acc: 0.0000e+00\n",
      "Epoch 167/500\n",
      "222/222 [==============================] - 0s 131us/sample - loss: -12.1925 - acc: 0.0000e+00 - val_loss: -12.9531 - val_acc: 0.0000e+00\n",
      "Epoch 168/500\n",
      "222/222 [==============================] - 0s 132us/sample - loss: -12.1948 - acc: 0.0000e+00 - val_loss: -12.9563 - val_acc: 0.0000e+00\n",
      "Epoch 169/500\n",
      "222/222 [==============================] - 0s 144us/sample - loss: -12.1966 - acc: 0.0000e+00 - val_loss: -12.9609 - val_acc: 0.0000e+00\n",
      "Epoch 170/500\n",
      "222/222 [==============================] - 0s 134us/sample - loss: -12.1984 - acc: 0.0000e+00 - val_loss: -12.9673 - val_acc: 0.0000e+00\n",
      "Epoch 171/500\n",
      "222/222 [==============================] - 0s 144us/sample - loss: -12.1996 - acc: 0.0000e+00 - val_loss: -12.9714 - val_acc: 0.0000e+00\n",
      "Epoch 172/500\n",
      "222/222 [==============================] - 0s 134us/sample - loss: -12.2019 - acc: 0.0000e+00 - val_loss: -12.9768 - val_acc: 0.0000e+00\n",
      "Epoch 173/500\n",
      "222/222 [==============================] - 0s 129us/sample - loss: -12.2023 - acc: 0.0000e+00 - val_loss: -12.9833 - val_acc: 0.0000e+00\n",
      "Epoch 174/500\n",
      "222/222 [==============================] - 0s 107us/sample - loss: -12.2042 - acc: 0.0000e+00 - val_loss: -12.9899 - val_acc: 0.0000e+00\n",
      "Epoch 175/500\n",
      "222/222 [==============================] - 0s 104us/sample - loss: -12.2064 - acc: 0.0000e+00 - val_loss: -12.9941 - val_acc: 0.0000e+00\n",
      "Epoch 176/500\n",
      "222/222 [==============================] - 0s 123us/sample - loss: -12.2071 - acc: 0.0000e+00 - val_loss: -12.9987 - val_acc: 0.0000e+00\n",
      "Epoch 177/500\n",
      "222/222 [==============================] - 0s 107us/sample - loss: -12.2088 - acc: 0.0000e+00 - val_loss: -13.0009 - val_acc: 0.0000e+00\n",
      "Epoch 178/500\n",
      "222/222 [==============================] - 0s 110us/sample - loss: -12.2099 - acc: 0.0000e+00 - val_loss: -13.0034 - val_acc: 0.0000e+00\n",
      "Epoch 179/500\n",
      "222/222 [==============================] - 0s 116us/sample - loss: -12.2120 - acc: 0.0000e+00 - val_loss: -13.0065 - val_acc: 0.0000e+00\n",
      "Epoch 180/500\n",
      "222/222 [==============================] - 0s 113us/sample - loss: -12.2128 - acc: 0.0000e+00 - val_loss: -13.0095 - val_acc: 0.0000e+00\n",
      "Epoch 181/500\n",
      "222/222 [==============================] - 0s 115us/sample - loss: -12.2164 - acc: 0.0000e+00 - val_loss: -13.0107 - val_acc: 0.0000e+00\n",
      "Epoch 182/500\n",
      "222/222 [==============================] - 0s 115us/sample - loss: -12.2181 - acc: 0.0000e+00 - val_loss: -13.0121 - val_acc: 0.0000e+00\n",
      "Epoch 183/500\n",
      "222/222 [==============================] - 0s 117us/sample - loss: -12.2202 - acc: 0.0000e+00 - val_loss: -13.0142 - val_acc: 0.0000e+00\n",
      "Epoch 184/500\n",
      "222/222 [==============================] - 0s 123us/sample - loss: -12.2227 - acc: 0.0000e+00 - val_loss: -13.0174 - val_acc: 0.0000e+00\n",
      "Epoch 185/500\n",
      "222/222 [==============================] - 0s 128us/sample - loss: -12.2247 - acc: 0.0000e+00 - val_loss: -13.0207 - val_acc: 0.0000e+00\n",
      "Epoch 186/500\n",
      "222/222 [==============================] - 0s 133us/sample - loss: -12.2265 - acc: 0.0000e+00 - val_loss: -13.0219 - val_acc: 0.0000e+00\n",
      "Epoch 187/500\n",
      "222/222 [==============================] - 0s 126us/sample - loss: -12.2300 - acc: 0.0000e+00 - val_loss: -13.0233 - val_acc: 0.0000e+00\n",
      "Epoch 188/500\n",
      "222/222 [==============================] - 0s 132us/sample - loss: -12.2319 - acc: 0.0000e+00 - val_loss: -13.0253 - val_acc: 0.0000e+00\n",
      "Epoch 189/500\n",
      "222/222 [==============================] - 0s 133us/sample - loss: -12.2335 - acc: 0.0000e+00 - val_loss: -13.0253 - val_acc: 0.0000e+00\n",
      "Epoch 190/500\n",
      "222/222 [==============================] - 0s 139us/sample - loss: -12.2357 - acc: 0.0000e+00 - val_loss: -13.0303 - val_acc: 0.0000e+00\n",
      "Epoch 191/500\n",
      "222/222 [==============================] - 0s 138us/sample - loss: -12.2381 - acc: 0.0000e+00 - val_loss: -13.0357 - val_acc: 0.0000e+00\n",
      "Epoch 192/500\n",
      "222/222 [==============================] - 0s 135us/sample - loss: -12.2426 - acc: 0.0000e+00 - val_loss: -13.0418 - val_acc: 0.0000e+00\n",
      "Epoch 193/500\n",
      "222/222 [==============================] - 0s 138us/sample - loss: -12.2429 - acc: 0.0000e+00 - val_loss: -13.0497 - val_acc: 0.0000e+00\n",
      "Epoch 194/500\n",
      "222/222 [==============================] - 0s 134us/sample - loss: -12.2449 - acc: 0.0000e+00 - val_loss: -13.0518 - val_acc: 0.0000e+00\n",
      "Epoch 195/500\n",
      "222/222 [==============================] - 0s 136us/sample - loss: -12.2479 - acc: 0.0000e+00 - val_loss: -13.0593 - val_acc: 0.0000e+00\n",
      "Epoch 196/500\n",
      "222/222 [==============================] - 0s 137us/sample - loss: -12.2496 - acc: 0.0000e+00 - val_loss: -13.0621 - val_acc: 0.0000e+00\n",
      "Epoch 197/500\n",
      "222/222 [==============================] - 0s 139us/sample - loss: -12.2522 - acc: 0.0000e+00 - val_loss: -13.0676 - val_acc: 0.0000e+00\n",
      "Epoch 198/500\n",
      "222/222 [==============================] - 0s 133us/sample - loss: -12.2548 - acc: 0.0000e+00 - val_loss: -13.0696 - val_acc: 0.0000e+00\n",
      "Epoch 199/500\n",
      "222/222 [==============================] - 0s 135us/sample - loss: -12.2555 - acc: 0.0000e+00 - val_loss: -13.0704 - val_acc: 0.0000e+00\n",
      "Epoch 200/500\n",
      "222/222 [==============================] - 0s 139us/sample - loss: -12.2579 - acc: 0.0000e+00 - val_loss: -13.0767 - val_acc: 0.0000e+00\n",
      "Epoch 201/500\n",
      "222/222 [==============================] - 0s 140us/sample - loss: -12.2594 - acc: 0.0000e+00 - val_loss: -13.0773 - val_acc: 0.0000e+00\n",
      "Epoch 202/500\n",
      "222/222 [==============================] - 0s 118us/sample - loss: -12.2625 - acc: 0.0000e+00 - val_loss: -13.0816 - val_acc: 0.0000e+00\n",
      "Epoch 203/500\n",
      "222/222 [==============================] - 0s 111us/sample - loss: -12.2644 - acc: 0.0000e+00 - val_loss: -13.0875 - val_acc: 0.0000e+00\n",
      "Epoch 204/500\n",
      "222/222 [==============================] - 0s 120us/sample - loss: -12.2671 - acc: 0.0000e+00 - val_loss: -13.0907 - val_acc: 0.0000e+00\n",
      "Epoch 205/500\n",
      "222/222 [==============================] - 0s 110us/sample - loss: -12.2695 - acc: 0.0000e+00 - val_loss: -13.0955 - val_acc: 0.0000e+00\n",
      "Epoch 206/500\n",
      "222/222 [==============================] - 0s 116us/sample - loss: -12.2721 - acc: 0.0000e+00 - val_loss: -13.0991 - val_acc: 0.0000e+00\n",
      "Epoch 207/500\n",
      "222/222 [==============================] - 0s 116us/sample - loss: -12.2730 - acc: 0.0000e+00 - val_loss: -13.1026 - val_acc: 0.0000e+00\n",
      "Epoch 208/500\n",
      "222/222 [==============================] - 0s 108us/sample - loss: -12.2774 - acc: 0.0000e+00 - val_loss: -13.1048 - val_acc: 0.0000e+00\n",
      "Epoch 209/500\n",
      "222/222 [==============================] - 0s 113us/sample - loss: -12.2790 - acc: 0.0000e+00 - val_loss: -13.1072 - val_acc: 0.0000e+00\n",
      "Epoch 210/500\n",
      "222/222 [==============================] - 0s 120us/sample - loss: -12.2815 - acc: 0.0000e+00 - val_loss: -13.1117 - val_acc: 0.0000e+00\n",
      "Epoch 211/500\n",
      "222/222 [==============================] - 0s 123us/sample - loss: -12.2858 - acc: 0.0000e+00 - val_loss: -13.1201 - val_acc: 0.0000e+00\n",
      "Epoch 212/500\n",
      "222/222 [==============================] - 0s 114us/sample - loss: -12.2884 - acc: 0.0000e+00 - val_loss: -13.1191 - val_acc: 0.0000e+00\n",
      "Epoch 213/500\n",
      "222/222 [==============================] - 0s 122us/sample - loss: -12.2901 - acc: 0.0000e+00 - val_loss: -13.1227 - val_acc: 0.0000e+00\n",
      "Epoch 214/500\n",
      "222/222 [==============================] - 0s 122us/sample - loss: -12.2929 - acc: 0.0000e+00 - val_loss: -13.1315 - val_acc: 0.0000e+00\n",
      "Epoch 215/500\n",
      "222/222 [==============================] - 0s 114us/sample - loss: -12.2969 - acc: 0.0000e+00 - val_loss: -13.1331 - val_acc: 0.0000e+00\n",
      "Epoch 216/500\n",
      "222/222 [==============================] - 0s 122us/sample - loss: -12.3003 - acc: 0.0000e+00 - val_loss: -13.1396 - val_acc: 0.0000e+00\n",
      "Epoch 217/500\n",
      "222/222 [==============================] - 0s 110us/sample - loss: -12.3029 - acc: 0.0000e+00 - val_loss: -13.1456 - val_acc: 0.0000e+00\n",
      "Epoch 218/500\n",
      "222/222 [==============================] - 0s 119us/sample - loss: -12.3061 - acc: 0.0000e+00 - val_loss: -13.1553 - val_acc: 0.0000e+00\n",
      "Epoch 219/500\n",
      "222/222 [==============================] - 0s 121us/sample - loss: -12.3091 - acc: 0.0000e+00 - val_loss: -13.1572 - val_acc: 0.0000e+00\n",
      "Epoch 220/500\n",
      "222/222 [==============================] - 0s 123us/sample - loss: -12.3128 - acc: 0.0000e+00 - val_loss: -13.1650 - val_acc: 0.0000e+00\n",
      "Epoch 221/500\n",
      "222/222 [==============================] - 0s 123us/sample - loss: -12.3156 - acc: 0.0000e+00 - val_loss: -13.1697 - val_acc: 0.0000e+00\n",
      "Epoch 222/500\n",
      "222/222 [==============================] - 0s 121us/sample - loss: -12.3195 - acc: 0.0000e+00 - val_loss: -13.1719 - val_acc: 0.0000e+00\n",
      "Epoch 223/500\n",
      "222/222 [==============================] - 0s 122us/sample - loss: -12.3225 - acc: 0.0000e+00 - val_loss: -13.1751 - val_acc: 0.0000e+00\n",
      "Epoch 224/500\n",
      "222/222 [==============================] - 0s 141us/sample - loss: -12.3254 - acc: 0.0000e+00 - val_loss: -13.1796 - val_acc: 0.0000e+00\n",
      "Epoch 225/500\n",
      "222/222 [==============================] - 0s 129us/sample - loss: -12.3286 - acc: 0.0000e+00 - val_loss: -13.1903 - val_acc: 0.0000e+00\n",
      "Epoch 226/500\n",
      "222/222 [==============================] - 0s 144us/sample - loss: -12.3316 - acc: 0.0000e+00 - val_loss: -13.1972 - val_acc: 0.0000e+00\n",
      "Epoch 227/500\n",
      "222/222 [==============================] - 0s 135us/sample - loss: -12.3353 - acc: 0.0000e+00 - val_loss: -13.1993 - val_acc: 0.0000e+00\n",
      "Epoch 228/500\n",
      "222/222 [==============================] - 0s 139us/sample - loss: -12.3378 - acc: 0.0000e+00 - val_loss: -13.2048 - val_acc: 0.0000e+00\n",
      "Epoch 229/500\n",
      "222/222 [==============================] - 0s 134us/sample - loss: -12.3414 - acc: 0.0000e+00 - val_loss: -13.2101 - val_acc: 0.0000e+00\n",
      "Epoch 230/500\n",
      "222/222 [==============================] - 0s 133us/sample - loss: -12.3449 - acc: 0.0000e+00 - val_loss: -13.2192 - val_acc: 0.0000e+00\n",
      "Epoch 231/500\n",
      "222/222 [==============================] - 0s 139us/sample - loss: -12.3479 - acc: 0.0000e+00 - val_loss: -13.2278 - val_acc: 0.0000e+00\n",
      "Epoch 232/500\n",
      "222/222 [==============================] - 0s 140us/sample - loss: -12.3511 - acc: 0.0000e+00 - val_loss: -13.2278 - val_acc: 0.0000e+00\n",
      "Epoch 233/500\n",
      "222/222 [==============================] - 0s 138us/sample - loss: -12.3538 - acc: 0.0000e+00 - val_loss: -13.2365 - val_acc: 0.0000e+00\n",
      "Epoch 234/500\n",
      "222/222 [==============================] - 0s 134us/sample - loss: -12.3582 - acc: 0.0000e+00 - val_loss: -13.2471 - val_acc: 0.0000e+00\n",
      "Epoch 235/500\n",
      "222/222 [==============================] - 0s 137us/sample - loss: -12.3614 - acc: 0.0000e+00 - val_loss: -13.2459 - val_acc: 0.0000e+00\n",
      "Epoch 236/500\n",
      "222/222 [==============================] - 0s 139us/sample - loss: -12.3640 - acc: 0.0000e+00 - val_loss: -13.2553 - val_acc: 0.0000e+00\n",
      "Epoch 237/500\n",
      "222/222 [==============================] - 0s 143us/sample - loss: -12.3666 - acc: 0.0000e+00 - val_loss: -13.2585 - val_acc: 0.0000e+00\n",
      "Epoch 238/500\n",
      "222/222 [==============================] - 0s 134us/sample - loss: -12.3705 - acc: 0.0000e+00 - val_loss: -13.2597 - val_acc: 0.0000e+00\n",
      "Epoch 239/500\n",
      "222/222 [==============================] - 0s 135us/sample - loss: -12.3747 - acc: 0.0000e+00 - val_loss: -13.2676 - val_acc: 0.0000e+00\n",
      "Epoch 240/500\n",
      "222/222 [==============================] - 0s 140us/sample - loss: -12.3775 - acc: 0.0000e+00 - val_loss: -13.2692 - val_acc: 0.0000e+00\n",
      "Epoch 241/500\n",
      "222/222 [==============================] - 0s 134us/sample - loss: -12.3806 - acc: 0.0000e+00 - val_loss: -13.2731 - val_acc: 0.0000e+00\n",
      "Epoch 242/500\n",
      "222/222 [==============================] - 0s 110us/sample - loss: -12.3842 - acc: 0.0000e+00 - val_loss: -13.2772 - val_acc: 0.0000e+00\n",
      "Epoch 243/500\n",
      "222/222 [==============================] - 0s 111us/sample - loss: -12.3875 - acc: 0.0000e+00 - val_loss: -13.2854 - val_acc: 0.0000e+00\n",
      "Epoch 244/500\n",
      "222/222 [==============================] - 0s 109us/sample - loss: -12.3907 - acc: 0.0000e+00 - val_loss: -13.2894 - val_acc: 0.0000e+00\n",
      "Epoch 245/500\n",
      "222/222 [==============================] - 0s 116us/sample - loss: -12.3940 - acc: 0.0000e+00 - val_loss: -13.2944 - val_acc: 0.0000e+00\n",
      "Epoch 246/500\n",
      "222/222 [==============================] - 0s 120us/sample - loss: -12.3974 - acc: 0.0000e+00 - val_loss: -13.2982 - val_acc: 0.0000e+00\n",
      "Epoch 247/500\n",
      "222/222 [==============================] - 0s 118us/sample - loss: -12.4010 - acc: 0.0000e+00 - val_loss: -13.3043 - val_acc: 0.0000e+00\n",
      "Epoch 248/500\n",
      "222/222 [==============================] - 0s 118us/sample - loss: -12.4041 - acc: 0.0000e+00 - val_loss: -13.3068 - val_acc: 0.0000e+00\n",
      "Epoch 249/500\n",
      "222/222 [==============================] - 0s 128us/sample - loss: -12.4077 - acc: 0.0000e+00 - val_loss: -13.3126 - val_acc: 0.0000e+00\n",
      "Epoch 250/500\n",
      "222/222 [==============================] - 0s 121us/sample - loss: -12.4119 - acc: 0.0000e+00 - val_loss: -13.3187 - val_acc: 0.0000e+00\n",
      "Epoch 251/500\n",
      "222/222 [==============================] - 0s 126us/sample - loss: -12.4159 - acc: 0.0000e+00 - val_loss: -13.3260 - val_acc: 0.0000e+00\n",
      "Epoch 252/500\n",
      "222/222 [==============================] - 0s 128us/sample - loss: -12.4192 - acc: 0.0000e+00 - val_loss: -13.3362 - val_acc: 0.0000e+00\n",
      "Epoch 253/500\n",
      "222/222 [==============================] - 0s 132us/sample - loss: -12.4219 - acc: 0.0000e+00 - val_loss: -13.3442 - val_acc: 0.0000e+00\n",
      "Epoch 254/500\n",
      "222/222 [==============================] - 0s 133us/sample - loss: -12.4249 - acc: 0.0000e+00 - val_loss: -13.3504 - val_acc: 0.0000e+00\n",
      "Epoch 255/500\n",
      "222/222 [==============================] - 0s 133us/sample - loss: -12.4282 - acc: 0.0000e+00 - val_loss: -13.3583 - val_acc: 0.0000e+00\n",
      "Epoch 256/500\n",
      "222/222 [==============================] - 0s 140us/sample - loss: -12.4321 - acc: 0.0000e+00 - val_loss: -13.3611 - val_acc: 0.0000e+00\n",
      "Epoch 257/500\n",
      "222/222 [==============================] - 0s 129us/sample - loss: -12.4354 - acc: 0.0000e+00 - val_loss: -13.3676 - val_acc: 0.0000e+00\n",
      "Epoch 258/500\n",
      "222/222 [==============================] - 0s 117us/sample - loss: -12.4388 - acc: 0.0000e+00 - val_loss: -13.3736 - val_acc: 0.0000e+00\n",
      "Epoch 259/500\n",
      "222/222 [==============================] - 0s 140us/sample - loss: -12.4420 - acc: 0.0000e+00 - val_loss: -13.3821 - val_acc: 0.0000e+00\n",
      "Epoch 260/500\n",
      "222/222 [==============================] - 0s 132us/sample - loss: -12.4465 - acc: 0.0000e+00 - val_loss: -13.3889 - val_acc: 0.0000e+00\n",
      "Epoch 261/500\n",
      "222/222 [==============================] - 0s 139us/sample - loss: -12.4499 - acc: 0.0000e+00 - val_loss: -13.3939 - val_acc: 0.0000e+00\n",
      "Epoch 262/500\n",
      "222/222 [==============================] - 0s 130us/sample - loss: -12.4544 - acc: 0.0000e+00 - val_loss: -13.4004 - val_acc: 0.0000e+00\n",
      "Epoch 263/500\n",
      "222/222 [==============================] - 0s 136us/sample - loss: -12.4582 - acc: 0.0000e+00 - val_loss: -13.4038 - val_acc: 0.0000e+00\n",
      "Epoch 264/500\n",
      "222/222 [==============================] - 0s 127us/sample - loss: -12.4624 - acc: 0.0000e+00 - val_loss: -13.4112 - val_acc: 0.0000e+00\n",
      "Epoch 265/500\n",
      "222/222 [==============================] - 0s 133us/sample - loss: -12.4661 - acc: 0.0000e+00 - val_loss: -13.4149 - val_acc: 0.0000e+00\n",
      "Epoch 266/500\n",
      "222/222 [==============================] - 0s 113us/sample - loss: -12.4704 - acc: 0.0000e+00 - val_loss: -13.4187 - val_acc: 0.0000e+00\n",
      "Epoch 267/500\n",
      "222/222 [==============================] - 0s 125us/sample - loss: -12.4744 - acc: 0.0000e+00 - val_loss: -13.4220 - val_acc: 0.0000e+00\n",
      "Epoch 268/500\n",
      "222/222 [==============================] - 0s 120us/sample - loss: -12.4785 - acc: 0.0000e+00 - val_loss: -13.4229 - val_acc: 0.0000e+00\n",
      "Epoch 269/500\n",
      "222/222 [==============================] - 0s 121us/sample - loss: -12.4817 - acc: 0.0000e+00 - val_loss: -13.4254 - val_acc: 0.0000e+00\n",
      "Epoch 270/500\n",
      "222/222 [==============================] - 0s 123us/sample - loss: -12.4855 - acc: 0.0000e+00 - val_loss: -13.4298 - val_acc: 0.0000e+00\n",
      "Epoch 271/500\n",
      "222/222 [==============================] - 0s 121us/sample - loss: -12.4900 - acc: 0.0000e+00 - val_loss: -13.4346 - val_acc: 0.0000e+00\n",
      "Epoch 272/500\n",
      "222/222 [==============================] - 0s 120us/sample - loss: -12.4941 - acc: 0.0000e+00 - val_loss: -13.4379 - val_acc: 0.0000e+00\n",
      "Epoch 273/500\n",
      "222/222 [==============================] - 0s 126us/sample - loss: -12.4974 - acc: 0.0000e+00 - val_loss: -13.4461 - val_acc: 0.0000e+00\n",
      "Epoch 274/500\n",
      "222/222 [==============================] - 0s 138us/sample - loss: -12.5014 - acc: 0.0000e+00 - val_loss: -13.4491 - val_acc: 0.0000e+00\n",
      "Epoch 275/500\n",
      "222/222 [==============================] - 0s 142us/sample - loss: -12.5048 - acc: 0.0000e+00 - val_loss: -13.4563 - val_acc: 0.0000e+00\n",
      "Epoch 276/500\n",
      "222/222 [==============================] - 0s 135us/sample - loss: -12.5094 - acc: 0.0000e+00 - val_loss: -13.4631 - val_acc: 0.0000e+00\n",
      "Epoch 277/500\n",
      "222/222 [==============================] - 0s 138us/sample - loss: -12.5132 - acc: 0.0000e+00 - val_loss: -13.4709 - val_acc: 0.0000e+00\n",
      "Epoch 278/500\n",
      "222/222 [==============================] - 0s 135us/sample - loss: -12.5180 - acc: 0.0000e+00 - val_loss: -13.4767 - val_acc: 0.0000e+00\n",
      "Epoch 279/500\n",
      "222/222 [==============================] - 0s 135us/sample - loss: -12.5216 - acc: 0.0000e+00 - val_loss: -13.4822 - val_acc: 0.0000e+00\n",
      "Epoch 280/500\n",
      "222/222 [==============================] - 0s 136us/sample - loss: -12.5258 - acc: 0.0000e+00 - val_loss: -13.4907 - val_acc: 0.0000e+00\n",
      "Epoch 281/500\n",
      "222/222 [==============================] - 0s 145us/sample - loss: -12.5300 - acc: 0.0000e+00 - val_loss: -13.4970 - val_acc: 0.0000e+00\n",
      "Epoch 282/500\n",
      "222/222 [==============================] - 0s 138us/sample - loss: -12.5336 - acc: 0.0000e+00 - val_loss: -13.5059 - val_acc: 0.0000e+00\n",
      "Epoch 283/500\n",
      "222/222 [==============================] - 0s 141us/sample - loss: -12.5393 - acc: 0.0000e+00 - val_loss: -13.5099 - val_acc: 0.0000e+00\n",
      "Epoch 284/500\n",
      "222/222 [==============================] - 0s 136us/sample - loss: -12.5432 - acc: 0.0000e+00 - val_loss: -13.5122 - val_acc: 0.0000e+00\n",
      "Epoch 285/500\n",
      "222/222 [==============================] - 0s 139us/sample - loss: -12.5475 - acc: 0.0000e+00 - val_loss: -13.5194 - val_acc: 0.0000e+00\n",
      "Epoch 286/500\n",
      "222/222 [==============================] - 0s 148us/sample - loss: -12.5526 - acc: 0.0000e+00 - val_loss: -13.5244 - val_acc: 0.0000e+00\n",
      "Epoch 287/500\n",
      "222/222 [==============================] - 0s 144us/sample - loss: -12.5573 - acc: 0.0000e+00 - val_loss: -13.5308 - val_acc: 0.0000e+00\n",
      "Epoch 288/500\n",
      "222/222 [==============================] - 0s 164us/sample - loss: -12.5614 - acc: 0.0000e+00 - val_loss: -13.5355 - val_acc: 0.0000e+00\n",
      "Epoch 289/500\n",
      "222/222 [==============================] - 0s 145us/sample - loss: -12.5659 - acc: 0.0000e+00 - val_loss: -13.5431 - val_acc: 0.0000e+00\n",
      "Epoch 290/500\n",
      "222/222 [==============================] - 0s 131us/sample - loss: -12.5707 - acc: 0.0000e+00 - val_loss: -13.5483 - val_acc: 0.0000e+00\n",
      "Epoch 291/500\n",
      "222/222 [==============================] - 0s 181us/sample - loss: -12.5746 - acc: 0.0000e+00 - val_loss: -13.5535 - val_acc: 0.0000e+00\n",
      "Epoch 292/500\n",
      "222/222 [==============================] - 0s 132us/sample - loss: -12.5800 - acc: 0.0000e+00 - val_loss: -13.5620 - val_acc: 0.0000e+00\n",
      "Epoch 293/500\n",
      "222/222 [==============================] - 0s 141us/sample - loss: -12.5838 - acc: 0.0000e+00 - val_loss: -13.5693 - val_acc: 0.0000e+00\n",
      "Epoch 294/500\n",
      "222/222 [==============================] - 0s 136us/sample - loss: -12.5896 - acc: 0.0000e+00 - val_loss: -13.5796 - val_acc: 0.0000e+00\n",
      "Epoch 295/500\n",
      "222/222 [==============================] - 0s 138us/sample - loss: -12.5953 - acc: 0.0000e+00 - val_loss: -13.5852 - val_acc: 0.0000e+00\n",
      "Epoch 296/500\n",
      "222/222 [==============================] - 0s 131us/sample - loss: -12.5993 - acc: 0.0000e+00 - val_loss: -13.5925 - val_acc: 0.0000e+00\n",
      "Epoch 297/500\n",
      "222/222 [==============================] - 0s 133us/sample - loss: -12.6042 - acc: 0.0000e+00 - val_loss: -13.5989 - val_acc: 0.0000e+00\n",
      "Epoch 298/500\n",
      "222/222 [==============================] - 0s 147us/sample - loss: -12.6094 - acc: 0.0000e+00 - val_loss: -13.6047 - val_acc: 0.0000e+00\n",
      "Epoch 299/500\n",
      "222/222 [==============================] - 0s 136us/sample - loss: -12.6140 - acc: 0.0000e+00 - val_loss: -13.6136 - val_acc: 0.0000e+00\n",
      "Epoch 300/500\n",
      "222/222 [==============================] - 0s 141us/sample - loss: -12.6196 - acc: 0.0000e+00 - val_loss: -13.6235 - val_acc: 0.0000e+00\n",
      "Epoch 301/500\n",
      "222/222 [==============================] - 0s 138us/sample - loss: -12.6254 - acc: 0.0000e+00 - val_loss: -13.6294 - val_acc: 0.0000e+00\n",
      "Epoch 302/500\n",
      "222/222 [==============================] - 0s 141us/sample - loss: -12.6311 - acc: 0.0000e+00 - val_loss: -13.6373 - val_acc: 0.0000e+00\n",
      "Epoch 303/500\n",
      "222/222 [==============================] - 0s 138us/sample - loss: -12.6364 - acc: 0.0000e+00 - val_loss: -13.6423 - val_acc: 0.0000e+00\n",
      "Epoch 304/500\n",
      "222/222 [==============================] - 0s 143us/sample - loss: -12.6422 - acc: 0.0000e+00 - val_loss: -13.6540 - val_acc: 0.0000e+00\n",
      "Epoch 305/500\n",
      "222/222 [==============================] - 0s 140us/sample - loss: -12.6496 - acc: 0.0000e+00 - val_loss: -13.6637 - val_acc: 0.0000e+00\n",
      "Epoch 306/500\n",
      "222/222 [==============================] - 0s 131us/sample - loss: -12.6553 - acc: 0.0000e+00 - val_loss: -13.6723 - val_acc: 0.0000e+00\n",
      "Epoch 307/500\n",
      "222/222 [==============================] - 0s 125us/sample - loss: -12.6626 - acc: 0.0000e+00 - val_loss: -13.6828 - val_acc: 0.0000e+00\n",
      "Epoch 308/500\n",
      "222/222 [==============================] - 0s 127us/sample - loss: -12.6694 - acc: 0.0000e+00 - val_loss: -13.6901 - val_acc: 0.0000e+00\n",
      "Epoch 309/500\n",
      "222/222 [==============================] - 0s 128us/sample - loss: -12.6757 - acc: 0.0000e+00 - val_loss: -13.6952 - val_acc: 0.0000e+00\n",
      "Epoch 310/500\n",
      "222/222 [==============================] - 0s 127us/sample - loss: -12.6844 - acc: 0.0000e+00 - val_loss: -13.7044 - val_acc: 0.0000e+00\n",
      "Epoch 311/500\n",
      "222/222 [==============================] - 0s 124us/sample - loss: -12.6917 - acc: 0.0000e+00 - val_loss: -13.7090 - val_acc: 0.0000e+00\n",
      "Epoch 312/500\n",
      "222/222 [==============================] - 0s 118us/sample - loss: -12.7034 - acc: 0.0000e+00 - val_loss: -13.7141 - val_acc: 0.0000e+00\n",
      "Epoch 313/500\n",
      "222/222 [==============================] - 0s 110us/sample - loss: -12.7083 - acc: 0.0000e+00 - val_loss: -13.7350 - val_acc: 0.0000e+00\n",
      "Epoch 314/500\n",
      "222/222 [==============================] - 0s 110us/sample - loss: -12.7269 - acc: 0.0000e+00 - val_loss: -13.7351 - val_acc: 0.0000e+00\n",
      "Epoch 315/500\n",
      "222/222 [==============================] - 0s 111us/sample - loss: -12.7293 - acc: 0.0000e+00 - val_loss: -13.7527 - val_acc: 0.0000e+00\n",
      "Epoch 316/500\n",
      "222/222 [==============================] - 0s 111us/sample - loss: -12.7453 - acc: 0.0000e+00 - val_loss: -13.7638 - val_acc: 0.0000e+00\n",
      "Epoch 317/500\n",
      "222/222 [==============================] - 0s 112us/sample - loss: -12.7541 - acc: 0.0000e+00 - val_loss: -13.7755 - val_acc: 0.0000e+00\n",
      "Epoch 318/500\n",
      "222/222 [==============================] - 0s 111us/sample - loss: -12.7646 - acc: 0.0000e+00 - val_loss: -13.7863 - val_acc: 0.0000e+00\n",
      "Epoch 319/500\n",
      "222/222 [==============================] - 0s 118us/sample - loss: -12.7737 - acc: 0.0000e+00 - val_loss: -13.7987 - val_acc: 0.0000e+00\n",
      "Epoch 320/500\n",
      "222/222 [==============================] - 0s 116us/sample - loss: -12.7832 - acc: 0.0000e+00 - val_loss: -13.8134 - val_acc: 0.0000e+00\n",
      "Epoch 321/500\n",
      "222/222 [==============================] - 0s 117us/sample - loss: -12.7942 - acc: 0.0000e+00 - val_loss: -13.8279 - val_acc: 0.0000e+00\n",
      "Epoch 322/500\n",
      "222/222 [==============================] - 0s 119us/sample - loss: -12.8040 - acc: 0.0000e+00 - val_loss: -13.8414 - val_acc: 0.0000e+00\n",
      "Epoch 323/500\n",
      "222/222 [==============================] - 0s 122us/sample - loss: -12.8146 - acc: 0.0000e+00 - val_loss: -13.8504 - val_acc: 0.0000e+00\n",
      "Epoch 324/500\n",
      "222/222 [==============================] - 0s 122us/sample - loss: -12.8255 - acc: 0.0000e+00 - val_loss: -13.8647 - val_acc: 0.0000e+00\n",
      "Epoch 325/500\n",
      "222/222 [==============================] - 0s 120us/sample - loss: -12.8358 - acc: 0.0000e+00 - val_loss: -13.8764 - val_acc: 0.0000e+00\n",
      "Epoch 326/500\n",
      "222/222 [==============================] - 0s 135us/sample - loss: -12.8472 - acc: 0.0000e+00 - val_loss: -13.8885 - val_acc: 0.0000e+00\n",
      "Epoch 327/500\n",
      "222/222 [==============================] - 0s 123us/sample - loss: -12.8592 - acc: 0.0000e+00 - val_loss: -13.9013 - val_acc: 0.0000e+00\n",
      "Epoch 328/500\n",
      "222/222 [==============================] - 0s 134us/sample - loss: -12.8709 - acc: 0.0000e+00 - val_loss: -13.9162 - val_acc: 0.0000e+00\n",
      "Epoch 329/500\n",
      "222/222 [==============================] - 0s 132us/sample - loss: -12.8864 - acc: 0.0000e+00 - val_loss: -13.9219 - val_acc: 0.0000e+00\n",
      "Epoch 330/500\n",
      "222/222 [==============================] - 0s 130us/sample - loss: -12.8956 - acc: 0.0000e+00 - val_loss: -13.9405 - val_acc: 0.0000e+00\n",
      "Epoch 331/500\n",
      "222/222 [==============================] - 0s 133us/sample - loss: -12.9069 - acc: 0.0000e+00 - val_loss: -13.9498 - val_acc: 0.0000e+00\n",
      "Epoch 332/500\n",
      "222/222 [==============================] - 0s 133us/sample - loss: -12.9208 - acc: 0.0000e+00 - val_loss: -13.9701 - val_acc: 0.0000e+00\n",
      "Epoch 333/500\n",
      "222/222 [==============================] - 0s 146us/sample - loss: -12.9319 - acc: 0.0000e+00 - val_loss: -13.9816 - val_acc: 0.0000e+00\n",
      "Epoch 334/500\n",
      "222/222 [==============================] - 0s 140us/sample - loss: -12.9441 - acc: 0.0000e+00 - val_loss: -14.0027 - val_acc: 0.0000e+00\n",
      "Epoch 335/500\n",
      "222/222 [==============================] - 0s 142us/sample - loss: -12.9573 - acc: 0.0000e+00 - val_loss: -14.0194 - val_acc: 0.0000e+00\n",
      "Epoch 336/500\n",
      "222/222 [==============================] - 0s 139us/sample - loss: -12.9675 - acc: 0.0000e+00 - val_loss: -14.0354 - val_acc: 0.0000e+00\n",
      "Epoch 337/500\n",
      "222/222 [==============================] - 0s 139us/sample - loss: -12.9787 - acc: 0.0000e+00 - val_loss: -14.0489 - val_acc: 0.0000e+00\n",
      "Epoch 338/500\n",
      "222/222 [==============================] - 0s 143us/sample - loss: -12.9906 - acc: 0.0000e+00 - val_loss: -14.0615 - val_acc: 0.0000e+00\n",
      "Epoch 339/500\n",
      "222/222 [==============================] - 0s 142us/sample - loss: -13.0017 - acc: 0.0000e+00 - val_loss: -14.0714 - val_acc: 0.0000e+00\n",
      "Epoch 340/500\n",
      "222/222 [==============================] - 0s 138us/sample - loss: -13.0123 - acc: 0.0000e+00 - val_loss: -14.0842 - val_acc: 0.0000e+00\n",
      "Epoch 341/500\n",
      "222/222 [==============================] - 0s 137us/sample - loss: -13.0242 - acc: 0.0000e+00 - val_loss: -14.0951 - val_acc: 0.0000e+00\n",
      "Epoch 342/500\n",
      "222/222 [==============================] - 0s 144us/sample - loss: -13.0348 - acc: 0.0000e+00 - val_loss: -14.1102 - val_acc: 0.0000e+00\n",
      "Epoch 343/500\n",
      "222/222 [==============================] - 0s 139us/sample - loss: -13.0447 - acc: 0.0000e+00 - val_loss: -14.1298 - val_acc: 0.0000e+00\n",
      "Epoch 344/500\n",
      "222/222 [==============================] - 0s 134us/sample - loss: -13.0600 - acc: 0.0000e+00 - val_loss: -14.1398 - val_acc: 0.0000e+00\n",
      "Epoch 345/500\n",
      "222/222 [==============================] - 0s 152us/sample - loss: -13.0713 - acc: 0.0000e+00 - val_loss: -14.1617 - val_acc: 0.0000e+00\n",
      "Epoch 346/500\n",
      "222/222 [==============================] - 0s 140us/sample - loss: -13.0828 - acc: 0.0000e+00 - val_loss: -14.1716 - val_acc: 0.0000e+00\n",
      "Epoch 347/500\n",
      "222/222 [==============================] - 0s 131us/sample - loss: -13.0945 - acc: 0.0000e+00 - val_loss: -14.1909 - val_acc: 0.0000e+00\n",
      "Epoch 348/500\n",
      "222/222 [==============================] - 0s 128us/sample - loss: -13.1081 - acc: 0.0000e+00 - val_loss: -14.2034 - val_acc: 0.0000e+00\n",
      "Epoch 349/500\n",
      "222/222 [==============================] - 0s 138us/sample - loss: -13.1184 - acc: 0.0000e+00 - val_loss: -14.2236 - val_acc: 0.0000e+00\n",
      "Epoch 350/500\n",
      "222/222 [==============================] - 0s 140us/sample - loss: -13.1315 - acc: 0.0000e+00 - val_loss: -14.2421 - val_acc: 0.0000e+00\n",
      "Epoch 351/500\n",
      "222/222 [==============================] - 0s 144us/sample - loss: -13.1433 - acc: 0.0000e+00 - val_loss: -14.2540 - val_acc: 0.0000e+00\n",
      "Epoch 352/500\n",
      "222/222 [==============================] - 0s 136us/sample - loss: -13.1533 - acc: 0.0000e+00 - val_loss: -14.2759 - val_acc: 0.0000e+00\n",
      "Epoch 353/500\n",
      "222/222 [==============================] - 0s 134us/sample - loss: -13.1665 - acc: 0.0000e+00 - val_loss: -14.2901 - val_acc: 0.0000e+00\n",
      "Epoch 354/500\n",
      "222/222 [==============================] - 0s 138us/sample - loss: -13.1776 - acc: 0.0000e+00 - val_loss: -14.3097 - val_acc: 0.0000e+00\n",
      "Epoch 355/500\n",
      "222/222 [==============================] - 0s 136us/sample - loss: -13.1896 - acc: 0.0000e+00 - val_loss: -14.3251 - val_acc: 0.0000e+00\n",
      "Epoch 356/500\n",
      "222/222 [==============================] - 0s 134us/sample - loss: -13.2025 - acc: 0.0000e+00 - val_loss: -14.3409 - val_acc: 0.0000e+00\n",
      "Epoch 357/500\n",
      "222/222 [==============================] - 0s 137us/sample - loss: -13.2146 - acc: 0.0000e+00 - val_loss: -14.3576 - val_acc: 0.0000e+00\n",
      "Epoch 358/500\n",
      "222/222 [==============================] - 0s 119us/sample - loss: -13.2263 - acc: 0.0000e+00 - val_loss: -14.3777 - val_acc: 0.0000e+00\n",
      "Epoch 359/500\n",
      "222/222 [==============================] - 0s 104us/sample - loss: -13.2387 - acc: 0.0000e+00 - val_loss: -14.3986 - val_acc: 0.0000e+00\n",
      "Epoch 360/500\n",
      "222/222 [==============================] - 0s 99us/sample - loss: -13.2517 - acc: 0.0000e+00 - val_loss: -14.4132 - val_acc: 0.0000e+00\n",
      "Epoch 361/500\n",
      "222/222 [==============================] - 0s 105us/sample - loss: -13.2625 - acc: 0.0000e+00 - val_loss: -14.4299 - val_acc: 0.0000e+00\n",
      "Epoch 362/500\n",
      "222/222 [==============================] - 0s 102us/sample - loss: -13.2745 - acc: 0.0000e+00 - val_loss: -14.4492 - val_acc: 0.0000e+00\n",
      "Epoch 363/500\n",
      "222/222 [==============================] - 0s 109us/sample - loss: -13.2869 - acc: 0.0000e+00 - val_loss: -14.4643 - val_acc: 0.0000e+00\n",
      "Epoch 364/500\n",
      "222/222 [==============================] - 0s 107us/sample - loss: -13.2985 - acc: 0.0000e+00 - val_loss: -14.4835 - val_acc: 0.0000e+00\n",
      "Epoch 365/500\n",
      "222/222 [==============================] - 0s 107us/sample - loss: -13.3089 - acc: 0.0000e+00 - val_loss: -14.4995 - val_acc: 0.0000e+00\n",
      "Epoch 366/500\n",
      "222/222 [==============================] - 0s 104us/sample - loss: -13.3210 - acc: 0.0000e+00 - val_loss: -14.5145 - val_acc: 0.0000e+00\n",
      "Epoch 367/500\n",
      "222/222 [==============================] - 0s 107us/sample - loss: -13.3319 - acc: 0.0000e+00 - val_loss: -14.5336 - val_acc: 0.0000e+00\n",
      "Epoch 368/500\n",
      "222/222 [==============================] - 0s 113us/sample - loss: -13.3471 - acc: 0.0000e+00 - val_loss: -14.5390 - val_acc: 0.0000e+00\n",
      "Epoch 369/500\n",
      "222/222 [==============================] - 0s 108us/sample - loss: -13.3534 - acc: 0.0000e+00 - val_loss: -14.5572 - val_acc: 0.0000e+00\n",
      "Epoch 370/500\n",
      "222/222 [==============================] - 0s 116us/sample - loss: -13.3658 - acc: 0.0000e+00 - val_loss: -14.5718 - val_acc: 0.0000e+00\n",
      "Epoch 371/500\n",
      "222/222 [==============================] - 0s 116us/sample - loss: -13.3780 - acc: 0.0000e+00 - val_loss: -14.5896 - val_acc: 0.0000e+00\n",
      "Epoch 372/500\n",
      "222/222 [==============================] - 0s 121us/sample - loss: -13.3881 - acc: 0.0000e+00 - val_loss: -14.6014 - val_acc: 0.0000e+00\n",
      "Epoch 373/500\n",
      "222/222 [==============================] - 0s 132us/sample - loss: -13.4014 - acc: 0.0000e+00 - val_loss: -14.6216 - val_acc: 0.0000e+00\n",
      "Epoch 374/500\n",
      "222/222 [==============================] - 0s 127us/sample - loss: -13.4130 - acc: 0.0000e+00 - val_loss: -14.6291 - val_acc: 0.0000e+00\n",
      "Epoch 375/500\n",
      "222/222 [==============================] - 0s 125us/sample - loss: -13.4241 - acc: 0.0000e+00 - val_loss: -14.6420 - val_acc: 0.0000e+00\n",
      "Epoch 376/500\n",
      "222/222 [==============================] - 0s 122us/sample - loss: -13.4365 - acc: 0.0000e+00 - val_loss: -14.6539 - val_acc: 0.0000e+00\n",
      "Epoch 377/500\n",
      "222/222 [==============================] - 0s 106us/sample - loss: -13.4488 - acc: 0.0000e+00 - val_loss: -14.6678 - val_acc: 0.0000e+00\n",
      "Epoch 378/500\n",
      "222/222 [==============================] - 0s 70us/sample - loss: -13.4587 - acc: 0.0000e+00 - val_loss: -14.6829 - val_acc: 0.0000e+00\n",
      "Epoch 379/500\n",
      "222/222 [==============================] - 0s 68us/sample - loss: -13.4699 - acc: 0.0000e+00 - val_loss: -14.6980 - val_acc: 0.0000e+00\n",
      "Epoch 380/500\n",
      "222/222 [==============================] - 0s 77us/sample - loss: -13.4808 - acc: 0.0000e+00 - val_loss: -14.7126 - val_acc: 0.0000e+00\n",
      "Epoch 381/500\n",
      "222/222 [==============================] - 0s 71us/sample - loss: -13.4910 - acc: 0.0000e+00 - val_loss: -14.7261 - val_acc: 0.0000e+00\n",
      "Epoch 382/500\n",
      "222/222 [==============================] - 0s 72us/sample - loss: -13.5018 - acc: 0.0000e+00 - val_loss: -14.7404 - val_acc: 0.0000e+00\n",
      "Epoch 383/500\n",
      "222/222 [==============================] - 0s 74us/sample - loss: -13.5116 - acc: 0.0000e+00 - val_loss: -14.7563 - val_acc: 0.0000e+00\n",
      "Epoch 384/500\n",
      "222/222 [==============================] - 0s 73us/sample - loss: -13.5219 - acc: 0.0000e+00 - val_loss: -14.7697 - val_acc: 0.0000e+00\n",
      "Epoch 385/500\n",
      "222/222 [==============================] - 0s 77us/sample - loss: -13.5339 - acc: 0.0000e+00 - val_loss: -14.7805 - val_acc: 0.0000e+00\n",
      "Epoch 386/500\n",
      "222/222 [==============================] - 0s 76us/sample - loss: -13.5432 - acc: 0.0000e+00 - val_loss: -14.7987 - val_acc: 0.0000e+00\n",
      "Epoch 387/500\n",
      "222/222 [==============================] - 0s 83us/sample - loss: -13.5548 - acc: 0.0000e+00 - val_loss: -14.8140 - val_acc: 0.0000e+00\n",
      "Epoch 388/500\n",
      "222/222 [==============================] - 0s 82us/sample - loss: -13.5649 - acc: 0.0000e+00 - val_loss: -14.8322 - val_acc: 0.0000e+00\n",
      "Epoch 389/500\n",
      "222/222 [==============================] - 0s 78us/sample - loss: -13.5763 - acc: 0.0000e+00 - val_loss: -14.8474 - val_acc: 0.0000e+00\n",
      "Epoch 390/500\n",
      "222/222 [==============================] - 0s 111us/sample - loss: -13.5858 - acc: 0.0000e+00 - val_loss: -14.8615 - val_acc: 0.0000e+00\n",
      "Epoch 391/500\n",
      "222/222 [==============================] - 0s 101us/sample - loss: -13.5962 - acc: 0.0000e+00 - val_loss: -14.8763 - val_acc: 0.0000e+00\n",
      "Epoch 392/500\n",
      "222/222 [==============================] - 0s 108us/sample - loss: -13.6068 - acc: 0.0000e+00 - val_loss: -14.8889 - val_acc: 0.0000e+00\n",
      "Epoch 393/500\n",
      "222/222 [==============================] - 0s 95us/sample - loss: -13.6167 - acc: 0.0000e+00 - val_loss: -14.9038 - val_acc: 0.0000e+00\n",
      "Epoch 394/500\n",
      "222/222 [==============================] - 0s 90us/sample - loss: -13.6275 - acc: 0.0000e+00 - val_loss: -14.9167 - val_acc: 0.0000e+00\n",
      "Epoch 395/500\n",
      "222/222 [==============================] - 0s 90us/sample - loss: -13.6385 - acc: 0.0000e+00 - val_loss: -14.9331 - val_acc: 0.0000e+00\n",
      "Epoch 396/500\n",
      "222/222 [==============================] - 0s 105us/sample - loss: -13.6485 - acc: 0.0000e+00 - val_loss: -14.9466 - val_acc: 0.0000e+00\n",
      "Epoch 397/500\n",
      "222/222 [==============================] - 0s 104us/sample - loss: -13.6588 - acc: 0.0000e+00 - val_loss: -14.9639 - val_acc: 0.0000e+00\n",
      "Epoch 398/500\n",
      "222/222 [==============================] - 0s 96us/sample - loss: -13.6690 - acc: 0.0000e+00 - val_loss: -14.9803 - val_acc: 0.0000e+00\n",
      "Epoch 399/500\n",
      "222/222 [==============================] - 0s 92us/sample - loss: -13.6791 - acc: 0.0000e+00 - val_loss: -14.9957 - val_acc: 0.0000e+00\n",
      "Epoch 400/500\n",
      "222/222 [==============================] - 0s 98us/sample - loss: -13.6901 - acc: 0.0000e+00 - val_loss: -15.0090 - val_acc: 0.0000e+00\n",
      "Epoch 401/500\n",
      "222/222 [==============================] - 0s 97us/sample - loss: -13.7002 - acc: 0.0000e+00 - val_loss: -15.0243 - val_acc: 0.0000e+00\n",
      "Epoch 402/500\n",
      "222/222 [==============================] - 0s 101us/sample - loss: -13.7097 - acc: 0.0000e+00 - val_loss: -15.0392 - val_acc: 0.0000e+00\n",
      "Epoch 403/500\n",
      "222/222 [==============================] - 0s 100us/sample - loss: -13.7209 - acc: 0.0000e+00 - val_loss: -15.0545 - val_acc: 0.0000e+00\n",
      "Epoch 404/500\n",
      "222/222 [==============================] - 0s 122us/sample - loss: -13.7314 - acc: 0.0000e+00 - val_loss: -15.0677 - val_acc: 0.0000e+00\n",
      "Epoch 405/500\n",
      "222/222 [==============================] - 0s 97us/sample - loss: -13.7409 - acc: 0.0000e+00 - val_loss: -15.0874 - val_acc: 0.0000e+00\n",
      "Epoch 406/500\n",
      "222/222 [==============================] - 0s 99us/sample - loss: -13.7531 - acc: 0.0000e+00 - val_loss: -15.1028 - val_acc: 0.0000e+00\n",
      "Epoch 407/500\n",
      "222/222 [==============================] - 0s 95us/sample - loss: -13.7634 - acc: 0.0000e+00 - val_loss: -15.1142 - val_acc: 0.0000e+00\n",
      "Epoch 408/500\n",
      "222/222 [==============================] - 0s 101us/sample - loss: -13.7741 - acc: 0.0000e+00 - val_loss: -15.1268 - val_acc: 0.0000e+00\n",
      "Epoch 409/500\n",
      "222/222 [==============================] - 0s 106us/sample - loss: -13.7851 - acc: 0.0000e+00 - val_loss: -15.1456 - val_acc: 0.0000e+00\n",
      "Epoch 410/500\n",
      "222/222 [==============================] - 0s 95us/sample - loss: -13.7957 - acc: 0.0000e+00 - val_loss: -15.1607 - val_acc: 0.0000e+00\n",
      "Epoch 411/500\n",
      "222/222 [==============================] - 0s 94us/sample - loss: -13.8061 - acc: 0.0000e+00 - val_loss: -15.1760 - val_acc: 0.0000e+00\n",
      "Epoch 412/500\n",
      "222/222 [==============================] - 0s 97us/sample - loss: -13.8163 - acc: 0.0000e+00 - val_loss: -15.1944 - val_acc: 0.0000e+00\n",
      "Epoch 413/500\n",
      "222/222 [==============================] - 0s 104us/sample - loss: -13.8280 - acc: 0.0000e+00 - val_loss: -15.2105 - val_acc: 0.0000e+00\n",
      "Epoch 414/500\n",
      "222/222 [==============================] - 0s 89us/sample - loss: -13.8388 - acc: 0.0000e+00 - val_loss: -15.2251 - val_acc: 0.0000e+00\n",
      "Epoch 415/500\n",
      "222/222 [==============================] - 0s 92us/sample - loss: -13.8499 - acc: 0.0000e+00 - val_loss: -15.2379 - val_acc: 0.0000e+00\n",
      "Epoch 416/500\n",
      "222/222 [==============================] - 0s 95us/sample - loss: -13.8595 - acc: 0.0000e+00 - val_loss: -15.2537 - val_acc: 0.0000e+00\n",
      "Epoch 417/500\n",
      "222/222 [==============================] - 0s 111us/sample - loss: -13.8706 - acc: 0.0000e+00 - val_loss: -15.2666 - val_acc: 0.0000e+00\n",
      "Epoch 418/500\n",
      "222/222 [==============================] - 0s 117us/sample - loss: -13.8804 - acc: 0.0000e+00 - val_loss: -15.2768 - val_acc: 0.0000e+00\n",
      "Epoch 419/500\n",
      "222/222 [==============================] - 0s 90us/sample - loss: -13.8909 - acc: 0.0000e+00 - val_loss: -15.2947 - val_acc: 0.0000e+00\n",
      "Epoch 420/500\n",
      "222/222 [==============================] - 0s 103us/sample - loss: -13.9021 - acc: 0.0000e+00 - val_loss: -15.3083 - val_acc: 0.0000e+00\n",
      "Epoch 421/500\n",
      "222/222 [==============================] - 0s 89us/sample - loss: -13.9123 - acc: 0.0000e+00 - val_loss: -15.3224 - val_acc: 0.0000e+00\n",
      "Epoch 422/500\n",
      "222/222 [==============================] - 0s 90us/sample - loss: -13.9223 - acc: 0.0000e+00 - val_loss: -15.3372 - val_acc: 0.0000e+00\n",
      "Epoch 423/500\n",
      "222/222 [==============================] - 0s 89us/sample - loss: -13.9333 - acc: 0.0000e+00 - val_loss: -15.3500 - val_acc: 0.0000e+00\n",
      "Epoch 424/500\n",
      "222/222 [==============================] - 0s 88us/sample - loss: -13.9432 - acc: 0.0000e+00 - val_loss: -15.3658 - val_acc: 0.0000e+00\n",
      "Epoch 425/500\n",
      "222/222 [==============================] - 0s 91us/sample - loss: -13.9524 - acc: 0.0000e+00 - val_loss: -15.3814 - val_acc: 0.0000e+00\n",
      "Epoch 426/500\n",
      "222/222 [==============================] - 0s 84us/sample - loss: -13.9634 - acc: 0.0000e+00 - val_loss: -15.3941 - val_acc: 0.0000e+00\n",
      "Epoch 427/500\n",
      "222/222 [==============================] - 0s 88us/sample - loss: -13.9741 - acc: 0.0000e+00 - val_loss: -15.4099 - val_acc: 0.0000e+00\n",
      "Epoch 428/500\n",
      "222/222 [==============================] - 0s 98us/sample - loss: -13.9842 - acc: 0.0000e+00 - val_loss: -15.4221 - val_acc: 0.0000e+00\n",
      "Epoch 429/500\n",
      "222/222 [==============================] - 0s 81us/sample - loss: -13.9942 - acc: 0.0000e+00 - val_loss: -15.4371 - val_acc: 0.0000e+00\n",
      "Epoch 430/500\n",
      "222/222 [==============================] - 0s 86us/sample - loss: -14.0041 - acc: 0.0000e+00 - val_loss: -15.4537 - val_acc: 0.0000e+00\n",
      "Epoch 431/500\n",
      "222/222 [==============================] - 0s 94us/sample - loss: -14.0132 - acc: 0.0000e+00 - val_loss: -15.4698 - val_acc: 0.0000e+00\n",
      "Epoch 432/500\n",
      "222/222 [==============================] - 0s 81us/sample - loss: -14.0252 - acc: 0.0000e+00 - val_loss: -15.4841 - val_acc: 0.0000e+00\n",
      "Epoch 433/500\n",
      "222/222 [==============================] - 0s 89us/sample - loss: -14.0344 - acc: 0.0000e+00 - val_loss: -15.4994 - val_acc: 0.0000e+00\n",
      "Epoch 434/500\n",
      "222/222 [==============================] - 0s 99us/sample - loss: -14.0472 - acc: 0.0000e+00 - val_loss: -15.5139 - val_acc: 0.0000e+00\n",
      "Epoch 435/500\n",
      "222/222 [==============================] - 0s 109us/sample - loss: -14.0565 - acc: 0.0000e+00 - val_loss: -15.5272 - val_acc: 0.0000e+00\n",
      "Epoch 436/500\n",
      "222/222 [==============================] - 0s 81us/sample - loss: -14.0669 - acc: 0.0000e+00 - val_loss: -15.5421 - val_acc: 0.0000e+00\n",
      "Epoch 437/500\n",
      "222/222 [==============================] - 0s 112us/sample - loss: -14.0781 - acc: 0.0000e+00 - val_loss: -15.5547 - val_acc: 0.0000e+00\n",
      "Epoch 438/500\n",
      "222/222 [==============================] - 0s 90us/sample - loss: -14.0898 - acc: 0.0000e+00 - val_loss: -15.5686 - val_acc: 0.0000e+00\n",
      "Epoch 439/500\n",
      "222/222 [==============================] - 0s 91us/sample - loss: -14.1015 - acc: 0.0000e+00 - val_loss: -15.5831 - val_acc: 0.0000e+00\n",
      "Epoch 440/500\n",
      "222/222 [==============================] - 0s 97us/sample - loss: -14.1163 - acc: 0.0000e+00 - val_loss: -15.5899 - val_acc: 0.0000e+00\n",
      "Epoch 441/500\n",
      "222/222 [==============================] - 0s 90us/sample - loss: -14.1270 - acc: 0.0000e+00 - val_loss: -15.6006 - val_acc: 0.0000e+00\n",
      "Epoch 442/500\n",
      "222/222 [==============================] - 0s 110us/sample - loss: -14.1380 - acc: 0.0000e+00 - val_loss: -15.6133 - val_acc: 0.0000e+00\n",
      "Epoch 443/500\n",
      "222/222 [==============================] - 0s 107us/sample - loss: -14.1472 - acc: 0.0000e+00 - val_loss: -15.6246 - val_acc: 0.0000e+00\n",
      "Epoch 444/500\n",
      "222/222 [==============================] - 0s 149us/sample - loss: -14.1579 - acc: 0.0000e+00 - val_loss: -15.6430 - val_acc: 0.0000e+00\n",
      "Epoch 445/500\n",
      "222/222 [==============================] - 0s 113us/sample - loss: -14.1680 - acc: 0.0000e+00 - val_loss: -15.6590 - val_acc: 0.0000e+00\n",
      "Epoch 446/500\n",
      "222/222 [==============================] - 0s 117us/sample - loss: -14.1789 - acc: 0.0000e+00 - val_loss: -15.6704 - val_acc: 0.0000e+00\n",
      "Epoch 447/500\n",
      "222/222 [==============================] - 0s 109us/sample - loss: -14.1874 - acc: 0.0000e+00 - val_loss: -15.6850 - val_acc: 0.0000e+00\n",
      "Epoch 448/500\n",
      "222/222 [==============================] - 0s 117us/sample - loss: -14.1987 - acc: 0.0000e+00 - val_loss: -15.6981 - val_acc: 0.0000e+00\n",
      "Epoch 449/500\n",
      "222/222 [==============================] - 0s 113us/sample - loss: -14.2090 - acc: 0.0000e+00 - val_loss: -15.7117 - val_acc: 0.0000e+00\n",
      "Epoch 450/500\n",
      "222/222 [==============================] - 0s 112us/sample - loss: -14.2224 - acc: 0.0000e+00 - val_loss: -15.7266 - val_acc: 0.0000e+00\n",
      "Epoch 451/500\n",
      "222/222 [==============================] - 0s 115us/sample - loss: -14.2340 - acc: 0.0000e+00 - val_loss: -15.7399 - val_acc: 0.0000e+00\n",
      "Epoch 452/500\n",
      "222/222 [==============================] - 0s 120us/sample - loss: -14.2403 - acc: 0.0000e+00 - val_loss: -15.7507 - val_acc: 0.0000e+00\n",
      "Epoch 453/500\n",
      "222/222 [==============================] - 0s 125us/sample - loss: -14.2520 - acc: 0.0000e+00 - val_loss: -15.7646 - val_acc: 0.0000e+00\n",
      "Epoch 454/500\n",
      "222/222 [==============================] - 0s 128us/sample - loss: -14.2585 - acc: 0.0000e+00 - val_loss: -15.7744 - val_acc: 0.0000e+00\n",
      "Epoch 455/500\n",
      "222/222 [==============================] - 0s 122us/sample - loss: -14.2670 - acc: 0.0000e+00 - val_loss: -15.7897 - val_acc: 0.0000e+00\n",
      "Epoch 456/500\n",
      "222/222 [==============================] - 0s 117us/sample - loss: -14.2779 - acc: 0.0000e+00 - val_loss: -15.8004 - val_acc: 0.0000e+00\n",
      "Epoch 457/500\n",
      "222/222 [==============================] - 0s 114us/sample - loss: -14.2853 - acc: 0.0000e+00 - val_loss: -15.8122 - val_acc: 0.0000e+00\n",
      "Epoch 458/500\n",
      "222/222 [==============================] - 0s 115us/sample - loss: -14.2922 - acc: 0.0000e+00 - val_loss: -15.8226 - val_acc: 0.0000e+00\n",
      "Epoch 459/500\n",
      "222/222 [==============================] - 0s 121us/sample - loss: -14.2995 - acc: 0.0000e+00 - val_loss: -15.8359 - val_acc: 0.0000e+00\n",
      "Epoch 460/500\n",
      "222/222 [==============================] - 0s 122us/sample - loss: -14.3124 - acc: 0.0000e+00 - val_loss: -15.8474 - val_acc: 0.0000e+00\n",
      "Epoch 461/500\n",
      "222/222 [==============================] - 0s 126us/sample - loss: -14.3192 - acc: 0.0000e+00 - val_loss: -15.8553 - val_acc: 0.0000e+00\n",
      "Epoch 462/500\n",
      "222/222 [==============================] - 0s 115us/sample - loss: -14.3258 - acc: 0.0000e+00 - val_loss: -15.8637 - val_acc: 0.0000e+00\n",
      "Epoch 463/500\n",
      "222/222 [==============================] - 0s 111us/sample - loss: -14.3325 - acc: 0.0000e+00 - val_loss: -15.8749 - val_acc: 0.0000e+00\n",
      "Epoch 464/500\n",
      "222/222 [==============================] - 0s 122us/sample - loss: -14.3394 - acc: 0.0000e+00 - val_loss: -15.8857 - val_acc: 0.0000e+00\n",
      "Epoch 465/500\n",
      "222/222 [==============================] - 0s 126us/sample - loss: -14.3464 - acc: 0.0000e+00 - val_loss: -15.8961 - val_acc: 0.0000e+00\n",
      "Epoch 466/500\n",
      "222/222 [==============================] - 0s 133us/sample - loss: -14.3536 - acc: 0.0000e+00 - val_loss: -15.9053 - val_acc: 0.0000e+00\n",
      "Epoch 467/500\n",
      "222/222 [==============================] - 0s 123us/sample - loss: -14.3656 - acc: 0.0000e+00 - val_loss: -15.9223 - val_acc: 0.0000e+00\n",
      "Epoch 468/500\n",
      "222/222 [==============================] - 0s 140us/sample - loss: -14.3774 - acc: 0.0000e+00 - val_loss: -15.9265 - val_acc: 0.0000e+00\n",
      "Epoch 469/500\n",
      "222/222 [==============================] - 0s 132us/sample - loss: -14.3810 - acc: 0.0000e+00 - val_loss: -15.9353 - val_acc: 0.0000e+00\n",
      "Epoch 470/500\n",
      "222/222 [==============================] - 0s 128us/sample - loss: -14.3876 - acc: 0.0000e+00 - val_loss: -15.9465 - val_acc: 0.0000e+00\n",
      "Epoch 471/500\n",
      "222/222 [==============================] - 0s 75us/sample - loss: -14.3956 - acc: 0.0000e+00 - val_loss: -15.9537 - val_acc: 0.0000e+00\n",
      "Epoch 472/500\n",
      "222/222 [==============================] - 0s 71us/sample - loss: -14.4019 - acc: 0.0000e+00 - val_loss: -15.9612 - val_acc: 0.0000e+00\n",
      "Epoch 473/500\n",
      "222/222 [==============================] - 0s 72us/sample - loss: -14.4087 - acc: 0.0000e+00 - val_loss: -15.9689 - val_acc: 0.0000e+00\n",
      "Epoch 474/500\n",
      "222/222 [==============================] - 0s 72us/sample - loss: -14.4150 - acc: 0.0000e+00 - val_loss: -15.9779 - val_acc: 0.0000e+00\n",
      "Epoch 475/500\n",
      "222/222 [==============================] - 0s 78us/sample - loss: -14.4222 - acc: 0.0000e+00 - val_loss: -15.9874 - val_acc: 0.0000e+00\n",
      "Epoch 476/500\n",
      "222/222 [==============================] - 0s 86us/sample - loss: -14.4283 - acc: 0.0000e+00 - val_loss: -15.9961 - val_acc: 0.0000e+00\n",
      "Epoch 477/500\n",
      "222/222 [==============================] - 0s 84us/sample - loss: -14.4348 - acc: 0.0000e+00 - val_loss: -16.0051 - val_acc: 0.0000e+00\n",
      "Epoch 478/500\n",
      "222/222 [==============================] - 0s 97us/sample - loss: -14.4406 - acc: 0.0000e+00 - val_loss: -16.0147 - val_acc: 0.0000e+00\n",
      "Epoch 479/500\n",
      "222/222 [==============================] - 0s 89us/sample - loss: -14.4477 - acc: 0.0000e+00 - val_loss: -16.0218 - val_acc: 0.0000e+00\n",
      "Epoch 480/500\n",
      "222/222 [==============================] - 0s 81us/sample - loss: -14.4539 - acc: 0.0000e+00 - val_loss: -16.0290 - val_acc: 0.0000e+00\n",
      "Epoch 481/500\n",
      "222/222 [==============================] - 0s 87us/sample - loss: -14.4607 - acc: 0.0000e+00 - val_loss: -16.0360 - val_acc: 0.0000e+00\n",
      "Epoch 482/500\n",
      "222/222 [==============================] - 0s 86us/sample - loss: -14.4667 - acc: 0.0000e+00 - val_loss: -16.0452 - val_acc: 0.0000e+00\n",
      "Epoch 483/500\n",
      "222/222 [==============================] - 0s 87us/sample - loss: -14.4733 - acc: 0.0000e+00 - val_loss: -16.0513 - val_acc: 0.0000e+00\n",
      "Epoch 484/500\n",
      "222/222 [==============================] - 0s 114us/sample - loss: -14.4785 - acc: 0.0000e+00 - val_loss: -16.0588 - val_acc: 0.0000e+00\n",
      "Epoch 485/500\n",
      "222/222 [==============================] - 0s 92us/sample - loss: -14.4853 - acc: 0.0000e+00 - val_loss: -16.0631 - val_acc: 0.0000e+00\n",
      "Epoch 486/500\n",
      "222/222 [==============================] - 0s 92us/sample - loss: -14.4907 - acc: 0.0000e+00 - val_loss: -16.0775 - val_acc: 0.0000e+00\n",
      "Epoch 487/500\n",
      "222/222 [==============================] - 0s 117us/sample - loss: -14.5094 - acc: 0.0000e+00 - val_loss: -16.0853 - val_acc: 0.0000e+00\n",
      "Epoch 488/500\n",
      "222/222 [==============================] - 0s 98us/sample - loss: -14.5163 - acc: 0.0000e+00 - val_loss: -16.0912 - val_acc: 0.0000e+00\n",
      "Epoch 489/500\n",
      "222/222 [==============================] - 0s 101us/sample - loss: -14.5219 - acc: 0.0000e+00 - val_loss: -16.0966 - val_acc: 0.0000e+00\n",
      "Epoch 490/500\n",
      "222/222 [==============================] - 0s 97us/sample - loss: -14.5249 - acc: 0.0000e+00 - val_loss: -16.1038 - val_acc: 0.0000e+00\n",
      "Epoch 491/500\n",
      "222/222 [==============================] - 0s 106us/sample - loss: -14.5311 - acc: 0.0000e+00 - val_loss: -16.1114 - val_acc: 0.0000e+00\n",
      "Epoch 492/500\n",
      "222/222 [==============================] - 0s 105us/sample - loss: -14.5376 - acc: 0.0000e+00 - val_loss: -16.1153 - val_acc: 0.0000e+00\n",
      "Epoch 493/500\n",
      "222/222 [==============================] - 0s 99us/sample - loss: -14.5441 - acc: 0.0000e+00 - val_loss: -16.1288 - val_acc: 0.0000e+00\n",
      "Epoch 494/500\n",
      "222/222 [==============================] - 0s 98us/sample - loss: -14.5530 - acc: 0.0000e+00 - val_loss: -16.1250 - val_acc: 0.0000e+00\n",
      "Epoch 495/500\n",
      "222/222 [==============================] - 0s 105us/sample - loss: -14.5541 - acc: 0.0000e+00 - val_loss: -16.1414 - val_acc: 0.0000e+00\n",
      "Epoch 496/500\n",
      "222/222 [==============================] - 0s 95us/sample - loss: -14.5679 - acc: 0.0000e+00 - val_loss: -16.1500 - val_acc: 0.0000e+00\n",
      "Epoch 497/500\n",
      "222/222 [==============================] - 0s 102us/sample - loss: -14.5628 - acc: 0.0000e+00 - val_loss: -16.1476 - val_acc: 0.0000e+00\n",
      "Epoch 498/500\n",
      "222/222 [==============================] - 0s 104us/sample - loss: -14.5671 - acc: 0.0000e+00 - val_loss: -16.1575 - val_acc: 0.0000e+00\n",
      "Epoch 499/500\n",
      "222/222 [==============================] - 0s 135us/sample - loss: -14.5787 - acc: 0.0000e+00 - val_loss: -16.1675 - val_acc: 0.0000e+00\n",
      "Epoch 500/500\n",
      "222/222 [==============================] - 0s 107us/sample - loss: -14.5870 - acc: 0.0000e+00 - val_loss: -16.1734 - val_acc: 0.0000e+00\n",
      "13.088534593582153\n"
     ]
    }
   ],
   "execution_count": 33
  },
  {
   "cell_type": "code",
   "metadata": {
    "id": "KNW9V8Ofi6sy",
    "ExecuteTime": {
     "end_time": "2025-03-28T12:27:12.056951Z",
     "start_time": "2025-03-28T12:27:12.040149Z"
    }
   },
   "source": [
    "# зауважте, що час виконання залежно від версії DirectML або типу обладнання може суттєво відрізнятися\n",
    "# також час виконання на першій ітерації під відеокартою зазвичай вищий, ніж на наступних"
   ],
   "outputs": [],
   "execution_count": 34
  },
  {
   "cell_type": "code",
   "metadata": {
    "id": "qIcf1PKQi6sy",
    "outputId": "14465e40-8dca-4d57-a030-5be2ba4573e7",
    "ExecuteTime": {
     "end_time": "2025-03-28T12:27:12.276912Z",
     "start_time": "2025-03-28T12:27:12.072990Z"
    }
   },
   "source": [
    "#Because latent space is two-dimensional, there are a few visualizations that can be done at this point.\n",
    "#One is to look at the neighborhoods of different classes on the latent 2D plane:\n",
    "colors = np.array(list(islice(cycle(['#377eb8', '#ff7f00', '#4daf4a',\n",
    "                                             '#f781bf', '#a65628', '#984ea3',\n",
    "                                             '#999999', '#e41a1c', '#dede00']), int(max(valid_y) + 1))))\n",
    "\n",
    "start_time = time.time()\n",
    "x_train_encoded = encoder.predict(train_x, batch_size=500)\n",
    "plt.figure(figsize=(6, 6))\n",
    "plt.scatter(x_train_encoded[:, 0], x_train_encoded[:, 1], c = colors[train_y])\n",
    "plt.colorbar()\n",
    "plt.show()\n",
    "\n",
    "x_test_encoded = encoder.predict(valid_x, batch_size=500)\n",
    "plt.figure(figsize=(6, 6))\n",
    "plt.scatter(x_test_encoded[:, 0], x_test_encoded[:, 1], c = colors[valid_y])\n",
    "plt.colorbar()\n",
    "plt.show()\n",
    "end_time = time.time()\n",
    "end_time-start_time"
   ],
   "outputs": [
    {
     "data": {
      "text/plain": [
       "<Figure size 600x600 with 2 Axes>"
      ],
      "image/png": "[encoded data removed]"
     },
     "metadata": {},
     "output_type": "display_data"
    },
    {
     "data": {
      "text/plain": [
       "<Figure size 600x600 with 2 Axes>"
      ],
      "image/png": "[encoded data removed]"
     },
     "metadata": {},
     "output_type": "display_data"
    },
    {
     "data": {
      "text/plain": [
       "0.19192099571228027"
      ]
     },
     "execution_count": 35,
     "metadata": {},
     "output_type": "execute_result"
    }
   ],
   "execution_count": 35
  },
  {
   "cell_type": "code",
   "metadata": {
    "id": "TQCFdOyli6sy",
    "outputId": "2ed78c02-a5ac-42b0-fcfa-eeeb86dd02ff",
    "ExecuteTime": {
     "end_time": "2025-03-28T12:27:12.323913Z",
     "start_time": "2025-03-28T12:27:12.309913Z"
    }
   },
   "source": [
    "start_time = time.time()\n",
    "train_x, valid_x, train_y, valid_y = model_selection.train_test_split(ab, y_pred)\n",
    "end_time = time.time()\n",
    "end_time-start_time"
   ],
   "outputs": [
    {
     "data": {
      "text/plain": [
       "0.0009999275207519531"
      ]
     },
     "execution_count": 36,
     "metadata": {},
     "output_type": "execute_result"
    }
   ],
   "execution_count": 36
  },
  {
   "cell_type": "code",
   "metadata": {
    "id": "8jMhMQ6oi6sz",
    "outputId": "e16331e0-bfc4-400b-80cc-36987b49b655",
    "ExecuteTime": {
     "end_time": "2025-03-28T12:27:59.930208Z",
     "start_time": "2025-03-28T12:27:59.915892Z"
    }
   },
   "source": [
    "from sklearn.datasets import make_classification\n",
    "from imblearn.over_sampling import RandomOverSampler\n",
    "start_time = time.time()\n",
    "ros = RandomOverSampler(random_state=0)\n",
    "X_resampled, y_resampled = ros.fit_resample(X_embedded, y_pred)\n",
    "end_time = time.time()\n",
    "end_time-start_time"
   ],
   "outputs": [
    {
     "data": {
      "text/plain": [
       "0.0010004043579101562"
      ]
     },
     "execution_count": 39,
     "metadata": {},
     "output_type": "execute_result"
    }
   ],
   "execution_count": 39
  },
  {
   "cell_type": "code",
   "metadata": {
    "id": "EodRtNS7i6sz",
    "ExecuteTime": {
     "end_time": "2025-03-28T12:27:59.945990Z",
     "start_time": "2025-03-28T12:27:59.935990Z"
    }
   },
   "source": [],
   "outputs": [],
   "execution_count": null
  },
  {
   "cell_type": "code",
   "metadata": {
    "id": "fPElk0uZi6sz",
    "outputId": "5b7ac599-226c-4874-ebb8-cfe838935976",
    "ExecuteTime": {
     "end_time": "2025-03-28T12:28:00.180829Z",
     "start_time": "2025-03-28T12:27:59.995619Z"
    }
   },
   "source": [
    "colors = np.array(list(islice(cycle(['#377eb8', '#ff7f00', '#4daf4a',\n",
    "                                             '#f781bf', '#a65628', '#984ea3',\n",
    "                                             '#999999', '#e41a1c', '#dede00']), int(max(y_pred) + 1))))\n",
    "\n",
    "plt.figure(figsize=(6, 6))\n",
    "plt.scatter(X_embedded[:, 0], X_embedded[:, 1], s=2, c=colors[y_pred])\n",
    "plt.colorbar()\n",
    "plt.show()\n",
    "\n",
    "plt.figure(figsize=(6, 6))\n",
    "plt.scatter(X_resampled[:, 0], X_resampled[:, 1], s=2, c=colors[y_resampled])\n",
    "plt.colorbar()\n",
    "plt.show()"
   ],
   "outputs": [
    {
     "data": {
      "text/plain": [
       "<Figure size 600x600 with 2 Axes>"
      ],
      "image/png": "[encoded data removed]"
     },
     "metadata": {},
     "output_type": "display_data"
    },
    {
     "data": {
      "text/plain": [
       "<Figure size 600x600 with 2 Axes>"
      ],
      "image/png": "[encoded data removed]"
     },
     "metadata": {},
     "output_type": "display_data"
    }
   ],
   "execution_count": 40
  },
  {
   "cell_type": "code",
   "metadata": {
    "id": "JlrB6Afli6sz",
    "ExecuteTime": {
     "end_time": "2025-03-28T12:28:00.196150Z",
     "start_time": "2025-03-28T12:28:00.191966Z"
    }
   },
   "source": [
    "train_x, valid_x, train_y, valid_y = model_selection.train_test_split(X_resampled, y_resampled)"
   ],
   "outputs": [],
   "execution_count": 41
  },
  {
   "cell_type": "code",
   "metadata": {
    "id": "bKYov9sdi6s5",
    "ExecuteTime": {
     "end_time": "2025-03-28T12:28:00.259580Z",
     "start_time": "2025-03-28T12:28:00.244661Z"
    }
   },
   "source": [
    "#X_resampled, y_resampled = ros.fit_resample(X_embedded, y_pred)"
   ],
   "outputs": [],
   "execution_count": 42
  },
  {
   "cell_type": "code",
   "metadata": {
    "id": "RkoTrBRki6s5",
    "outputId": "afbb9fdb-5eee-4285-aaca-6feca080335b",
    "ExecuteTime": {
     "end_time": "2025-03-28T12:28:00.291008Z",
     "start_time": "2025-03-28T12:28:00.263042Z"
    }
   },
   "source": [
    "from imblearn.over_sampling import SMOTE, ADASYN\n",
    "start_time = time.time()\n",
    "X_resampled2, y_resampled2 = SMOTE().fit_resample(X_embedded, y_pred)\n",
    "#print(sorted(Counter(y_resampled).items()))\n",
    "end_time = time.time()\n",
    "end_time-start_time"
   ],
   "outputs": [
    {
     "data": {
      "text/plain": [
       "0.013970136642456055"
      ]
     },
     "execution_count": 43,
     "metadata": {},
     "output_type": "execute_result"
    }
   ],
   "execution_count": 43
  },
  {
   "cell_type": "code",
   "metadata": {
    "id": "f_BY8Rt2i6s6",
    "outputId": "0a56b3ad-73ed-4906-bee3-2b58572dd54b",
    "ExecuteTime": {
     "end_time": "2025-03-28T12:28:00.337325Z",
     "start_time": "2025-03-28T12:28:00.322784Z"
    }
   },
   "source": [
    "start_time = time.time()\n",
    "clf_smote = LinearSVC().fit(X_resampled2, y_resampled2)\n",
    "end_time = time.time()\n",
    "end_time-start_time"
   ],
   "outputs": [
    {
     "name": "stderr",
     "output_type": "stream",
     "text": [
      "C:\\Users\\dan\\PycharmProjects\\univ\\4-year\\2-term\\gest_reg\\lab3\\.venv37\\lib\\site-packages\\sklearn\\svm\\_base.py:1208: ConvergenceWarning: Liblinear failed to converge, increase the number of iterations.\n",
      "  ConvergenceWarning,\n"
     ]
    },
    {
     "data": {
      "text/plain": [
       "0.008512258529663086"
      ]
     },
     "execution_count": 44,
     "metadata": {},
     "output_type": "execute_result"
    }
   ],
   "execution_count": 44
  },
  {
   "cell_type": "code",
   "metadata": {
    "id": "ERTu4xeIi6s6",
    "outputId": "c0a32a1a-69fa-4ce1-e8e1-abb706ad8f9a",
    "ExecuteTime": {
     "end_time": "2025-03-28T12:28:00.383687Z",
     "start_time": "2025-03-28T12:28:00.369305Z"
    }
   },
   "source": [
    "start_time = time.time()\n",
    "X_resampled3, y_resampled3 = ADASYN().fit_resample(X_embedded, y_pred)\n",
    "#print(sorted(Counter(y_resampled).items()))\n",
    "end_time = time.time()\n",
    "end_time-start_time"
   ],
   "outputs": [
    {
     "data": {
      "text/plain": [
       "0.004999399185180664"
      ]
     },
     "execution_count": 45,
     "metadata": {},
     "output_type": "execute_result"
    }
   ],
   "execution_count": 45
  },
  {
   "cell_type": "code",
   "metadata": {
    "id": "57u-cmW6i6s6",
    "outputId": "6a345c6a-3fd1-4c93-9ab5-9e5fba9f4f0d",
    "ExecuteTime": {
     "end_time": "2025-03-28T12:28:00.431786Z",
     "start_time": "2025-03-28T12:28:00.416787Z"
    }
   },
   "source": [
    "start_time = time.time()\n",
    "clf_adasyn = LinearSVC().fit(X_resampled3, y_resampled3)\n",
    "end_time = time.time()\n",
    "end_time-start_time"
   ],
   "outputs": [
    {
     "name": "stderr",
     "output_type": "stream",
     "text": [
      "C:\\Users\\dan\\PycharmProjects\\univ\\4-year\\2-term\\gest_reg\\lab3\\.venv37\\lib\\site-packages\\sklearn\\svm\\_base.py:1208: ConvergenceWarning: Liblinear failed to converge, increase the number of iterations.\n",
      "  ConvergenceWarning,\n"
     ]
    },
    {
     "data": {
      "text/plain": [
       "0.005998373031616211"
      ]
     },
     "execution_count": 46,
     "metadata": {},
     "output_type": "execute_result"
    }
   ],
   "execution_count": 46
  },
  {
   "cell_type": "code",
   "metadata": {
    "id": "H30Rk0G1i6s7",
    "outputId": "57251a5b-4fb2-4a96-e536-ed901ae2100c",
    "ExecuteTime": {
     "end_time": "2025-03-28T12:28:00.764013Z",
     "start_time": "2025-03-28T12:28:00.463734Z"
    }
   },
   "source": [
    "plt.figure(figsize=(6, 6))\n",
    "plt.scatter(X_resampled[:, 0], X_resampled[:, 1], s=2, c=colors[y_resampled])\n",
    "plt.colorbar()\n",
    "plt.show()\n",
    "\n",
    "plt.figure(figsize=(6, 6))\n",
    "plt.scatter(X_resampled2[:, 0], X_resampled2[:, 1], s=2, c=colors[y_resampled2])\n",
    "plt.colorbar()\n",
    "plt.show()\n",
    "\n",
    "plt.figure(figsize=(6, 6))\n",
    "plt.scatter(X_resampled3[:, 0], X_resampled3[:, 1], s=2, c=colors[y_resampled3])\n",
    "plt.colorbar()\n",
    "plt.show()"
   ],
   "outputs": [
    {
     "data": {
      "text/plain": [
       "<Figure size 600x600 with 2 Axes>"
      ],
      "image/png": "[encoded data removed]"
     },
     "metadata": {},
     "output_type": "display_data"
    },
    {
     "data": {
      "text/plain": [
       "<Figure size 600x600 with 2 Axes>"
      ],
      "image/png": "[encoded data removed]"
     },
     "metadata": {},
     "output_type": "display_data"
    },
    {
     "data": {
      "text/plain": [
       "<Figure size 600x600 with 2 Axes>"
      ],
      "image/png": "[encoded data removed]"
     },
     "metadata": {},
     "output_type": "display_data"
    }
   ],
   "execution_count": 47
  },
  {
   "cell_type": "code",
   "metadata": {
    "id": "PdA165ORi6s7",
    "ExecuteTime": {
     "end_time": "2025-03-28T12:28:00.811064Z",
     "start_time": "2025-03-28T12:28:00.797057Z"
    }
   },
   "source": [
    "# stops here"
   ],
   "outputs": [],
   "execution_count": 48
  }
 ],
 "metadata": {
  "kernelspec": {
   "display_name": "Python 3 (ipykernel)",
   "language": "python",
   "name": "python3"
  },
  "language_info": {
   "codemirror_mode": {
    "name": "ipython",
    "version": 3
   },
   "file_extension": ".py",
   "mimetype": "text/x-python",
   "name": "python",
   "nbconvert_exporter": "python",
   "pygments_lexer": "ipython3",
   "version": "3.9.18"
  },
  "varInspector": {
   "cols": {
    "lenName": 16,
    "lenType": 16,
    "lenVar": 40
   },
   "kernels_config": {
    "python": {
     "delete_cmd_postfix": "",
     "delete_cmd_prefix": "del ",
     "library": "var_list.py",
     "varRefreshCmd": "print(var_dic_list())"
    },
    "r": {
     "delete_cmd_postfix": ") ",
     "delete_cmd_prefix": "rm(",
     "library": "var_list.r",
     "varRefreshCmd": "cat(var_dic_list()) "
    }
   },
   "types_to_exclude": [
    "module",
    "function",
    "builtin_function_or_method",
    "instance",
    "_Feature"
   ],
   "window_display": false
  },
  "colab": {
   "provenance": []
  }
 },
 "nbformat": 4,
 "nbformat_minor": 0
}
