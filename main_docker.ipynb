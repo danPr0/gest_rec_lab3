{
 "cells": [
  {
   "cell_type": "code",
   "execution_count": 1,
   "metadata": {
    "ExecuteTime": {
     "end_time": "2025-03-27T23:47:01.821156Z",
     "start_time": "2025-03-27T23:47:01.805023Z"
    },
    "id": "OVAdgMoRi6si"
   },
   "outputs": [],
   "source": [
    "################################################\n",
    "### using filtered data"
   ]
  },
  {
   "cell_type": "code",
   "execution_count": 2,
   "metadata": {
    "ExecuteTime": {
     "end_time": "2025-03-27T23:47:01.883652Z",
     "start_time": "2025-03-27T23:47:01.854652Z"
    },
    "colab": {
     "base_uri": "https://localhost:8080/",
     "height": 180
    },
    "id": "LyUj_oZqi6sm",
    "outputId": "92d21141-5656-41fb-9045-025062590251"
   },
   "outputs": [],
   "source": [
    "import pickle\n",
    "with open('shaped.pickle', 'rb') as f:\n",
    "    ab = pickle.load(f)"
   ]
  },
  {
   "cell_type": "code",
   "execution_count": 3,
   "metadata": {
    "ExecuteTime": {
     "end_time": "2025-03-27T23:47:01.899666Z",
     "start_time": "2025-03-27T23:47:01.888653Z"
    },
    "id": "slx70xjxi6sn",
    "outputId": "effd2e2d-4c8c-4732-8fb2-0644657badf3"
   },
   "outputs": [
    {
     "data": {
      "text/plain": [
       "(297, 1200)"
      ]
     },
     "execution_count": 3,
     "metadata": {},
     "output_type": "execute_result"
    }
   ],
   "source": [
    "ab.shape"
   ]
  },
  {
   "cell_type": "code",
   "execution_count": 4,
   "metadata": {
    "ExecuteTime": {
     "end_time": "2025-03-27T23:47:01.947285Z",
     "start_time": "2025-03-27T23:47:01.932406Z"
    },
    "id": "VCrarOqZi6so"
   },
   "outputs": [
    {
     "name": "stderr",
     "output_type": "stream",
     "text": [
      "2025-03-28 10:25:05.199987: I tensorflow/core/util/port.cc:153] oneDNN custom operations are on. You may see slightly different numerical results due to floating-point round-off errors from different computation orders. To turn them off, set the environment variable `TF_ENABLE_ONEDNN_OPTS=0`.\n",
      "2025-03-28 10:25:05.226308: I tensorflow/core/platform/cpu_feature_guard.cc:210] This TensorFlow binary is optimized to use available CPU instructions in performance-critical operations.\n",
      "To enable the following instructions: AVX2 AVX_VNNI FMA, in other operations, rebuild TensorFlow with the appropriate compiler flags.\n",
      "2025-03-28 10:25:06.071882: I tensorflow/core/util/port.cc:153] oneDNN custom operations are on. You may see slightly different numerical results due to floating-point round-off errors from different computation orders. To turn them off, set the environment variable `TF_ENABLE_ONEDNN_OPTS=0`.\n"
     ]
    }
   ],
   "source": [
    "from sklearn import model_selection, preprocessing, linear_model, naive_bayes, metrics, svm\n",
    "#from sklearn.feature_extraction.text import TfidfVectorizer, CountVectorizer\n",
    "from sklearn import decomposition, ensemble\n",
    "\n",
    "import numpy #,  string #pandas, xgboost, textblob,\n",
    "#from tensorflow.keras.preprocessing import text, sequence\n",
    "from tensorflow.keras import layers, models, optimizers"
   ]
  },
  {
   "cell_type": "code",
   "execution_count": 5,
   "metadata": {
    "ExecuteTime": {
     "end_time": "2025-03-27T23:47:01.979277Z",
     "start_time": "2025-03-27T23:47:01.964276Z"
    },
    "id": "FINs3Y7pi6sp",
    "outputId": "6df54803-7f4e-43a1-d9a8-52a930a2eed1"
   },
   "outputs": [
    {
     "data": {
      "text/plain": [
       "'2.19.0'"
      ]
     },
     "execution_count": 5,
     "metadata": {},
     "output_type": "execute_result"
    }
   ],
   "source": [
    "import tensorflow as tf\n",
    "tf. __version__"
   ]
  },
  {
   "cell_type": "code",
   "execution_count": 6,
   "metadata": {
    "ExecuteTime": {
     "end_time": "2025-03-27T23:47:02.026581Z",
     "start_time": "2025-03-27T23:47:02.011611Z"
    }
   },
   "outputs": [
    {
     "data": {
      "text/plain": [
       "[name: \"/device:CPU:0\"\n",
       " device_type: \"CPU\"\n",
       " memory_limit: 268435456\n",
       " locality {\n",
       " }\n",
       " incarnation: 18392237367678807494\n",
       " xla_global_id: -1]"
      ]
     },
     "execution_count": 6,
     "metadata": {},
     "output_type": "execute_result"
    }
   ],
   "source": [
    "from tensorflow.python.client import device_lib\n",
    "device_lib.list_local_devices()"
   ]
  },
  {
   "cell_type": "code",
   "execution_count": 7,
   "metadata": {
    "ExecuteTime": {
     "end_time": "2025-03-27T23:47:02.058589Z",
     "start_time": "2025-03-27T23:47:02.043590Z"
    },
    "id": "knzBAADPi6sp"
   },
   "outputs": [],
   "source": [
    "# Define models:\n",
    "\n",
    "def train_model(classifier, feature_vector_train, label, feature_vector_valid, is_neural_net=False):\n",
    "    # fit the training dataset on the classifier\n",
    "    classifier.fit(feature_vector_train, label)\n",
    "\n",
    "    # predict the labels on validation dataset\n",
    "    predictions = classifier.predict(feature_vector_valid)\n",
    "\n",
    "    if is_neural_net:\n",
    "        predictions = predictions.argmax(axis=-1)\n",
    "\n",
    "    return metrics.accuracy_score(predictions, valid_y)\n",
    "\n",
    "def train_model2(classifier, feature_vector_train, label, feature_vector_valid, valid_Y, is_neural_net=False):\n",
    "    # fit the training dataset on the classifier\n",
    "    classifier.fit(feature_vector_train, label)\n",
    "\n",
    "    # predict the labels on validation dataset\n",
    "    predictions = classifier.predict(feature_vector_valid)\n",
    "\n",
    "    if is_neural_net:\n",
    "        predictions = predictions.argmax(axis=-1)\n",
    "\n",
    "    return metrics.accuracy_score(predictions, valid_Y)"
   ]
  },
  {
   "cell_type": "code",
   "execution_count": 8,
   "metadata": {
    "ExecuteTime": {
     "end_time": "2025-03-27T23:47:02.090590Z",
     "start_time": "2025-03-27T23:47:02.075578Z"
    },
    "id": "yAfQ7puBi6sq"
   },
   "outputs": [],
   "source": [
    "from sklearn.decomposition import PCA\n",
    "from sklearn.decomposition import TruncatedSVD\n",
    "import numpy as np\n",
    "from scipy.sparse import csr_matrix\n",
    "\n",
    "from sklearn.manifold import TSNE\n",
    "from sklearn.cluster import KMeans\n",
    "import time\n",
    "import warnings\n",
    "\n",
    "import matplotlib.pyplot as plt\n",
    "\n",
    "from sklearn import cluster, datasets, mixture\n",
    "from sklearn.neighbors import kneighbors_graph\n",
    "from sklearn.preprocessing import StandardScaler\n",
    "from itertools import cycle, islice\n",
    "\n",
    "import scipy"
   ]
  },
  {
   "cell_type": "code",
   "execution_count": 9,
   "metadata": {
    "ExecuteTime": {
     "end_time": "2025-03-27T23:47:02.122058Z",
     "start_time": "2025-03-27T23:47:02.107589Z"
    },
    "id": "GwncsoKci6sr"
   },
   "outputs": [],
   "source": [
    "y_ = np.ones(len(ab))"
   ]
  },
  {
   "cell_type": "code",
   "execution_count": 10,
   "metadata": {
    "ExecuteTime": {
     "end_time": "2025-03-27T23:47:02.185669Z",
     "start_time": "2025-03-27T23:47:02.155669Z"
    },
    "id": "BaSBlmubi6sr",
    "outputId": "462283e9-8d9b-4dbf-e223-102fa6f22433"
   },
   "outputs": [
    {
     "data": {
      "text/plain": [
       "0.29817771911621094"
      ]
     },
     "execution_count": 10,
     "metadata": {},
     "output_type": "execute_result"
    }
   ],
   "source": [
    "start_time = time.time()\n",
    "#a = np.reshape(np.array(tempvar),(297*20,60))\n",
    "\n",
    "#base parameters\n",
    "default_base = {'quantile': .3,\n",
    "                'eps': .3,\n",
    "                'damping': .9,\n",
    "                'preference': -200,\n",
    "                'n_neighbors': 10, #maybe more\n",
    "                'n_clusters': 4, #3 is actual number\n",
    "                'min_samples': 20,\n",
    "                'xi': 0.05,\n",
    "                'min_cluster_size': 0.1}\n",
    "\n",
    "params = default_base.copy()\n",
    "\n",
    "pca = TruncatedSVD(n_components=10)\n",
    "pca.fit(ab)\n",
    "#csr_matrix(\n",
    "transformed_ = pca.transform(ab)\n",
    "end_time = time.time()\n",
    "end_time-start_time"
   ]
  },
  {
   "cell_type": "code",
   "execution_count": 11,
   "metadata": {
    "ExecuteTime": {
     "end_time": "2025-03-27T23:47:02.233458Z",
     "start_time": "2025-03-27T23:47:02.219887Z"
    },
    "id": "GvJ3CMz1i6ss"
   },
   "outputs": [],
   "source": [
    "#X_embedded2 = X_embedded"
   ]
  },
  {
   "cell_type": "code",
   "execution_count": 12,
   "metadata": {
    "ExecuteTime": {
     "end_time": "2025-03-27T23:47:02.264453Z",
     "start_time": "2025-03-27T23:47:02.251450Z"
    },
    "id": "ti2G5fm3i6ss"
   },
   "outputs": [],
   "source": [
    "#X_embedded = transformed_"
   ]
  },
  {
   "cell_type": "code",
   "execution_count": 13,
   "metadata": {
    "ExecuteTime": {
     "end_time": "2025-03-27T23:47:02.311754Z",
     "start_time": "2025-03-27T23:47:02.298443Z"
    },
    "id": "rPIffDu_i6ss",
    "outputId": "4a19a5eb-49c5-4a62-94a8-794bbb1f2d90"
   },
   "outputs": [
    {
     "name": "stdout",
     "output_type": "stream",
     "text": [
      "(297, 10)\n"
     ]
    },
    {
     "data": {
      "text/plain": [
       "0.00010752677917480469"
      ]
     },
     "execution_count": 13,
     "metadata": {},
     "output_type": "execute_result"
    }
   ],
   "source": [
    "start_time = time.time()\n",
    "#X_embedded = TSNE(n_components=2).fit_transform(transformed_)\n",
    "X_embedded = transformed_\n",
    "print(X_embedded.shape)\n",
    "end_time = time.time()\n",
    "end_time-start_time"
   ]
  },
  {
   "cell_type": "code",
   "execution_count": 14,
   "metadata": {
    "ExecuteTime": {
     "end_time": "2025-03-27T23:47:02.359361Z",
     "start_time": "2025-03-27T23:47:02.345309Z"
    },
    "id": "lXmggtVdi6st"
   },
   "outputs": [],
   "source": [
    "# ============\n",
    "# Create cluster objects\n",
    "# ============\n",
    "\n",
    "\n",
    "\n",
    "two_means = cluster.MiniBatchKMeans(n_clusters=params['n_clusters'])\n",
    "\n",
    "clustering_algorithms = (\n",
    "        ('MBatchKMeans', two_means),\n",
    ")\n",
    "\n",
    "plot_num = 1"
   ]
  },
  {
   "cell_type": "code",
   "execution_count": 15,
   "metadata": {
    "ExecuteTime": {
     "end_time": "2025-03-27T23:47:02.609728Z",
     "start_time": "2025-03-27T23:47:02.407364Z"
    },
    "id": "i0CkOfswi6st",
    "outputId": "2ffb337e-70e2-4837-a493-8f2a10ff8ba2",
    "scrolled": true
   },
   "outputs": [
    {
     "data": {
      "text/plain": [
       "0.11222267150878906"
      ]
     },
     "execution_count": 15,
     "metadata": {},
     "output_type": "execute_result"
    },
    {
     "data": {
      "image/png": "[encoded data removed]",
      "text/plain": [
       "<Figure size 640x480 with 1 Axes>"
      ]
     },
     "metadata": {},
     "output_type": "display_data"
    }
   ],
   "source": [
    "for name, algorithm in clustering_algorithms:\n",
    "\n",
    "        t0 = time.time()\n",
    "\n",
    "        # catch warnings related to kneighbors_graph\n",
    "        with warnings.catch_warnings():\n",
    "            warnings.filterwarnings(\n",
    "                \"ignore\",\n",
    "                message=\"the number of connected components of the \" +\n",
    "                \"connectivity matrix is [0-9]{1,2}\" +\n",
    "                \" > 1. Completing it to avoid stopping the tree early.\",\n",
    "                category=UserWarning)\n",
    "            warnings.filterwarnings(\n",
    "                \"ignore\",\n",
    "                message=\"Graph is not fully connected, spectral embedding\" +\n",
    "                \" may not work as expected.\",\n",
    "                category=UserWarning)\n",
    "            algorithm.fit(X_embedded)\n",
    "\n",
    "\n",
    "\n",
    "        t1 = time.time()\n",
    "\n",
    "        if hasattr(algorithm, 'labels_'):\n",
    "            y_pred = algorithm.labels_.astype(int)\n",
    "        else:\n",
    "            y_pred = algorithm.predict(X_embedded)\n",
    "\n",
    "        plt.subplot(1, len(clustering_algorithms), plot_num)\n",
    "\n",
    "        colors = np.array(list(islice(cycle(['#377eb8', '#ff7f00', '#4daf4a',\n",
    "                                             '#f781bf', '#a65628', '#984ea3',\n",
    "                                             '#999999', '#e41a1c', '#dede00']),\n",
    "                                      int(max(y_pred) + 1))))\n",
    "        # add black color for outliers (if any)\n",
    "        colors = np.append(colors, [\"#000000\"])\n",
    "\n",
    "\n",
    "        plt.scatter(X_embedded[:, 0], X_embedded[:, 1], s=2, color=colors[y_pred])\n",
    "\n",
    "        plt.xlim(-2.5, 2.5)\n",
    "        plt.ylim(-2.5, 2.5)\n",
    "        plt.xticks(())\n",
    "        plt.yticks(())\n",
    "\n",
    "        plot_num += 1\n",
    "\n",
    "        # stop, plot only one image\n",
    "        break\n",
    "\n",
    "#plt.show()\n",
    "t1-t0"
   ]
  },
  {
   "cell_type": "code",
   "execution_count": 16,
   "metadata": {
    "ExecuteTime": {
     "end_time": "2025-03-27T23:47:02.736034Z",
     "start_time": "2025-03-27T23:47:02.623731Z"
    },
    "id": "I7Owfj0Qi6st",
    "outputId": "dad0c58e-0c4e-4a5d-82e8-07558917d572"
   },
   "outputs": [
    {
     "data": {
      "image/png": "[encoded data removed]",
      "text/plain": [
       "<Figure size 600x600 with 2 Axes>"
      ]
     },
     "metadata": {},
     "output_type": "display_data"
    }
   ],
   "source": [
    "colors = np.array(list(islice(cycle(['#377eb8', '#ff7f00', '#4daf4a',\n",
    "                                             '#f781bf', '#a65628', '#984ea3',\n",
    "                                             '#999999', '#e41a1c', '#dede00']), int(max(y_pred) + 1))))\n",
    "\n",
    "plt.figure(figsize=(6, 6))\n",
    "plt.scatter(X_embedded[:, 0], X_embedded[:, 1], s=2, c=colors[y_pred])\n",
    "plt.colorbar()\n",
    "plt.show()"
   ]
  },
  {
   "cell_type": "code",
   "execution_count": 17,
   "metadata": {
    "ExecuteTime": {
     "end_time": "2025-03-27T23:47:02.767980Z",
     "start_time": "2025-03-27T23:47:02.753023Z"
    },
    "id": "SnBb2R2mi6su",
    "outputId": "629e3b95-1da5-41e9-ddd1-f46f17effecb"
   },
   "outputs": [
    {
     "data": {
      "text/plain": [
       "(297,)"
      ]
     },
     "execution_count": 17,
     "metadata": {},
     "output_type": "execute_result"
    }
   ],
   "source": [
    "y_pred.shape"
   ]
  },
  {
   "cell_type": "code",
   "execution_count": 18,
   "metadata": {
    "ExecuteTime": {
     "end_time": "2025-03-27T23:47:02.814749Z",
     "start_time": "2025-03-27T23:47:02.800727Z"
    },
    "id": "xa46Vk3Ui6su"
   },
   "outputs": [],
   "source": [
    "#optional classifiers to choose\n",
    "from sklearn.naive_bayes import MultinomialNB\n",
    "from sklearn.linear_model import LogisticRegression\n",
    "from sklearn.ensemble import RandomForestClassifier\n",
    "from sklearn.svm import LinearSVC\n",
    "from sklearn.neural_network import MLPClassifier\n",
    "from sklearn.neighbors import KNeighborsClassifier\n",
    "from sklearn.svm import SVC\n",
    "from sklearn.gaussian_process import GaussianProcessClassifier\n",
    "from sklearn.gaussian_process.kernels import RBF\n",
    "from sklearn.tree import DecisionTreeClassifier\n",
    "from sklearn.ensemble import RandomForestClassifier, AdaBoostClassifier\n",
    "from sklearn.naive_bayes import GaussianNB\n",
    "from sklearn.discriminant_analysis import QuadraticDiscriminantAnalysis\n",
    "from sklearn.model_selection import cross_val_score\n",
    "import matplotlib.pyplot as plt\n",
    "#import seaborn as sns"
   ]
  },
  {
   "cell_type": "code",
   "execution_count": 19,
   "metadata": {
    "ExecuteTime": {
     "end_time": "2025-03-27T23:47:02.861276Z",
     "start_time": "2025-03-27T23:47:02.847261Z"
    },
    "id": "VgQKR2tPi6su"
   },
   "outputs": [],
   "source": [
    "# ab (297x1200)!"
   ]
  },
  {
   "cell_type": "code",
   "execution_count": 56,
   "metadata": {
    "ExecuteTime": {
     "end_time": "2025-03-27T23:49:57.865277Z",
     "start_time": "2025-03-27T23:49:37.384385Z"
    },
    "id": "lI2HsX6ri6su",
    "outputId": "fe9a4105-d34a-4477-adaf-467738fa4563"
   },
   "outputs": [
    {
     "data": {
      "text/plain": [
       "0.0005762577056884766"
      ]
     },
     "execution_count": 56,
     "metadata": {},
     "output_type": "execute_result"
    }
   ],
   "source": [
    "start_time = time.time()\n",
    "train_x, valid_x, train_y, valid_y = model_selection.train_test_split(X_embedded, y_pred)\n",
    "end_time = time.time()\n",
    "end_time-start_time"
   ]
  },
  {
   "cell_type": "code",
   "execution_count": 21,
   "metadata": {
    "ExecuteTime": {
     "end_time": "2025-03-27T23:47:02.940431Z",
     "start_time": "2025-03-27T23:47:02.926893Z"
    },
    "id": "-VE5h4XSi6sv"
   },
   "outputs": [],
   "source": [
    "import numpy as np\n",
    "#import pandas as pd\n",
    "import os\n",
    "\n",
    "import tensorflow as tf\n",
    "#import tensorflow_addons as tfa #none\n",
    "from tensorflow.keras import layers\n",
    "\n",
    "import matplotlib.pyplot as plt\n",
    "from IPython import display\n",
    "from IPython.display import clear_output\n",
    "\n",
    "import glob\n",
    "#import imageio\n",
    "import time\n",
    "import IPython.display as ipd\n",
    "\n",
    "#AUTOTUNE = tf.data.experimental.AUTOTUNE"
   ]
  },
  {
   "cell_type": "code",
   "execution_count": 22,
   "metadata": {
    "ExecuteTime": {
     "end_time": "2025-03-27T23:47:02.987433Z",
     "start_time": "2025-03-27T23:47:02.973415Z"
    },
    "id": "XalkKf_6i6sv"
   },
   "outputs": [],
   "source": [
    "# Shallow Neural Networks\n",
    "# model nx100xn\n",
    "\n",
    "import numpy as np\n",
    "import scipy.sparse\n",
    "import tensorflow as tf\n",
    "\n",
    "import tensorflow.keras\n",
    "from tensorflow.keras import layers\n",
    "from tensorflow.keras import regularizers"
   ]
  },
  {
   "cell_type": "code",
   "execution_count": 23,
   "metadata": {
    "ExecuteTime": {
     "end_time": "2025-03-27T23:47:03.035030Z",
     "start_time": "2025-03-27T23:47:03.021441Z"
    },
    "id": "9nCoLZd7i6sv"
   },
   "outputs": [],
   "source": [
    "import tensorflow.keras as keras\n",
    "from tensorflow.keras import backend as K"
   ]
  },
  {
   "cell_type": "code",
   "execution_count": 24,
   "metadata": {
    "ExecuteTime": {
     "end_time": "2025-03-27T23:47:03.082520Z",
     "start_time": "2025-03-27T23:47:03.067503Z"
    },
    "id": "M9H0QwSvi6sv"
   },
   "outputs": [],
   "source": [
    "from tensorflow.keras.layers import Input, Dense, Flatten, Reshape\n",
    "from tensorflow.keras.models import Model"
   ]
  },
  {
   "cell_type": "code",
   "execution_count": 25,
   "metadata": {
    "ExecuteTime": {
     "end_time": "2025-03-27T23:47:03.128759Z",
     "start_time": "2025-03-27T23:47:03.114753Z"
    },
    "id": "wsHtvAYji6sv"
   },
   "outputs": [],
   "source": [
    "def create_dense_ae():\n",
    "    # Розмірність кодованого простору\n",
    "    hidden_dim = 60\n",
    "    encoding_dim = 2\n",
    "\n",
    "    # Кодувальник\n",
    "    input = Input(shape=(10*1, )) # 10*1,  - розмірність вхідного шару\n",
    "    # Додатковий шар для кодування вхідного представлення\n",
    "    flat = Flatten()(input)\n",
    "\n",
    "    hidden = Dense(hidden_dim, activation='relu')(flat)\n",
    "    hidden2 = Dense(hidden_dim, activation='relu')(hidden)\n",
    "    # Приховане подання кодувальника\n",
    "    encoded = Dense(encoding_dim, activation='relu')(hidden2)\n",
    "\n",
    "    # Декодувальник\n",
    "    # Аналогічним чином, але послідовність шарів протилежна кодувальнику\n",
    "    input_encoded = Input(shape=(encoding_dim,))\n",
    "    hidden_encoded = Dense(hidden_dim, activation='sigmoid')(input_encoded)\n",
    "    hidden_encoded2 = Dense(hidden_dim, activation='sigmoid')(hidden_encoded)\n",
    "\n",
    "    flat_decoded = Dense(10*1, activation='sigmoid')(hidden_encoded2)\n",
    "    decoded = Reshape((10*1, ))(flat_decoded)\n",
    "\n",
    "    # Таким чином можна подати окремо модель як для кодувальника так і декодувальника\n",
    "    # Або подавати шари окермо\n",
    "    encoder = Model(input, encoded, name=\"encoder\")\n",
    "    decoder = Model(input_encoded, decoded, name=\"decoder\")\n",
    "    autoencoder = Model(input, decoder(encoder(input)), name=\"autoencoder\")\n",
    "    return encoder, decoder, autoencoder"
   ]
  },
  {
   "cell_type": "code",
   "execution_count": 26,
   "metadata": {
    "ExecuteTime": {
     "end_time": "2025-03-27T23:47:03.175276Z",
     "start_time": "2025-03-27T23:47:03.162250Z"
    },
    "id": "HPKG2myHi6sw"
   },
   "outputs": [],
   "source": [
    "# перелік наявних пристроїв (у випадку TF-DML)"
   ]
  },
  {
   "cell_type": "code",
   "execution_count": 27,
   "metadata": {
    "ExecuteTime": {
     "end_time": "2025-03-27T23:47:03.222764Z",
     "start_time": "2025-03-27T23:47:03.208273Z"
    },
    "id": "saf7akn4i6sw",
    "outputId": "320c7392-f94f-4ea6-b1a6-ac7aa107fe8b"
   },
   "outputs": [
    {
     "data": {
      "text/plain": [
       "[name: \"/device:CPU:0\"\n",
       " device_type: \"CPU\"\n",
       " memory_limit: 268435456\n",
       " locality {\n",
       " }\n",
       " incarnation: 12567270667353793170\n",
       " xla_global_id: -1]"
      ]
     },
     "execution_count": 27,
     "metadata": {},
     "output_type": "execute_result"
    }
   ],
   "source": [
    "from tensorflow.python.client import device_lib\n",
    "device_lib.list_local_devices()"
   ]
  },
  {
   "cell_type": "code",
   "execution_count": 28,
   "metadata": {
    "ExecuteTime": {
     "end_time": "2025-03-27T23:47:03.362552Z",
     "start_time": "2025-03-27T23:47:03.254955Z"
    },
    "id": "hkWK0oU2i6sw"
   },
   "outputs": [],
   "source": [
    "with tf.device(\"/device:CPU:0\"): # /device:DML:0 для версії 1.15\n",
    "    encoder, decoder, autoencoder = create_dense_ae()\n",
    "    autoencoder.compile(optimizer='adam', loss='binary_crossentropy', metrics=[\"accuracy\"])"
   ]
  },
  {
   "cell_type": "code",
   "execution_count": 29,
   "metadata": {
    "ExecuteTime": {
     "end_time": "2025-03-27T23:47:03.408299Z",
     "start_time": "2025-03-27T23:47:03.395852Z"
    },
    "id": "UAcbw9_gi6sx"
   },
   "outputs": [],
   "source": [
    "# якщо все гаразд, у консолі Conda має бути подібний текст:\n",
    "# tensorflow/c/logging.cc:34] DirectML: creating device on adapter 0 (___ім'я вашої відеокарти___)\n",
    "# tensorflow/c/logging.cc:34] Successfully opened dynamic library Kernel32.dll\n",
    "# tensorflow/core/common_runtime/pluggable_device/pluggable_device_factory.cc:272]\n",
    "# Created TensorFlow device (/job:localhost/replica:0/task:0/device:GPU:0 with XXXX MB memory) -> physical PluggableDevice (device: 0, name: DML, pci bus id: <undefined>)\n",
    "\n",
    "# зазвичай обсяг пам'яті може бути вищим через віртуальну пам'ять системи, наприклад 8192 замість 4096 МB, якщо відеокарта на 4096 MB"
   ]
  },
  {
   "cell_type": "code",
   "execution_count": 30,
   "metadata": {
    "ExecuteTime": {
     "end_time": "2025-03-27T23:47:03.454728Z",
     "start_time": "2025-03-27T23:47:03.440720Z"
    },
    "id": "gJN7vhp2i6sx"
   },
   "outputs": [],
   "source": [
    "# якщо немає відеокарти як такої (наприклад, якщо є процесор з ARM архітектурою без виділеного відеоядра), можливо написати і так:"
   ]
  },
  {
   "cell_type": "code",
   "execution_count": 31,
   "metadata": {
    "ExecuteTime": {
     "end_time": "2025-03-27T23:47:03.501984Z",
     "start_time": "2025-03-27T23:47:03.487969Z"
    },
    "id": "E6tOBZiBi6sx"
   },
   "outputs": [],
   "source": [
    "#with tf.device(\"/device:CPU:0\"):\n",
    "#    encoder, decoder, autoencoder = create_dense_ae()\n",
    "#    autoencoder.compile(optimizer='adam', loss='binary_crossentropy', metrics=[\"accuracy\"])"
   ]
  },
  {
   "cell_type": "code",
   "execution_count": 32,
   "metadata": {
    "ExecuteTime": {
     "end_time": "2025-03-27T23:47:03.549497Z",
     "start_time": "2025-03-27T23:47:03.535517Z"
    },
    "id": "dG2g1TKoi6sx",
    "outputId": "a79e9e94-42d6-4863-e6c8-09639412fb68"
   },
   "outputs": [
    {
     "data": {
      "text/html": [
       "<pre style=\"white-space:pre;overflow-x:auto;line-height:normal;font-family:Menlo,'DejaVu Sans Mono',consolas,'Courier New',monospace\"><span style=\"font-weight: bold\">Model: \"autoencoder\"</span>\n",
       "</pre>\n"
      ],
      "text/plain": [
       "\u001b[1mModel: \"autoencoder\"\u001b[0m\n"
      ]
     },
     "metadata": {},
     "output_type": "display_data"
    },
    {
     "data": {
      "text/html": [
       "<pre style=\"white-space:pre;overflow-x:auto;line-height:normal;font-family:Menlo,'DejaVu Sans Mono',consolas,'Courier New',monospace\">┏━━━━━━━━━━━━━━━━━━━━━━━━━━━━━━━━━┳━━━━━━━━━━━━━━━━━━━━━━━━┳━━━━━━━━━━━━━━━┓\n",
       "┃<span style=\"font-weight: bold\"> Layer (type)                    </span>┃<span style=\"font-weight: bold\"> Output Shape           </span>┃<span style=\"font-weight: bold\">       Param # </span>┃\n",
       "┡━━━━━━━━━━━━━━━━━━━━━━━━━━━━━━━━━╇━━━━━━━━━━━━━━━━━━━━━━━━╇━━━━━━━━━━━━━━━┩\n",
       "│ input_layer (<span style=\"color: #0087ff; text-decoration-color: #0087ff\">InputLayer</span>)        │ (<span style=\"color: #00d7ff; text-decoration-color: #00d7ff\">None</span>, <span style=\"color: #00af00; text-decoration-color: #00af00\">10</span>)             │             <span style=\"color: #00af00; text-decoration-color: #00af00\">0</span> │\n",
       "├─────────────────────────────────┼────────────────────────┼───────────────┤\n",
       "│ encoder (<span style=\"color: #0087ff; text-decoration-color: #0087ff\">Functional</span>)            │ (<span style=\"color: #00d7ff; text-decoration-color: #00d7ff\">None</span>, <span style=\"color: #00af00; text-decoration-color: #00af00\">2</span>)              │         <span style=\"color: #00af00; text-decoration-color: #00af00\">4,442</span> │\n",
       "├─────────────────────────────────┼────────────────────────┼───────────────┤\n",
       "│ decoder (<span style=\"color: #0087ff; text-decoration-color: #0087ff\">Functional</span>)            │ (<span style=\"color: #00d7ff; text-decoration-color: #00d7ff\">None</span>, <span style=\"color: #00af00; text-decoration-color: #00af00\">10</span>)             │         <span style=\"color: #00af00; text-decoration-color: #00af00\">4,450</span> │\n",
       "└─────────────────────────────────┴────────────────────────┴───────────────┘\n",
       "</pre>\n"
      ],
      "text/plain": [
       "┏━━━━━━━━━━━━━━━━━━━━━━━━━━━━━━━━━┳━━━━━━━━━━━━━━━━━━━━━━━━┳━━━━━━━━━━━━━━━┓\n",
       "┃\u001b[1m \u001b[0m\u001b[1mLayer (type)                   \u001b[0m\u001b[1m \u001b[0m┃\u001b[1m \u001b[0m\u001b[1mOutput Shape          \u001b[0m\u001b[1m \u001b[0m┃\u001b[1m \u001b[0m\u001b[1m      Param #\u001b[0m\u001b[1m \u001b[0m┃\n",
       "┡━━━━━━━━━━━━━━━━━━━━━━━━━━━━━━━━━╇━━━━━━━━━━━━━━━━━━━━━━━━╇━━━━━━━━━━━━━━━┩\n",
       "│ input_layer (\u001b[38;5;33mInputLayer\u001b[0m)        │ (\u001b[38;5;45mNone\u001b[0m, \u001b[38;5;34m10\u001b[0m)             │             \u001b[38;5;34m0\u001b[0m │\n",
       "├─────────────────────────────────┼────────────────────────┼───────────────┤\n",
       "│ encoder (\u001b[38;5;33mFunctional\u001b[0m)            │ (\u001b[38;5;45mNone\u001b[0m, \u001b[38;5;34m2\u001b[0m)              │         \u001b[38;5;34m4,442\u001b[0m │\n",
       "├─────────────────────────────────┼────────────────────────┼───────────────┤\n",
       "│ decoder (\u001b[38;5;33mFunctional\u001b[0m)            │ (\u001b[38;5;45mNone\u001b[0m, \u001b[38;5;34m10\u001b[0m)             │         \u001b[38;5;34m4,450\u001b[0m │\n",
       "└─────────────────────────────────┴────────────────────────┴───────────────┘\n"
      ]
     },
     "metadata": {},
     "output_type": "display_data"
    },
    {
     "data": {
      "text/html": [
       "<pre style=\"white-space:pre;overflow-x:auto;line-height:normal;font-family:Menlo,'DejaVu Sans Mono',consolas,'Courier New',monospace\"><span style=\"font-weight: bold\"> Total params: </span><span style=\"color: #00af00; text-decoration-color: #00af00\">8,892</span> (34.73 KB)\n",
       "</pre>\n"
      ],
      "text/plain": [
       "\u001b[1m Total params: \u001b[0m\u001b[38;5;34m8,892\u001b[0m (34.73 KB)\n"
      ]
     },
     "metadata": {},
     "output_type": "display_data"
    },
    {
     "data": {
      "text/html": [
       "<pre style=\"white-space:pre;overflow-x:auto;line-height:normal;font-family:Menlo,'DejaVu Sans Mono',consolas,'Courier New',monospace\"><span style=\"font-weight: bold\"> Trainable params: </span><span style=\"color: #00af00; text-decoration-color: #00af00\">8,892</span> (34.73 KB)\n",
       "</pre>\n"
      ],
      "text/plain": [
       "\u001b[1m Trainable params: \u001b[0m\u001b[38;5;34m8,892\u001b[0m (34.73 KB)\n"
      ]
     },
     "metadata": {},
     "output_type": "display_data"
    },
    {
     "data": {
      "text/html": [
       "<pre style=\"white-space:pre;overflow-x:auto;line-height:normal;font-family:Menlo,'DejaVu Sans Mono',consolas,'Courier New',monospace\"><span style=\"font-weight: bold\"> Non-trainable params: </span><span style=\"color: #00af00; text-decoration-color: #00af00\">0</span> (0.00 B)\n",
       "</pre>\n"
      ],
      "text/plain": [
       "\u001b[1m Non-trainable params: \u001b[0m\u001b[38;5;34m0\u001b[0m (0.00 B)\n"
      ]
     },
     "metadata": {},
     "output_type": "display_data"
    }
   ],
   "source": [
    "autoencoder.summary()"
   ]
  },
  {
   "cell_type": "code",
   "execution_count": 33,
   "metadata": {
    "ExecuteTime": {
     "end_time": "2025-03-27T23:51:49.055540Z",
     "start_time": "2025-03-27T23:51:29.134788Z"
    },
    "id": "QrCIdlz2i6sy",
    "outputId": "4908162e-43fa-4c85-ae2f-6bacf507d016"
   },
   "outputs": [
    {
     "name": "stdout",
     "output_type": "stream",
     "text": [
      "Epoch 1/500\n",
      "\u001b[1m5/5\u001b[0m \u001b[32m━━━━━━━━━━━━━━━━━━━━\u001b[0m\u001b[37m\u001b[0m \u001b[1m1s\u001b[0m 38ms/step - accuracy: 0.2837 - loss: 0.6356 - val_accuracy: 0.4667 - val_loss: 0.4209\n",
      "Epoch 2/500\n",
      "\u001b[1m5/5\u001b[0m \u001b[32m━━━━━━━━━━━━━━━━━━━━\u001b[0m\u001b[37m\u001b[0m \u001b[1m0s\u001b[0m 13ms/step - accuracy: 0.4986 - loss: 0.3562 - val_accuracy: 0.4667 - val_loss: 0.1846\n",
      "Epoch 3/500\n",
      "\u001b[1m5/5\u001b[0m \u001b[32m━━━━━━━━━━━━━━━━━━━━\u001b[0m\u001b[37m\u001b[0m \u001b[1m0s\u001b[0m 12ms/step - accuracy: 0.4994 - loss: 0.0772 - val_accuracy: 0.4667 - val_loss: -0.0399\n",
      "Epoch 4/500\n",
      "\u001b[1m5/5\u001b[0m \u001b[32m━━━━━━━━━━━━━━━━━━━━\u001b[0m\u001b[37m\u001b[0m \u001b[1m0s\u001b[0m 12ms/step - accuracy: 0.5102 - loss: -0.1259 - val_accuracy: 0.4667 - val_loss: -0.2588\n",
      "Epoch 5/500\n",
      "\u001b[1m5/5\u001b[0m \u001b[32m━━━━━━━━━━━━━━━━━━━━\u001b[0m\u001b[37m\u001b[0m \u001b[1m0s\u001b[0m 12ms/step - accuracy: 0.4872 - loss: -0.3459 - val_accuracy: 0.4667 - val_loss: -0.4750\n",
      "Epoch 6/500\n",
      "\u001b[1m5/5\u001b[0m \u001b[32m━━━━━━━━━━━━━━━━━━━━\u001b[0m\u001b[37m\u001b[0m \u001b[1m0s\u001b[0m 12ms/step - accuracy: 0.4983 - loss: -0.6095 - val_accuracy: 0.4667 - val_loss: -0.6930\n",
      "Epoch 7/500\n",
      "\u001b[1m5/5\u001b[0m \u001b[32m━━━━━━━━━━━━━━━━━━━━\u001b[0m\u001b[37m\u001b[0m \u001b[1m0s\u001b[0m 12ms/step - accuracy: 0.4455 - loss: -0.6025 - val_accuracy: 0.4667 - val_loss: -0.9073\n",
      "Epoch 8/500\n",
      "\u001b[1m5/5\u001b[0m \u001b[32m━━━━━━━━━━━━━━━━━━━━\u001b[0m\u001b[37m\u001b[0m \u001b[1m0s\u001b[0m 12ms/step - accuracy: 0.4847 - loss: -0.9629 - val_accuracy: 0.4667 - val_loss: -1.1233\n",
      "Epoch 9/500\n",
      "\u001b[1m5/5\u001b[0m \u001b[32m━━━━━━━━━━━━━━━━━━━━\u001b[0m\u001b[37m\u001b[0m \u001b[1m0s\u001b[0m 11ms/step - accuracy: 0.4827 - loss: -1.1871 - val_accuracy: 0.4667 - val_loss: -1.3415\n",
      "Epoch 10/500\n",
      "\u001b[1m5/5\u001b[0m \u001b[32m━━━━━━━━━━━━━━━━━━━━\u001b[0m\u001b[37m\u001b[0m \u001b[1m0s\u001b[0m 11ms/step - accuracy: 0.4705 - loss: -1.3275 - val_accuracy: 0.4667 - val_loss: -1.5601\n",
      "Epoch 11/500\n",
      "\u001b[1m5/5\u001b[0m \u001b[32m━━━━━━━━━━━━━━━━━━━━\u001b[0m\u001b[37m\u001b[0m \u001b[1m0s\u001b[0m 12ms/step - accuracy: 0.4863 - loss: -1.6473 - val_accuracy: 0.4667 - val_loss: -1.7819\n",
      "Epoch 12/500\n",
      "\u001b[1m5/5\u001b[0m \u001b[32m━━━━━━━━━━━━━━━━━━━━\u001b[0m\u001b[37m\u001b[0m \u001b[1m0s\u001b[0m 12ms/step - accuracy: 0.5155 - loss: -1.9286 - val_accuracy: 0.4667 - val_loss: -2.0039\n",
      "Epoch 13/500\n",
      "\u001b[1m5/5\u001b[0m \u001b[32m━━━━━━━━━━━━━━━━━━━━\u001b[0m\u001b[37m\u001b[0m \u001b[1m0s\u001b[0m 11ms/step - accuracy: 0.4838 - loss: -2.1102 - val_accuracy: 0.4667 - val_loss: -2.2278\n",
      "Epoch 14/500\n",
      "\u001b[1m5/5\u001b[0m \u001b[32m━━━━━━━━━━━━━━━━━━━━\u001b[0m\u001b[37m\u001b[0m \u001b[1m0s\u001b[0m 13ms/step - accuracy: 0.4894 - loss: -2.3213 - val_accuracy: 0.4667 - val_loss: -2.4531\n",
      "Epoch 15/500\n",
      "\u001b[1m5/5\u001b[0m \u001b[32m━━━━━━━━━━━━━━━━━━━━\u001b[0m\u001b[37m\u001b[0m \u001b[1m0s\u001b[0m 12ms/step - accuracy: 0.5656 - loss: -2.5943 - val_accuracy: 0.7067 - val_loss: -2.6802\n",
      "Epoch 16/500\n",
      "\u001b[1m5/5\u001b[0m \u001b[32m━━━━━━━━━━━━━━━━━━━━\u001b[0m\u001b[37m\u001b[0m \u001b[1m0s\u001b[0m 12ms/step - accuracy: 0.6778 - loss: -2.8933 - val_accuracy: 0.7067 - val_loss: -2.9112\n",
      "Epoch 17/500\n",
      "\u001b[1m5/5\u001b[0m \u001b[32m━━━━━━━━━━━━━━━━━━━━\u001b[0m\u001b[37m\u001b[0m \u001b[1m0s\u001b[0m 12ms/step - accuracy: 0.6398 - loss: -2.9998 - val_accuracy: 0.7067 - val_loss: -3.1383\n",
      "Epoch 18/500\n",
      "\u001b[1m5/5\u001b[0m \u001b[32m━━━━━━━━━━━━━━━━━━━━\u001b[0m\u001b[37m\u001b[0m \u001b[1m0s\u001b[0m 12ms/step - accuracy: 0.6545 - loss: -3.2780 - val_accuracy: 0.7067 - val_loss: -3.3690\n",
      "Epoch 19/500\n",
      "\u001b[1m5/5\u001b[0m \u001b[32m━━━━━━━━━━━━━━━━━━━━\u001b[0m\u001b[37m\u001b[0m \u001b[1m0s\u001b[0m 11ms/step - accuracy: 0.6745 - loss: -3.3797 - val_accuracy: 0.7067 - val_loss: -3.6021\n",
      "Epoch 20/500\n",
      "\u001b[1m5/5\u001b[0m \u001b[32m━━━━━━━━━━━━━━━━━━━━\u001b[0m\u001b[37m\u001b[0m \u001b[1m0s\u001b[0m 11ms/step - accuracy: 0.6801 - loss: -3.8095 - val_accuracy: 0.7067 - val_loss: -3.8359\n",
      "Epoch 21/500\n",
      "\u001b[1m5/5\u001b[0m \u001b[32m━━━━━━━━━━━━━━━━━━━━\u001b[0m\u001b[37m\u001b[0m \u001b[1m0s\u001b[0m 12ms/step - accuracy: 0.6562 - loss: -3.7330 - val_accuracy: 0.7067 - val_loss: -4.0663\n",
      "Epoch 22/500\n",
      "\u001b[1m5/5\u001b[0m \u001b[32m━━━━━━━━━━━━━━━━━━━━\u001b[0m\u001b[37m\u001b[0m \u001b[1m0s\u001b[0m 11ms/step - accuracy: 0.6534 - loss: -4.0649 - val_accuracy: 0.7067 - val_loss: -4.2984\n",
      "Epoch 23/500\n",
      "\u001b[1m5/5\u001b[0m \u001b[32m━━━━━━━━━━━━━━━━━━━━\u001b[0m\u001b[37m\u001b[0m \u001b[1m0s\u001b[0m 11ms/step - accuracy: 0.6287 - loss: -4.2894 - val_accuracy: 0.7067 - val_loss: -4.5277\n",
      "Epoch 24/500\n",
      "\u001b[1m5/5\u001b[0m \u001b[32m━━━━━━━━━━━━━━━━━━━━\u001b[0m\u001b[37m\u001b[0m \u001b[1m0s\u001b[0m 11ms/step - accuracy: 0.6598 - loss: -4.6476 - val_accuracy: 0.7067 - val_loss: -4.7583\n",
      "Epoch 25/500\n",
      "\u001b[1m5/5\u001b[0m \u001b[32m━━━━━━━━━━━━━━━━━━━━\u001b[0m\u001b[37m\u001b[0m \u001b[1m0s\u001b[0m 11ms/step - accuracy: 0.6587 - loss: -4.8112 - val_accuracy: 0.7067 - val_loss: -4.9849\n",
      "Epoch 26/500\n",
      "\u001b[1m5/5\u001b[0m \u001b[32m━━━━━━━━━━━━━━━━━━━━\u001b[0m\u001b[37m\u001b[0m \u001b[1m0s\u001b[0m 11ms/step - accuracy: 0.6645 - loss: -5.0795 - val_accuracy: 0.7067 - val_loss: -5.2068\n",
      "Epoch 27/500\n",
      "\u001b[1m5/5\u001b[0m \u001b[32m━━━━━━━━━━━━━━━━━━━━\u001b[0m\u001b[37m\u001b[0m \u001b[1m0s\u001b[0m 10ms/step - accuracy: 0.6653 - loss: -5.0811 - val_accuracy: 0.7067 - val_loss: -5.4217\n",
      "Epoch 28/500\n",
      "\u001b[1m5/5\u001b[0m \u001b[32m━━━━━━━━━━━━━━━━━━━━\u001b[0m\u001b[37m\u001b[0m \u001b[1m0s\u001b[0m 11ms/step - accuracy: 0.6684 - loss: -5.3203 - val_accuracy: 0.7067 - val_loss: -5.6336\n",
      "Epoch 29/500\n",
      "\u001b[1m5/5\u001b[0m \u001b[32m━━━━━━━━━━━━━━━━━━━━\u001b[0m\u001b[37m\u001b[0m \u001b[1m0s\u001b[0m 11ms/step - accuracy: 0.6676 - loss: -5.5452 - val_accuracy: 0.7067 - val_loss: -5.8404\n",
      "Epoch 30/500\n",
      "\u001b[1m5/5\u001b[0m \u001b[32m━━━━━━━━━━━━━━━━━━━━\u001b[0m\u001b[37m\u001b[0m \u001b[1m0s\u001b[0m 11ms/step - accuracy: 0.6901 - loss: -5.8355 - val_accuracy: 0.7067 - val_loss: -6.0444\n",
      "Epoch 31/500\n",
      "\u001b[1m5/5\u001b[0m \u001b[32m━━━━━━━━━━━━━━━━━━━━\u001b[0m\u001b[37m\u001b[0m \u001b[1m0s\u001b[0m 13ms/step - accuracy: 0.6581 - loss: -6.0026 - val_accuracy: 0.7067 - val_loss: -6.2455\n",
      "Epoch 32/500\n",
      "\u001b[1m5/5\u001b[0m \u001b[32m━━━━━━━━━━━━━━━━━━━━\u001b[0m\u001b[37m\u001b[0m \u001b[1m0s\u001b[0m 11ms/step - accuracy: 0.6406 - loss: -6.1134 - val_accuracy: 0.7067 - val_loss: -6.4414\n",
      "Epoch 33/500\n",
      "\u001b[1m5/5\u001b[0m \u001b[32m━━━━━━━━━━━━━━━━━━━━\u001b[0m\u001b[37m\u001b[0m \u001b[1m0s\u001b[0m 11ms/step - accuracy: 0.6534 - loss: -6.3620 - val_accuracy: 0.7067 - val_loss: -6.6367\n",
      "Epoch 34/500\n",
      "\u001b[1m5/5\u001b[0m \u001b[32m━━━━━━━━━━━━━━━━━━━━\u001b[0m\u001b[37m\u001b[0m \u001b[1m0s\u001b[0m 11ms/step - accuracy: 0.6381 - loss: -6.5115 - val_accuracy: 0.7067 - val_loss: -6.8285\n",
      "Epoch 35/500\n",
      "\u001b[1m5/5\u001b[0m \u001b[32m━━━━━━━━━━━━━━━━━━━━\u001b[0m\u001b[37m\u001b[0m \u001b[1m0s\u001b[0m 10ms/step - accuracy: 0.6692 - loss: -6.4786 - val_accuracy: 0.7067 - val_loss: -7.0205\n",
      "Epoch 36/500\n",
      "\u001b[1m5/5\u001b[0m \u001b[32m━━━━━━━━━━━━━━━━━━━━\u001b[0m\u001b[37m\u001b[0m \u001b[1m0s\u001b[0m 11ms/step - accuracy: 0.6726 - loss: -6.9103 - val_accuracy: 0.7067 - val_loss: -7.2106\n",
      "Epoch 37/500\n",
      "\u001b[1m5/5\u001b[0m \u001b[32m━━━━━━━━━━━━━━━━━━━━\u001b[0m\u001b[37m\u001b[0m \u001b[1m0s\u001b[0m 11ms/step - accuracy: 0.6495 - loss: -7.0125 - val_accuracy: 0.7067 - val_loss: -7.3976\n",
      "Epoch 38/500\n",
      "\u001b[1m5/5\u001b[0m \u001b[32m━━━━━━━━━━━━━━━━━━━━\u001b[0m\u001b[37m\u001b[0m \u001b[1m0s\u001b[0m 11ms/step - accuracy: 0.6656 - loss: -7.1871 - val_accuracy: 0.7067 - val_loss: -7.5840\n",
      "Epoch 39/500\n",
      "\u001b[1m5/5\u001b[0m \u001b[32m━━━━━━━━━━━━━━━━━━━━\u001b[0m\u001b[37m\u001b[0m \u001b[1m0s\u001b[0m 12ms/step - accuracy: 0.6370 - loss: -7.1886 - val_accuracy: 0.7067 - val_loss: -7.7748\n",
      "Epoch 40/500\n",
      "\u001b[1m5/5\u001b[0m \u001b[32m━━━━━━━━━━━━━━━━━━━━\u001b[0m\u001b[37m\u001b[0m \u001b[1m0s\u001b[0m 12ms/step - accuracy: 0.6464 - loss: -7.4783 - val_accuracy: 0.7067 - val_loss: -7.9700\n",
      "Epoch 41/500\n",
      "\u001b[1m5/5\u001b[0m \u001b[32m━━━━━━━━━━━━━━━━━━━━\u001b[0m\u001b[37m\u001b[0m \u001b[1m0s\u001b[0m 12ms/step - accuracy: 0.6767 - loss: -7.7471 - val_accuracy: 0.7067 - val_loss: -8.1613\n",
      "Epoch 42/500\n",
      "\u001b[1m5/5\u001b[0m \u001b[32m━━━━━━━━━━━━━━━━━━━━\u001b[0m\u001b[37m\u001b[0m \u001b[1m0s\u001b[0m 12ms/step - accuracy: 0.6414 - loss: -7.7996 - val_accuracy: 0.7067 - val_loss: -8.3680\n",
      "Epoch 43/500\n",
      "\u001b[1m5/5\u001b[0m \u001b[32m━━━━━━━━━━━━━━━━━━━━\u001b[0m\u001b[37m\u001b[0m \u001b[1m0s\u001b[0m 11ms/step - accuracy: 0.6576 - loss: -8.2999 - val_accuracy: 0.7067 - val_loss: -8.5616\n",
      "Epoch 44/500\n",
      "\u001b[1m5/5\u001b[0m \u001b[32m━━━━━━━━━━━━━━━━━━━━\u001b[0m\u001b[37m\u001b[0m \u001b[1m0s\u001b[0m 11ms/step - accuracy: 0.6876 - loss: -8.5780 - val_accuracy: 0.7067 - val_loss: -8.7560\n",
      "Epoch 45/500\n",
      "\u001b[1m5/5\u001b[0m \u001b[32m━━━━━━━━━━━━━━━━━━━━\u001b[0m\u001b[37m\u001b[0m \u001b[1m0s\u001b[0m 11ms/step - accuracy: 0.6589 - loss: -8.6571 - val_accuracy: 0.7067 - val_loss: -8.9346\n",
      "Epoch 46/500\n",
      "\u001b[1m5/5\u001b[0m \u001b[32m━━━━━━━━━━━━━━━━━━━━\u001b[0m\u001b[37m\u001b[0m \u001b[1m0s\u001b[0m 11ms/step - accuracy: 0.6348 - loss: -8.3872 - val_accuracy: 0.7067 - val_loss: -9.1541\n",
      "Epoch 47/500\n",
      "\u001b[1m5/5\u001b[0m \u001b[32m━━━━━━━━━━━━━━━━━━━━\u001b[0m\u001b[37m\u001b[0m \u001b[1m0s\u001b[0m 12ms/step - accuracy: 0.6442 - loss: -8.5712 - val_accuracy: 0.7067 - val_loss: -9.3206\n",
      "Epoch 48/500\n",
      "\u001b[1m5/5\u001b[0m \u001b[32m━━━━━━━━━━━━━━━━━━━━\u001b[0m\u001b[37m\u001b[0m \u001b[1m0s\u001b[0m 11ms/step - accuracy: 0.6406 - loss: -8.7907 - val_accuracy: 0.7067 - val_loss: -9.5161\n",
      "Epoch 49/500\n",
      "\u001b[1m5/5\u001b[0m \u001b[32m━━━━━━━━━━━━━━━━━━━━\u001b[0m\u001b[37m\u001b[0m \u001b[1m0s\u001b[0m 11ms/step - accuracy: 0.6620 - loss: -9.3848 - val_accuracy: 0.7067 - val_loss: -9.5805\n",
      "Epoch 50/500\n",
      "\u001b[1m5/5\u001b[0m \u001b[32m━━━━━━━━━━━━━━━━━━━━\u001b[0m\u001b[37m\u001b[0m \u001b[1m0s\u001b[0m 13ms/step - accuracy: 0.6342 - loss: -9.1795 - val_accuracy: 0.7067 - val_loss: -9.8237\n",
      "Epoch 51/500\n",
      "\u001b[1m5/5\u001b[0m \u001b[32m━━━━━━━━━━━━━━━━━━━━\u001b[0m\u001b[37m\u001b[0m \u001b[1m0s\u001b[0m 11ms/step - accuracy: 0.6523 - loss: -9.4237 - val_accuracy: 0.7067 - val_loss: -9.8901\n",
      "Epoch 52/500\n",
      "\u001b[1m5/5\u001b[0m \u001b[32m━━━━━━━━━━━━━━━━━━━━\u001b[0m\u001b[37m\u001b[0m \u001b[1m0s\u001b[0m 11ms/step - accuracy: 0.6864 - loss: -9.6984 - val_accuracy: 0.7067 - val_loss: -9.9595\n",
      "Epoch 53/500\n",
      "\u001b[1m5/5\u001b[0m \u001b[32m━━━━━━━━━━━━━━━━━━━━\u001b[0m\u001b[37m\u001b[0m \u001b[1m0s\u001b[0m 11ms/step - accuracy: 0.6453 - loss: -9.5436 - val_accuracy: 0.7067 - val_loss: -10.0402\n",
      "Epoch 54/500\n",
      "\u001b[1m5/5\u001b[0m \u001b[32m━━━━━━━━━━━━━━━━━━━━\u001b[0m\u001b[37m\u001b[0m \u001b[1m0s\u001b[0m 11ms/step - accuracy: 0.6662 - loss: -9.5599 - val_accuracy: 0.7067 - val_loss: -10.1287\n",
      "Epoch 55/500\n",
      "\u001b[1m5/5\u001b[0m \u001b[32m━━━━━━━━━━━━━━━━━━━━\u001b[0m\u001b[37m\u001b[0m \u001b[1m0s\u001b[0m 12ms/step - accuracy: 0.6445 - loss: -9.6165 - val_accuracy: 0.7067 - val_loss: -10.2193\n",
      "Epoch 56/500\n",
      "\u001b[1m5/5\u001b[0m \u001b[32m━━━━━━━━━━━━━━━━━━━━\u001b[0m\u001b[37m\u001b[0m \u001b[1m0s\u001b[0m 11ms/step - accuracy: 0.6848 - loss: -9.9008 - val_accuracy: 0.7067 - val_loss: -10.3096\n",
      "Epoch 57/500\n",
      "\u001b[1m5/5\u001b[0m \u001b[32m━━━━━━━━━━━━━━━━━━━━\u001b[0m\u001b[37m\u001b[0m \u001b[1m0s\u001b[0m 11ms/step - accuracy: 0.7103 - loss: -10.3327 - val_accuracy: 0.7067 - val_loss: -10.4024\n",
      "Epoch 58/500\n",
      "\u001b[1m5/5\u001b[0m \u001b[32m━━━━━━━━━━━━━━━━━━━━\u001b[0m\u001b[37m\u001b[0m \u001b[1m0s\u001b[0m 11ms/step - accuracy: 0.6373 - loss: -9.9016 - val_accuracy: 0.7067 - val_loss: -10.4938\n",
      "Epoch 59/500\n",
      "\u001b[1m5/5\u001b[0m \u001b[32m━━━━━━━━━━━━━━━━━━━━\u001b[0m\u001b[37m\u001b[0m \u001b[1m0s\u001b[0m 11ms/step - accuracy: 0.6476 - loss: -10.1299 - val_accuracy: 0.7067 - val_loss: -10.5854\n",
      "Epoch 60/500\n",
      "\u001b[1m5/5\u001b[0m \u001b[32m━━━━━━━━━━━━━━━━━━━━\u001b[0m\u001b[37m\u001b[0m \u001b[1m0s\u001b[0m 13ms/step - accuracy: 0.6628 - loss: -10.2794 - val_accuracy: 0.7067 - val_loss: -10.6771\n",
      "Epoch 61/500\n",
      "\u001b[1m5/5\u001b[0m \u001b[32m━━━━━━━━━━━━━━━━━━━━\u001b[0m\u001b[37m\u001b[0m \u001b[1m0s\u001b[0m 11ms/step - accuracy: 0.6489 - loss: -10.0412 - val_accuracy: 0.7067 - val_loss: -10.7673\n",
      "Epoch 62/500\n",
      "\u001b[1m5/5\u001b[0m \u001b[32m━━━━━━━━━━━━━━━━━━━━\u001b[0m\u001b[37m\u001b[0m \u001b[1m0s\u001b[0m 11ms/step - accuracy: 0.6717 - loss: -10.1840 - val_accuracy: 0.7067 - val_loss: -10.8482\n",
      "Epoch 63/500\n",
      "\u001b[1m5/5\u001b[0m \u001b[32m━━━━━━━━━━━━━━━━━━━━\u001b[0m\u001b[37m\u001b[0m \u001b[1m0s\u001b[0m 11ms/step - accuracy: 0.6542 - loss: -10.4040 - val_accuracy: 0.7067 - val_loss: -10.9318\n",
      "Epoch 64/500\n",
      "\u001b[1m5/5\u001b[0m \u001b[32m━━━━━━━━━━━━━━━━━━━━\u001b[0m\u001b[37m\u001b[0m \u001b[1m0s\u001b[0m 11ms/step - accuracy: 0.6637 - loss: -10.6640 - val_accuracy: 0.7067 - val_loss: -11.0183\n",
      "Epoch 65/500\n",
      "\u001b[1m5/5\u001b[0m \u001b[32m━━━━━━━━━━━━━━━━━━━━\u001b[0m\u001b[37m\u001b[0m \u001b[1m0s\u001b[0m 11ms/step - accuracy: 0.6634 - loss: -10.6759 - val_accuracy: 0.7067 - val_loss: -11.1060\n",
      "Epoch 66/500\n",
      "\u001b[1m5/5\u001b[0m \u001b[32m━━━━━━━━━━━━━━━━━━━━\u001b[0m\u001b[37m\u001b[0m \u001b[1m0s\u001b[0m 11ms/step - accuracy: 0.6553 - loss: -10.6337 - val_accuracy: 0.7067 - val_loss: -11.1885\n",
      "Epoch 67/500\n",
      "\u001b[1m5/5\u001b[0m \u001b[32m━━━━━━━━━━━━━━━━━━━━\u001b[0m\u001b[37m\u001b[0m \u001b[1m0s\u001b[0m 11ms/step - accuracy: 0.6489 - loss: -10.8249 - val_accuracy: 0.7067 - val_loss: -11.2764\n",
      "Epoch 68/500\n",
      "\u001b[1m5/5\u001b[0m \u001b[32m━━━━━━━━━━━━━━━━━━━━\u001b[0m\u001b[37m\u001b[0m \u001b[1m0s\u001b[0m 12ms/step - accuracy: 0.6576 - loss: -10.8725 - val_accuracy: 0.7067 - val_loss: -11.3632\n",
      "Epoch 69/500\n",
      "\u001b[1m5/5\u001b[0m \u001b[32m━━━━━━━━━━━━━━━━━━━━\u001b[0m\u001b[37m\u001b[0m \u001b[1m0s\u001b[0m 12ms/step - accuracy: 0.6187 - loss: -10.6962 - val_accuracy: 0.7067 - val_loss: -11.4490\n",
      "Epoch 70/500\n",
      "\u001b[1m5/5\u001b[0m \u001b[32m━━━━━━━━━━━━━━━━━━━━\u001b[0m\u001b[37m\u001b[0m \u001b[1m0s\u001b[0m 11ms/step - accuracy: 0.6701 - loss: -11.4006 - val_accuracy: 0.7067 - val_loss: -11.5372\n",
      "Epoch 71/500\n",
      "\u001b[1m5/5\u001b[0m \u001b[32m━━━━━━━━━━━━━━━━━━━━\u001b[0m\u001b[37m\u001b[0m \u001b[1m0s\u001b[0m 11ms/step - accuracy: 0.6531 - loss: -11.0503 - val_accuracy: 0.7067 - val_loss: -11.6260\n",
      "Epoch 72/500\n",
      "\u001b[1m5/5\u001b[0m \u001b[32m━━━━━━━━━━━━━━━━━━━━\u001b[0m\u001b[37m\u001b[0m \u001b[1m0s\u001b[0m 13ms/step - accuracy: 0.6612 - loss: -11.0968 - val_accuracy: 0.7067 - val_loss: -11.7139\n",
      "Epoch 73/500\n",
      "\u001b[1m5/5\u001b[0m \u001b[32m━━━━━━━━━━━━━━━━━━━━\u001b[0m\u001b[37m\u001b[0m \u001b[1m0s\u001b[0m 11ms/step - accuracy: 0.6753 - loss: -11.2342 - val_accuracy: 0.7067 - val_loss: -11.8011\n",
      "Epoch 74/500\n",
      "\u001b[1m5/5\u001b[0m \u001b[32m━━━━━━━━━━━━━━━━━━━━\u001b[0m\u001b[37m\u001b[0m \u001b[1m0s\u001b[0m 12ms/step - accuracy: 0.6467 - loss: -11.1317 - val_accuracy: 0.7067 - val_loss: -11.8944\n",
      "Epoch 75/500\n",
      "\u001b[1m5/5\u001b[0m \u001b[32m━━━━━━━━━━━━━━━━━━━━\u001b[0m\u001b[37m\u001b[0m \u001b[1m0s\u001b[0m 12ms/step - accuracy: 0.6395 - loss: -10.9893 - val_accuracy: 0.7067 - val_loss: -11.9845\n",
      "Epoch 76/500\n",
      "\u001b[1m5/5\u001b[0m \u001b[32m━━━━━━━━━━━━━━━━━━━━\u001b[0m\u001b[37m\u001b[0m \u001b[1m0s\u001b[0m 12ms/step - accuracy: 0.6570 - loss: -11.8169 - val_accuracy: 0.7067 - val_loss: -12.0697\n",
      "Epoch 77/500\n",
      "\u001b[1m5/5\u001b[0m \u001b[32m━━━━━━━━━━━━━━━━━━━━\u001b[0m\u001b[37m\u001b[0m \u001b[1m0s\u001b[0m 11ms/step - accuracy: 0.6609 - loss: -11.5186 - val_accuracy: 0.7067 - val_loss: -12.1534\n",
      "Epoch 78/500\n",
      "\u001b[1m5/5\u001b[0m \u001b[32m━━━━━━━━━━━━━━━━━━━━\u001b[0m\u001b[37m\u001b[0m \u001b[1m0s\u001b[0m 12ms/step - accuracy: 0.6517 - loss: -11.6989 - val_accuracy: 0.7067 - val_loss: -12.2316\n",
      "Epoch 79/500\n",
      "\u001b[1m5/5\u001b[0m \u001b[32m━━━━━━━━━━━━━━━━━━━━\u001b[0m\u001b[37m\u001b[0m \u001b[1m0s\u001b[0m 11ms/step - accuracy: 0.6637 - loss: -11.8690 - val_accuracy: 0.7067 - val_loss: -12.3081\n",
      "Epoch 80/500\n",
      "\u001b[1m5/5\u001b[0m \u001b[32m━━━━━━━━━━━━━━━━━━━━\u001b[0m\u001b[37m\u001b[0m \u001b[1m0s\u001b[0m 12ms/step - accuracy: 0.6973 - loss: -12.1816 - val_accuracy: 0.7067 - val_loss: -12.3850\n",
      "Epoch 81/500\n",
      "\u001b[1m5/5\u001b[0m \u001b[32m━━━━━━━━━━━━━━━━━━━━\u001b[0m\u001b[37m\u001b[0m \u001b[1m0s\u001b[0m 11ms/step - accuracy: 0.6667 - loss: -12.1835 - val_accuracy: 0.7067 - val_loss: -12.4555\n",
      "Epoch 82/500\n",
      "\u001b[1m5/5\u001b[0m \u001b[32m━━━━━━━━━━━━━━━━━━━━\u001b[0m\u001b[37m\u001b[0m \u001b[1m0s\u001b[0m 14ms/step - accuracy: 0.6409 - loss: -11.9954 - val_accuracy: 0.7067 - val_loss: -12.5263\n",
      "Epoch 83/500\n",
      "\u001b[1m5/5\u001b[0m \u001b[32m━━━━━━━━━━━━━━━━━━━━\u001b[0m\u001b[37m\u001b[0m \u001b[1m0s\u001b[0m 12ms/step - accuracy: 0.6509 - loss: -11.8080 - val_accuracy: 0.7067 - val_loss: -12.6008\n",
      "Epoch 84/500\n",
      "\u001b[1m5/5\u001b[0m \u001b[32m━━━━━━━━━━━━━━━━━━━━\u001b[0m\u001b[37m\u001b[0m \u001b[1m0s\u001b[0m 11ms/step - accuracy: 0.6620 - loss: -12.2756 - val_accuracy: 0.7067 - val_loss: -12.6732\n",
      "Epoch 85/500\n",
      "\u001b[1m5/5\u001b[0m \u001b[32m━━━━━━━━━━━━━━━━━━━━\u001b[0m\u001b[37m\u001b[0m \u001b[1m0s\u001b[0m 11ms/step - accuracy: 0.6703 - loss: -12.3244 - val_accuracy: 0.7067 - val_loss: -12.7481\n",
      "Epoch 86/500\n",
      "\u001b[1m5/5\u001b[0m \u001b[32m━━━━━━━━━━━━━━━━━━━━\u001b[0m\u001b[37m\u001b[0m \u001b[1m0s\u001b[0m 11ms/step - accuracy: 0.6659 - loss: -12.0012 - val_accuracy: 0.7067 - val_loss: -12.8181\n",
      "Epoch 87/500\n",
      "\u001b[1m5/5\u001b[0m \u001b[32m━━━━━━━━━━━━━━━━━━━━\u001b[0m\u001b[37m\u001b[0m \u001b[1m0s\u001b[0m 11ms/step - accuracy: 0.6389 - loss: -12.1912 - val_accuracy: 0.7067 - val_loss: -12.8885\n",
      "Epoch 88/500\n",
      "\u001b[1m5/5\u001b[0m \u001b[32m━━━━━━━━━━━━━━━━━━━━\u001b[0m\u001b[37m\u001b[0m \u001b[1m0s\u001b[0m 11ms/step - accuracy: 0.6442 - loss: -12.5163 - val_accuracy: 0.7067 - val_loss: -12.9597\n",
      "Epoch 89/500\n",
      "\u001b[1m5/5\u001b[0m \u001b[32m━━━━━━━━━━━━━━━━━━━━\u001b[0m\u001b[37m\u001b[0m \u001b[1m0s\u001b[0m 12ms/step - accuracy: 0.6612 - loss: -12.6211 - val_accuracy: 0.7067 - val_loss: -13.0279\n",
      "Epoch 90/500\n",
      "\u001b[1m5/5\u001b[0m \u001b[32m━━━━━━━━━━━━━━━━━━━━\u001b[0m\u001b[37m\u001b[0m \u001b[1m0s\u001b[0m 15ms/step - accuracy: 0.6553 - loss: -12.5855 - val_accuracy: 0.7067 - val_loss: -13.0976\n",
      "Epoch 91/500\n",
      "\u001b[1m5/5\u001b[0m \u001b[32m━━━━━━━━━━━━━━━━━━━━\u001b[0m\u001b[37m\u001b[0m \u001b[1m0s\u001b[0m 12ms/step - accuracy: 0.6709 - loss: -12.8667 - val_accuracy: 0.7067 - val_loss: -13.1622\n",
      "Epoch 92/500\n",
      "\u001b[1m5/5\u001b[0m \u001b[32m━━━━━━━━━━━━━━━━━━━━\u001b[0m\u001b[37m\u001b[0m \u001b[1m0s\u001b[0m 11ms/step - accuracy: 0.6803 - loss: -12.6479 - val_accuracy: 0.7067 - val_loss: -13.2321\n",
      "Epoch 93/500\n",
      "\u001b[1m5/5\u001b[0m \u001b[32m━━━━━━━━━━━━━━━━━━━━\u001b[0m\u001b[37m\u001b[0m \u001b[1m0s\u001b[0m 11ms/step - accuracy: 0.6767 - loss: -12.5916 - val_accuracy: 0.7067 - val_loss: -13.2992\n",
      "Epoch 94/500\n",
      "\u001b[1m5/5\u001b[0m \u001b[32m━━━━━━━━━━━━━━━━━━━━\u001b[0m\u001b[37m\u001b[0m \u001b[1m0s\u001b[0m 11ms/step - accuracy: 0.6239 - loss: -12.3698 - val_accuracy: 0.7067 - val_loss: -13.3604\n",
      "Epoch 95/500\n",
      "\u001b[1m5/5\u001b[0m \u001b[32m━━━━━━━━━━━━━━━━━━━━\u001b[0m\u001b[37m\u001b[0m \u001b[1m0s\u001b[0m 12ms/step - accuracy: 0.6745 - loss: -13.2017 - val_accuracy: 0.7067 - val_loss: -13.4327\n",
      "Epoch 96/500\n",
      "\u001b[1m5/5\u001b[0m \u001b[32m━━━━━━━━━━━━━━━━━━━━\u001b[0m\u001b[37m\u001b[0m \u001b[1m0s\u001b[0m 12ms/step - accuracy: 0.6703 - loss: -12.7521 - val_accuracy: 0.7067 - val_loss: -13.4947\n",
      "Epoch 97/500\n",
      "\u001b[1m5/5\u001b[0m \u001b[32m━━━━━━━━━━━━━━━━━━━━\u001b[0m\u001b[37m\u001b[0m \u001b[1m0s\u001b[0m 11ms/step - accuracy: 0.6409 - loss: -12.8579 - val_accuracy: 0.7067 - val_loss: -13.5541\n",
      "Epoch 98/500\n",
      "\u001b[1m5/5\u001b[0m \u001b[32m━━━━━━━━━━━━━━━━━━━━\u001b[0m\u001b[37m\u001b[0m \u001b[1m0s\u001b[0m 11ms/step - accuracy: 0.6340 - loss: -12.6980 - val_accuracy: 0.7067 - val_loss: -13.6121\n",
      "Epoch 99/500\n",
      "\u001b[1m5/5\u001b[0m \u001b[32m━━━━━━━━━━━━━━━━━━━━\u001b[0m\u001b[37m\u001b[0m \u001b[1m0s\u001b[0m 14ms/step - accuracy: 0.6548 - loss: -13.2943 - val_accuracy: 0.2800 - val_loss: -13.6749\n",
      "Epoch 100/500\n",
      "\u001b[1m5/5\u001b[0m \u001b[32m━━━━━━━━━━━━━━━━━━━━\u001b[0m\u001b[37m\u001b[0m \u001b[1m0s\u001b[0m 12ms/step - accuracy: 0.4952 - loss: -13.1829 - val_accuracy: 0.7067 - val_loss: -13.7320\n",
      "Epoch 101/500\n",
      "\u001b[1m5/5\u001b[0m \u001b[32m━━━━━━━━━━━━━━━━━━━━\u001b[0m\u001b[37m\u001b[0m \u001b[1m0s\u001b[0m 11ms/step - accuracy: 0.6390 - loss: -12.9973 - val_accuracy: 0.7067 - val_loss: -13.7869\n",
      "Epoch 102/500\n",
      "\u001b[1m5/5\u001b[0m \u001b[32m━━━━━━━━━━━━━━━━━━━━\u001b[0m\u001b[37m\u001b[0m \u001b[1m0s\u001b[0m 11ms/step - accuracy: 0.4410 - loss: -13.4342 - val_accuracy: 0.7067 - val_loss: -13.8398\n",
      "Epoch 103/500\n",
      "\u001b[1m5/5\u001b[0m \u001b[32m━━━━━━━━━━━━━━━━━━━━\u001b[0m\u001b[37m\u001b[0m \u001b[1m0s\u001b[0m 12ms/step - accuracy: 0.6463 - loss: -12.9911 - val_accuracy: 0.7067 - val_loss: -13.8842\n",
      "Epoch 104/500\n",
      "\u001b[1m5/5\u001b[0m \u001b[32m━━━━━━━━━━━━━━━━━━━━\u001b[0m\u001b[37m\u001b[0m \u001b[1m0s\u001b[0m 12ms/step - accuracy: 0.6377 - loss: -13.1478 - val_accuracy: 0.7067 - val_loss: -13.9351\n",
      "Epoch 105/500\n",
      "\u001b[1m5/5\u001b[0m \u001b[32m━━━━━━━━━━━━━━━━━━━━\u001b[0m\u001b[37m\u001b[0m \u001b[1m0s\u001b[0m 13ms/step - accuracy: 0.6200 - loss: -13.4135 - val_accuracy: 0.2800 - val_loss: -13.9858\n",
      "Epoch 106/500\n",
      "\u001b[1m5/5\u001b[0m \u001b[32m━━━━━━━━━━━━━━━━━━━━\u001b[0m\u001b[37m\u001b[0m \u001b[1m0s\u001b[0m 12ms/step - accuracy: 0.5225 - loss: -13.2533 - val_accuracy: 0.7067 - val_loss: -14.0328\n",
      "Epoch 107/500\n",
      "\u001b[1m5/5\u001b[0m \u001b[32m━━━━━━━━━━━━━━━━━━━━\u001b[0m\u001b[37m\u001b[0m \u001b[1m0s\u001b[0m 11ms/step - accuracy: 0.6843 - loss: -13.8222 - val_accuracy: 0.7067 - val_loss: -14.0794\n",
      "Epoch 108/500\n",
      "\u001b[1m5/5\u001b[0m \u001b[32m━━━━━━━━━━━━━━━━━━━━\u001b[0m\u001b[37m\u001b[0m \u001b[1m0s\u001b[0m 14ms/step - accuracy: 0.5395 - loss: -13.4762 - val_accuracy: 0.7067 - val_loss: -14.1202\n",
      "Epoch 109/500\n",
      "\u001b[1m5/5\u001b[0m \u001b[32m━━━━━━━━━━━━━━━━━━━━\u001b[0m\u001b[37m\u001b[0m \u001b[1m0s\u001b[0m 11ms/step - accuracy: 0.5585 - loss: -13.1743 - val_accuracy: 0.7067 - val_loss: -14.1686\n",
      "Epoch 110/500\n",
      "\u001b[1m5/5\u001b[0m \u001b[32m━━━━━━━━━━━━━━━━━━━━\u001b[0m\u001b[37m\u001b[0m \u001b[1m0s\u001b[0m 12ms/step - accuracy: 0.6496 - loss: -13.7950 - val_accuracy: 0.7067 - val_loss: -14.2163\n",
      "Epoch 111/500\n",
      "\u001b[1m5/5\u001b[0m \u001b[32m━━━━━━━━━━━━━━━━━━━━\u001b[0m\u001b[37m\u001b[0m \u001b[1m0s\u001b[0m 12ms/step - accuracy: 0.5943 - loss: -13.2945 - val_accuracy: 0.7067 - val_loss: -14.2547\n",
      "Epoch 112/500\n",
      "\u001b[1m5/5\u001b[0m \u001b[32m━━━━━━━━━━━━━━━━━━━━\u001b[0m\u001b[37m\u001b[0m \u001b[1m0s\u001b[0m 11ms/step - accuracy: 0.6198 - loss: -13.1600 - val_accuracy: 0.2800 - val_loss: -14.2938\n",
      "Epoch 113/500\n",
      "\u001b[1m5/5\u001b[0m \u001b[32m━━━━━━━━━━━━━━━━━━━━\u001b[0m\u001b[37m\u001b[0m \u001b[1m0s\u001b[0m 11ms/step - accuracy: 0.2186 - loss: -13.7339 - val_accuracy: 0.2800 - val_loss: -14.3412\n",
      "Epoch 114/500\n",
      "\u001b[1m5/5\u001b[0m \u001b[32m━━━━━━━━━━━━━━━━━━━━\u001b[0m\u001b[37m\u001b[0m \u001b[1m0s\u001b[0m 11ms/step - accuracy: 0.2295 - loss: -13.6342 - val_accuracy: 0.2800 - val_loss: -14.3862\n",
      "Epoch 115/500\n",
      "\u001b[1m5/5\u001b[0m \u001b[32m━━━━━━━━━━━━━━━━━━━━\u001b[0m\u001b[37m\u001b[0m \u001b[1m0s\u001b[0m 12ms/step - accuracy: 0.2195 - loss: -13.9467 - val_accuracy: 0.2800 - val_loss: -14.4272\n",
      "Epoch 116/500\n",
      "\u001b[1m5/5\u001b[0m \u001b[32m━━━━━━━━━━━━━━━━━━━━\u001b[0m\u001b[37m\u001b[0m \u001b[1m0s\u001b[0m 14ms/step - accuracy: 0.2220 - loss: -13.8968 - val_accuracy: 0.2800 - val_loss: -14.4657\n",
      "Epoch 117/500\n",
      "\u001b[1m5/5\u001b[0m \u001b[32m━━━━━━━━━━━━━━━━━━━━\u001b[0m\u001b[37m\u001b[0m \u001b[1m0s\u001b[0m 12ms/step - accuracy: 0.1806 - loss: -13.7541 - val_accuracy: 0.2800 - val_loss: -14.5071\n",
      "Epoch 118/500\n",
      "\u001b[1m5/5\u001b[0m \u001b[32m━━━━━━━━━━━━━━━━━━━━\u001b[0m\u001b[37m\u001b[0m \u001b[1m0s\u001b[0m 11ms/step - accuracy: 0.2195 - loss: -13.9026 - val_accuracy: 0.2800 - val_loss: -14.5483\n",
      "Epoch 119/500\n",
      "\u001b[1m5/5\u001b[0m \u001b[32m━━━━━━━━━━━━━━━━━━━━\u001b[0m\u001b[37m\u001b[0m \u001b[1m0s\u001b[0m 13ms/step - accuracy: 0.2311 - loss: -14.0557 - val_accuracy: 0.2800 - val_loss: -14.5902\n",
      "Epoch 120/500\n",
      "\u001b[1m5/5\u001b[0m \u001b[32m━━━━━━━━━━━━━━━━━━━━\u001b[0m\u001b[37m\u001b[0m \u001b[1m0s\u001b[0m 12ms/step - accuracy: 0.2047 - loss: -13.6639 - val_accuracy: 0.2800 - val_loss: -14.6294\n",
      "Epoch 121/500\n",
      "\u001b[1m5/5\u001b[0m \u001b[32m━━━━━━━━━━━━━━━━━━━━\u001b[0m\u001b[37m\u001b[0m \u001b[1m0s\u001b[0m 12ms/step - accuracy: 0.2297 - loss: -14.3323 - val_accuracy: 0.2800 - val_loss: -14.6705\n",
      "Epoch 122/500\n",
      "\u001b[1m5/5\u001b[0m \u001b[32m━━━━━━━━━━━━━━━━━━━━\u001b[0m\u001b[37m\u001b[0m \u001b[1m0s\u001b[0m 12ms/step - accuracy: 0.2000 - loss: -14.1091 - val_accuracy: 0.2800 - val_loss: -14.7091\n",
      "Epoch 123/500\n",
      "\u001b[1m5/5\u001b[0m \u001b[32m━━━━━━━━━━━━━━━━━━━━\u001b[0m\u001b[37m\u001b[0m \u001b[1m0s\u001b[0m 12ms/step - accuracy: 0.2122 - loss: -14.0224 - val_accuracy: 0.2800 - val_loss: -14.7458\n",
      "Epoch 124/500\n",
      "\u001b[1m5/5\u001b[0m \u001b[32m━━━━━━━━━━━━━━━━━━━━\u001b[0m\u001b[37m\u001b[0m \u001b[1m0s\u001b[0m 14ms/step - accuracy: 0.1725 - loss: -13.5348 - val_accuracy: 0.2800 - val_loss: -14.7821\n",
      "Epoch 125/500\n",
      "\u001b[1m5/5\u001b[0m \u001b[32m━━━━━━━━━━━━━━━━━━━━\u001b[0m\u001b[37m\u001b[0m \u001b[1m0s\u001b[0m 12ms/step - accuracy: 0.2414 - loss: -14.2664 - val_accuracy: 0.2800 - val_loss: -14.8203\n",
      "Epoch 126/500\n",
      "\u001b[1m5/5\u001b[0m \u001b[32m━━━━━━━━━━━━━━━━━━━━\u001b[0m\u001b[37m\u001b[0m \u001b[1m0s\u001b[0m 12ms/step - accuracy: 0.2078 - loss: -13.8748 - val_accuracy: 0.2800 - val_loss: -14.8513\n",
      "Epoch 127/500\n",
      "\u001b[1m5/5\u001b[0m \u001b[32m━━━━━━━━━━━━━━━━━━━━\u001b[0m\u001b[37m\u001b[0m \u001b[1m0s\u001b[0m 12ms/step - accuracy: 0.2275 - loss: -13.9992 - val_accuracy: 0.2800 - val_loss: -14.8735\n",
      "Epoch 128/500\n",
      "\u001b[1m5/5\u001b[0m \u001b[32m━━━━━━━━━━━━━━━━━━━━\u001b[0m\u001b[37m\u001b[0m \u001b[1m0s\u001b[0m 12ms/step - accuracy: 0.2361 - loss: -14.3433 - val_accuracy: 0.2800 - val_loss: -14.8945\n",
      "Epoch 129/500\n",
      "\u001b[1m5/5\u001b[0m \u001b[32m━━━━━━━━━━━━━━━━━━━━\u001b[0m\u001b[37m\u001b[0m \u001b[1m0s\u001b[0m 12ms/step - accuracy: 0.1972 - loss: -14.0262 - val_accuracy: 0.2800 - val_loss: -14.9113\n",
      "Epoch 130/500\n",
      "\u001b[1m5/5\u001b[0m \u001b[32m━━━━━━━━━━━━━━━━━━━━\u001b[0m\u001b[37m\u001b[0m \u001b[1m0s\u001b[0m 11ms/step - accuracy: 0.2039 - loss: -14.1081 - val_accuracy: 0.2800 - val_loss: -14.9317\n",
      "Epoch 131/500\n",
      "\u001b[1m5/5\u001b[0m \u001b[32m━━━━━━━━━━━━━━━━━━━━\u001b[0m\u001b[37m\u001b[0m \u001b[1m0s\u001b[0m 14ms/step - accuracy: 0.2258 - loss: -14.5528 - val_accuracy: 0.2800 - val_loss: -14.9515\n",
      "Epoch 132/500\n",
      "\u001b[1m5/5\u001b[0m \u001b[32m━━━━━━━━━━━━━━━━━━━━\u001b[0m\u001b[37m\u001b[0m \u001b[1m0s\u001b[0m 12ms/step - accuracy: 0.2233 - loss: -14.3555 - val_accuracy: 0.2800 - val_loss: -14.9709\n",
      "Epoch 133/500\n",
      "\u001b[1m5/5\u001b[0m \u001b[32m━━━━━━━━━━━━━━━━━━━━\u001b[0m\u001b[37m\u001b[0m \u001b[1m0s\u001b[0m 12ms/step - accuracy: 0.2181 - loss: -14.1336 - val_accuracy: 0.2800 - val_loss: -14.9922\n",
      "Epoch 134/500\n",
      "\u001b[1m5/5\u001b[0m \u001b[32m━━━━━━━━━━━━━━━━━━━━\u001b[0m\u001b[37m\u001b[0m \u001b[1m0s\u001b[0m 11ms/step - accuracy: 0.2181 - loss: -14.6134 - val_accuracy: 0.2800 - val_loss: -15.0068\n",
      "Epoch 135/500\n",
      "\u001b[1m5/5\u001b[0m \u001b[32m━━━━━━━━━━━━━━━━━━━━\u001b[0m\u001b[37m\u001b[0m \u001b[1m0s\u001b[0m 14ms/step - accuracy: 0.1961 - loss: -14.0704 - val_accuracy: 0.2800 - val_loss: -15.0210\n",
      "Epoch 136/500\n",
      "\u001b[1m5/5\u001b[0m \u001b[32m━━━━━━━━━━━━━━━━━━━━\u001b[0m\u001b[37m\u001b[0m \u001b[1m0s\u001b[0m 13ms/step - accuracy: 0.2342 - loss: -14.4707 - val_accuracy: 0.2800 - val_loss: -15.0319\n",
      "Epoch 137/500\n",
      "\u001b[1m5/5\u001b[0m \u001b[32m━━━━━━━━━━━━━━━━━━━━\u001b[0m\u001b[37m\u001b[0m \u001b[1m0s\u001b[0m 12ms/step - accuracy: 0.2033 - loss: -14.2075 - val_accuracy: 0.2800 - val_loss: -15.0492\n",
      "Epoch 138/500\n",
      "\u001b[1m5/5\u001b[0m \u001b[32m━━━━━━━━━━━━━━━━━━━━\u001b[0m\u001b[37m\u001b[0m \u001b[1m0s\u001b[0m 15ms/step - accuracy: 0.2120 - loss: -14.3219 - val_accuracy: 0.2800 - val_loss: -15.0617\n",
      "Epoch 139/500\n",
      "\u001b[1m5/5\u001b[0m \u001b[32m━━━━━━━━━━━━━━━━━━━━\u001b[0m\u001b[37m\u001b[0m \u001b[1m0s\u001b[0m 13ms/step - accuracy: 0.2370 - loss: -14.7511 - val_accuracy: 0.2800 - val_loss: -15.0789\n",
      "Epoch 140/500\n",
      "\u001b[1m5/5\u001b[0m \u001b[32m━━━━━━━━━━━━━━━━━━━━\u001b[0m\u001b[37m\u001b[0m \u001b[1m0s\u001b[0m 12ms/step - accuracy: 0.1939 - loss: -14.0834 - val_accuracy: 0.2800 - val_loss: -15.0920\n",
      "Epoch 141/500\n",
      "\u001b[1m5/5\u001b[0m \u001b[32m━━━━━━━━━━━━━━━━━━━━\u001b[0m\u001b[37m\u001b[0m \u001b[1m0s\u001b[0m 11ms/step - accuracy: 0.1850 - loss: -14.4153 - val_accuracy: 0.2800 - val_loss: -15.1064\n",
      "Epoch 142/500\n",
      "\u001b[1m5/5\u001b[0m \u001b[32m━━━━━━━━━━━━━━━━━━━━\u001b[0m\u001b[37m\u001b[0m \u001b[1m0s\u001b[0m 12ms/step - accuracy: 0.2000 - loss: -14.2833 - val_accuracy: 0.2800 - val_loss: -15.1121\n",
      "Epoch 143/500\n",
      "\u001b[1m5/5\u001b[0m \u001b[32m━━━━━━━━━━━━━━━━━━━━\u001b[0m\u001b[37m\u001b[0m \u001b[1m0s\u001b[0m 11ms/step - accuracy: 0.2192 - loss: -14.7243 - val_accuracy: 0.2800 - val_loss: -15.1275\n",
      "Epoch 144/500\n",
      "\u001b[1m5/5\u001b[0m \u001b[32m━━━━━━━━━━━━━━━━━━━━\u001b[0m\u001b[37m\u001b[0m \u001b[1m0s\u001b[0m 11ms/step - accuracy: 0.2100 - loss: -14.5570 - val_accuracy: 0.2800 - val_loss: -15.1435\n",
      "Epoch 145/500\n",
      "\u001b[1m5/5\u001b[0m \u001b[32m━━━━━━━━━━━━━━━━━━━━\u001b[0m\u001b[37m\u001b[0m \u001b[1m0s\u001b[0m 14ms/step - accuracy: 0.1742 - loss: -14.1629 - val_accuracy: 0.2800 - val_loss: -15.1528\n",
      "Epoch 146/500\n",
      "\u001b[1m5/5\u001b[0m \u001b[32m━━━━━━━━━━━━━━━━━━━━\u001b[0m\u001b[37m\u001b[0m \u001b[1m0s\u001b[0m 12ms/step - accuracy: 0.2233 - loss: -14.7623 - val_accuracy: 0.2800 - val_loss: -15.1646\n",
      "Epoch 147/500\n",
      "\u001b[1m5/5\u001b[0m \u001b[32m━━━━━━━━━━━━━━━━━━━━\u001b[0m\u001b[37m\u001b[0m \u001b[1m0s\u001b[0m 11ms/step - accuracy: 0.2083 - loss: -14.4178 - val_accuracy: 0.2800 - val_loss: -15.1787\n",
      "Epoch 148/500\n",
      "\u001b[1m5/5\u001b[0m \u001b[32m━━━━━━━━━━━━━━━━━━━━\u001b[0m\u001b[37m\u001b[0m \u001b[1m0s\u001b[0m 11ms/step - accuracy: 0.2039 - loss: -14.7008 - val_accuracy: 0.2800 - val_loss: -15.1826\n",
      "Epoch 149/500\n",
      "\u001b[1m5/5\u001b[0m \u001b[32m━━━━━━━━━━━━━━━━━━━━\u001b[0m\u001b[37m\u001b[0m \u001b[1m0s\u001b[0m 11ms/step - accuracy: 0.1936 - loss: -14.6918 - val_accuracy: 0.2800 - val_loss: -15.1885\n",
      "Epoch 150/500\n",
      "\u001b[1m5/5\u001b[0m \u001b[32m━━━━━━━━━━━━━━━━━━━━\u001b[0m\u001b[37m\u001b[0m \u001b[1m0s\u001b[0m 12ms/step - accuracy: 0.2078 - loss: -14.4098 - val_accuracy: 0.2800 - val_loss: -15.1949\n",
      "Epoch 151/500\n",
      "\u001b[1m5/5\u001b[0m \u001b[32m━━━━━━━━━━━━━━━━━━━━\u001b[0m\u001b[37m\u001b[0m \u001b[1m0s\u001b[0m 13ms/step - accuracy: 0.2100 - loss: -14.4673 - val_accuracy: 0.2800 - val_loss: -15.1992\n",
      "Epoch 152/500\n",
      "\u001b[1m5/5\u001b[0m \u001b[32m━━━━━━━━━━━━━━━━━━━━\u001b[0m\u001b[37m\u001b[0m \u001b[1m0s\u001b[0m 12ms/step - accuracy: 0.2347 - loss: -14.5551 - val_accuracy: 0.2800 - val_loss: -15.2066\n",
      "Epoch 153/500\n",
      "\u001b[1m5/5\u001b[0m \u001b[32m━━━━━━━━━━━━━━━━━━━━\u001b[0m\u001b[37m\u001b[0m \u001b[1m0s\u001b[0m 11ms/step - accuracy: 0.2075 - loss: -14.2560 - val_accuracy: 0.2800 - val_loss: -15.2119\n",
      "Epoch 154/500\n",
      "\u001b[1m5/5\u001b[0m \u001b[32m━━━━━━━━━━━━━━━━━━━━\u001b[0m\u001b[37m\u001b[0m \u001b[1m0s\u001b[0m 11ms/step - accuracy: 0.2031 - loss: -14.7415 - val_accuracy: 0.2800 - val_loss: -15.2175\n",
      "Epoch 155/500\n",
      "\u001b[1m5/5\u001b[0m \u001b[32m━━━━━━━━━━━━━━━━━━━━\u001b[0m\u001b[37m\u001b[0m \u001b[1m0s\u001b[0m 12ms/step - accuracy: 0.2389 - loss: -14.5212 - val_accuracy: 0.2800 - val_loss: -15.2246\n",
      "Epoch 156/500\n",
      "\u001b[1m5/5\u001b[0m \u001b[32m━━━━━━━━━━━━━━━━━━━━\u001b[0m\u001b[37m\u001b[0m \u001b[1m0s\u001b[0m 11ms/step - accuracy: 0.1920 - loss: -14.4405 - val_accuracy: 0.2800 - val_loss: -15.2295\n",
      "Epoch 157/500\n",
      "\u001b[1m5/5\u001b[0m \u001b[32m━━━━━━━━━━━━━━━━━━━━\u001b[0m\u001b[37m\u001b[0m \u001b[1m0s\u001b[0m 14ms/step - accuracy: 0.2070 - loss: -14.7782 - val_accuracy: 0.2800 - val_loss: -15.2348\n",
      "Epoch 158/500\n",
      "\u001b[1m5/5\u001b[0m \u001b[32m━━━━━━━━━━━━━━━━━━━━\u001b[0m\u001b[37m\u001b[0m \u001b[1m0s\u001b[0m 12ms/step - accuracy: 0.2070 - loss: -14.5685 - val_accuracy: 0.2800 - val_loss: -15.2399\n",
      "Epoch 159/500\n",
      "\u001b[1m5/5\u001b[0m \u001b[32m━━━━━━━━━━━━━━━━━━━━\u001b[0m\u001b[37m\u001b[0m \u001b[1m0s\u001b[0m 11ms/step - accuracy: 0.2020 - loss: -14.6450 - val_accuracy: 0.2800 - val_loss: -15.2451\n",
      "Epoch 160/500\n",
      "\u001b[1m5/5\u001b[0m \u001b[32m━━━━━━━━━━━━━━━━━━━━\u001b[0m\u001b[37m\u001b[0m \u001b[1m0s\u001b[0m 12ms/step - accuracy: 0.2003 - loss: -14.4472 - val_accuracy: 0.2800 - val_loss: -15.2500\n",
      "Epoch 161/500\n",
      "\u001b[1m5/5\u001b[0m \u001b[32m━━━━━━━━━━━━━━━━━━━━\u001b[0m\u001b[37m\u001b[0m \u001b[1m0s\u001b[0m 11ms/step - accuracy: 0.2011 - loss: -14.3640 - val_accuracy: 0.2800 - val_loss: -15.2542\n",
      "Epoch 162/500\n",
      "\u001b[1m5/5\u001b[0m \u001b[32m━━━━━━━━━━━━━━━━━━━━\u001b[0m\u001b[37m\u001b[0m \u001b[1m0s\u001b[0m 12ms/step - accuracy: 0.1903 - loss: -14.6476 - val_accuracy: 0.2800 - val_loss: -15.2594\n",
      "Epoch 163/500\n",
      "\u001b[1m5/5\u001b[0m \u001b[32m━━━━━━━━━━━━━━━━━━━━\u001b[0m\u001b[37m\u001b[0m \u001b[1m0s\u001b[0m 15ms/step - accuracy: 0.2153 - loss: -14.7501 - val_accuracy: 0.2800 - val_loss: -15.2631\n",
      "Epoch 164/500\n",
      "\u001b[1m5/5\u001b[0m \u001b[32m━━━━━━━━━━━━━━━━━━━━\u001b[0m\u001b[37m\u001b[0m \u001b[1m0s\u001b[0m 12ms/step - accuracy: 0.2058 - loss: -14.7779 - val_accuracy: 0.2800 - val_loss: -15.2662\n",
      "Epoch 165/500\n",
      "\u001b[1m5/5\u001b[0m \u001b[32m━━━━━━━━━━━━━━━━━━━━\u001b[0m\u001b[37m\u001b[0m \u001b[1m0s\u001b[0m 11ms/step - accuracy: 0.1881 - loss: -14.3536 - val_accuracy: 0.2800 - val_loss: -15.2716\n",
      "Epoch 166/500\n",
      "\u001b[1m5/5\u001b[0m \u001b[32m━━━━━━━━━━━━━━━━━━━━\u001b[0m\u001b[37m\u001b[0m \u001b[1m0s\u001b[0m 13ms/step - accuracy: 0.2186 - loss: -14.5875 - val_accuracy: 0.2800 - val_loss: -15.2768\n",
      "Epoch 167/500\n",
      "\u001b[1m5/5\u001b[0m \u001b[32m━━━━━━━━━━━━━━━━━━━━\u001b[0m\u001b[37m\u001b[0m \u001b[1m0s\u001b[0m 12ms/step - accuracy: 0.2033 - loss: -14.3472 - val_accuracy: 0.2800 - val_loss: -15.2829\n",
      "Epoch 168/500\n",
      "\u001b[1m5/5\u001b[0m \u001b[32m━━━━━━━━━━━━━━━━━━━━\u001b[0m\u001b[37m\u001b[0m \u001b[1m0s\u001b[0m 12ms/step - accuracy: 0.2236 - loss: -14.8646 - val_accuracy: 0.2800 - val_loss: -15.2869\n",
      "Epoch 169/500\n",
      "\u001b[1m5/5\u001b[0m \u001b[32m━━━━━━━━━━━━━━━━━━━━\u001b[0m\u001b[37m\u001b[0m \u001b[1m0s\u001b[0m 15ms/step - accuracy: 0.2364 - loss: -14.6980 - val_accuracy: 0.2800 - val_loss: -15.2914\n",
      "Epoch 170/500\n",
      "\u001b[1m5/5\u001b[0m \u001b[32m━━━━━━━━━━━━━━━━━━━━\u001b[0m\u001b[37m\u001b[0m \u001b[1m0s\u001b[0m 12ms/step - accuracy: 0.2003 - loss: -14.7315 - val_accuracy: 0.2800 - val_loss: -15.2975\n",
      "Epoch 171/500\n",
      "\u001b[1m5/5\u001b[0m \u001b[32m━━━━━━━━━━━━━━━━━━━━\u001b[0m\u001b[37m\u001b[0m \u001b[1m0s\u001b[0m 11ms/step - accuracy: 0.2042 - loss: -14.2635 - val_accuracy: 0.2800 - val_loss: -15.3035\n",
      "Epoch 172/500\n",
      "\u001b[1m5/5\u001b[0m \u001b[32m━━━━━━━━━━━━━━━━━━━━\u001b[0m\u001b[37m\u001b[0m \u001b[1m0s\u001b[0m 11ms/step - accuracy: 0.2281 - loss: -15.0283 - val_accuracy: 0.2800 - val_loss: -15.3115\n",
      "Epoch 173/500\n",
      "\u001b[1m5/5\u001b[0m \u001b[32m━━━━━━━━━━━━━━━━━━━━\u001b[0m\u001b[37m\u001b[0m \u001b[1m0s\u001b[0m 12ms/step - accuracy: 0.1992 - loss: -14.5611 - val_accuracy: 0.2800 - val_loss: -15.3189\n",
      "Epoch 174/500\n",
      "\u001b[1m5/5\u001b[0m \u001b[32m━━━━━━━━━━━━━━━━━━━━\u001b[0m\u001b[37m\u001b[0m \u001b[1m0s\u001b[0m 12ms/step - accuracy: 0.2258 - loss: -14.7605 - val_accuracy: 0.2800 - val_loss: -15.3267\n",
      "Epoch 175/500\n",
      "\u001b[1m5/5\u001b[0m \u001b[32m━━━━━━━━━━━━━━━━━━━━\u001b[0m\u001b[37m\u001b[0m \u001b[1m0s\u001b[0m 14ms/step - accuracy: 0.2225 - loss: -14.2988 - val_accuracy: 0.2800 - val_loss: -15.3336\n",
      "Epoch 176/500\n",
      "\u001b[1m5/5\u001b[0m \u001b[32m━━━━━━━━━━━━━━━━━━━━\u001b[0m\u001b[37m\u001b[0m \u001b[1m0s\u001b[0m 12ms/step - accuracy: 0.2214 - loss: -15.0056 - val_accuracy: 0.2800 - val_loss: -15.3408\n",
      "Epoch 177/500\n",
      "\u001b[1m5/5\u001b[0m \u001b[32m━━━━━━━━━━━━━━━━━━━━\u001b[0m\u001b[37m\u001b[0m \u001b[1m0s\u001b[0m 12ms/step - accuracy: 0.1836 - loss: -14.5799 - val_accuracy: 0.2800 - val_loss: -15.3490\n",
      "Epoch 178/500\n",
      "\u001b[1m5/5\u001b[0m \u001b[32m━━━━━━━━━━━━━━━━━━━━\u001b[0m\u001b[37m\u001b[0m \u001b[1m0s\u001b[0m 11ms/step - accuracy: 0.2125 - loss: -14.2031 - val_accuracy: 0.2800 - val_loss: -15.3563\n",
      "Epoch 179/500\n",
      "\u001b[1m5/5\u001b[0m \u001b[32m━━━━━━━━━━━━━━━━━━━━\u001b[0m\u001b[37m\u001b[0m \u001b[1m0s\u001b[0m 12ms/step - accuracy: 0.2011 - loss: -14.6775 - val_accuracy: 0.2800 - val_loss: -15.3607\n",
      "Epoch 180/500\n",
      "\u001b[1m5/5\u001b[0m \u001b[32m━━━━━━━━━━━━━━━━━━━━\u001b[0m\u001b[37m\u001b[0m \u001b[1m0s\u001b[0m 16ms/step - accuracy: 0.2017 - loss: -14.3777 - val_accuracy: 0.2800 - val_loss: -15.3637\n",
      "Epoch 181/500\n",
      "\u001b[1m5/5\u001b[0m \u001b[32m━━━━━━━━━━━━━━━━━━━━\u001b[0m\u001b[37m\u001b[0m \u001b[1m0s\u001b[0m 12ms/step - accuracy: 0.2006 - loss: -14.5722 - val_accuracy: 0.2800 - val_loss: -15.3685\n",
      "Epoch 182/500\n",
      "\u001b[1m5/5\u001b[0m \u001b[32m━━━━━━━━━━━━━━━━━━━━\u001b[0m\u001b[37m\u001b[0m \u001b[1m0s\u001b[0m 12ms/step - accuracy: 0.1931 - loss: -14.4344 - val_accuracy: 0.2800 - val_loss: -15.3723\n",
      "Epoch 183/500\n",
      "\u001b[1m5/5\u001b[0m \u001b[32m━━━━━━━━━━━━━━━━━━━━\u001b[0m\u001b[37m\u001b[0m \u001b[1m0s\u001b[0m 13ms/step - accuracy: 0.2217 - loss: -14.3587 - val_accuracy: 0.2800 - val_loss: -15.3768\n",
      "Epoch 184/500\n",
      "\u001b[1m5/5\u001b[0m \u001b[32m━━━━━━━━━━━━━━━━━━━━\u001b[0m\u001b[37m\u001b[0m \u001b[1m0s\u001b[0m 12ms/step - accuracy: 0.1889 - loss: -14.8472 - val_accuracy: 0.2800 - val_loss: -15.3814\n",
      "Epoch 185/500\n",
      "\u001b[1m5/5\u001b[0m \u001b[32m━━━━━━━━━━━━━━━━━━━━\u001b[0m\u001b[37m\u001b[0m \u001b[1m0s\u001b[0m 15ms/step - accuracy: 0.2039 - loss: -14.7857 - val_accuracy: 0.2800 - val_loss: -15.3860\n",
      "Epoch 186/500\n",
      "\u001b[1m5/5\u001b[0m \u001b[32m━━━━━━━━━━━━━━━━━━━━\u001b[0m\u001b[37m\u001b[0m \u001b[1m0s\u001b[0m 13ms/step - accuracy: 0.1997 - loss: -14.3376 - val_accuracy: 0.2800 - val_loss: -15.3910\n",
      "Epoch 187/500\n",
      "\u001b[1m5/5\u001b[0m \u001b[32m━━━━━━━━━━━━━━━━━━━━\u001b[0m\u001b[37m\u001b[0m \u001b[1m0s\u001b[0m 13ms/step - accuracy: 0.2200 - loss: -15.1773 - val_accuracy: 0.2800 - val_loss: -15.3957\n",
      "Epoch 188/500\n",
      "\u001b[1m5/5\u001b[0m \u001b[32m━━━━━━━━━━━━━━━━━━━━\u001b[0m\u001b[37m\u001b[0m \u001b[1m0s\u001b[0m 12ms/step - accuracy: 0.2145 - loss: -14.8795 - val_accuracy: 0.2800 - val_loss: -15.3996\n",
      "Epoch 189/500\n",
      "\u001b[1m5/5\u001b[0m \u001b[32m━━━━━━━━━━━━━━━━━━━━\u001b[0m\u001b[37m\u001b[0m \u001b[1m0s\u001b[0m 12ms/step - accuracy: 0.2306 - loss: -15.3689 - val_accuracy: 0.2800 - val_loss: -15.4052\n",
      "Epoch 190/500\n",
      "\u001b[1m5/5\u001b[0m \u001b[32m━━━━━━━━━━━━━━━━━━━━\u001b[0m\u001b[37m\u001b[0m \u001b[1m0s\u001b[0m 15ms/step - accuracy: 0.2128 - loss: -14.8622 - val_accuracy: 0.2800 - val_loss: -15.4084\n",
      "Epoch 191/500\n",
      "\u001b[1m5/5\u001b[0m \u001b[32m━━━━━━━━━━━━━━━━━━━━\u001b[0m\u001b[37m\u001b[0m \u001b[1m0s\u001b[0m 13ms/step - accuracy: 0.2181 - loss: -14.6484 - val_accuracy: 0.2800 - val_loss: -15.4120\n",
      "Epoch 192/500\n",
      "\u001b[1m5/5\u001b[0m \u001b[32m━━━━━━━━━━━━━━━━━━━━\u001b[0m\u001b[37m\u001b[0m \u001b[1m0s\u001b[0m 12ms/step - accuracy: 0.2322 - loss: -15.2663 - val_accuracy: 0.2800 - val_loss: -15.4182\n",
      "Epoch 193/500\n",
      "\u001b[1m5/5\u001b[0m \u001b[32m━━━━━━━━━━━━━━━━━━━━\u001b[0m\u001b[37m\u001b[0m \u001b[1m0s\u001b[0m 12ms/step - accuracy: 0.2283 - loss: -14.8605 - val_accuracy: 0.2800 - val_loss: -15.4220\n",
      "Epoch 194/500\n",
      "\u001b[1m5/5\u001b[0m \u001b[32m━━━━━━━━━━━━━━━━━━━━\u001b[0m\u001b[37m\u001b[0m \u001b[1m0s\u001b[0m 12ms/step - accuracy: 0.1789 - loss: -14.8733 - val_accuracy: 0.2800 - val_loss: -15.4263\n",
      "Epoch 195/500\n",
      "\u001b[1m5/5\u001b[0m \u001b[32m━━━━━━━━━━━━━━━━━━━━\u001b[0m\u001b[37m\u001b[0m \u001b[1m0s\u001b[0m 16ms/step - accuracy: 0.1967 - loss: -14.7025 - val_accuracy: 0.2800 - val_loss: -15.4306\n",
      "Epoch 196/500\n",
      "\u001b[1m5/5\u001b[0m \u001b[32m━━━━━━━━━━━━━━━━━━━━\u001b[0m\u001b[37m\u001b[0m \u001b[1m0s\u001b[0m 12ms/step - accuracy: 0.2142 - loss: -14.7755 - val_accuracy: 0.2800 - val_loss: -15.4332\n",
      "Epoch 197/500\n",
      "\u001b[1m5/5\u001b[0m \u001b[32m━━━━━━━━━━━━━━━━━━━━\u001b[0m\u001b[37m\u001b[0m \u001b[1m0s\u001b[0m 12ms/step - accuracy: 0.2200 - loss: -14.8576 - val_accuracy: 0.2800 - val_loss: -15.4360\n",
      "Epoch 198/500\n",
      "\u001b[1m5/5\u001b[0m \u001b[32m━━━━━━━━━━━━━━━━━━━━\u001b[0m\u001b[37m\u001b[0m \u001b[1m0s\u001b[0m 12ms/step - accuracy: 0.2289 - loss: -14.8461 - val_accuracy: 0.2800 - val_loss: -15.4394\n",
      "Epoch 199/500\n",
      "\u001b[1m5/5\u001b[0m \u001b[32m━━━━━━━━━━━━━━━━━━━━\u001b[0m\u001b[37m\u001b[0m \u001b[1m0s\u001b[0m 12ms/step - accuracy: 0.2114 - loss: -14.5635 - val_accuracy: 0.2800 - val_loss: -15.4420\n",
      "Epoch 200/500\n",
      "\u001b[1m5/5\u001b[0m \u001b[32m━━━━━━━━━━━━━━━━━━━━\u001b[0m\u001b[37m\u001b[0m \u001b[1m0s\u001b[0m 14ms/step - accuracy: 0.2431 - loss: -15.1460 - val_accuracy: 0.2800 - val_loss: -15.4475\n",
      "Epoch 201/500\n",
      "\u001b[1m5/5\u001b[0m \u001b[32m━━━━━━━━━━━━━━━━━━━━\u001b[0m\u001b[37m\u001b[0m \u001b[1m0s\u001b[0m 13ms/step - accuracy: 0.2070 - loss: -14.9821 - val_accuracy: 0.2800 - val_loss: -15.4530\n",
      "Epoch 202/500\n",
      "\u001b[1m5/5\u001b[0m \u001b[32m━━━━━━━━━━━━━━━━━━━━\u001b[0m\u001b[37m\u001b[0m \u001b[1m0s\u001b[0m 11ms/step - accuracy: 0.2433 - loss: -14.6275 - val_accuracy: 0.2800 - val_loss: -15.4590\n",
      "Epoch 203/500\n",
      "\u001b[1m5/5\u001b[0m \u001b[32m━━━━━━━━━━━━━━━━━━━━\u001b[0m\u001b[37m\u001b[0m \u001b[1m0s\u001b[0m 12ms/step - accuracy: 0.2214 - loss: -15.0826 - val_accuracy: 0.2800 - val_loss: -15.4634\n",
      "Epoch 204/500\n",
      "\u001b[1m5/5\u001b[0m \u001b[32m━━━━━━━━━━━━━━━━━━━━\u001b[0m\u001b[37m\u001b[0m \u001b[1m0s\u001b[0m 12ms/step - accuracy: 0.2186 - loss: -14.6967 - val_accuracy: 0.2800 - val_loss: -15.4679\n",
      "Epoch 205/500\n",
      "\u001b[1m5/5\u001b[0m \u001b[32m━━━━━━━━━━━━━━━━━━━━\u001b[0m\u001b[37m\u001b[0m \u001b[1m0s\u001b[0m 14ms/step - accuracy: 0.2336 - loss: -15.0828 - val_accuracy: 0.2800 - val_loss: -15.4734\n",
      "Epoch 206/500\n",
      "\u001b[1m5/5\u001b[0m \u001b[32m━━━━━━━━━━━━━━━━━━━━\u001b[0m\u001b[37m\u001b[0m \u001b[1m0s\u001b[0m 13ms/step - accuracy: 0.1972 - loss: -14.4574 - val_accuracy: 0.2800 - val_loss: -15.4774\n",
      "Epoch 207/500\n",
      "\u001b[1m5/5\u001b[0m \u001b[32m━━━━━━━━━━━━━━━━━━━━\u001b[0m\u001b[37m\u001b[0m \u001b[1m0s\u001b[0m 13ms/step - accuracy: 0.2011 - loss: -14.7685 - val_accuracy: 0.2800 - val_loss: -15.4821\n",
      "Epoch 208/500\n",
      "\u001b[1m5/5\u001b[0m \u001b[32m━━━━━━━━━━━━━━━━━━━━\u001b[0m\u001b[37m\u001b[0m \u001b[1m0s\u001b[0m 12ms/step - accuracy: 0.2342 - loss: -15.0283 - val_accuracy: 0.2800 - val_loss: -15.4884\n",
      "Epoch 209/500\n",
      "\u001b[1m5/5\u001b[0m \u001b[32m━━━━━━━━━━━━━━━━━━━━\u001b[0m\u001b[37m\u001b[0m \u001b[1m0s\u001b[0m 15ms/step - accuracy: 0.2072 - loss: -14.5420 - val_accuracy: 0.2800 - val_loss: -15.4932\n",
      "Epoch 210/500\n",
      "\u001b[1m5/5\u001b[0m \u001b[32m━━━━━━━━━━━━━━━━━━━━\u001b[0m\u001b[37m\u001b[0m \u001b[1m0s\u001b[0m 12ms/step - accuracy: 0.2081 - loss: -14.6543 - val_accuracy: 0.2800 - val_loss: -15.4989\n",
      "Epoch 211/500\n",
      "\u001b[1m5/5\u001b[0m \u001b[32m━━━━━━━━━━━━━━━━━━━━\u001b[0m\u001b[37m\u001b[0m \u001b[1m0s\u001b[0m 13ms/step - accuracy: 0.2208 - loss: -15.1192 - val_accuracy: 0.2800 - val_loss: -15.5041\n",
      "Epoch 212/500\n",
      "\u001b[1m5/5\u001b[0m \u001b[32m━━━━━━━━━━━━━━━━━━━━\u001b[0m\u001b[37m\u001b[0m \u001b[1m0s\u001b[0m 12ms/step - accuracy: 0.2217 - loss: -14.9221 - val_accuracy: 0.2800 - val_loss: -15.5096\n",
      "Epoch 213/500\n",
      "\u001b[1m5/5\u001b[0m \u001b[32m━━━━━━━━━━━━━━━━━━━━\u001b[0m\u001b[37m\u001b[0m \u001b[1m0s\u001b[0m 15ms/step - accuracy: 0.2242 - loss: -15.0562 - val_accuracy: 0.2800 - val_loss: -15.5150\n",
      "Epoch 214/500\n",
      "\u001b[1m5/5\u001b[0m \u001b[32m━━━━━━━━━━━━━━━━━━━━\u001b[0m\u001b[37m\u001b[0m \u001b[1m0s\u001b[0m 14ms/step - accuracy: 0.2114 - loss: -14.9613 - val_accuracy: 0.2800 - val_loss: -15.5186\n",
      "Epoch 215/500\n",
      "\u001b[1m5/5\u001b[0m \u001b[32m━━━━━━━━━━━━━━━━━━━━\u001b[0m\u001b[37m\u001b[0m \u001b[1m0s\u001b[0m 13ms/step - accuracy: 0.2147 - loss: -15.1894 - val_accuracy: 0.2800 - val_loss: -15.5217\n",
      "Epoch 216/500\n",
      "\u001b[1m5/5\u001b[0m \u001b[32m━━━━━━━━━━━━━━━━━━━━\u001b[0m\u001b[37m\u001b[0m \u001b[1m0s\u001b[0m 13ms/step - accuracy: 0.2308 - loss: -14.9474 - val_accuracy: 0.2800 - val_loss: -15.5258\n",
      "Epoch 217/500\n",
      "\u001b[1m5/5\u001b[0m \u001b[32m━━━━━━━━━━━━━━━━━━━━\u001b[0m\u001b[37m\u001b[0m \u001b[1m0s\u001b[0m 14ms/step - accuracy: 0.2061 - loss: -14.8911 - val_accuracy: 0.2800 - val_loss: -15.5305\n",
      "Epoch 218/500\n",
      "\u001b[1m5/5\u001b[0m \u001b[32m━━━━━━━━━━━━━━━━━━━━\u001b[0m\u001b[37m\u001b[0m \u001b[1m0s\u001b[0m 12ms/step - accuracy: 0.1972 - loss: -14.9653 - val_accuracy: 0.2800 - val_loss: -15.5338\n",
      "Epoch 219/500\n",
      "\u001b[1m5/5\u001b[0m \u001b[32m━━━━━━━━━━━━━━━━━━━━\u001b[0m\u001b[37m\u001b[0m \u001b[1m0s\u001b[0m 12ms/step - accuracy: 0.2139 - loss: -15.1772 - val_accuracy: 0.2800 - val_loss: -15.5389\n",
      "Epoch 220/500\n",
      "\u001b[1m5/5\u001b[0m \u001b[32m━━━━━━━━━━━━━━━━━━━━\u001b[0m\u001b[37m\u001b[0m \u001b[1m0s\u001b[0m 13ms/step - accuracy: 0.1878 - loss: -14.4022 - val_accuracy: 0.2800 - val_loss: -15.5433\n",
      "Epoch 221/500\n",
      "\u001b[1m5/5\u001b[0m \u001b[32m━━━━━━━━━━━━━━━━━━━━\u001b[0m\u001b[37m\u001b[0m \u001b[1m0s\u001b[0m 14ms/step - accuracy: 0.2028 - loss: -14.6625 - val_accuracy: 0.2800 - val_loss: -15.5482\n",
      "Epoch 222/500\n",
      "\u001b[1m5/5\u001b[0m \u001b[32m━━━━━━━━━━━━━━━━━━━━\u001b[0m\u001b[37m\u001b[0m \u001b[1m0s\u001b[0m 12ms/step - accuracy: 0.1986 - loss: -14.9213 - val_accuracy: 0.2800 - val_loss: -15.5521\n",
      "Epoch 223/500\n",
      "\u001b[1m5/5\u001b[0m \u001b[32m━━━━━━━━━━━━━━━━━━━━\u001b[0m\u001b[37m\u001b[0m \u001b[1m0s\u001b[0m 13ms/step - accuracy: 0.1845 - loss: -14.8188 - val_accuracy: 0.2800 - val_loss: -15.5541\n",
      "Epoch 224/500\n",
      "\u001b[1m5/5\u001b[0m \u001b[32m━━━━━━━━━━━━━━━━━━━━\u001b[0m\u001b[37m\u001b[0m \u001b[1m0s\u001b[0m 13ms/step - accuracy: 0.2192 - loss: -15.2270 - val_accuracy: 0.2800 - val_loss: -15.5581\n",
      "Epoch 225/500\n",
      "\u001b[1m5/5\u001b[0m \u001b[32m━━━━━━━━━━━━━━━━━━━━\u001b[0m\u001b[37m\u001b[0m \u001b[1m0s\u001b[0m 15ms/step - accuracy: 0.2172 - loss: -15.1456 - val_accuracy: 0.2800 - val_loss: -15.5615\n",
      "Epoch 226/500\n",
      "\u001b[1m5/5\u001b[0m \u001b[32m━━━━━━━━━━━━━━━━━━━━\u001b[0m\u001b[37m\u001b[0m \u001b[1m0s\u001b[0m 13ms/step - accuracy: 0.2031 - loss: -14.7718 - val_accuracy: 0.2800 - val_loss: -15.5637\n",
      "Epoch 227/500\n",
      "\u001b[1m5/5\u001b[0m \u001b[32m━━━━━━━━━━━━━━━━━━━━\u001b[0m\u001b[37m\u001b[0m \u001b[1m0s\u001b[0m 13ms/step - accuracy: 0.2211 - loss: -15.1165 - val_accuracy: 0.2800 - val_loss: -15.5679\n",
      "Epoch 228/500\n",
      "\u001b[1m5/5\u001b[0m \u001b[32m━━━━━━━━━━━━━━━━━━━━\u001b[0m\u001b[37m\u001b[0m \u001b[1m0s\u001b[0m 16ms/step - accuracy: 0.2039 - loss: -15.1235 - val_accuracy: 0.2800 - val_loss: -15.5707\n",
      "Epoch 229/500\n",
      "\u001b[1m5/5\u001b[0m \u001b[32m━━━━━━━━━━━━━━━━━━━━\u001b[0m\u001b[37m\u001b[0m \u001b[1m0s\u001b[0m 16ms/step - accuracy: 0.2170 - loss: -15.0955 - val_accuracy: 0.2800 - val_loss: -15.5752\n",
      "Epoch 230/500\n",
      "\u001b[1m5/5\u001b[0m \u001b[32m━━━━━━━━━━━━━━━━━━━━\u001b[0m\u001b[37m\u001b[0m \u001b[1m0s\u001b[0m 13ms/step - accuracy: 0.2117 - loss: -14.7283 - val_accuracy: 0.2800 - val_loss: -15.5767\n",
      "Epoch 231/500\n",
      "\u001b[1m5/5\u001b[0m \u001b[32m━━━━━━━━━━━━━━━━━━━━\u001b[0m\u001b[37m\u001b[0m \u001b[1m0s\u001b[0m 12ms/step - accuracy: 0.2092 - loss: -15.0617 - val_accuracy: 0.2800 - val_loss: -15.5786\n",
      "Epoch 232/500\n",
      "\u001b[1m5/5\u001b[0m \u001b[32m━━━━━━━━━━━━━━━━━━━━\u001b[0m\u001b[37m\u001b[0m \u001b[1m0s\u001b[0m 12ms/step - accuracy: 0.2139 - loss: -15.3920 - val_accuracy: 0.2800 - val_loss: -15.5823\n",
      "Epoch 233/500\n",
      "\u001b[1m5/5\u001b[0m \u001b[32m━━━━━━━━━━━━━━━━━━━━\u001b[0m\u001b[37m\u001b[0m \u001b[1m0s\u001b[0m 15ms/step - accuracy: 0.1861 - loss: -14.9459 - val_accuracy: 0.2800 - val_loss: -15.5848\n",
      "Epoch 234/500\n",
      "\u001b[1m5/5\u001b[0m \u001b[32m━━━━━━━━━━━━━━━━━━━━\u001b[0m\u001b[37m\u001b[0m \u001b[1m0s\u001b[0m 12ms/step - accuracy: 0.1945 - loss: -15.0485 - val_accuracy: 0.2800 - val_loss: -15.5876\n",
      "Epoch 235/500\n",
      "\u001b[1m5/5\u001b[0m \u001b[32m━━━━━━━━━━━━━━━━━━━━\u001b[0m\u001b[37m\u001b[0m \u001b[1m0s\u001b[0m 12ms/step - accuracy: 0.2239 - loss: -15.1661 - val_accuracy: 0.2800 - val_loss: -15.5904\n",
      "Epoch 236/500\n",
      "\u001b[1m5/5\u001b[0m \u001b[32m━━━━━━━━━━━━━━━━━━━━\u001b[0m\u001b[37m\u001b[0m \u001b[1m0s\u001b[0m 12ms/step - accuracy: 0.2283 - loss: -15.1368 - val_accuracy: 0.2800 - val_loss: -15.5958\n",
      "Epoch 237/500\n",
      "\u001b[1m5/5\u001b[0m \u001b[32m━━━━━━━━━━━━━━━━━━━━\u001b[0m\u001b[37m\u001b[0m \u001b[1m0s\u001b[0m 15ms/step - accuracy: 0.1903 - loss: -14.4915 - val_accuracy: 0.2800 - val_loss: -15.6013\n",
      "Epoch 238/500\n",
      "\u001b[1m5/5\u001b[0m \u001b[32m━━━━━━━━━━━━━━━━━━━━\u001b[0m\u001b[37m\u001b[0m \u001b[1m0s\u001b[0m 12ms/step - accuracy: 0.2214 - loss: -15.1860 - val_accuracy: 0.2800 - val_loss: -15.6061\n",
      "Epoch 239/500\n",
      "\u001b[1m5/5\u001b[0m \u001b[32m━━━━━━━━━━━━━━━━━━━━\u001b[0m\u001b[37m\u001b[0m \u001b[1m0s\u001b[0m 14ms/step - accuracy: 0.2086 - loss: -15.0639 - val_accuracy: 0.2800 - val_loss: -15.6101\n",
      "Epoch 240/500\n",
      "\u001b[1m5/5\u001b[0m \u001b[32m━━━━━━━━━━━━━━━━━━━━\u001b[0m\u001b[37m\u001b[0m \u001b[1m0s\u001b[0m 12ms/step - accuracy: 0.2170 - loss: -14.8716 - val_accuracy: 0.2800 - val_loss: -15.6160\n",
      "Epoch 241/500\n",
      "\u001b[1m5/5\u001b[0m \u001b[32m━━━━━━━━━━━━━━━━━━━━\u001b[0m\u001b[37m\u001b[0m \u001b[1m0s\u001b[0m 14ms/step - accuracy: 0.2120 - loss: -15.4206 - val_accuracy: 0.2800 - val_loss: -15.6206\n",
      "Epoch 242/500\n",
      "\u001b[1m5/5\u001b[0m \u001b[32m━━━━━━━━━━━━━━━━━━━━\u001b[0m\u001b[37m\u001b[0m \u001b[1m0s\u001b[0m 14ms/step - accuracy: 0.1975 - loss: -14.8892 - val_accuracy: 0.2800 - val_loss: -15.6230\n",
      "Epoch 243/500\n",
      "\u001b[1m5/5\u001b[0m \u001b[32m━━━━━━━━━━━━━━━━━━━━\u001b[0m\u001b[37m\u001b[0m \u001b[1m0s\u001b[0m 12ms/step - accuracy: 0.2361 - loss: -15.1268 - val_accuracy: 0.2800 - val_loss: -15.6268\n",
      "Epoch 244/500\n",
      "\u001b[1m5/5\u001b[0m \u001b[32m━━━━━━━━━━━━━━━━━━━━\u001b[0m\u001b[37m\u001b[0m \u001b[1m0s\u001b[0m 12ms/step - accuracy: 0.2253 - loss: -14.9931 - val_accuracy: 0.2800 - val_loss: -15.6320\n",
      "Epoch 245/500\n",
      "\u001b[1m5/5\u001b[0m \u001b[32m━━━━━━━━━━━━━━━━━━━━\u001b[0m\u001b[37m\u001b[0m \u001b[1m0s\u001b[0m 13ms/step - accuracy: 0.2181 - loss: -14.8838 - val_accuracy: 0.2800 - val_loss: -15.6365\n",
      "Epoch 246/500\n",
      "\u001b[1m5/5\u001b[0m \u001b[32m━━━━━━━━━━━━━━━━━━━━\u001b[0m\u001b[37m\u001b[0m \u001b[1m0s\u001b[0m 13ms/step - accuracy: 0.1786 - loss: -14.8727 - val_accuracy: 0.2800 - val_loss: -15.6410\n",
      "Epoch 247/500\n",
      "\u001b[1m5/5\u001b[0m \u001b[32m━━━━━━━━━━━━━━━━━━━━\u001b[0m\u001b[37m\u001b[0m \u001b[1m0s\u001b[0m 12ms/step - accuracy: 0.2097 - loss: -15.0185 - val_accuracy: 0.3067 - val_loss: -15.6461\n",
      "Epoch 248/500\n",
      "\u001b[1m5/5\u001b[0m \u001b[32m━━━━━━━━━━━━━━━━━━━━\u001b[0m\u001b[37m\u001b[0m \u001b[1m0s\u001b[0m 13ms/step - accuracy: 0.2536 - loss: -15.0820 - val_accuracy: 0.3067 - val_loss: -15.6503\n",
      "Epoch 249/500\n",
      "\u001b[1m5/5\u001b[0m \u001b[32m━━━━━━━━━━━━━━━━━━━━\u001b[0m\u001b[37m\u001b[0m \u001b[1m0s\u001b[0m 13ms/step - accuracy: 0.2639 - loss: -15.0461 - val_accuracy: 0.3067 - val_loss: -15.6547\n",
      "Epoch 250/500\n",
      "\u001b[1m5/5\u001b[0m \u001b[32m━━━━━━━━━━━━━━━━━━━━\u001b[0m\u001b[37m\u001b[0m \u001b[1m0s\u001b[0m 15ms/step - accuracy: 0.2603 - loss: -15.2308 - val_accuracy: 0.3067 - val_loss: -15.6587\n",
      "Epoch 251/500\n",
      "\u001b[1m5/5\u001b[0m \u001b[32m━━━━━━━━━━━━━━━━━━━━\u001b[0m\u001b[37m\u001b[0m \u001b[1m0s\u001b[0m 12ms/step - accuracy: 0.2542 - loss: -14.5250 - val_accuracy: 0.3067 - val_loss: -15.6639\n",
      "Epoch 252/500\n",
      "\u001b[1m5/5\u001b[0m \u001b[32m━━━━━━━━━━━━━━━━━━━━\u001b[0m\u001b[37m\u001b[0m \u001b[1m0s\u001b[0m 12ms/step - accuracy: 0.2267 - loss: -15.1902 - val_accuracy: 0.3067 - val_loss: -15.6699\n",
      "Epoch 253/500\n",
      "\u001b[1m5/5\u001b[0m \u001b[32m━━━━━━━━━━━━━━━━━━━━\u001b[0m\u001b[37m\u001b[0m \u001b[1m0s\u001b[0m 15ms/step - accuracy: 0.2461 - loss: -15.2316 - val_accuracy: 0.3067 - val_loss: -15.6753\n",
      "Epoch 254/500\n",
      "\u001b[1m5/5\u001b[0m \u001b[32m━━━━━━━━━━━━━━━━━━━━\u001b[0m\u001b[37m\u001b[0m \u001b[1m0s\u001b[0m 12ms/step - accuracy: 0.2628 - loss: -15.3497 - val_accuracy: 0.3067 - val_loss: -15.6799\n",
      "Epoch 255/500\n",
      "\u001b[1m5/5\u001b[0m \u001b[32m━━━━━━━━━━━━━━━━━━━━\u001b[0m\u001b[37m\u001b[0m \u001b[1m0s\u001b[0m 12ms/step - accuracy: 0.2542 - loss: -15.0846 - val_accuracy: 0.3067 - val_loss: -15.6846\n",
      "Epoch 256/500\n",
      "\u001b[1m5/5\u001b[0m \u001b[32m━━━━━━━━━━━━━━━━━━━━\u001b[0m\u001b[37m\u001b[0m \u001b[1m0s\u001b[0m 12ms/step - accuracy: 0.2545 - loss: -14.8188 - val_accuracy: 0.3067 - val_loss: -15.6904\n",
      "Epoch 257/500\n",
      "\u001b[1m5/5\u001b[0m \u001b[32m━━━━━━━━━━━━━━━━━━━━\u001b[0m\u001b[37m\u001b[0m \u001b[1m0s\u001b[0m 14ms/step - accuracy: 0.2409 - loss: -15.0621 - val_accuracy: 0.3067 - val_loss: -15.6954\n",
      "Epoch 258/500\n",
      "\u001b[1m5/5\u001b[0m \u001b[32m━━━━━━━━━━━━━━━━━━━━\u001b[0m\u001b[37m\u001b[0m \u001b[1m0s\u001b[0m 12ms/step - accuracy: 0.2714 - loss: -15.2507 - val_accuracy: 0.3067 - val_loss: -15.7002\n",
      "Epoch 259/500\n",
      "\u001b[1m5/5\u001b[0m \u001b[32m━━━━━━━━━━━━━━━━━━━━\u001b[0m\u001b[37m\u001b[0m \u001b[1m0s\u001b[0m 13ms/step - accuracy: 0.2584 - loss: -14.9970 - val_accuracy: 0.3067 - val_loss: -15.7039\n",
      "Epoch 260/500\n",
      "\u001b[1m5/5\u001b[0m \u001b[32m━━━━━━━━━━━━━━━━━━━━\u001b[0m\u001b[37m\u001b[0m \u001b[1m0s\u001b[0m 12ms/step - accuracy: 0.2681 - loss: -15.2468 - val_accuracy: 0.3067 - val_loss: -15.7105\n",
      "Epoch 261/500\n",
      "\u001b[1m5/5\u001b[0m \u001b[32m━━━━━━━━━━━━━━━━━━━━\u001b[0m\u001b[37m\u001b[0m \u001b[1m0s\u001b[0m 15ms/step - accuracy: 0.2456 - loss: -14.9389 - val_accuracy: 0.3067 - val_loss: -15.7149\n",
      "Epoch 262/500\n",
      "\u001b[1m5/5\u001b[0m \u001b[32m━━━━━━━━━━━━━━━━━━━━\u001b[0m\u001b[37m\u001b[0m \u001b[1m0s\u001b[0m 13ms/step - accuracy: 0.2381 - loss: -15.1436 - val_accuracy: 0.3067 - val_loss: -15.7183\n",
      "Epoch 263/500\n",
      "\u001b[1m5/5\u001b[0m \u001b[32m━━━━━━━━━━━━━━━━━━━━\u001b[0m\u001b[37m\u001b[0m \u001b[1m0s\u001b[0m 13ms/step - accuracy: 0.2728 - loss: -15.1552 - val_accuracy: 0.3067 - val_loss: -15.7230\n",
      "Epoch 264/500\n",
      "\u001b[1m5/5\u001b[0m \u001b[32m━━━━━━━━━━━━━━━━━━━━\u001b[0m\u001b[37m\u001b[0m \u001b[1m0s\u001b[0m 12ms/step - accuracy: 0.2553 - loss: -15.2946 - val_accuracy: 0.3067 - val_loss: -15.7269\n",
      "Epoch 265/500\n",
      "\u001b[1m5/5\u001b[0m \u001b[32m━━━━━━━━━━━━━━━━━━━━\u001b[0m\u001b[37m\u001b[0m \u001b[1m0s\u001b[0m 14ms/step - accuracy: 0.2281 - loss: -15.1474 - val_accuracy: 0.3067 - val_loss: -15.7321\n",
      "Epoch 266/500\n",
      "\u001b[1m5/5\u001b[0m \u001b[32m━━━━━━━━━━━━━━━━━━━━\u001b[0m\u001b[37m\u001b[0m \u001b[1m0s\u001b[0m 13ms/step - accuracy: 0.2603 - loss: -14.6113 - val_accuracy: 0.3067 - val_loss: -15.7358\n",
      "Epoch 267/500\n",
      "\u001b[1m5/5\u001b[0m \u001b[32m━━━━━━━━━━━━━━━━━━━━\u001b[0m\u001b[37m\u001b[0m \u001b[1m0s\u001b[0m 14ms/step - accuracy: 0.2595 - loss: -15.1277 - val_accuracy: 0.3067 - val_loss: -15.7393\n",
      "Epoch 268/500\n",
      "\u001b[1m5/5\u001b[0m \u001b[32m━━━━━━━━━━━━━━━━━━━━\u001b[0m\u001b[37m\u001b[0m \u001b[1m0s\u001b[0m 12ms/step - accuracy: 0.2581 - loss: -15.1893 - val_accuracy: 0.3067 - val_loss: -15.7445\n",
      "Epoch 269/500\n",
      "\u001b[1m5/5\u001b[0m \u001b[32m━━━━━━━━━━━━━━━━━━━━\u001b[0m\u001b[37m\u001b[0m \u001b[1m0s\u001b[0m 15ms/step - accuracy: 0.2456 - loss: -14.9594 - val_accuracy: 0.3067 - val_loss: -15.7493\n",
      "Epoch 270/500\n",
      "\u001b[1m5/5\u001b[0m \u001b[32m━━━━━━━━━━━━━━━━━━━━\u001b[0m\u001b[37m\u001b[0m \u001b[1m0s\u001b[0m 14ms/step - accuracy: 0.2303 - loss: -15.5552 - val_accuracy: 0.3067 - val_loss: -15.7542\n",
      "Epoch 271/500\n",
      "\u001b[1m5/5\u001b[0m \u001b[32m━━━━━━━━━━━━━━━━━━━━\u001b[0m\u001b[37m\u001b[0m \u001b[1m0s\u001b[0m 14ms/step - accuracy: 0.2675 - loss: -15.0528 - val_accuracy: 0.3067 - val_loss: -15.7595\n",
      "Epoch 272/500\n",
      "\u001b[1m5/5\u001b[0m \u001b[32m━━━━━━━━━━━━━━━━━━━━\u001b[0m\u001b[37m\u001b[0m \u001b[1m0s\u001b[0m 17ms/step - accuracy: 0.2448 - loss: -15.1476 - val_accuracy: 0.3067 - val_loss: -15.7651\n",
      "Epoch 273/500\n",
      "\u001b[1m5/5\u001b[0m \u001b[32m━━━━━━━━━━━━━━━━━━━━\u001b[0m\u001b[37m\u001b[0m \u001b[1m0s\u001b[0m 14ms/step - accuracy: 0.2342 - loss: -15.1561 - val_accuracy: 0.3067 - val_loss: -15.7701\n",
      "Epoch 274/500\n",
      "\u001b[1m5/5\u001b[0m \u001b[32m━━━━━━━━━━━━━━━━━━━━\u001b[0m\u001b[37m\u001b[0m \u001b[1m0s\u001b[0m 13ms/step - accuracy: 0.2909 - loss: -15.1675 - val_accuracy: 0.3067 - val_loss: -15.7728\n",
      "Epoch 275/500\n",
      "\u001b[1m5/5\u001b[0m \u001b[32m━━━━━━━━━━━━━━━━━━━━\u001b[0m\u001b[37m\u001b[0m \u001b[1m0s\u001b[0m 13ms/step - accuracy: 0.2698 - loss: -15.0219 - val_accuracy: 0.3067 - val_loss: -15.7766\n",
      "Epoch 276/500\n",
      "\u001b[1m5/5\u001b[0m \u001b[32m━━━━━━━━━━━━━━━━━━━━\u001b[0m\u001b[37m\u001b[0m \u001b[1m0s\u001b[0m 16ms/step - accuracy: 0.2656 - loss: -15.0130 - val_accuracy: 0.3067 - val_loss: -15.7818\n",
      "Epoch 277/500\n",
      "\u001b[1m5/5\u001b[0m \u001b[32m━━━━━━━━━━━━━━━━━━━━\u001b[0m\u001b[37m\u001b[0m \u001b[1m0s\u001b[0m 12ms/step - accuracy: 0.2467 - loss: -15.6366 - val_accuracy: 0.3067 - val_loss: -15.7860\n",
      "Epoch 278/500\n",
      "\u001b[1m5/5\u001b[0m \u001b[32m━━━━━━━━━━━━━━━━━━━━\u001b[0m\u001b[37m\u001b[0m \u001b[1m0s\u001b[0m 13ms/step - accuracy: 0.2611 - loss: -15.5928 - val_accuracy: 0.3067 - val_loss: -15.7894\n",
      "Epoch 279/500\n",
      "\u001b[1m5/5\u001b[0m \u001b[32m━━━━━━━━━━━━━━━━━━━━\u001b[0m\u001b[37m\u001b[0m \u001b[1m0s\u001b[0m 14ms/step - accuracy: 0.2595 - loss: -15.3067 - val_accuracy: 0.3067 - val_loss: -15.7930\n",
      "Epoch 280/500\n",
      "\u001b[1m5/5\u001b[0m \u001b[32m━━━━━━━━━━━━━━━━━━━━\u001b[0m\u001b[37m\u001b[0m \u001b[1m0s\u001b[0m 12ms/step - accuracy: 0.2353 - loss: -15.2312 - val_accuracy: 0.3067 - val_loss: -15.7967\n",
      "Epoch 281/500\n",
      "\u001b[1m5/5\u001b[0m \u001b[32m━━━━━━━━━━━━━━━━━━━━\u001b[0m\u001b[37m\u001b[0m \u001b[1m0s\u001b[0m 12ms/step - accuracy: 0.2548 - loss: -15.0857 - val_accuracy: 0.3067 - val_loss: -15.8013\n",
      "Epoch 282/500\n",
      "\u001b[1m5/5\u001b[0m \u001b[32m━━━━━━━━━━━━━━━━━━━━\u001b[0m\u001b[37m\u001b[0m \u001b[1m0s\u001b[0m 14ms/step - accuracy: 0.2739 - loss: -14.8352 - val_accuracy: 0.3067 - val_loss: -15.8033\n",
      "Epoch 283/500\n",
      "\u001b[1m5/5\u001b[0m \u001b[32m━━━━━━━━━━━━━━━━━━━━\u001b[0m\u001b[37m\u001b[0m \u001b[1m0s\u001b[0m 12ms/step - accuracy: 0.2703 - loss: -15.3209 - val_accuracy: 0.3067 - val_loss: -15.8074\n",
      "Epoch 284/500\n",
      "\u001b[1m5/5\u001b[0m \u001b[32m━━━━━━━━━━━━━━━━━━━━\u001b[0m\u001b[37m\u001b[0m \u001b[1m0s\u001b[0m 12ms/step - accuracy: 0.2589 - loss: -14.7992 - val_accuracy: 0.3067 - val_loss: -15.8113\n",
      "Epoch 285/500\n",
      "\u001b[1m5/5\u001b[0m \u001b[32m━━━━━━━━━━━━━━━━━━━━\u001b[0m\u001b[37m\u001b[0m \u001b[1m0s\u001b[0m 13ms/step - accuracy: 0.2434 - loss: -15.4971 - val_accuracy: 0.3067 - val_loss: -15.8158\n",
      "Epoch 286/500\n",
      "\u001b[1m5/5\u001b[0m \u001b[32m━━━━━━━━━━━━━━━━━━━━\u001b[0m\u001b[37m\u001b[0m \u001b[1m0s\u001b[0m 13ms/step - accuracy: 0.2378 - loss: -15.4744 - val_accuracy: 0.3067 - val_loss: -15.8202\n",
      "Epoch 287/500\n",
      "\u001b[1m5/5\u001b[0m \u001b[32m━━━━━━━━━━━━━━━━━━━━\u001b[0m\u001b[37m\u001b[0m \u001b[1m0s\u001b[0m 13ms/step - accuracy: 0.2409 - loss: -15.2250 - val_accuracy: 0.3067 - val_loss: -15.8249\n",
      "Epoch 288/500\n",
      "\u001b[1m5/5\u001b[0m \u001b[32m━━━━━━━━━━━━━━━━━━━━\u001b[0m\u001b[37m\u001b[0m \u001b[1m0s\u001b[0m 12ms/step - accuracy: 0.2434 - loss: -15.3809 - val_accuracy: 0.3067 - val_loss: -15.8292\n",
      "Epoch 289/500\n",
      "\u001b[1m5/5\u001b[0m \u001b[32m━━━━━━━━━━━━━━━━━━━━\u001b[0m\u001b[37m\u001b[0m \u001b[1m0s\u001b[0m 23ms/step - accuracy: 0.2475 - loss: -15.1864 - val_accuracy: 0.3067 - val_loss: -15.8325\n",
      "Epoch 290/500\n",
      "\u001b[1m5/5\u001b[0m \u001b[32m━━━━━━━━━━━━━━━━━━━━\u001b[0m\u001b[37m\u001b[0m \u001b[1m0s\u001b[0m 12ms/step - accuracy: 0.2411 - loss: -15.0983 - val_accuracy: 0.3067 - val_loss: -15.8363\n",
      "Epoch 291/500\n",
      "\u001b[1m5/5\u001b[0m \u001b[32m━━━━━━━━━━━━━━━━━━━━\u001b[0m\u001b[37m\u001b[0m \u001b[1m0s\u001b[0m 12ms/step - accuracy: 0.2675 - loss: -15.7795 - val_accuracy: 0.3067 - val_loss: -15.8412\n",
      "Epoch 292/500\n",
      "\u001b[1m5/5\u001b[0m \u001b[32m━━━━━━━━━━━━━━━━━━━━\u001b[0m\u001b[37m\u001b[0m \u001b[1m0s\u001b[0m 12ms/step - accuracy: 0.2598 - loss: -15.2701 - val_accuracy: 0.3067 - val_loss: -15.8455\n",
      "Epoch 293/500\n",
      "\u001b[1m5/5\u001b[0m \u001b[32m━━━━━━━━━━━━━━━━━━━━\u001b[0m\u001b[37m\u001b[0m \u001b[1m0s\u001b[0m 14ms/step - accuracy: 0.2575 - loss: -15.5407 - val_accuracy: 0.3067 - val_loss: -15.8488\n",
      "Epoch 294/500\n",
      "\u001b[1m5/5\u001b[0m \u001b[32m━━━━━━━━━━━━━━━━━━━━\u001b[0m\u001b[37m\u001b[0m \u001b[1m0s\u001b[0m 15ms/step - accuracy: 0.2778 - loss: -15.6216 - val_accuracy: 0.3067 - val_loss: -15.8524\n",
      "Epoch 295/500\n",
      "\u001b[1m5/5\u001b[0m \u001b[32m━━━━━━━━━━━━━━━━━━━━\u001b[0m\u001b[37m\u001b[0m \u001b[1m0s\u001b[0m 12ms/step - accuracy: 0.2531 - loss: -15.4617 - val_accuracy: 0.3067 - val_loss: -15.8563\n",
      "Epoch 296/500\n",
      "\u001b[1m5/5\u001b[0m \u001b[32m━━━━━━━━━━━━━━━━━━━━\u001b[0m\u001b[37m\u001b[0m \u001b[1m0s\u001b[0m 15ms/step - accuracy: 0.2209 - loss: -15.3689 - val_accuracy: 0.3067 - val_loss: -15.8606\n",
      "Epoch 297/500\n",
      "\u001b[1m5/5\u001b[0m \u001b[32m━━━━━━━━━━━━━━━━━━━━\u001b[0m\u001b[37m\u001b[0m \u001b[1m0s\u001b[0m 13ms/step - accuracy: 0.2498 - loss: -15.0815 - val_accuracy: 0.3067 - val_loss: -15.8641\n",
      "Epoch 298/500\n",
      "\u001b[1m5/5\u001b[0m \u001b[32m━━━━━━━━━━━━━━━━━━━━\u001b[0m\u001b[37m\u001b[0m \u001b[1m0s\u001b[0m 13ms/step - accuracy: 0.2484 - loss: -15.6545 - val_accuracy: 0.3067 - val_loss: -15.8677\n",
      "Epoch 299/500\n",
      "\u001b[1m5/5\u001b[0m \u001b[32m━━━━━━━━━━━━━━━━━━━━\u001b[0m\u001b[37m\u001b[0m \u001b[1m0s\u001b[0m 14ms/step - accuracy: 0.2611 - loss: -15.7616 - val_accuracy: 0.3067 - val_loss: -15.8708\n",
      "Epoch 300/500\n",
      "\u001b[1m5/5\u001b[0m \u001b[32m━━━━━━━━━━━━━━━━━━━━\u001b[0m\u001b[37m\u001b[0m \u001b[1m0s\u001b[0m 13ms/step - accuracy: 0.2564 - loss: -15.4106 - val_accuracy: 0.3067 - val_loss: -15.8730\n",
      "Epoch 301/500\n",
      "\u001b[1m5/5\u001b[0m \u001b[32m━━━━━━━━━━━━━━━━━━━━\u001b[0m\u001b[37m\u001b[0m \u001b[1m0s\u001b[0m 12ms/step - accuracy: 0.2670 - loss: -15.2668 - val_accuracy: 0.3067 - val_loss: -15.8769\n",
      "Epoch 302/500\n",
      "\u001b[1m5/5\u001b[0m \u001b[32m━━━━━━━━━━━━━━━━━━━━\u001b[0m\u001b[37m\u001b[0m \u001b[1m0s\u001b[0m 13ms/step - accuracy: 0.2464 - loss: -15.1317 - val_accuracy: 0.3067 - val_loss: -15.8809\n",
      "Epoch 303/500\n",
      "\u001b[1m5/5\u001b[0m \u001b[32m━━━━━━━━━━━━━━━━━━━━\u001b[0m\u001b[37m\u001b[0m \u001b[1m0s\u001b[0m 13ms/step - accuracy: 0.2464 - loss: -15.3987 - val_accuracy: 0.3067 - val_loss: -15.8846\n",
      "Epoch 304/500\n",
      "\u001b[1m5/5\u001b[0m \u001b[32m━━━━━━━━━━━━━━━━━━━━\u001b[0m\u001b[37m\u001b[0m \u001b[1m0s\u001b[0m 13ms/step - accuracy: 0.2673 - loss: -15.5266 - val_accuracy: 0.3067 - val_loss: -15.8875\n",
      "Epoch 305/500\n",
      "\u001b[1m5/5\u001b[0m \u001b[32m━━━━━━━━━━━━━━━━━━━━\u001b[0m\u001b[37m\u001b[0m \u001b[1m0s\u001b[0m 12ms/step - accuracy: 0.2386 - loss: -15.6946 - val_accuracy: 0.3067 - val_loss: -15.8900\n",
      "Epoch 306/500\n",
      "\u001b[1m5/5\u001b[0m \u001b[32m━━━━━━━━━━━━━━━━━━━━\u001b[0m\u001b[37m\u001b[0m \u001b[1m0s\u001b[0m 12ms/step - accuracy: 0.2584 - loss: -15.2791 - val_accuracy: 0.3067 - val_loss: -15.8933\n",
      "Epoch 307/500\n",
      "\u001b[1m5/5\u001b[0m \u001b[32m━━━━━━━━━━━━━━━━━━━━\u001b[0m\u001b[37m\u001b[0m \u001b[1m0s\u001b[0m 13ms/step - accuracy: 0.2517 - loss: -15.3785 - val_accuracy: 0.3067 - val_loss: -15.8958\n",
      "Epoch 308/500\n",
      "\u001b[1m5/5\u001b[0m \u001b[32m━━━━━━━━━━━━━━━━━━━━\u001b[0m\u001b[37m\u001b[0m \u001b[1m0s\u001b[0m 12ms/step - accuracy: 0.2653 - loss: -15.2700 - val_accuracy: 0.3067 - val_loss: -15.8994\n",
      "Epoch 309/500\n",
      "\u001b[1m5/5\u001b[0m \u001b[32m━━━━━━━━━━━━━━━━━━━━\u001b[0m\u001b[37m\u001b[0m \u001b[1m0s\u001b[0m 12ms/step - accuracy: 0.2836 - loss: -15.6934 - val_accuracy: 0.3067 - val_loss: -15.9026\n",
      "Epoch 310/500\n",
      "\u001b[1m5/5\u001b[0m \u001b[32m━━━━━━━━━━━━━━━━━━━━\u001b[0m\u001b[37m\u001b[0m \u001b[1m0s\u001b[0m 13ms/step - accuracy: 0.2364 - loss: -15.2647 - val_accuracy: 0.3067 - val_loss: -15.9064\n",
      "Epoch 311/500\n",
      "\u001b[1m5/5\u001b[0m \u001b[32m━━━━━━━━━━━━━━━━━━━━\u001b[0m\u001b[37m\u001b[0m \u001b[1m0s\u001b[0m 12ms/step - accuracy: 0.2639 - loss: -15.3724 - val_accuracy: 0.3067 - val_loss: -15.9081\n",
      "Epoch 312/500\n",
      "\u001b[1m5/5\u001b[0m \u001b[32m━━━━━━━━━━━━━━━━━━━━\u001b[0m\u001b[37m\u001b[0m \u001b[1m0s\u001b[0m 13ms/step - accuracy: 0.2473 - loss: -15.3768 - val_accuracy: 0.3067 - val_loss: -15.9102\n",
      "Epoch 313/500\n",
      "\u001b[1m5/5\u001b[0m \u001b[32m━━━━━━━━━━━━━━━━━━━━\u001b[0m\u001b[37m\u001b[0m \u001b[1m0s\u001b[0m 14ms/step - accuracy: 0.2528 - loss: -15.2040 - val_accuracy: 0.3067 - val_loss: -15.9121\n",
      "Epoch 314/500\n",
      "\u001b[1m5/5\u001b[0m \u001b[32m━━━━━━━━━━━━━━━━━━━━\u001b[0m\u001b[37m\u001b[0m \u001b[1m0s\u001b[0m 16ms/step - accuracy: 0.2625 - loss: -15.4352 - val_accuracy: 0.3067 - val_loss: -15.9146\n",
      "Epoch 315/500\n",
      "\u001b[1m5/5\u001b[0m \u001b[32m━━━━━━━━━━━━━━━━━━━━\u001b[0m\u001b[37m\u001b[0m \u001b[1m0s\u001b[0m 14ms/step - accuracy: 0.2645 - loss: -15.2902 - val_accuracy: 0.3067 - val_loss: -15.9188\n",
      "Epoch 316/500\n",
      "\u001b[1m5/5\u001b[0m \u001b[32m━━━━━━━━━━━━━━━━━━━━\u001b[0m\u001b[37m\u001b[0m \u001b[1m0s\u001b[0m 14ms/step - accuracy: 0.2664 - loss: -15.6087 - val_accuracy: 0.3067 - val_loss: -15.9213\n",
      "Epoch 317/500\n",
      "\u001b[1m5/5\u001b[0m \u001b[32m━━━━━━━━━━━━━━━━━━━━\u001b[0m\u001b[37m\u001b[0m \u001b[1m0s\u001b[0m 13ms/step - accuracy: 0.2520 - loss: -15.2099 - val_accuracy: 0.3067 - val_loss: -15.9250\n",
      "Epoch 318/500\n",
      "\u001b[1m5/5\u001b[0m \u001b[32m━━━━━━━━━━━━━━━━━━━━\u001b[0m\u001b[37m\u001b[0m \u001b[1m0s\u001b[0m 14ms/step - accuracy: 0.2911 - loss: -15.4861 - val_accuracy: 0.3067 - val_loss: -15.9280\n",
      "Epoch 319/500\n",
      "\u001b[1m5/5\u001b[0m \u001b[32m━━━━━━━━━━━━━━━━━━━━\u001b[0m\u001b[37m\u001b[0m \u001b[1m0s\u001b[0m 13ms/step - accuracy: 0.2673 - loss: -15.7152 - val_accuracy: 0.3067 - val_loss: -15.9314\n",
      "Epoch 320/500\n",
      "\u001b[1m5/5\u001b[0m \u001b[32m━━━━━━━━━━━━━━━━━━━━\u001b[0m\u001b[37m\u001b[0m \u001b[1m0s\u001b[0m 13ms/step - accuracy: 0.2370 - loss: -15.0977 - val_accuracy: 0.3067 - val_loss: -15.9351\n",
      "Epoch 321/500\n",
      "\u001b[1m5/5\u001b[0m \u001b[32m━━━━━━━━━━━━━━━━━━━━\u001b[0m\u001b[37m\u001b[0m \u001b[1m0s\u001b[0m 15ms/step - accuracy: 0.2611 - loss: -15.8739 - val_accuracy: 0.3067 - val_loss: -15.9373\n",
      "Epoch 322/500\n",
      "\u001b[1m5/5\u001b[0m \u001b[32m━━━━━━━━━━━━━━━━━━━━\u001b[0m\u001b[37m\u001b[0m \u001b[1m0s\u001b[0m 16ms/step - accuracy: 0.2784 - loss: -15.3212 - val_accuracy: 0.3067 - val_loss: -15.9399\n",
      "Epoch 323/500\n",
      "\u001b[1m5/5\u001b[0m \u001b[32m━━━━━━━━━━━━━━━━━━━━\u001b[0m\u001b[37m\u001b[0m \u001b[1m0s\u001b[0m 13ms/step - accuracy: 0.2489 - loss: -15.5183 - val_accuracy: 0.3067 - val_loss: -15.9439\n",
      "Epoch 324/500\n",
      "\u001b[1m5/5\u001b[0m \u001b[32m━━━━━━━━━━━━━━━━━━━━\u001b[0m\u001b[37m\u001b[0m \u001b[1m0s\u001b[0m 13ms/step - accuracy: 0.2231 - loss: -15.0778 - val_accuracy: 0.3067 - val_loss: -15.9460\n",
      "Epoch 325/500\n",
      "\u001b[1m5/5\u001b[0m \u001b[32m━━━━━━━━━━━━━━━━━━━━\u001b[0m\u001b[37m\u001b[0m \u001b[1m0s\u001b[0m 16ms/step - accuracy: 0.2325 - loss: -15.2157 - val_accuracy: 0.3067 - val_loss: -15.9489\n",
      "Epoch 326/500\n",
      "\u001b[1m5/5\u001b[0m \u001b[32m━━━━━━━━━━━━━━━━━━━━\u001b[0m\u001b[37m\u001b[0m \u001b[1m0s\u001b[0m 12ms/step - accuracy: 0.2331 - loss: -15.2698 - val_accuracy: 0.3067 - val_loss: -15.9508\n",
      "Epoch 327/500\n",
      "\u001b[1m5/5\u001b[0m \u001b[32m━━━━━━━━━━━━━━━━━━━━\u001b[0m\u001b[37m\u001b[0m \u001b[1m0s\u001b[0m 13ms/step - accuracy: 0.2245 - loss: -15.1052 - val_accuracy: 0.3067 - val_loss: -15.9538\n",
      "Epoch 328/500\n",
      "\u001b[1m5/5\u001b[0m \u001b[32m━━━━━━━━━━━━━━━━━━━━\u001b[0m\u001b[37m\u001b[0m \u001b[1m0s\u001b[0m 14ms/step - accuracy: 0.2542 - loss: -15.3999 - val_accuracy: 0.3067 - val_loss: -15.9570\n",
      "Epoch 329/500\n",
      "\u001b[1m5/5\u001b[0m \u001b[32m━━━━━━━━━━━━━━━━━━━━\u001b[0m\u001b[37m\u001b[0m \u001b[1m0s\u001b[0m 15ms/step - accuracy: 0.2442 - loss: -15.1654 - val_accuracy: 0.3067 - val_loss: -15.9603\n",
      "Epoch 330/500\n",
      "\u001b[1m5/5\u001b[0m \u001b[32m━━━━━━━━━━━━━━━━━━━━\u001b[0m\u001b[37m\u001b[0m \u001b[1m0s\u001b[0m 14ms/step - accuracy: 0.2634 - loss: -15.6344 - val_accuracy: 0.3067 - val_loss: -15.9629\n",
      "Epoch 331/500\n",
      "\u001b[1m5/5\u001b[0m \u001b[32m━━━━━━━━━━━━━━━━━━━━\u001b[0m\u001b[37m\u001b[0m \u001b[1m0s\u001b[0m 13ms/step - accuracy: 0.2628 - loss: -15.4244 - val_accuracy: 0.3067 - val_loss: -15.9657\n",
      "Epoch 332/500\n",
      "\u001b[1m5/5\u001b[0m \u001b[32m━━━━━━━━━━━━━━━━━━━━\u001b[0m\u001b[37m\u001b[0m \u001b[1m0s\u001b[0m 17ms/step - accuracy: 0.2595 - loss: -15.3116 - val_accuracy: 0.3067 - val_loss: -15.9683\n",
      "Epoch 333/500\n",
      "\u001b[1m5/5\u001b[0m \u001b[32m━━━━━━━━━━━━━━━━━━━━\u001b[0m\u001b[37m\u001b[0m \u001b[1m0s\u001b[0m 13ms/step - accuracy: 0.2453 - loss: -15.2301 - val_accuracy: 0.3067 - val_loss: -15.9719\n",
      "Epoch 334/500\n",
      "\u001b[1m5/5\u001b[0m \u001b[32m━━━━━━━━━━━━━━━━━━━━\u001b[0m\u001b[37m\u001b[0m \u001b[1m0s\u001b[0m 13ms/step - accuracy: 0.2539 - loss: -15.3028 - val_accuracy: 0.3067 - val_loss: -15.9748\n",
      "Epoch 335/500\n",
      "\u001b[1m5/5\u001b[0m \u001b[32m━━━━━━━━━━━━━━━━━━━━\u001b[0m\u001b[37m\u001b[0m \u001b[1m0s\u001b[0m 13ms/step - accuracy: 0.2464 - loss: -15.2743 - val_accuracy: 0.3067 - val_loss: -15.9782\n",
      "Epoch 336/500\n",
      "\u001b[1m5/5\u001b[0m \u001b[32m━━━━━━━━━━━━━━━━━━━━\u001b[0m\u001b[37m\u001b[0m \u001b[1m0s\u001b[0m 15ms/step - accuracy: 0.2820 - loss: -15.7684 - val_accuracy: 0.3067 - val_loss: -15.9811\n",
      "Epoch 337/500\n",
      "\u001b[1m5/5\u001b[0m \u001b[32m━━━━━━━━━━━━━━━━━━━━\u001b[0m\u001b[37m\u001b[0m \u001b[1m0s\u001b[0m 14ms/step - accuracy: 0.2553 - loss: -15.9040 - val_accuracy: 0.3067 - val_loss: -15.9833\n",
      "Epoch 338/500\n",
      "\u001b[1m5/5\u001b[0m \u001b[32m━━━━━━━━━━━━━━━━━━━━\u001b[0m\u001b[37m\u001b[0m \u001b[1m0s\u001b[0m 12ms/step - accuracy: 0.2931 - loss: -15.6696 - val_accuracy: 0.3067 - val_loss: -15.9865\n",
      "Epoch 339/500\n",
      "\u001b[1m5/5\u001b[0m \u001b[32m━━━━━━━━━━━━━━━━━━━━\u001b[0m\u001b[37m\u001b[0m \u001b[1m0s\u001b[0m 14ms/step - accuracy: 0.2317 - loss: -15.5547 - val_accuracy: 0.3067 - val_loss: -15.9891\n",
      "Epoch 340/500\n",
      "\u001b[1m5/5\u001b[0m \u001b[32m━━━━━━━━━━━━━━━━━━━━\u001b[0m\u001b[37m\u001b[0m \u001b[1m0s\u001b[0m 13ms/step - accuracy: 0.2667 - loss: -15.3969 - val_accuracy: 0.3067 - val_loss: -15.9920\n",
      "Epoch 341/500\n",
      "\u001b[1m5/5\u001b[0m \u001b[32m━━━━━━━━━━━━━━━━━━━━\u001b[0m\u001b[37m\u001b[0m \u001b[1m0s\u001b[0m 12ms/step - accuracy: 0.2684 - loss: -16.0476 - val_accuracy: 0.3067 - val_loss: -15.9944\n",
      "Epoch 342/500\n",
      "\u001b[1m5/5\u001b[0m \u001b[32m━━━━━━━━━━━━━━━━━━━━\u001b[0m\u001b[37m\u001b[0m \u001b[1m0s\u001b[0m 13ms/step - accuracy: 0.2631 - loss: -15.5508 - val_accuracy: 0.3067 - val_loss: -15.9968\n",
      "Epoch 343/500\n",
      "\u001b[1m5/5\u001b[0m \u001b[32m━━━━━━━━━━━━━━━━━━━━\u001b[0m\u001b[37m\u001b[0m \u001b[1m0s\u001b[0m 14ms/step - accuracy: 0.2614 - loss: -15.4859 - val_accuracy: 0.3067 - val_loss: -15.9979\n",
      "Epoch 344/500\n",
      "\u001b[1m5/5\u001b[0m \u001b[32m━━━━━━━━━━━━━━━━━━━━\u001b[0m\u001b[37m\u001b[0m \u001b[1m0s\u001b[0m 13ms/step - accuracy: 0.2875 - loss: -15.5154 - val_accuracy: 0.3067 - val_loss: -15.9972\n",
      "Epoch 345/500\n",
      "\u001b[1m5/5\u001b[0m \u001b[32m━━━━━━━━━━━━━━━━━━━━\u001b[0m\u001b[37m\u001b[0m \u001b[1m0s\u001b[0m 15ms/step - accuracy: 0.2545 - loss: -15.3339 - val_accuracy: 0.3067 - val_loss: -16.0004\n",
      "Epoch 346/500\n",
      "\u001b[1m5/5\u001b[0m \u001b[32m━━━━━━━━━━━━━━━━━━━━\u001b[0m\u001b[37m\u001b[0m \u001b[1m0s\u001b[0m 13ms/step - accuracy: 0.2709 - loss: -15.9153 - val_accuracy: 0.3067 - val_loss: -16.0046\n",
      "Epoch 347/500\n",
      "\u001b[1m5/5\u001b[0m \u001b[32m━━━━━━━━━━━━━━━━━━━━\u001b[0m\u001b[37m\u001b[0m \u001b[1m0s\u001b[0m 13ms/step - accuracy: 0.2367 - loss: -15.1075 - val_accuracy: 0.3067 - val_loss: -16.0069\n",
      "Epoch 348/500\n",
      "\u001b[1m5/5\u001b[0m \u001b[32m━━━━━━━━━━━━━━━━━━━━\u001b[0m\u001b[37m\u001b[0m \u001b[1m0s\u001b[0m 18ms/step - accuracy: 0.2478 - loss: -15.0841 - val_accuracy: 0.3067 - val_loss: -16.0068\n",
      "Epoch 349/500\n",
      "\u001b[1m5/5\u001b[0m \u001b[32m━━━━━━━━━━━━━━━━━━━━\u001b[0m\u001b[37m\u001b[0m \u001b[1m0s\u001b[0m 14ms/step - accuracy: 0.2242 - loss: -15.5861 - val_accuracy: 0.3067 - val_loss: -16.0087\n",
      "Epoch 350/500\n",
      "\u001b[1m5/5\u001b[0m \u001b[32m━━━━━━━━━━━━━━━━━━━━\u001b[0m\u001b[37m\u001b[0m \u001b[1m0s\u001b[0m 13ms/step - accuracy: 0.2286 - loss: -15.6472 - val_accuracy: 0.3067 - val_loss: -16.0133\n",
      "Epoch 351/500\n",
      "\u001b[1m5/5\u001b[0m \u001b[32m━━━━━━━━━━━━━━━━━━━━\u001b[0m\u001b[37m\u001b[0m \u001b[1m0s\u001b[0m 13ms/step - accuracy: 0.2548 - loss: -15.6856 - val_accuracy: 0.3067 - val_loss: -16.0179\n",
      "Epoch 352/500\n",
      "\u001b[1m5/5\u001b[0m \u001b[32m━━━━━━━━━━━━━━━━━━━━\u001b[0m\u001b[37m\u001b[0m \u001b[1m0s\u001b[0m 14ms/step - accuracy: 0.2423 - loss: -15.1718 - val_accuracy: 0.3067 - val_loss: -16.0196\n",
      "Epoch 353/500\n",
      "\u001b[1m5/5\u001b[0m \u001b[32m━━━━━━━━━━━━━━━━━━━━\u001b[0m\u001b[37m\u001b[0m \u001b[1m0s\u001b[0m 15ms/step - accuracy: 0.2664 - loss: -15.6418 - val_accuracy: 0.3067 - val_loss: -16.0221\n",
      "Epoch 354/500\n",
      "\u001b[1m5/5\u001b[0m \u001b[32m━━━━━━━━━━━━━━━━━━━━\u001b[0m\u001b[37m\u001b[0m \u001b[1m0s\u001b[0m 13ms/step - accuracy: 0.2331 - loss: -15.7152 - val_accuracy: 0.3067 - val_loss: -16.0253\n",
      "Epoch 355/500\n",
      "\u001b[1m5/5\u001b[0m \u001b[32m━━━━━━━━━━━━━━━━━━━━\u001b[0m\u001b[37m\u001b[0m \u001b[1m0s\u001b[0m 16ms/step - accuracy: 0.2700 - loss: -15.6252 - val_accuracy: 0.3067 - val_loss: -16.0284\n",
      "Epoch 356/500\n",
      "\u001b[1m5/5\u001b[0m \u001b[32m━━━━━━━━━━━━━━━━━━━━\u001b[0m\u001b[37m\u001b[0m \u001b[1m0s\u001b[0m 14ms/step - accuracy: 0.2448 - loss: -15.3989 - val_accuracy: 0.3067 - val_loss: -16.0305\n",
      "Epoch 357/500\n",
      "\u001b[1m5/5\u001b[0m \u001b[32m━━━━━━━━━━━━━━━━━━━━\u001b[0m\u001b[37m\u001b[0m \u001b[1m0s\u001b[0m 16ms/step - accuracy: 0.2898 - loss: -16.1506 - val_accuracy: 0.3067 - val_loss: -16.0329\n",
      "Epoch 358/500\n",
      "\u001b[1m5/5\u001b[0m \u001b[32m━━━━━━━━━━━━━━━━━━━━\u001b[0m\u001b[37m\u001b[0m \u001b[1m0s\u001b[0m 13ms/step - accuracy: 0.2439 - loss: -15.7993 - val_accuracy: 0.3067 - val_loss: -16.0341\n",
      "Epoch 359/500\n",
      "\u001b[1m5/5\u001b[0m \u001b[32m━━━━━━━━━━━━━━━━━━━━\u001b[0m\u001b[37m\u001b[0m \u001b[1m0s\u001b[0m 12ms/step - accuracy: 0.2509 - loss: -15.8027 - val_accuracy: 0.3067 - val_loss: -16.0366\n",
      "Epoch 360/500\n",
      "\u001b[1m5/5\u001b[0m \u001b[32m━━━━━━━━━━━━━━━━━━━━\u001b[0m\u001b[37m\u001b[0m \u001b[1m0s\u001b[0m 13ms/step - accuracy: 0.2361 - loss: -15.6112 - val_accuracy: 0.3067 - val_loss: -16.0414\n",
      "Epoch 361/500\n",
      "\u001b[1m5/5\u001b[0m \u001b[32m━━━━━━━━━━━━━━━━━━━━\u001b[0m\u001b[37m\u001b[0m \u001b[1m0s\u001b[0m 14ms/step - accuracy: 0.2309 - loss: -15.4577 - val_accuracy: 0.3067 - val_loss: -16.0445\n",
      "Epoch 362/500\n",
      "\u001b[1m5/5\u001b[0m \u001b[32m━━━━━━━━━━━━━━━━━━━━\u001b[0m\u001b[37m\u001b[0m \u001b[1m0s\u001b[0m 14ms/step - accuracy: 0.2673 - loss: -15.7430 - val_accuracy: 0.3067 - val_loss: -16.0464\n",
      "Epoch 363/500\n",
      "\u001b[1m5/5\u001b[0m \u001b[32m━━━━━━━━━━━━━━━━━━━━\u001b[0m\u001b[37m\u001b[0m \u001b[1m0s\u001b[0m 12ms/step - accuracy: 0.2567 - loss: -15.8352 - val_accuracy: 0.3067 - val_loss: -16.0499\n",
      "Epoch 364/500\n",
      "\u001b[1m5/5\u001b[0m \u001b[32m━━━━━━━━━━━━━━━━━━━━\u001b[0m\u001b[37m\u001b[0m \u001b[1m0s\u001b[0m 12ms/step - accuracy: 0.2434 - loss: -15.6021 - val_accuracy: 0.3067 - val_loss: -16.0522\n",
      "Epoch 365/500\n",
      "\u001b[1m5/5\u001b[0m \u001b[32m━━━━━━━━━━━━━━━━━━━━\u001b[0m\u001b[37m\u001b[0m \u001b[1m0s\u001b[0m 12ms/step - accuracy: 0.2564 - loss: -15.3081 - val_accuracy: 0.3067 - val_loss: -16.0525\n",
      "Epoch 366/500\n",
      "\u001b[1m5/5\u001b[0m \u001b[32m━━━━━━━━━━━━━━━━━━━━\u001b[0m\u001b[37m\u001b[0m \u001b[1m0s\u001b[0m 12ms/step - accuracy: 0.2475 - loss: -15.3757 - val_accuracy: 0.3067 - val_loss: -16.0581\n",
      "Epoch 367/500\n",
      "\u001b[1m5/5\u001b[0m \u001b[32m━━━━━━━━━━━━━━━━━━━━\u001b[0m\u001b[37m\u001b[0m \u001b[1m0s\u001b[0m 13ms/step - accuracy: 0.2781 - loss: -15.4570 - val_accuracy: 0.3067 - val_loss: -16.0642\n",
      "Epoch 368/500\n",
      "\u001b[1m5/5\u001b[0m \u001b[32m━━━━━━━━━━━━━━━━━━━━\u001b[0m\u001b[37m\u001b[0m \u001b[1m0s\u001b[0m 13ms/step - accuracy: 0.2514 - loss: -15.7699 - val_accuracy: 0.3067 - val_loss: -16.0673\n",
      "Epoch 369/500\n",
      "\u001b[1m5/5\u001b[0m \u001b[32m━━━━━━━━━━━━━━━━━━━━\u001b[0m\u001b[37m\u001b[0m \u001b[1m0s\u001b[0m 12ms/step - accuracy: 0.2600 - loss: -15.8052 - val_accuracy: 0.3067 - val_loss: -16.0684\n",
      "Epoch 370/500\n",
      "\u001b[1m5/5\u001b[0m \u001b[32m━━━━━━━━━━━━━━━━━━━━\u001b[0m\u001b[37m\u001b[0m \u001b[1m0s\u001b[0m 14ms/step - accuracy: 0.2650 - loss: -15.7289 - val_accuracy: 0.3067 - val_loss: -16.0719\n",
      "Epoch 371/500\n",
      "\u001b[1m5/5\u001b[0m \u001b[32m━━━━━━━━━━━━━━━━━━━━\u001b[0m\u001b[37m\u001b[0m \u001b[1m0s\u001b[0m 13ms/step - accuracy: 0.2553 - loss: -15.3020 - val_accuracy: 0.3067 - val_loss: -16.0767\n",
      "Epoch 372/500\n",
      "\u001b[1m5/5\u001b[0m \u001b[32m━━━━━━━━━━━━━━━━━━━━\u001b[0m\u001b[37m\u001b[0m \u001b[1m0s\u001b[0m 14ms/step - accuracy: 0.2509 - loss: -15.5172 - val_accuracy: 0.3067 - val_loss: -16.0826\n",
      "Epoch 373/500\n",
      "\u001b[1m5/5\u001b[0m \u001b[32m━━━━━━━━━━━━━━━━━━━━\u001b[0m\u001b[37m\u001b[0m \u001b[1m0s\u001b[0m 13ms/step - accuracy: 0.2861 - loss: -15.9823 - val_accuracy: 0.3067 - val_loss: -16.0858\n",
      "Epoch 374/500\n",
      "\u001b[1m5/5\u001b[0m \u001b[32m━━━━━━━━━━━━━━━━━━━━\u001b[0m\u001b[37m\u001b[0m \u001b[1m0s\u001b[0m 14ms/step - accuracy: 0.2834 - loss: -15.7360 - val_accuracy: 0.3067 - val_loss: -16.0923\n",
      "Epoch 375/500\n",
      "\u001b[1m5/5\u001b[0m \u001b[32m━━━━━━━━━━━━━━━━━━━━\u001b[0m\u001b[37m\u001b[0m \u001b[1m0s\u001b[0m 16ms/step - accuracy: 0.2281 - loss: -15.6887 - val_accuracy: 0.3067 - val_loss: -16.0963\n",
      "Epoch 376/500\n",
      "\u001b[1m5/5\u001b[0m \u001b[32m━━━━━━━━━━━━━━━━━━━━\u001b[0m\u001b[37m\u001b[0m \u001b[1m0s\u001b[0m 15ms/step - accuracy: 0.2400 - loss: -15.7611 - val_accuracy: 0.3067 - val_loss: -16.0987\n",
      "Epoch 377/500\n",
      "\u001b[1m5/5\u001b[0m \u001b[32m━━━━━━━━━━━━━━━━━━━━\u001b[0m\u001b[37m\u001b[0m \u001b[1m0s\u001b[0m 13ms/step - accuracy: 0.2639 - loss: -15.4326 - val_accuracy: 0.3067 - val_loss: -16.1006\n",
      "Epoch 378/500\n",
      "\u001b[1m5/5\u001b[0m \u001b[32m━━━━━━━━━━━━━━━━━━━━\u001b[0m\u001b[37m\u001b[0m \u001b[1m0s\u001b[0m 14ms/step - accuracy: 0.2489 - loss: -15.4047 - val_accuracy: 0.3067 - val_loss: -16.1063\n",
      "Epoch 379/500\n",
      "\u001b[1m5/5\u001b[0m \u001b[32m━━━━━━━━━━━━━━━━━━━━\u001b[0m\u001b[37m\u001b[0m \u001b[1m0s\u001b[0m 12ms/step - accuracy: 0.2500 - loss: -16.0424 - val_accuracy: 0.3067 - val_loss: -16.1113\n",
      "Epoch 380/500\n",
      "\u001b[1m5/5\u001b[0m \u001b[32m━━━━━━━━━━━━━━━━━━━━\u001b[0m\u001b[37m\u001b[0m \u001b[1m0s\u001b[0m 16ms/step - accuracy: 0.2678 - loss: -15.3398 - val_accuracy: 0.3067 - val_loss: -16.1134\n",
      "Epoch 381/500\n",
      "\u001b[1m5/5\u001b[0m \u001b[32m━━━━━━━━━━━━━━━━━━━━\u001b[0m\u001b[37m\u001b[0m \u001b[1m0s\u001b[0m 13ms/step - accuracy: 0.2506 - loss: -16.0876 - val_accuracy: 0.3067 - val_loss: -16.1169\n",
      "Epoch 382/500\n",
      "\u001b[1m5/5\u001b[0m \u001b[32m━━━━━━━━━━━━━━━━━━━━\u001b[0m\u001b[37m\u001b[0m \u001b[1m0s\u001b[0m 12ms/step - accuracy: 0.2659 - loss: -15.7515 - val_accuracy: 0.3067 - val_loss: -16.1204\n",
      "Epoch 383/500\n",
      "\u001b[1m5/5\u001b[0m \u001b[32m━━━━━━━━━━━━━━━━━━━━\u001b[0m\u001b[37m\u001b[0m \u001b[1m0s\u001b[0m 12ms/step - accuracy: 0.2434 - loss: -15.9214 - val_accuracy: 0.3067 - val_loss: -16.1232\n",
      "Epoch 384/500\n",
      "\u001b[1m5/5\u001b[0m \u001b[32m━━━━━━━━━━━━━━━━━━━━\u001b[0m\u001b[37m\u001b[0m \u001b[1m0s\u001b[0m 13ms/step - accuracy: 0.2714 - loss: -15.9497 - val_accuracy: 0.3067 - val_loss: -16.1244\n",
      "Epoch 385/500\n",
      "\u001b[1m5/5\u001b[0m \u001b[32m━━━━━━━━━━━━━━━━━━━━\u001b[0m\u001b[37m\u001b[0m \u001b[1m0s\u001b[0m 16ms/step - accuracy: 0.2528 - loss: -15.7046 - val_accuracy: 0.3067 - val_loss: -16.1274\n",
      "Epoch 386/500\n",
      "\u001b[1m5/5\u001b[0m \u001b[32m━━━━━━━━━━━━━━━━━━━━\u001b[0m\u001b[37m\u001b[0m \u001b[1m0s\u001b[0m 12ms/step - accuracy: 0.2523 - loss: -15.9647 - val_accuracy: 0.3067 - val_loss: -16.1302\n",
      "Epoch 387/500\n",
      "\u001b[1m5/5\u001b[0m \u001b[32m━━━━━━━━━━━━━━━━━━━━\u001b[0m\u001b[37m\u001b[0m \u001b[1m0s\u001b[0m 13ms/step - accuracy: 0.2586 - loss: -15.7526 - val_accuracy: 0.3067 - val_loss: -16.1321\n",
      "Epoch 388/500\n",
      "\u001b[1m5/5\u001b[0m \u001b[32m━━━━━━━━━━━━━━━━━━━━\u001b[0m\u001b[37m\u001b[0m \u001b[1m0s\u001b[0m 13ms/step - accuracy: 0.2495 - loss: -15.5446 - val_accuracy: 0.3067 - val_loss: -16.1354\n",
      "Epoch 389/500\n",
      "\u001b[1m5/5\u001b[0m \u001b[32m━━━━━━━━━━━━━━━━━━━━\u001b[0m\u001b[37m\u001b[0m \u001b[1m0s\u001b[0m 12ms/step - accuracy: 0.2595 - loss: -15.4834 - val_accuracy: 0.3067 - val_loss: -16.1376\n",
      "Epoch 390/500\n",
      "\u001b[1m5/5\u001b[0m \u001b[32m━━━━━━━━━━━━━━━━━━━━\u001b[0m\u001b[37m\u001b[0m \u001b[1m0s\u001b[0m 14ms/step - accuracy: 0.2564 - loss: -15.7517 - val_accuracy: 0.3067 - val_loss: -16.1431\n",
      "Epoch 391/500\n",
      "\u001b[1m5/5\u001b[0m \u001b[32m━━━━━━━━━━━━━━━━━━━━\u001b[0m\u001b[37m\u001b[0m \u001b[1m0s\u001b[0m 12ms/step - accuracy: 0.2492 - loss: -15.7357 - val_accuracy: 0.3067 - val_loss: -16.1466\n",
      "Epoch 392/500\n",
      "\u001b[1m5/5\u001b[0m \u001b[32m━━━━━━━━━━━━━━━━━━━━\u001b[0m\u001b[37m\u001b[0m \u001b[1m0s\u001b[0m 13ms/step - accuracy: 0.2550 - loss: -15.9178 - val_accuracy: 0.3067 - val_loss: -16.1490\n",
      "Epoch 393/500\n",
      "\u001b[1m5/5\u001b[0m \u001b[32m━━━━━━━━━━━━━━━━━━━━\u001b[0m\u001b[37m\u001b[0m \u001b[1m0s\u001b[0m 13ms/step - accuracy: 0.2839 - loss: -15.8517 - val_accuracy: 0.3067 - val_loss: -16.1540\n",
      "Epoch 394/500\n",
      "\u001b[1m5/5\u001b[0m \u001b[32m━━━━━━━━━━━━━━━━━━━━\u001b[0m\u001b[37m\u001b[0m \u001b[1m0s\u001b[0m 14ms/step - accuracy: 0.2092 - loss: -15.2766 - val_accuracy: 0.3067 - val_loss: -16.1593\n",
      "Epoch 395/500\n",
      "\u001b[1m5/5\u001b[0m \u001b[32m━━━━━━━━━━━━━━━━━━━━\u001b[0m\u001b[37m\u001b[0m \u001b[1m0s\u001b[0m 14ms/step - accuracy: 0.2436 - loss: -15.7254 - val_accuracy: 0.3067 - val_loss: -16.1614\n",
      "Epoch 396/500\n",
      "\u001b[1m5/5\u001b[0m \u001b[32m━━━━━━━━━━━━━━━━━━━━\u001b[0m\u001b[37m\u001b[0m \u001b[1m0s\u001b[0m 12ms/step - accuracy: 0.2495 - loss: -15.3110 - val_accuracy: 0.3067 - val_loss: -16.1658\n",
      "Epoch 397/500\n",
      "\u001b[1m5/5\u001b[0m \u001b[32m━━━━━━━━━━━━━━━━━━━━\u001b[0m\u001b[37m\u001b[0m \u001b[1m0s\u001b[0m 13ms/step - accuracy: 0.2370 - loss: -15.6244 - val_accuracy: 0.3067 - val_loss: -16.1680\n",
      "Epoch 398/500\n",
      "\u001b[1m5/5\u001b[0m \u001b[32m━━━━━━━━━━━━━━━━━━━━\u001b[0m\u001b[37m\u001b[0m \u001b[1m0s\u001b[0m 14ms/step - accuracy: 0.2659 - loss: -15.4292 - val_accuracy: 0.3067 - val_loss: -16.1740\n",
      "Epoch 399/500\n",
      "\u001b[1m5/5\u001b[0m \u001b[32m━━━━━━━━━━━━━━━━━━━━\u001b[0m\u001b[37m\u001b[0m \u001b[1m0s\u001b[0m 13ms/step - accuracy: 0.2423 - loss: -15.5118 - val_accuracy: 0.2800 - val_loss: -16.1745\n",
      "Epoch 400/500\n",
      "\u001b[1m5/5\u001b[0m \u001b[32m━━━━━━━━━━━━━━━━━━━━\u001b[0m\u001b[37m\u001b[0m \u001b[1m0s\u001b[0m 14ms/step - accuracy: 0.2903 - loss: -16.3493 - val_accuracy: 0.3067 - val_loss: -16.1812\n",
      "Epoch 401/500\n",
      "\u001b[1m5/5\u001b[0m \u001b[32m━━━━━━━━━━━━━━━━━━━━\u001b[0m\u001b[37m\u001b[0m \u001b[1m0s\u001b[0m 14ms/step - accuracy: 0.2359 - loss: -15.4213 - val_accuracy: 0.3067 - val_loss: -16.1842\n",
      "Epoch 402/500\n",
      "\u001b[1m5/5\u001b[0m \u001b[32m━━━━━━━━━━━━━━━━━━━━\u001b[0m\u001b[37m\u001b[0m \u001b[1m0s\u001b[0m 14ms/step - accuracy: 0.2578 - loss: -15.7775 - val_accuracy: 0.3067 - val_loss: -16.1857\n",
      "Epoch 403/500\n",
      "\u001b[1m5/5\u001b[0m \u001b[32m━━━━━━━━━━━━━━━━━━━━\u001b[0m\u001b[37m\u001b[0m \u001b[1m0s\u001b[0m 13ms/step - accuracy: 0.2561 - loss: -15.8354 - val_accuracy: 0.3067 - val_loss: -16.1884\n",
      "Epoch 404/500\n",
      "\u001b[1m5/5\u001b[0m \u001b[32m━━━━━━━━━━━━━━━━━━━━\u001b[0m\u001b[37m\u001b[0m \u001b[1m0s\u001b[0m 12ms/step - accuracy: 0.2464 - loss: -15.5150 - val_accuracy: 0.3067 - val_loss: -16.1912\n",
      "Epoch 405/500\n",
      "\u001b[1m5/5\u001b[0m \u001b[32m━━━━━━━━━━━━━━━━━━━━\u001b[0m\u001b[37m\u001b[0m \u001b[1m0s\u001b[0m 19ms/step - accuracy: 0.2773 - loss: -16.1031 - val_accuracy: 0.3067 - val_loss: -16.1927\n",
      "Epoch 406/500\n",
      "\u001b[1m5/5\u001b[0m \u001b[32m━━━━━━━━━━━━━━━━━━━━\u001b[0m\u001b[37m\u001b[0m \u001b[1m0s\u001b[0m 13ms/step - accuracy: 0.2586 - loss: -15.5199 - val_accuracy: 0.3067 - val_loss: -16.1956\n",
      "Epoch 407/500\n",
      "\u001b[1m5/5\u001b[0m \u001b[32m━━━━━━━━━━━━━━━━━━━━\u001b[0m\u001b[37m\u001b[0m \u001b[1m0s\u001b[0m 13ms/step - accuracy: 0.2625 - loss: -15.3713 - val_accuracy: 0.3067 - val_loss: -16.1983\n",
      "Epoch 408/500\n",
      "\u001b[1m5/5\u001b[0m \u001b[32m━━━━━━━━━━━━━━━━━━━━\u001b[0m\u001b[37m\u001b[0m \u001b[1m0s\u001b[0m 13ms/step - accuracy: 0.2667 - loss: -16.0720 - val_accuracy: 0.2800 - val_loss: -16.1986\n",
      "Epoch 409/500\n",
      "\u001b[1m5/5\u001b[0m \u001b[32m━━━━━━━━━━━━━━━━━━━━\u001b[0m\u001b[37m\u001b[0m \u001b[1m0s\u001b[0m 14ms/step - accuracy: 0.2678 - loss: -15.4759 - val_accuracy: 0.3067 - val_loss: -16.2047\n",
      "Epoch 410/500\n",
      "\u001b[1m5/5\u001b[0m \u001b[32m━━━━━━━━━━━━━━━━━━━━\u001b[0m\u001b[37m\u001b[0m \u001b[1m0s\u001b[0m 14ms/step - accuracy: 0.2481 - loss: -15.8690 - val_accuracy: 0.3067 - val_loss: -16.2068\n",
      "Epoch 411/500\n",
      "\u001b[1m5/5\u001b[0m \u001b[32m━━━━━━━━━━━━━━━━━━━━\u001b[0m\u001b[37m\u001b[0m \u001b[1m0s\u001b[0m 14ms/step - accuracy: 0.2670 - loss: -15.3719 - val_accuracy: 0.2800 - val_loss: -16.2078\n",
      "Epoch 412/500\n",
      "\u001b[1m5/5\u001b[0m \u001b[32m━━━━━━━━━━━━━━━━━━━━\u001b[0m\u001b[37m\u001b[0m \u001b[1m0s\u001b[0m 15ms/step - accuracy: 0.2681 - loss: -15.8343 - val_accuracy: 0.3067 - val_loss: -16.2183\n",
      "Epoch 413/500\n",
      "\u001b[1m5/5\u001b[0m \u001b[32m━━━━━━━━━━━━━━━━━━━━\u001b[0m\u001b[37m\u001b[0m \u001b[1m0s\u001b[0m 16ms/step - accuracy: 0.2325 - loss: -15.6610 - val_accuracy: 0.3067 - val_loss: -16.2217\n",
      "Epoch 414/500\n",
      "\u001b[1m5/5\u001b[0m \u001b[32m━━━━━━━━━━━━━━━━━━━━\u001b[0m\u001b[37m\u001b[0m \u001b[1m0s\u001b[0m 13ms/step - accuracy: 0.2600 - loss: -15.8277 - val_accuracy: 0.2800 - val_loss: -16.2196\n",
      "Epoch 415/500\n",
      "\u001b[1m5/5\u001b[0m \u001b[32m━━━━━━━━━━━━━━━━━━━━\u001b[0m\u001b[37m\u001b[0m \u001b[1m0s\u001b[0m 16ms/step - accuracy: 0.2686 - loss: -16.0469 - val_accuracy: 0.3067 - val_loss: -16.2304\n",
      "Epoch 416/500\n",
      "\u001b[1m5/5\u001b[0m \u001b[32m━━━━━━━━━━━━━━━━━━━━\u001b[0m\u001b[37m\u001b[0m \u001b[1m0s\u001b[0m 12ms/step - accuracy: 0.2550 - loss: -15.7462 - val_accuracy: 0.3333 - val_loss: -16.2329\n",
      "Epoch 417/500\n",
      "\u001b[1m5/5\u001b[0m \u001b[32m━━━━━━━━━━━━━━━━━━━━\u001b[0m\u001b[37m\u001b[0m \u001b[1m0s\u001b[0m 12ms/step - accuracy: 0.3904 - loss: -15.9830 - val_accuracy: 0.3333 - val_loss: -16.2341\n",
      "Epoch 418/500\n",
      "\u001b[1m5/5\u001b[0m \u001b[32m━━━━━━━━━━━━━━━━━━━━\u001b[0m\u001b[37m\u001b[0m \u001b[1m0s\u001b[0m 14ms/step - accuracy: 0.4110 - loss: -16.1431 - val_accuracy: 0.4267 - val_loss: -16.2398\n",
      "Epoch 419/500\n",
      "\u001b[1m5/5\u001b[0m \u001b[32m━━━━━━━━━━━━━━━━━━━━\u001b[0m\u001b[37m\u001b[0m \u001b[1m0s\u001b[0m 13ms/step - accuracy: 0.4410 - loss: -15.4989 - val_accuracy: 0.4267 - val_loss: -16.2436\n",
      "Epoch 420/500\n",
      "\u001b[1m5/5\u001b[0m \u001b[32m━━━━━━━━━━━━━━━━━━━━\u001b[0m\u001b[37m\u001b[0m \u001b[1m0s\u001b[0m 12ms/step - accuracy: 0.4162 - loss: -16.1282 - val_accuracy: 0.4400 - val_loss: -16.2440\n",
      "Epoch 421/500\n",
      "\u001b[1m5/5\u001b[0m \u001b[32m━━━━━━━━━━━━━━━━━━━━\u001b[0m\u001b[37m\u001b[0m \u001b[1m0s\u001b[0m 13ms/step - accuracy: 0.4397 - loss: -15.9092 - val_accuracy: 0.4267 - val_loss: -16.2504\n",
      "Epoch 422/500\n",
      "\u001b[1m5/5\u001b[0m \u001b[32m━━━━━━━━━━━━━━━━━━━━\u001b[0m\u001b[37m\u001b[0m \u001b[1m0s\u001b[0m 15ms/step - accuracy: 0.4627 - loss: -15.7683 - val_accuracy: 0.4667 - val_loss: -16.2573\n",
      "Epoch 423/500\n",
      "\u001b[1m5/5\u001b[0m \u001b[32m━━━━━━━━━━━━━━━━━━━━\u001b[0m\u001b[37m\u001b[0m \u001b[1m0s\u001b[0m 15ms/step - accuracy: 0.4991 - loss: -16.2668 - val_accuracy: 0.4400 - val_loss: -16.2580\n",
      "Epoch 424/500\n",
      "\u001b[1m5/5\u001b[0m \u001b[32m━━━━━━━━━━━━━━━━━━━━\u001b[0m\u001b[37m\u001b[0m \u001b[1m0s\u001b[0m 16ms/step - accuracy: 0.5145 - loss: -15.7873 - val_accuracy: 0.4400 - val_loss: -16.2598\n",
      "Epoch 425/500\n",
      "\u001b[1m5/5\u001b[0m \u001b[32m━━━━━━━━━━━━━━━━━━━━\u001b[0m\u001b[37m\u001b[0m \u001b[1m0s\u001b[0m 13ms/step - accuracy: 0.4930 - loss: -15.9813 - val_accuracy: 0.4400 - val_loss: -16.2698\n",
      "Epoch 426/500\n",
      "\u001b[1m5/5\u001b[0m \u001b[32m━━━━━━━━━━━━━━━━━━━━\u001b[0m\u001b[37m\u001b[0m \u001b[1m0s\u001b[0m 13ms/step - accuracy: 0.4698 - loss: -15.7229 - val_accuracy: 0.4400 - val_loss: -16.2753\n",
      "Epoch 427/500\n",
      "\u001b[1m5/5\u001b[0m \u001b[32m━━━━━━━━━━━━━━━━━━━━\u001b[0m\u001b[37m\u001b[0m \u001b[1m0s\u001b[0m 12ms/step - accuracy: 0.5003 - loss: -15.9200 - val_accuracy: 0.4533 - val_loss: -16.2745\n",
      "Epoch 428/500\n",
      "\u001b[1m5/5\u001b[0m \u001b[32m━━━━━━━━━━━━━━━━━━━━\u001b[0m\u001b[37m\u001b[0m \u001b[1m0s\u001b[0m 15ms/step - accuracy: 0.5071 - loss: -16.0183 - val_accuracy: 0.4400 - val_loss: -16.2792\n",
      "Epoch 429/500\n",
      "\u001b[1m5/5\u001b[0m \u001b[32m━━━━━━━━━━━━━━━━━━━━\u001b[0m\u001b[37m\u001b[0m \u001b[1m0s\u001b[0m 16ms/step - accuracy: 0.4806 - loss: -15.8054 - val_accuracy: 0.4533 - val_loss: -16.2854\n",
      "Epoch 430/500\n",
      "\u001b[1m5/5\u001b[0m \u001b[32m━━━━━━━━━━━━━━━━━━━━\u001b[0m\u001b[37m\u001b[0m \u001b[1m0s\u001b[0m 14ms/step - accuracy: 0.4707 - loss: -15.7273 - val_accuracy: 0.4533 - val_loss: -16.2887\n",
      "Epoch 431/500\n",
      "\u001b[1m5/5\u001b[0m \u001b[32m━━━━━━━━━━━━━━━━━━━━\u001b[0m\u001b[37m\u001b[0m \u001b[1m0s\u001b[0m 15ms/step - accuracy: 0.5068 - loss: -15.4010 - val_accuracy: 0.4667 - val_loss: -16.2926\n",
      "Epoch 432/500\n",
      "\u001b[1m5/5\u001b[0m \u001b[32m━━━━━━━━━━━━━━━━━━━━\u001b[0m\u001b[37m\u001b[0m \u001b[1m0s\u001b[0m 15ms/step - accuracy: 0.4797 - loss: -15.8658 - val_accuracy: 0.4533 - val_loss: -16.2945\n",
      "Epoch 433/500\n",
      "\u001b[1m5/5\u001b[0m \u001b[32m━━━━━━━━━━━━━━━━━━━━\u001b[0m\u001b[37m\u001b[0m \u001b[1m0s\u001b[0m 17ms/step - accuracy: 0.5104 - loss: -15.8057 - val_accuracy: 0.4533 - val_loss: -16.2991\n",
      "Epoch 434/500\n",
      "\u001b[1m5/5\u001b[0m \u001b[32m━━━━━━━━━━━━━━━━━━━━\u001b[0m\u001b[37m\u001b[0m \u001b[1m0s\u001b[0m 16ms/step - accuracy: 0.4877 - loss: -15.5754 - val_accuracy: 0.4667 - val_loss: -16.3041\n",
      "Epoch 435/500\n",
      "\u001b[1m5/5\u001b[0m \u001b[32m━━━━━━━━━━━━━━━━━━━━\u001b[0m\u001b[37m\u001b[0m \u001b[1m0s\u001b[0m 15ms/step - accuracy: 0.4797 - loss: -15.7606 - val_accuracy: 0.4667 - val_loss: -16.3048\n",
      "Epoch 436/500\n",
      "\u001b[1m5/5\u001b[0m \u001b[32m━━━━━━━━━━━━━━━━━━━━\u001b[0m\u001b[37m\u001b[0m \u001b[1m0s\u001b[0m 14ms/step - accuracy: 0.4911 - loss: -15.9106 - val_accuracy: 0.4667 - val_loss: -16.3090\n",
      "Epoch 437/500\n",
      "\u001b[1m5/5\u001b[0m \u001b[32m━━━━━━━━━━━━━━━━━━━━\u001b[0m\u001b[37m\u001b[0m \u001b[1m0s\u001b[0m 17ms/step - accuracy: 0.5216 - loss: -15.9754 - val_accuracy: 0.4933 - val_loss: -16.3151\n",
      "Epoch 438/500\n",
      "\u001b[1m5/5\u001b[0m \u001b[32m━━━━━━━━━━━━━━━━━━━━\u001b[0m\u001b[37m\u001b[0m \u001b[1m0s\u001b[0m 18ms/step - accuracy: 0.5008 - loss: -15.4975 - val_accuracy: 0.4667 - val_loss: -16.3109\n",
      "Epoch 439/500\n",
      "\u001b[1m5/5\u001b[0m \u001b[32m━━━━━━━━━━━━━━━━━━━━\u001b[0m\u001b[37m\u001b[0m \u001b[1m0s\u001b[0m 15ms/step - accuracy: 0.4683 - loss: -15.6061 - val_accuracy: 0.4667 - val_loss: -16.3200\n",
      "Epoch 440/500\n",
      "\u001b[1m5/5\u001b[0m \u001b[32m━━━━━━━━━━━━━━━━━━━━\u001b[0m\u001b[37m\u001b[0m \u001b[1m0s\u001b[0m 15ms/step - accuracy: 0.5149 - loss: -16.2484 - val_accuracy: 0.4933 - val_loss: -16.3209\n",
      "Epoch 441/500\n",
      "\u001b[1m5/5\u001b[0m \u001b[32m━━━━━━━━━━━━━━━━━━━━\u001b[0m\u001b[37m\u001b[0m \u001b[1m0s\u001b[0m 14ms/step - accuracy: 0.4905 - loss: -15.9317 - val_accuracy: 0.4667 - val_loss: -16.3222\n",
      "Epoch 442/500\n",
      "\u001b[1m5/5\u001b[0m \u001b[32m━━━━━━━━━━━━━━━━━━━━\u001b[0m\u001b[37m\u001b[0m \u001b[1m0s\u001b[0m 17ms/step - accuracy: 0.4949 - loss: -15.8751 - val_accuracy: 0.4933 - val_loss: -16.3298\n",
      "Epoch 443/500\n",
      "\u001b[1m5/5\u001b[0m \u001b[32m━━━━━━━━━━━━━━━━━━━━\u001b[0m\u001b[37m\u001b[0m \u001b[1m0s\u001b[0m 15ms/step - accuracy: 0.4911 - loss: -15.5657 - val_accuracy: 0.4933 - val_loss: -16.3334\n",
      "Epoch 444/500\n",
      "\u001b[1m5/5\u001b[0m \u001b[32m━━━━━━━━━━━━━━━━━━━━\u001b[0m\u001b[37m\u001b[0m \u001b[1m0s\u001b[0m 14ms/step - accuracy: 0.4772 - loss: -15.7565 - val_accuracy: 0.4933 - val_loss: -16.3348\n",
      "Epoch 445/500\n",
      "\u001b[1m5/5\u001b[0m \u001b[32m━━━━━━━━━━━━━━━━━━━━\u001b[0m\u001b[37m\u001b[0m \u001b[1m0s\u001b[0m 14ms/step - accuracy: 0.4841 - loss: -15.8348 - val_accuracy: 0.4667 - val_loss: -16.3435\n",
      "Epoch 446/500\n",
      "\u001b[1m5/5\u001b[0m \u001b[32m━━━━━━━━━━━━━━━━━━━━\u001b[0m\u001b[37m\u001b[0m \u001b[1m0s\u001b[0m 16ms/step - accuracy: 0.4997 - loss: -16.0499 - val_accuracy: 0.4667 - val_loss: -16.3433\n",
      "Epoch 447/500\n",
      "\u001b[1m5/5\u001b[0m \u001b[32m━━━━━━━━━━━━━━━━━━━━\u001b[0m\u001b[37m\u001b[0m \u001b[1m0s\u001b[0m 17ms/step - accuracy: 0.5011 - loss: -15.5469 - val_accuracy: 0.4933 - val_loss: -16.3455\n",
      "Epoch 448/500\n",
      "\u001b[1m5/5\u001b[0m \u001b[32m━━━━━━━━━━━━━━━━━━━━\u001b[0m\u001b[37m\u001b[0m \u001b[1m0s\u001b[0m 14ms/step - accuracy: 0.4841 - loss: -15.8056 - val_accuracy: 0.4933 - val_loss: -16.3530\n",
      "Epoch 449/500\n",
      "\u001b[1m5/5\u001b[0m \u001b[32m━━━━━━━━━━━━━━━━━━━━\u001b[0m\u001b[37m\u001b[0m \u001b[1m0s\u001b[0m 14ms/step - accuracy: 0.4599 - loss: -15.7938 - val_accuracy: 0.5200 - val_loss: -16.3605\n",
      "Epoch 450/500\n",
      "\u001b[1m5/5\u001b[0m \u001b[32m━━━━━━━━━━━━━━━━━━━━\u001b[0m\u001b[37m\u001b[0m \u001b[1m0s\u001b[0m 13ms/step - accuracy: 0.4869 - loss: -15.7666 - val_accuracy: 0.4933 - val_loss: -16.3611\n",
      "Epoch 451/500\n",
      "\u001b[1m5/5\u001b[0m \u001b[32m━━━━━━━━━━━━━━━━━━━━\u001b[0m\u001b[37m\u001b[0m \u001b[1m0s\u001b[0m 13ms/step - accuracy: 0.4772 - loss: -16.1368 - val_accuracy: 0.4933 - val_loss: -16.3678\n",
      "Epoch 452/500\n",
      "\u001b[1m5/5\u001b[0m \u001b[32m━━━━━━━━━━━━━━━━━━━━\u001b[0m\u001b[37m\u001b[0m \u001b[1m0s\u001b[0m 16ms/step - accuracy: 0.4727 - loss: -16.0079 - val_accuracy: 0.4933 - val_loss: -16.3725\n",
      "Epoch 453/500\n",
      "\u001b[1m5/5\u001b[0m \u001b[32m━━━━━━━━━━━━━━━━━━━━\u001b[0m\u001b[37m\u001b[0m \u001b[1m0s\u001b[0m 13ms/step - accuracy: 0.5008 - loss: -16.0528 - val_accuracy: 0.4933 - val_loss: -16.3789\n",
      "Epoch 454/500\n",
      "\u001b[1m5/5\u001b[0m \u001b[32m━━━━━━━━━━━━━━━━━━━━\u001b[0m\u001b[37m\u001b[0m \u001b[1m0s\u001b[0m 14ms/step - accuracy: 0.4799 - loss: -16.1696 - val_accuracy: 0.4933 - val_loss: -16.3809\n",
      "Epoch 455/500\n",
      "\u001b[1m5/5\u001b[0m \u001b[32m━━━━━━━━━━━━━━━━━━━━\u001b[0m\u001b[37m\u001b[0m \u001b[1m0s\u001b[0m 13ms/step - accuracy: 0.4739 - loss: -16.0644 - val_accuracy: 0.4933 - val_loss: -16.3864\n",
      "Epoch 456/500\n",
      "\u001b[1m5/5\u001b[0m \u001b[32m━━━━━━━━━━━━━━━━━━━━\u001b[0m\u001b[37m\u001b[0m \u001b[1m0s\u001b[0m 14ms/step - accuracy: 0.4855 - loss: -16.0413 - val_accuracy: 0.4933 - val_loss: -16.3941\n",
      "Epoch 457/500\n",
      "\u001b[1m5/5\u001b[0m \u001b[32m━━━━━━━━━━━━━━━━━━━━\u001b[0m\u001b[37m\u001b[0m \u001b[1m0s\u001b[0m 12ms/step - accuracy: 0.4744 - loss: -15.7381 - val_accuracy: 0.5200 - val_loss: -16.3989\n",
      "Epoch 458/500\n",
      "\u001b[1m5/5\u001b[0m \u001b[32m━━━━━━━━━━━━━━━━━━━━\u001b[0m\u001b[37m\u001b[0m \u001b[1m0s\u001b[0m 13ms/step - accuracy: 0.4561 - loss: -15.8442 - val_accuracy: 0.5200 - val_loss: -16.4039\n",
      "Epoch 459/500\n",
      "\u001b[1m5/5\u001b[0m \u001b[32m━━━━━━━━━━━━━━━━━━━━\u001b[0m\u001b[37m\u001b[0m \u001b[1m0s\u001b[0m 13ms/step - accuracy: 0.4778 - loss: -16.1852 - val_accuracy: 0.5200 - val_loss: -16.4080\n",
      "Epoch 460/500\n",
      "\u001b[1m5/5\u001b[0m \u001b[32m━━━━━━━━━━━━━━━━━━━━\u001b[0m\u001b[37m\u001b[0m \u001b[1m0s\u001b[0m 13ms/step - accuracy: 0.4803 - loss: -15.9755 - val_accuracy: 0.5200 - val_loss: -16.4115\n",
      "Epoch 461/500\n",
      "\u001b[1m5/5\u001b[0m \u001b[32m━━━━━━━━━━━━━━━━━━━━\u001b[0m\u001b[37m\u001b[0m \u001b[1m0s\u001b[0m 15ms/step - accuracy: 0.4642 - loss: -15.8188 - val_accuracy: 0.5200 - val_loss: -16.4166\n",
      "Epoch 462/500\n",
      "\u001b[1m5/5\u001b[0m \u001b[32m━━━━━━━━━━━━━━━━━━━━\u001b[0m\u001b[37m\u001b[0m \u001b[1m0s\u001b[0m 14ms/step - accuracy: 0.4700 - loss: -15.8189 - val_accuracy: 0.5200 - val_loss: -16.4214\n",
      "Epoch 463/500\n",
      "\u001b[1m5/5\u001b[0m \u001b[32m━━━━━━━━━━━━━━━━━━━━\u001b[0m\u001b[37m\u001b[0m \u001b[1m0s\u001b[0m 13ms/step - accuracy: 0.5111 - loss: -16.0755 - val_accuracy: 0.5200 - val_loss: -16.4265\n",
      "Epoch 464/500\n",
      "\u001b[1m5/5\u001b[0m \u001b[32m━━━━━━━━━━━━━━━━━━━━\u001b[0m\u001b[37m\u001b[0m \u001b[1m0s\u001b[0m 13ms/step - accuracy: 0.4878 - loss: -16.0282 - val_accuracy: 0.5200 - val_loss: -16.4300\n",
      "Epoch 465/500\n",
      "\u001b[1m5/5\u001b[0m \u001b[32m━━━━━━━━━━━━━━━━━━━━\u001b[0m\u001b[37m\u001b[0m \u001b[1m0s\u001b[0m 13ms/step - accuracy: 0.4772 - loss: -16.5197 - val_accuracy: 0.5200 - val_loss: -16.4374\n",
      "Epoch 466/500\n",
      "\u001b[1m5/5\u001b[0m \u001b[32m━━━━━━━━━━━━━━━━━━━━\u001b[0m\u001b[37m\u001b[0m \u001b[1m0s\u001b[0m 15ms/step - accuracy: 0.5150 - loss: -16.5559 - val_accuracy: 0.5200 - val_loss: -16.4413\n",
      "Epoch 467/500\n",
      "\u001b[1m5/5\u001b[0m \u001b[32m━━━━━━━━━━━━━━━━━━━━\u001b[0m\u001b[37m\u001b[0m \u001b[1m0s\u001b[0m 14ms/step - accuracy: 0.4689 - loss: -15.9885 - val_accuracy: 0.5200 - val_loss: -16.4530\n",
      "Epoch 468/500\n",
      "\u001b[1m5/5\u001b[0m \u001b[32m━━━━━━━━━━━━━━━━━━━━\u001b[0m\u001b[37m\u001b[0m \u001b[1m0s\u001b[0m 12ms/step - accuracy: 0.4580 - loss: -16.2017 - val_accuracy: 0.4933 - val_loss: -16.4494\n",
      "Epoch 469/500\n",
      "\u001b[1m5/5\u001b[0m \u001b[32m━━━━━━━━━━━━━━━━━━━━\u001b[0m\u001b[37m\u001b[0m \u001b[1m0s\u001b[0m 12ms/step - accuracy: 0.4805 - loss: -16.2158 - val_accuracy: 0.4933 - val_loss: -16.4494\n",
      "Epoch 470/500\n",
      "\u001b[1m5/5\u001b[0m \u001b[32m━━━━━━━━━━━━━━━━━━━━\u001b[0m\u001b[37m\u001b[0m \u001b[1m0s\u001b[0m 12ms/step - accuracy: 0.4705 - loss: -16.2628 - val_accuracy: 0.4933 - val_loss: -16.4546\n",
      "Epoch 471/500\n",
      "\u001b[1m5/5\u001b[0m \u001b[32m━━━━━━━━━━━━━━━━━━━━\u001b[0m\u001b[37m\u001b[0m \u001b[1m0s\u001b[0m 14ms/step - accuracy: 0.4894 - loss: -16.0783 - val_accuracy: 0.4933 - val_loss: -16.4572\n",
      "Epoch 472/500\n",
      "\u001b[1m5/5\u001b[0m \u001b[32m━━━━━━━━━━━━━━━━━━━━\u001b[0m\u001b[37m\u001b[0m \u001b[1m0s\u001b[0m 13ms/step - accuracy: 0.4789 - loss: -15.8431 - val_accuracy: 0.4933 - val_loss: -16.4613\n",
      "Epoch 473/500\n",
      "\u001b[1m5/5\u001b[0m \u001b[32m━━━━━━━━━━━━━━━━━━━━\u001b[0m\u001b[37m\u001b[0m \u001b[1m0s\u001b[0m 13ms/step - accuracy: 0.4803 - loss: -16.5555 - val_accuracy: 0.4933 - val_loss: -16.4667\n",
      "Epoch 474/500\n",
      "\u001b[1m5/5\u001b[0m \u001b[32m━━━━━━━━━━━━━━━━━━━━\u001b[0m\u001b[37m\u001b[0m \u001b[1m0s\u001b[0m 13ms/step - accuracy: 0.5203 - loss: -16.5088 - val_accuracy: 0.4933 - val_loss: -16.4708\n",
      "Epoch 475/500\n",
      "\u001b[1m5/5\u001b[0m \u001b[32m━━━━━━━━━━━━━━━━━━━━\u001b[0m\u001b[37m\u001b[0m \u001b[1m0s\u001b[0m 17ms/step - accuracy: 0.4428 - loss: -16.2038 - val_accuracy: 0.4933 - val_loss: -16.4758\n",
      "Epoch 476/500\n",
      "\u001b[1m5/5\u001b[0m \u001b[32m━━━━━━━━━━━━━━━━━━━━\u001b[0m\u001b[37m\u001b[0m \u001b[1m0s\u001b[0m 15ms/step - accuracy: 0.4694 - loss: -16.2832 - val_accuracy: 0.4933 - val_loss: -16.4786\n",
      "Epoch 477/500\n",
      "\u001b[1m5/5\u001b[0m \u001b[32m━━━━━━━━━━━━━━━━━━━━\u001b[0m\u001b[37m\u001b[0m \u001b[1m0s\u001b[0m 14ms/step - accuracy: 0.4561 - loss: -16.0972 - val_accuracy: 0.4933 - val_loss: -16.4849\n",
      "Epoch 478/500\n",
      "\u001b[1m5/5\u001b[0m \u001b[32m━━━━━━━━━━━━━━━━━━━━\u001b[0m\u001b[37m\u001b[0m \u001b[1m0s\u001b[0m 15ms/step - accuracy: 0.4919 - loss: -16.0573 - val_accuracy: 0.4933 - val_loss: -16.4893\n",
      "Epoch 479/500\n",
      "\u001b[1m5/5\u001b[0m \u001b[32m━━━━━━━━━━━━━━━━━━━━\u001b[0m\u001b[37m\u001b[0m \u001b[1m0s\u001b[0m 14ms/step - accuracy: 0.4633 - loss: -15.9256 - val_accuracy: 0.4933 - val_loss: -16.4947\n",
      "Epoch 480/500\n",
      "\u001b[1m5/5\u001b[0m \u001b[32m━━━━━━━━━━━━━━━━━━━━\u001b[0m\u001b[37m\u001b[0m \u001b[1m0s\u001b[0m 15ms/step - accuracy: 0.4594 - loss: -16.1548 - val_accuracy: 0.4933 - val_loss: -16.4984\n",
      "Epoch 481/500\n",
      "\u001b[1m5/5\u001b[0m \u001b[32m━━━━━━━━━━━━━━━━━━━━\u001b[0m\u001b[37m\u001b[0m \u001b[1m0s\u001b[0m 14ms/step - accuracy: 0.4767 - loss: -16.0955 - val_accuracy: 0.4933 - val_loss: -16.5029\n",
      "Epoch 482/500\n",
      "\u001b[1m5/5\u001b[0m \u001b[32m━━━━━━━━━━━━━━━━━━━━\u001b[0m\u001b[37m\u001b[0m \u001b[1m0s\u001b[0m 13ms/step - accuracy: 0.4730 - loss: -16.4654 - val_accuracy: 0.4933 - val_loss: -16.5073\n",
      "Epoch 483/500\n",
      "\u001b[1m5/5\u001b[0m \u001b[32m━━━━━━━━━━━━━━━━━━━━\u001b[0m\u001b[37m\u001b[0m \u001b[1m0s\u001b[0m 13ms/step - accuracy: 0.4750 - loss: -16.2883 - val_accuracy: 0.4933 - val_loss: -16.5097\n",
      "Epoch 484/500\n",
      "\u001b[1m5/5\u001b[0m \u001b[32m━━━━━━━━━━━━━━━━━━━━\u001b[0m\u001b[37m\u001b[0m \u001b[1m0s\u001b[0m 18ms/step - accuracy: 0.4608 - loss: -16.1509 - val_accuracy: 0.4933 - val_loss: -16.5139\n",
      "Epoch 485/500\n",
      "\u001b[1m5/5\u001b[0m \u001b[32m━━━━━━━━━━━━━━━━━━━━\u001b[0m\u001b[37m\u001b[0m \u001b[1m0s\u001b[0m 12ms/step - accuracy: 0.5516 - loss: -16.0808 - val_accuracy: 0.4933 - val_loss: -16.5181\n",
      "Epoch 486/500\n",
      "\u001b[1m5/5\u001b[0m \u001b[32m━━━━━━━━━━━━━━━━━━━━\u001b[0m\u001b[37m\u001b[0m \u001b[1m0s\u001b[0m 14ms/step - accuracy: 0.4294 - loss: -16.2326 - val_accuracy: 0.4933 - val_loss: -16.5240\n",
      "Epoch 487/500\n",
      "\u001b[1m5/5\u001b[0m \u001b[32m━━━━━━━━━━━━━━━━━━━━\u001b[0m\u001b[37m\u001b[0m \u001b[1m0s\u001b[0m 12ms/step - accuracy: 0.5186 - loss: -16.2944 - val_accuracy: 0.4933 - val_loss: -16.5273\n",
      "Epoch 488/500\n",
      "\u001b[1m5/5\u001b[0m \u001b[32m━━━━━━━━━━━━━━━━━━━━\u001b[0m\u001b[37m\u001b[0m \u001b[1m0s\u001b[0m 13ms/step - accuracy: 0.4583 - loss: -16.0280 - val_accuracy: 0.4933 - val_loss: -16.5329\n",
      "Epoch 489/500\n",
      "\u001b[1m5/5\u001b[0m \u001b[32m━━━━━━━━━━━━━━━━━━━━\u001b[0m\u001b[37m\u001b[0m \u001b[1m0s\u001b[0m 15ms/step - accuracy: 0.5419 - loss: -16.1240 - val_accuracy: 0.4933 - val_loss: -16.5382\n",
      "Epoch 490/500\n",
      "\u001b[1m5/5\u001b[0m \u001b[32m━━━━━━━━━━━━━━━━━━━━\u001b[0m\u001b[37m\u001b[0m \u001b[1m0s\u001b[0m 13ms/step - accuracy: 0.4927 - loss: -16.4559 - val_accuracy: 0.4933 - val_loss: -16.5453\n",
      "Epoch 491/500\n",
      "\u001b[1m5/5\u001b[0m \u001b[32m━━━━━━━━━━━━━━━━━━━━\u001b[0m\u001b[37m\u001b[0m \u001b[1m0s\u001b[0m 15ms/step - accuracy: 0.4863 - loss: -16.2131 - val_accuracy: 0.4933 - val_loss: -16.5478\n",
      "Epoch 492/500\n",
      "\u001b[1m5/5\u001b[0m \u001b[32m━━━━━━━━━━━━━━━━━━━━\u001b[0m\u001b[37m\u001b[0m \u001b[1m0s\u001b[0m 13ms/step - accuracy: 0.4722 - loss: -16.2564 - val_accuracy: 0.4933 - val_loss: -16.5525\n",
      "Epoch 493/500\n",
      "\u001b[1m5/5\u001b[0m \u001b[32m━━━━━━━━━━━━━━━━━━━━\u001b[0m\u001b[37m\u001b[0m \u001b[1m0s\u001b[0m 13ms/step - accuracy: 0.4763 - loss: -16.0759 - val_accuracy: 0.4933 - val_loss: -16.5590\n",
      "Epoch 494/500\n",
      "\u001b[1m5/5\u001b[0m \u001b[32m━━━━━━━━━━━━━━━━━━━━\u001b[0m\u001b[37m\u001b[0m \u001b[1m0s\u001b[0m 18ms/step - accuracy: 0.4955 - loss: -15.9112 - val_accuracy: 0.5200 - val_loss: -16.5621\n",
      "Epoch 495/500\n",
      "\u001b[1m5/5\u001b[0m \u001b[32m━━━━━━━━━━━━━━━━━━━━\u001b[0m\u001b[37m\u001b[0m \u001b[1m0s\u001b[0m 13ms/step - accuracy: 0.4810 - loss: -16.2390 - val_accuracy: 0.5067 - val_loss: -16.5654\n",
      "Epoch 496/500\n",
      "\u001b[1m5/5\u001b[0m \u001b[32m━━━━━━━━━━━━━━━━━━━━\u001b[0m\u001b[37m\u001b[0m \u001b[1m0s\u001b[0m 13ms/step - accuracy: 0.4477 - loss: -16.5231 - val_accuracy: 0.4933 - val_loss: -16.5702\n",
      "Epoch 497/500\n",
      "\u001b[1m5/5\u001b[0m \u001b[32m━━━━━━━━━━━━━━━━━━━━\u001b[0m\u001b[37m\u001b[0m \u001b[1m0s\u001b[0m 13ms/step - accuracy: 0.5066 - loss: -16.3667 - val_accuracy: 0.4933 - val_loss: -16.5755\n",
      "Epoch 498/500\n",
      "\u001b[1m5/5\u001b[0m \u001b[32m━━━━━━━━━━━━━━━━━━━━\u001b[0m\u001b[37m\u001b[0m \u001b[1m0s\u001b[0m 18ms/step - accuracy: 0.4816 - loss: -16.2876 - val_accuracy: 0.4933 - val_loss: -16.5799\n",
      "Epoch 499/500\n",
      "\u001b[1m5/5\u001b[0m \u001b[32m━━━━━━━━━━━━━━━━━━━━\u001b[0m\u001b[37m\u001b[0m \u001b[1m0s\u001b[0m 15ms/step - accuracy: 0.4816 - loss: -16.1984 - val_accuracy: 0.5067 - val_loss: -16.5863\n",
      "Epoch 500/500\n",
      "\u001b[1m5/5\u001b[0m \u001b[32m━━━━━━━━━━━━━━━━━━━━\u001b[0m\u001b[37m\u001b[0m \u001b[1m0s\u001b[0m 12ms/step - accuracy: 0.4769 - loss: -16.0473 - val_accuracy: 0.5067 - val_loss: -16.5915\n",
      "37.34882402420044\n"
     ]
    }
   ],
   "source": [
    "with tf.device(\"/device:CPU:0\"):    # у версії TF-DML для 2.10 можна писати \"/device:GPU:0\" замість \"/device:DML:0\"\n",
    "    start_time = time.time()\n",
    "    autoencoder.fit(train_x, train_x,\n",
    "        epochs=500,\n",
    "        batch_size=50,\n",
    "        shuffle=True,\n",
    "        validation_data=(valid_x, valid_x))\n",
    "    end_time = time.time()\n",
    "    print(end_time-start_time)"
   ]
  },
  {
   "cell_type": "code",
   "execution_count": 34,
   "metadata": {
    "ExecuteTime": {
     "end_time": "2025-03-27T23:47:14.702586Z",
     "start_time": "2025-03-27T23:47:14.689118Z"
    },
    "id": "KNW9V8Ofi6sy"
   },
   "outputs": [],
   "source": [
    "# зауважте, що час виконання залежно від версії DirectML або типу обладнання може суттєво відрізнятися\n",
    "# також час виконання на першій ітерації під відеокартою зазвичай вищий, ніж на наступних"
   ]
  },
  {
   "cell_type": "code",
   "execution_count": 52,
   "metadata": {
    "ExecuteTime": {
     "end_time": "2025-03-27T23:47:14.983521Z",
     "start_time": "2025-03-27T23:47:14.735600Z"
    },
    "id": "qIcf1PKQi6sy",
    "outputId": "14465e40-8dca-4d57-a030-5be2ba4573e7"
   },
   "outputs": [
    {
     "name": "stdout",
     "output_type": "stream",
     "text": [
      "\u001b[1m1/1\u001b[0m \u001b[32m━━━━━━━━━━━━━━━━━━━━\u001b[0m\u001b[37m\u001b[0m \u001b[1m0s\u001b[0m 38ms/step\n"
     ]
    },
    {
     "data": {
      "image/png": "[encoded data removed]",
      "text/plain": [
       "<Figure size 600x600 with 2 Axes>"
      ]
     },
     "metadata": {},
     "output_type": "display_data"
    },
    {
     "name": "stdout",
     "output_type": "stream",
     "text": [
      "\u001b[1m1/1\u001b[0m \u001b[32m━━━━━━━━━━━━━━━━━━━━\u001b[0m\u001b[37m\u001b[0m \u001b[1m0s\u001b[0m 23ms/step\n"
     ]
    },
    {
     "data": {
      "image/png": "[encoded data removed]",
      "text/plain": [
       "<Figure size 600x600 with 2 Axes>"
      ]
     },
     "metadata": {},
     "output_type": "display_data"
    },
    {
     "data": {
      "text/plain": [
       "0.27608609199523926"
      ]
     },
     "execution_count": 52,
     "metadata": {},
     "output_type": "execute_result"
    }
   ],
   "source": [
    "#Because latent space is two-dimensional, there are a few visualizations that can be done at this point.\n",
    "#One is to look at the neighborhoods of different classes on the latent 2D plane:\n",
    "colors = np.array(list(islice(cycle(['#377eb8', '#ff7f00', '#4daf4a',\n",
    "                                             '#f781bf', '#a65628', '#984ea3',\n",
    "                                             '#999999', '#e41a1c', '#dede00']), int(max(valid_y) + 1))))\n",
    "\n",
    "start_time = time.time()\n",
    "x_train_encoded = encoder.predict(train_x, batch_size=500)\n",
    "plt.figure(figsize=(6, 6))\n",
    "plt.scatter(x_train_encoded[:, 0], x_train_encoded[:, 1], c = colors[train_y])\n",
    "plt.colorbar()\n",
    "plt.show()\n",
    "\n",
    "x_test_encoded = encoder.predict(valid_x, batch_size=500)\n",
    "plt.figure(figsize=(6, 6))\n",
    "plt.scatter(x_test_encoded[:, 0], x_test_encoded[:, 1], c = colors[valid_y])\n",
    "plt.colorbar()\n",
    "plt.show()\n",
    "end_time = time.time()\n",
    "end_time-start_time"
   ]
  },
  {
   "cell_type": "code",
   "execution_count": 37,
   "metadata": {
    "ExecuteTime": {
     "end_time": "2025-03-27T23:47:15.029113Z",
     "start_time": "2025-03-27T23:47:15.016097Z"
    },
    "id": "TQCFdOyli6sy",
    "outputId": "2ed78c02-a5ac-42b0-fcfa-eeeb86dd02ff"
   },
   "outputs": [
    {
     "data": {
      "text/plain": [
       "0.002110719680786133"
      ]
     },
     "execution_count": 37,
     "metadata": {},
     "output_type": "execute_result"
    }
   ],
   "source": [
    "start_time = time.time()\n",
    "train_x, valid_x, train_y, valid_y = model_selection.train_test_split(ab, y_pred)\n",
    "end_time = time.time()\n",
    "end_time-start_time"
   ]
  },
  {
   "cell_type": "code",
   "execution_count": 38,
   "metadata": {
    "ExecuteTime": {
     "end_time": "2025-03-27T23:47:15.075689Z",
     "start_time": "2025-03-27T23:47:15.060701Z"
    },
    "id": "8jMhMQ6oi6sz",
    "outputId": "e16331e0-bfc4-400b-80cc-36987b49b655"
   },
   "outputs": [
    {
     "data": {
      "text/plain": [
       "0.0013921260833740234"
      ]
     },
     "execution_count": 38,
     "metadata": {},
     "output_type": "execute_result"
    }
   ],
   "source": [
    "from sklearn.datasets import make_classification\n",
    "from imblearn.over_sampling import RandomOverSampler\n",
    "start_time = time.time()\n",
    "ros = RandomOverSampler(random_state=0)\n",
    "X_resampled, y_resampled = ros.fit_resample(X_embedded, y_pred)\n",
    "end_time = time.time()\n",
    "end_time-start_time"
   ]
  },
  {
   "cell_type": "code",
   "execution_count": null,
   "metadata": {
    "ExecuteTime": {
     "end_time": "2025-03-27T23:47:15.122258Z",
     "start_time": "2025-03-27T23:47:15.108241Z"
    },
    "id": "EodRtNS7i6sz"
   },
   "outputs": [],
   "source": []
  },
  {
   "cell_type": "code",
   "execution_count": 39,
   "metadata": {
    "ExecuteTime": {
     "end_time": "2025-03-27T23:47:15.355099Z",
     "start_time": "2025-03-27T23:47:15.155947Z"
    },
    "id": "fPElk0uZi6sz",
    "outputId": "5b7ac599-226c-4874-ebb8-cfe838935976"
   },
   "outputs": [
    {
     "data": {
      "image/png": "[encoded data removed]",
      "text/plain": [
       "<Figure size 600x600 with 2 Axes>"
      ]
     },
     "metadata": {},
     "output_type": "display_data"
    },
    {
     "data": {
      "image/png": "[encoded data removed]",
      "text/plain": [
       "<Figure size 600x600 with 2 Axes>"
      ]
     },
     "metadata": {},
     "output_type": "display_data"
    }
   ],
   "source": [
    "colors = np.array(list(islice(cycle(['#377eb8', '#ff7f00', '#4daf4a',\n",
    "                                             '#f781bf', '#a65628', '#984ea3',\n",
    "                                             '#999999', '#e41a1c', '#dede00']), int(max(y_pred) + 1))))\n",
    "\n",
    "plt.figure(figsize=(6, 6))\n",
    "plt.scatter(X_embedded[:, 0], X_embedded[:, 1], s=2, c=colors[y_pred])\n",
    "plt.colorbar()\n",
    "plt.show()\n",
    "\n",
    "plt.figure(figsize=(6, 6))\n",
    "plt.scatter(X_resampled[:, 0], X_resampled[:, 1], s=2, c=colors[y_resampled])\n",
    "plt.colorbar()\n",
    "plt.show()"
   ]
  },
  {
   "cell_type": "code",
   "execution_count": 40,
   "metadata": {
    "ExecuteTime": {
     "end_time": "2025-03-27T23:47:15.385647Z",
     "start_time": "2025-03-27T23:47:15.371378Z"
    },
    "id": "JlrB6Afli6sz"
   },
   "outputs": [],
   "source": [
    "train_x, valid_x, train_y, valid_y = model_selection.train_test_split(X_resampled, y_resampled)"
   ]
  },
  {
   "cell_type": "code",
   "execution_count": 41,
   "metadata": {
    "ExecuteTime": {
     "end_time": "2025-03-27T23:47:15.433189Z",
     "start_time": "2025-03-27T23:47:15.418163Z"
    },
    "id": "bKYov9sdi6s5"
   },
   "outputs": [],
   "source": [
    "#X_resampled, y_resampled = ros.fit_resample(X_embedded, y_pred)"
   ]
  },
  {
   "cell_type": "code",
   "execution_count": 42,
   "metadata": {
    "ExecuteTime": {
     "end_time": "2025-03-27T23:47:15.480968Z",
     "start_time": "2025-03-27T23:47:15.465952Z"
    },
    "id": "RkoTrBRki6s5",
    "outputId": "afbb9fdb-5eee-4285-aaca-6feca080335b"
   },
   "outputs": [
    {
     "data": {
      "text/plain": [
       "0.009726762771606445"
      ]
     },
     "execution_count": 42,
     "metadata": {},
     "output_type": "execute_result"
    }
   ],
   "source": [
    "from imblearn.over_sampling import SMOTE, ADASYN\n",
    "start_time = time.time()\n",
    "X_resampled2, y_resampled2 = SMOTE().fit_resample(X_embedded, y_pred)\n",
    "#print(sorted(Counter(y_resampled).items()))\n",
    "end_time = time.time()\n",
    "end_time-start_time"
   ]
  },
  {
   "cell_type": "code",
   "execution_count": 43,
   "metadata": {
    "ExecuteTime": {
     "end_time": "2025-03-27T23:47:15.526952Z",
     "start_time": "2025-03-27T23:47:15.512979Z"
    },
    "id": "f_BY8Rt2i6s6",
    "outputId": "0a56b3ad-73ed-4906-bee3-2b58572dd54b"
   },
   "outputs": [
    {
     "data": {
      "text/plain": [
       "0.004990816116333008"
      ]
     },
     "execution_count": 43,
     "metadata": {},
     "output_type": "execute_result"
    }
   ],
   "source": [
    "start_time = time.time()\n",
    "clf_smote = LinearSVC().fit(X_resampled2, y_resampled2)\n",
    "end_time = time.time()\n",
    "end_time-start_time"
   ]
  },
  {
   "cell_type": "code",
   "execution_count": 44,
   "metadata": {
    "ExecuteTime": {
     "end_time": "2025-03-27T23:47:15.573022Z",
     "start_time": "2025-03-27T23:47:15.560011Z"
    },
    "id": "ERTu4xeIi6s6",
    "outputId": "c0a32a1a-69fa-4ce1-e8e1-abb706ad8f9a"
   },
   "outputs": [
    {
     "data": {
      "text/plain": [
       "0.00803232192993164"
      ]
     },
     "execution_count": 44,
     "metadata": {},
     "output_type": "execute_result"
    }
   ],
   "source": [
    "start_time = time.time()\n",
    "X_resampled3, y_resampled3 = ADASYN().fit_resample(X_embedded, y_pred)\n",
    "#print(sorted(Counter(y_resampled).items()))\n",
    "end_time = time.time()\n",
    "end_time-start_time"
   ]
  },
  {
   "cell_type": "code",
   "execution_count": 45,
   "metadata": {
    "ExecuteTime": {
     "end_time": "2025-03-27T23:47:15.620376Z",
     "start_time": "2025-03-27T23:47:15.606023Z"
    },
    "id": "57u-cmW6i6s6",
    "outputId": "6a345c6a-3fd1-4c93-9ab5-9e5fba9f4f0d"
   },
   "outputs": [
    {
     "data": {
      "text/plain": [
       "0.002981424331665039"
      ]
     },
     "execution_count": 45,
     "metadata": {},
     "output_type": "execute_result"
    }
   ],
   "source": [
    "start_time = time.time()\n",
    "clf_adasyn = LinearSVC().fit(X_resampled3, y_resampled3)\n",
    "end_time = time.time()\n",
    "end_time-start_time"
   ]
  },
  {
   "cell_type": "code",
   "execution_count": 46,
   "metadata": {
    "ExecuteTime": {
     "end_time": "2025-03-27T23:47:15.945784Z",
     "start_time": "2025-03-27T23:47:15.653117Z"
    },
    "id": "H30Rk0G1i6s7",
    "outputId": "57251a5b-4fb2-4a96-e536-ed901ae2100c"
   },
   "outputs": [
    {
     "data": {
      "image/png": "[encoded data removed]",
      "text/plain": [
       "<Figure size 600x600 with 2 Axes>"
      ]
     },
     "metadata": {},
     "output_type": "display_data"
    },
    {
     "data": {
      "image/png": "[encoded data removed]",
      "text/plain": [
       "<Figure size 600x600 with 2 Axes>"
      ]
     },
     "metadata": {},
     "output_type": "display_data"
    },
    {
     "data": {
      "image/png": "[encoded data removed]",
      "text/plain": [
       "<Figure size 600x600 with 2 Axes>"
      ]
     },
     "metadata": {},
     "output_type": "display_data"
    }
   ],
   "source": [
    "plt.figure(figsize=(6, 6))\n",
    "plt.scatter(X_resampled[:, 0], X_resampled[:, 1], s=2, c=colors[y_resampled])\n",
    "plt.colorbar()\n",
    "plt.show()\n",
    "\n",
    "plt.figure(figsize=(6, 6))\n",
    "plt.scatter(X_resampled2[:, 0], X_resampled2[:, 1], s=2, c=colors[y_resampled2])\n",
    "plt.colorbar()\n",
    "plt.show()\n",
    "\n",
    "plt.figure(figsize=(6, 6))\n",
    "plt.scatter(X_resampled3[:, 0], X_resampled3[:, 1], s=2, c=colors[y_resampled3])\n",
    "plt.colorbar()\n",
    "plt.show()"
   ]
  },
  {
   "cell_type": "code",
   "execution_count": 47,
   "metadata": {
    "ExecuteTime": {
     "end_time": "2025-03-27T23:47:15.992829Z",
     "start_time": "2025-03-27T23:47:15.978480Z"
    },
    "id": "PdA165ORi6s7"
   },
   "outputs": [],
   "source": [
    "# stops here"
   ]
  }
 ],
 "metadata": {
  "colab": {
   "provenance": []
  },
  "kernelspec": {
   "display_name": "Python 3 (ipykernel)",
   "language": "python",
   "name": "python3"
  },
  "language_info": {
   "codemirror_mode": {
    "name": "ipython",
    "version": 3
   },
   "file_extension": ".py",
   "mimetype": "text/x-python",
   "name": "python",
   "nbconvert_exporter": "python",
   "pygments_lexer": "ipython3",
   "version": "3.12.9"
  },
  "varInspector": {
   "cols": {
    "lenName": 16,
    "lenType": 16,
    "lenVar": 40
   },
   "kernels_config": {
    "python": {
     "delete_cmd_postfix": "",
     "delete_cmd_prefix": "del ",
     "library": "var_list.py",
     "varRefreshCmd": "print(var_dic_list())"
    },
    "r": {
     "delete_cmd_postfix": ") ",
     "delete_cmd_prefix": "rm(",
     "library": "var_list.r",
     "varRefreshCmd": "cat(var_dic_list()) "
    }
   },
   "types_to_exclude": [
    "module",
    "function",
    "builtin_function_or_method",
    "instance",
    "_Feature"
   ],
   "window_display": false
  }
 },
 "nbformat": 4,
 "nbformat_minor": 4
}
