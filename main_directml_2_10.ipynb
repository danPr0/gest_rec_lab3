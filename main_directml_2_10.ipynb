{
 "cells": [
  {
   "cell_type": "code",
   "metadata": {
    "id": "OVAdgMoRi6si",
    "ExecuteTime": {
     "end_time": "2025-03-28T11:11:53.657474Z",
     "start_time": "2025-03-28T11:11:53.646929Z"
    }
   },
   "source": [
    "################################################\n",
    "### using filtered data"
   ],
   "outputs": [],
   "execution_count": 1
  },
  {
   "cell_type": "code",
   "metadata": {
    "colab": {
     "base_uri": "https://localhost:8080/",
     "height": 180
    },
    "id": "LyUj_oZqi6sm",
    "outputId": "92d21141-5656-41fb-9045-025062590251",
    "ExecuteTime": {
     "end_time": "2025-03-28T11:11:53.721236Z",
     "start_time": "2025-03-28T11:11:53.661460Z"
    }
   },
   "source": [
    "import pickle\n",
    "with open('shaped.pickle', 'rb') as f:\n",
    "    ab = pickle.load(f)"
   ],
   "outputs": [],
   "execution_count": 2
  },
  {
   "cell_type": "code",
   "metadata": {
    "id": "slx70xjxi6sn",
    "outputId": "effd2e2d-4c8c-4732-8fb2-0644657badf3",
    "ExecuteTime": {
     "end_time": "2025-03-28T11:11:53.846892Z",
     "start_time": "2025-03-28T11:11:53.832892Z"
    }
   },
   "source": [
    "ab.shape"
   ],
   "outputs": [
    {
     "data": {
      "text/plain": [
       "(297, 1200)"
      ]
     },
     "execution_count": 3,
     "metadata": {},
     "output_type": "execute_result"
    }
   ],
   "execution_count": 3
  },
  {
   "cell_type": "code",
   "metadata": {
    "id": "VCrarOqZi6so",
    "ExecuteTime": {
     "end_time": "2025-03-28T11:11:56.162384Z",
     "start_time": "2025-03-28T11:11:53.863839Z"
    }
   },
   "source": [
    "from sklearn import model_selection, preprocessing, linear_model, naive_bayes, metrics, svm\n",
    "#from sklearn.feature_extraction.text import TfidfVectorizer, CountVectorizer\n",
    "from sklearn import decomposition, ensemble\n",
    "\n",
    "import numpy #,  string #pandas, xgboost, textblob,\n",
    "#from tensorflow.keras.preprocessing import text, sequence\n",
    "from tensorflow.keras import layers, models, optimizers"
   ],
   "outputs": [],
   "execution_count": 4
  },
  {
   "cell_type": "code",
   "metadata": {
    "id": "FINs3Y7pi6sp",
    "outputId": "6df54803-7f4e-43a1-d9a8-52a930a2eed1",
    "ExecuteTime": {
     "end_time": "2025-03-28T11:11:56.192889Z",
     "start_time": "2025-03-28T11:11:56.178522Z"
    }
   },
   "source": [
    "import tensorflow as tf\n",
    "tf. __version__"
   ],
   "outputs": [
    {
     "data": {
      "text/plain": [
       "'2.10.0'"
      ]
     },
     "execution_count": 5,
     "metadata": {},
     "output_type": "execute_result"
    }
   ],
   "execution_count": 5
  },
  {
   "metadata": {
    "ExecuteTime": {
     "end_time": "2025-03-28T11:11:56.286827Z",
     "start_time": "2025-03-28T11:11:56.209667Z"
    }
   },
   "cell_type": "code",
   "source": [
    "from tensorflow.python.client import device_lib\n",
    "device_lib.list_local_devices()"
   ],
   "outputs": [
    {
     "data": {
      "text/plain": [
       "[name: \"/device:CPU:0\"\n",
       " device_type: \"CPU\"\n",
       " memory_limit: 268435456\n",
       " locality {\n",
       " }\n",
       " incarnation: 10246455401258596260\n",
       " xla_global_id: -1,\n",
       " name: \"/device:GPU:0\"\n",
       " device_type: \"GPU\"\n",
       " memory_limit: 15860974414\n",
       " locality {\n",
       "   bus_id: 1\n",
       " }\n",
       " incarnation: 13648519220768508781\n",
       " physical_device_desc: \"device: 0, name: DML, pci bus id: <undefined>\"\n",
       " xla_global_id: -1]"
      ]
     },
     "execution_count": 6,
     "metadata": {},
     "output_type": "execute_result"
    }
   ],
   "execution_count": 6
  },
  {
   "cell_type": "code",
   "metadata": {
    "id": "knzBAADPi6sp",
    "ExecuteTime": {
     "end_time": "2025-03-28T11:11:56.317410Z",
     "start_time": "2025-03-28T11:11:56.303955Z"
    }
   },
   "source": [
    "# Define models:\n",
    "\n",
    "def train_model(classifier, feature_vector_train, label, feature_vector_valid, is_neural_net=False):\n",
    "    # fit the training dataset on the classifier\n",
    "    classifier.fit(feature_vector_train, label)\n",
    "\n",
    "    # predict the labels on validation dataset\n",
    "    predictions = classifier.predict(feature_vector_valid)\n",
    "\n",
    "    if is_neural_net:\n",
    "        predictions = predictions.argmax(axis=-1)\n",
    "\n",
    "    return metrics.accuracy_score(predictions, valid_y)\n",
    "\n",
    "def train_model2(classifier, feature_vector_train, label, feature_vector_valid, valid_Y, is_neural_net=False):\n",
    "    # fit the training dataset on the classifier\n",
    "    classifier.fit(feature_vector_train, label)\n",
    "\n",
    "    # predict the labels on validation dataset\n",
    "    predictions = classifier.predict(feature_vector_valid)\n",
    "\n",
    "    if is_neural_net:\n",
    "        predictions = predictions.argmax(axis=-1)\n",
    "\n",
    "    return metrics.accuracy_score(predictions, valid_Y)"
   ],
   "outputs": [],
   "execution_count": 7
  },
  {
   "cell_type": "code",
   "metadata": {
    "id": "yAfQ7puBi6sq",
    "ExecuteTime": {
     "end_time": "2025-03-28T11:11:56.648167Z",
     "start_time": "2025-03-28T11:11:56.334478Z"
    }
   },
   "source": [
    "from sklearn.decomposition import PCA\n",
    "from sklearn.decomposition import TruncatedSVD\n",
    "import numpy as np\n",
    "from scipy.sparse import csr_matrix\n",
    "\n",
    "from sklearn.manifold import TSNE\n",
    "from sklearn.cluster import KMeans\n",
    "import time\n",
    "import warnings\n",
    "\n",
    "import matplotlib.pyplot as plt\n",
    "\n",
    "from sklearn import cluster, datasets, mixture\n",
    "from sklearn.neighbors import kneighbors_graph\n",
    "from sklearn.preprocessing import StandardScaler\n",
    "from itertools import cycle, islice\n",
    "\n",
    "import scipy"
   ],
   "outputs": [],
   "execution_count": 8
  },
  {
   "cell_type": "code",
   "metadata": {
    "id": "GwncsoKci6sr",
    "ExecuteTime": {
     "end_time": "2025-03-28T11:11:56.679700Z",
     "start_time": "2025-03-28T11:11:56.666074Z"
    }
   },
   "source": [
    "y_ = np.ones(len(ab))"
   ],
   "outputs": [],
   "execution_count": 9
  },
  {
   "cell_type": "code",
   "metadata": {
    "id": "BaSBlmubi6sr",
    "outputId": "462283e9-8d9b-4dbf-e223-102fa6f22433",
    "ExecuteTime": {
     "end_time": "2025-03-28T11:11:56.724971Z",
     "start_time": "2025-03-28T11:11:56.696939Z"
    }
   },
   "source": [
    "start_time = time.time()\n",
    "#a = np.reshape(np.array(tempvar),(297*20,60))\n",
    "\n",
    "#base parameters\n",
    "default_base = {'quantile': .3,\n",
    "                'eps': .3,\n",
    "                'damping': .9,\n",
    "                'preference': -200,\n",
    "                'n_neighbors': 10, #maybe more\n",
    "                'n_clusters': 4, #3 is actual number\n",
    "                'min_samples': 20,\n",
    "                'xi': 0.05,\n",
    "                'min_cluster_size': 0.1}\n",
    "\n",
    "params = default_base.copy()\n",
    "\n",
    "pca = TruncatedSVD(n_components=10)\n",
    "pca.fit(ab)\n",
    "#csr_matrix(\n",
    "transformed_ = pca.transform(ab)\n",
    "end_time = time.time()\n",
    "end_time-start_time"
   ],
   "outputs": [
    {
     "data": {
      "text/plain": [
       "0.016997814178466797"
      ]
     },
     "execution_count": 10,
     "metadata": {},
     "output_type": "execute_result"
    }
   ],
   "execution_count": 10
  },
  {
   "cell_type": "code",
   "metadata": {
    "id": "GvJ3CMz1i6ss",
    "ExecuteTime": {
     "end_time": "2025-03-28T11:11:56.756114Z",
     "start_time": "2025-03-28T11:11:56.741097Z"
    }
   },
   "source": [
    "#X_embedded2 = X_embedded"
   ],
   "outputs": [],
   "execution_count": 11
  },
  {
   "cell_type": "code",
   "metadata": {
    "id": "ti2G5fm3i6ss",
    "ExecuteTime": {
     "end_time": "2025-03-28T11:11:56.787002Z",
     "start_time": "2025-03-28T11:11:56.772117Z"
    }
   },
   "source": [
    "#X_embedded = transformed_"
   ],
   "outputs": [],
   "execution_count": 12
  },
  {
   "cell_type": "code",
   "metadata": {
    "id": "rPIffDu_i6ss",
    "outputId": "4a19a5eb-49c5-4a62-94a8-794bbb1f2d90",
    "ExecuteTime": {
     "end_time": "2025-03-28T11:11:56.817024Z",
     "start_time": "2025-03-28T11:11:56.803020Z"
    }
   },
   "source": [
    "start_time = time.time()\n",
    "#X_embedded = TSNE(n_components=2).fit_transform(transformed_)\n",
    "X_embedded = transformed_\n",
    "end_time = time.time()\n",
    "end_time-start_time"
   ],
   "outputs": [
    {
     "data": {
      "text/plain": [
       "0.0"
      ]
     },
     "execution_count": 13,
     "metadata": {},
     "output_type": "execute_result"
    }
   ],
   "execution_count": 13
  },
  {
   "cell_type": "code",
   "metadata": {
    "id": "lXmggtVdi6st",
    "ExecuteTime": {
     "end_time": "2025-03-28T11:11:56.862976Z",
     "start_time": "2025-03-28T11:11:56.848669Z"
    }
   },
   "source": [
    "# ============\n",
    "# Create cluster objects\n",
    "# ============\n",
    "\n",
    "\n",
    "\n",
    "two_means = cluster.MiniBatchKMeans(n_clusters=params['n_clusters'])\n",
    "\n",
    "clustering_algorithms = (\n",
    "        ('MBatchKMeans', two_means),\n",
    ")\n",
    "\n",
    "plot_num = 1"
   ],
   "outputs": [],
   "execution_count": 14
  },
  {
   "cell_type": "code",
   "metadata": {
    "scrolled": true,
    "id": "i0CkOfswi6st",
    "outputId": "2ffb337e-70e2-4837-a493-8f2a10ff8ba2",
    "ExecuteTime": {
     "end_time": "2025-03-28T11:11:57.178734Z",
     "start_time": "2025-03-28T11:11:56.867012Z"
    }
   },
   "source": [
    "for name, algorithm in clustering_algorithms:\n",
    "\n",
    "        t0 = time.time()\n",
    "\n",
    "        # catch warnings related to kneighbors_graph\n",
    "        with warnings.catch_warnings():\n",
    "            warnings.filterwarnings(\n",
    "                \"ignore\",\n",
    "                message=\"the number of connected components of the \" +\n",
    "                \"connectivity matrix is [0-9]{1,2}\" +\n",
    "                \" > 1. Completing it to avoid stopping the tree early.\",\n",
    "                category=UserWarning)\n",
    "            warnings.filterwarnings(\n",
    "                \"ignore\",\n",
    "                message=\"Graph is not fully connected, spectral embedding\" +\n",
    "                \" may not work as expected.\",\n",
    "                category=UserWarning)\n",
    "            algorithm.fit(X_embedded)\n",
    "\n",
    "\n",
    "\n",
    "        t1 = time.time()\n",
    "\n",
    "        if hasattr(algorithm, 'labels_'):\n",
    "            y_pred = algorithm.labels_.astype(int)\n",
    "        else:\n",
    "            y_pred = algorithm.predict(X_embedded)\n",
    "\n",
    "        plt.subplot(1, len(clustering_algorithms), plot_num)\n",
    "\n",
    "        colors = np.array(list(islice(cycle(['#377eb8', '#ff7f00', '#4daf4a',\n",
    "                                             '#f781bf', '#a65628', '#984ea3',\n",
    "                                             '#999999', '#e41a1c', '#dede00']),\n",
    "                                      int(max(y_pred) + 1))))\n",
    "        # add black color for outliers (if any)\n",
    "        colors = np.append(colors, [\"#000000\"])\n",
    "\n",
    "\n",
    "        plt.scatter(X_embedded[:, 0], X_embedded[:, 1], s=2, color=colors[y_pred])\n",
    "\n",
    "        plt.xlim(-2.5, 2.5)\n",
    "        plt.ylim(-2.5, 2.5)\n",
    "        plt.xticks(())\n",
    "        plt.yticks(())\n",
    "\n",
    "        plot_num += 1\n",
    "\n",
    "        # stop, plot only one image\n",
    "        break\n",
    "\n",
    "#plt.show()\n",
    "t1-t0"
   ],
   "outputs": [
    {
     "data": {
      "text/plain": [
       "0.2391960620880127"
      ]
     },
     "execution_count": 15,
     "metadata": {},
     "output_type": "execute_result"
    },
    {
     "data": {
      "text/plain": [
       "<Figure size 640x480 with 1 Axes>"
      ],
      "image/png": "[encoded data removed]"
     },
     "metadata": {},
     "output_type": "display_data"
    }
   ],
   "execution_count": 15
  },
  {
   "cell_type": "code",
   "metadata": {
    "id": "I7Owfj0Qi6st",
    "outputId": "dad0c58e-0c4e-4a5d-82e8-07558917d572",
    "ExecuteTime": {
     "end_time": "2025-03-28T11:11:57.303025Z",
     "start_time": "2025-03-28T11:11:57.213106Z"
    }
   },
   "source": [
    "colors = np.array(list(islice(cycle(['#377eb8', '#ff7f00', '#4daf4a',\n",
    "                                             '#f781bf', '#a65628', '#984ea3',\n",
    "                                             '#999999', '#e41a1c', '#dede00']), int(max(y_pred) + 1))))\n",
    "\n",
    "plt.figure(figsize=(6, 6))\n",
    "plt.scatter(X_embedded[:, 0], X_embedded[:, 1], s=2, c=colors[y_pred])\n",
    "plt.colorbar()\n",
    "plt.show()"
   ],
   "outputs": [
    {
     "data": {
      "text/plain": [
       "<Figure size 600x600 with 2 Axes>"
      ],
      "image/png": "[encoded data removed]"
     },
     "metadata": {},
     "output_type": "display_data"
    }
   ],
   "execution_count": 16
  },
  {
   "cell_type": "code",
   "metadata": {
    "id": "SnBb2R2mi6su",
    "outputId": "629e3b95-1da5-41e9-ddd1-f46f17effecb",
    "ExecuteTime": {
     "end_time": "2025-03-28T11:11:57.333834Z",
     "start_time": "2025-03-28T11:11:57.318804Z"
    }
   },
   "source": [
    "y_pred.shape"
   ],
   "outputs": [
    {
     "data": {
      "text/plain": [
       "(297,)"
      ]
     },
     "execution_count": 17,
     "metadata": {},
     "output_type": "execute_result"
    }
   ],
   "execution_count": 17
  },
  {
   "cell_type": "code",
   "metadata": {
    "id": "xa46Vk3Ui6su",
    "ExecuteTime": {
     "end_time": "2025-03-28T11:11:57.365179Z",
     "start_time": "2025-03-28T11:11:57.351115Z"
    }
   },
   "source": [
    "#optional classifiers to choose\n",
    "from sklearn.naive_bayes import MultinomialNB\n",
    "from sklearn.linear_model import LogisticRegression\n",
    "from sklearn.ensemble import RandomForestClassifier\n",
    "from sklearn.svm import LinearSVC\n",
    "from sklearn.neural_network import MLPClassifier\n",
    "from sklearn.neighbors import KNeighborsClassifier\n",
    "from sklearn.svm import SVC\n",
    "from sklearn.gaussian_process import GaussianProcessClassifier\n",
    "from sklearn.gaussian_process.kernels import RBF\n",
    "from sklearn.tree import DecisionTreeClassifier\n",
    "from sklearn.ensemble import RandomForestClassifier, AdaBoostClassifier\n",
    "from sklearn.naive_bayes import GaussianNB\n",
    "from sklearn.discriminant_analysis import QuadraticDiscriminantAnalysis\n",
    "from sklearn.model_selection import cross_val_score\n",
    "import matplotlib.pyplot as plt\n",
    "#import seaborn as sns"
   ],
   "outputs": [],
   "execution_count": 18
  },
  {
   "cell_type": "code",
   "metadata": {
    "id": "VgQKR2tPi6su",
    "ExecuteTime": {
     "end_time": "2025-03-28T11:11:57.396459Z",
     "start_time": "2025-03-28T11:11:57.382387Z"
    }
   },
   "source": [
    "# ab (297x1200)!"
   ],
   "outputs": [],
   "execution_count": 19
  },
  {
   "cell_type": "code",
   "metadata": {
    "id": "lI2HsX6ri6su",
    "outputId": "fe9a4105-d34a-4477-adaf-467738fa4563",
    "ExecuteTime": {
     "end_time": "2025-03-28T11:11:57.428541Z",
     "start_time": "2025-03-28T11:11:57.414501Z"
    }
   },
   "source": [
    "start_time = time.time()\n",
    "train_x, valid_x, train_y, valid_y = model_selection.train_test_split(X_embedded, y_pred)\n",
    "end_time = time.time()\n",
    "end_time-start_time"
   ],
   "outputs": [
    {
     "data": {
      "text/plain": [
       "0.0009989738464355469"
      ]
     },
     "execution_count": 20,
     "metadata": {},
     "output_type": "execute_result"
    }
   ],
   "execution_count": 20
  },
  {
   "cell_type": "code",
   "metadata": {
    "id": "-VE5h4XSi6sv",
    "ExecuteTime": {
     "end_time": "2025-03-28T11:11:57.459439Z",
     "start_time": "2025-03-28T11:11:57.444388Z"
    }
   },
   "source": [
    "import numpy as np\n",
    "#import pandas as pd\n",
    "import os\n",
    "\n",
    "import tensorflow as tf\n",
    "#import tensorflow_addons as tfa #none\n",
    "from tensorflow.keras import layers\n",
    "\n",
    "import matplotlib.pyplot as plt\n",
    "from IPython import display\n",
    "from IPython.display import clear_output\n",
    "\n",
    "import glob\n",
    "#import imageio\n",
    "import time\n",
    "import IPython.display as ipd\n",
    "\n",
    "#AUTOTUNE = tf.data.experimental.AUTOTUNE"
   ],
   "outputs": [],
   "execution_count": 21
  },
  {
   "cell_type": "code",
   "metadata": {
    "id": "XalkKf_6i6sv",
    "ExecuteTime": {
     "end_time": "2025-03-28T11:11:57.490748Z",
     "start_time": "2025-03-28T11:11:57.475728Z"
    }
   },
   "source": [
    "# Shallow Neural Networks\n",
    "# model nx100xn\n",
    "\n",
    "import numpy as np\n",
    "import scipy.sparse\n",
    "import tensorflow as tf\n",
    "\n",
    "import tensorflow.keras\n",
    "from tensorflow.keras import layers\n",
    "from tensorflow.keras import regularizers"
   ],
   "outputs": [],
   "execution_count": 22
  },
  {
   "cell_type": "code",
   "metadata": {
    "id": "9nCoLZd7i6sv",
    "ExecuteTime": {
     "end_time": "2025-03-28T11:11:57.538143Z",
     "start_time": "2025-03-28T11:11:57.523559Z"
    }
   },
   "source": [
    "import tensorflow.keras as keras\n",
    "from tensorflow.keras import backend as K"
   ],
   "outputs": [],
   "execution_count": 23
  },
  {
   "cell_type": "code",
   "metadata": {
    "id": "M9H0QwSvi6sv",
    "ExecuteTime": {
     "end_time": "2025-03-28T11:11:57.554142Z",
     "start_time": "2025-03-28T11:11:57.541125Z"
    }
   },
   "source": [
    "from tensorflow.keras.layers import Input, Dense, Flatten, Reshape\n",
    "from tensorflow.keras.models import Model"
   ],
   "outputs": [],
   "execution_count": 24
  },
  {
   "cell_type": "code",
   "metadata": {
    "id": "wsHtvAYji6sv",
    "ExecuteTime": {
     "end_time": "2025-03-28T11:11:57.586146Z",
     "start_time": "2025-03-28T11:11:57.572124Z"
    }
   },
   "source": [
    "def create_dense_ae():\n",
    "    # Розмірність кодованого простору\n",
    "    hidden_dim = 60\n",
    "    encoding_dim = 2\n",
    "\n",
    "    # Кодувальник\n",
    "    input = Input(shape=(10*1, )) # 10*1,  - розмірність вхідного шару\n",
    "    # Додатковий шар для кодування вхідного представлення\n",
    "    flat = Flatten()(input)\n",
    "\n",
    "    hidden = Dense(hidden_dim, activation='relu')(flat)\n",
    "    hidden2 = Dense(hidden_dim, activation='relu')(hidden)\n",
    "    # Приховане подання кодувальника\n",
    "    encoded = Dense(encoding_dim, activation='relu')(hidden2)\n",
    "\n",
    "    # Декодувальник\n",
    "    # Аналогічним чином, але послідовність шарів протилежна кодувальнику\n",
    "    input_encoded = Input(shape=(encoding_dim,))\n",
    "    hidden_encoded = Dense(hidden_dim, activation='sigmoid')(input_encoded)\n",
    "    hidden_encoded2 = Dense(hidden_dim, activation='sigmoid')(hidden_encoded)\n",
    "\n",
    "    flat_decoded = Dense(10*1, activation='sigmoid')(hidden_encoded2)\n",
    "    decoded = Reshape((10*1, ))(flat_decoded)\n",
    "\n",
    "    # Таким чином можна подати окремо модель як для кодувальника так і декодувальника\n",
    "    # Або подавати шари окермо\n",
    "    encoder = Model(input, encoded, name=\"encoder\")\n",
    "    decoder = Model(input_encoded, decoded, name=\"decoder\")\n",
    "    autoencoder = Model(input, decoder(encoder(input)), name=\"autoencoder\")\n",
    "    return encoder, decoder, autoencoder"
   ],
   "outputs": [],
   "execution_count": 25
  },
  {
   "cell_type": "code",
   "metadata": {
    "id": "HPKG2myHi6sw",
    "ExecuteTime": {
     "end_time": "2025-03-28T11:11:57.617882Z",
     "start_time": "2025-03-28T11:11:57.602863Z"
    }
   },
   "source": [
    "# перелік наявних пристроїв (у випадку TF-DML)"
   ],
   "outputs": [],
   "execution_count": 26
  },
  {
   "cell_type": "code",
   "metadata": {
    "id": "saf7akn4i6sw",
    "outputId": "320c7392-f94f-4ea6-b1a6-ac7aa107fe8b",
    "ExecuteTime": {
     "end_time": "2025-03-28T11:11:57.649416Z",
     "start_time": "2025-03-28T11:11:57.634874Z"
    }
   },
   "source": [
    "from tensorflow.python.client import device_lib\n",
    "device_lib.list_local_devices()"
   ],
   "outputs": [
    {
     "data": {
      "text/plain": [
       "[name: \"/device:CPU:0\"\n",
       " device_type: \"CPU\"\n",
       " memory_limit: 268435456\n",
       " locality {\n",
       " }\n",
       " incarnation: 4793092109773850643\n",
       " xla_global_id: -1,\n",
       " name: \"/device:GPU:0\"\n",
       " device_type: \"GPU\"\n",
       " memory_limit: 15860974414\n",
       " locality {\n",
       "   bus_id: 1\n",
       " }\n",
       " incarnation: 2203916284448816651\n",
       " physical_device_desc: \"device: 0, name: DML, pci bus id: <undefined>\"\n",
       " xla_global_id: -1]"
      ]
     },
     "execution_count": 27,
     "metadata": {},
     "output_type": "execute_result"
    }
   ],
   "execution_count": 27
  },
  {
   "cell_type": "code",
   "metadata": {
    "id": "hkWK0oU2i6sw",
    "ExecuteTime": {
     "end_time": "2025-03-28T11:11:57.773774Z",
     "start_time": "2025-03-28T11:11:57.667139Z"
    }
   },
   "source": [
    "with tf.device(\"/device:DML:0\"): # /device:DML:0 для версії 1.15\n",
    "    encoder, decoder, autoencoder = create_dense_ae()\n",
    "    autoencoder.compile(optimizer='adam', loss='binary_crossentropy', metrics=[\"accuracy\"])"
   ],
   "outputs": [],
   "execution_count": 28
  },
  {
   "cell_type": "code",
   "metadata": {
    "id": "UAcbw9_gi6sx",
    "ExecuteTime": {
     "end_time": "2025-03-28T11:11:57.804419Z",
     "start_time": "2025-03-28T11:11:57.791107Z"
    }
   },
   "source": [
    "# якщо все гаразд, у консолі Conda має бути подібний текст:\n",
    "# tensorflow/c/logging.cc:34] DirectML: creating device on adapter 0 (___ім'я вашої відеокарти___)\n",
    "# tensorflow/c/logging.cc:34] Successfully opened dynamic library Kernel32.dll\n",
    "# tensorflow/core/common_runtime/pluggable_device/pluggable_device_factory.cc:272]\n",
    "# Created TensorFlow device (/job:localhost/replica:0/task:0/device:GPU:0 with XXXX MB memory) -> physical PluggableDevice (device: 0, name: DML, pci bus id: <undefined>)\n",
    "\n",
    "# зазвичай обсяг пам'яті може бути вищим через віртуальну пам'ять системи, наприклад 8192 замість 4096 МB, якщо відеокарта на 4096 MB"
   ],
   "outputs": [],
   "execution_count": 29
  },
  {
   "cell_type": "code",
   "metadata": {
    "id": "gJN7vhp2i6sx",
    "ExecuteTime": {
     "end_time": "2025-03-28T11:11:57.835460Z",
     "start_time": "2025-03-28T11:11:57.821152Z"
    }
   },
   "source": [
    "# якщо немає відеокарти як такої (наприклад, якщо є процесор з ARM архітектурою без виділеного відеоядра), можливо написати і так:"
   ],
   "outputs": [],
   "execution_count": 30
  },
  {
   "cell_type": "code",
   "metadata": {
    "id": "E6tOBZiBi6sx",
    "ExecuteTime": {
     "end_time": "2025-03-28T11:11:57.882592Z",
     "start_time": "2025-03-28T11:11:57.867222Z"
    }
   },
   "source": [
    "#with tf.device(\"/device:CPU:0\"):\n",
    "#    encoder, decoder, autoencoder = create_dense_ae()\n",
    "#    autoencoder.compile(optimizer='adam', loss='binary_crossentropy', metrics=[\"accuracy\"])"
   ],
   "outputs": [],
   "execution_count": 31
  },
  {
   "cell_type": "code",
   "metadata": {
    "id": "dG2g1TKoi6sx",
    "outputId": "a79e9e94-42d6-4863-e6c8-09639412fb68",
    "ExecuteTime": {
     "end_time": "2025-03-28T11:11:57.898593Z",
     "start_time": "2025-03-28T11:11:57.886596Z"
    }
   },
   "source": [
    "autoencoder.summary()"
   ],
   "outputs": [
    {
     "name": "stdout",
     "output_type": "stream",
     "text": [
      "Model: \"autoencoder\"\n",
      "_________________________________________________________________\n",
      " Layer (type)                Output Shape              Param #   \n",
      "=================================================================\n",
      " input_1 (InputLayer)        [(None, 10)]              0         \n",
      "                                                                 \n",
      " encoder (Functional)        (None, 2)                 4442      \n",
      "                                                                 \n",
      " decoder (Functional)        (None, 10)                4450      \n",
      "                                                                 \n",
      "=================================================================\n",
      "Total params: 8,892\n",
      "Trainable params: 8,892\n",
      "Non-trainable params: 0\n",
      "_________________________________________________________________\n"
     ]
    }
   ],
   "execution_count": 32
  },
  {
   "cell_type": "code",
   "metadata": {
    "id": "QrCIdlz2i6sy",
    "outputId": "4908162e-43fa-4c85-ae2f-6bacf507d016",
    "ExecuteTime": {
     "end_time": "2025-03-28T11:12:30.125365Z",
     "start_time": "2025-03-28T11:12:02.293625Z"
    }
   },
   "source": [
    "with tf.device(\"/device:DML:0\"):    # у версії TF-DML для 2.10 можна писати \"/device:GPU:0\" замість \"/device:DML:0\"\n",
    "    start_time = time.time()\n",
    "    autoencoder.fit(train_x, train_x,\n",
    "        epochs=500,\n",
    "        batch_size=50,\n",
    "        shuffle=True,\n",
    "        validation_data=(valid_x, valid_x))\n",
    "    end_time = time.time()\n",
    "    print(end_time-start_time)"
   ],
   "outputs": [
    {
     "name": "stdout",
     "output_type": "stream",
     "text": [
      "Epoch 1/500\n",
      "5/5 [==============================] - 0s 43ms/step - loss: 0.8011 - accuracy: 0.0676 - val_loss: 0.6633 - val_accuracy: 0.0133\n",
      "Epoch 2/500\n",
      "5/5 [==============================] - 0s 16ms/step - loss: 0.5868 - accuracy: 0.0676 - val_loss: 0.4316 - val_accuracy: 0.0133\n",
      "Epoch 3/500\n",
      "5/5 [==============================] - 0s 17ms/step - loss: 0.3785 - accuracy: 0.0811 - val_loss: 0.2023 - val_accuracy: 0.2533\n",
      "Epoch 4/500\n",
      "5/5 [==============================] - 0s 14ms/step - loss: 0.1791 - accuracy: 0.2297 - val_loss: -0.0258 - val_accuracy: 0.2533\n",
      "Epoch 5/500\n",
      "5/5 [==============================] - 0s 14ms/step - loss: -0.0165 - accuracy: 0.3874 - val_loss: -0.2554 - val_accuracy: 0.7733\n",
      "Epoch 6/500\n",
      "5/5 [==============================] - 0s 14ms/step - loss: -0.2179 - accuracy: 0.6261 - val_loss: -0.4808 - val_accuracy: 0.7733\n",
      "Epoch 7/500\n",
      "5/5 [==============================] - 0s 14ms/step - loss: -0.4132 - accuracy: 0.6441 - val_loss: -0.7039 - val_accuracy: 0.7733\n",
      "Epoch 8/500\n",
      "5/5 [==============================] - 0s 14ms/step - loss: -0.6141 - accuracy: 0.6441 - val_loss: -0.9247 - val_accuracy: 0.7733\n",
      "Epoch 9/500\n",
      "5/5 [==============================] - 0s 13ms/step - loss: -0.8111 - accuracy: 0.6441 - val_loss: -1.1472 - val_accuracy: 0.7733\n",
      "Epoch 10/500\n",
      "5/5 [==============================] - 0s 12ms/step - loss: -1.0072 - accuracy: 0.6441 - val_loss: -1.3712 - val_accuracy: 0.7733\n",
      "Epoch 11/500\n",
      "5/5 [==============================] - 0s 12ms/step - loss: -1.2058 - accuracy: 0.6441 - val_loss: -1.5984 - val_accuracy: 0.7733\n",
      "Epoch 12/500\n",
      "5/5 [==============================] - 0s 13ms/step - loss: -1.4098 - accuracy: 0.6441 - val_loss: -1.8263 - val_accuracy: 0.7733\n",
      "Epoch 13/500\n",
      "5/5 [==============================] - 0s 13ms/step - loss: -1.6176 - accuracy: 0.6441 - val_loss: -2.0570 - val_accuracy: 0.7733\n",
      "Epoch 14/500\n",
      "5/5 [==============================] - 0s 12ms/step - loss: -1.8336 - accuracy: 0.6441 - val_loss: -2.2883 - val_accuracy: 0.7733\n",
      "Epoch 15/500\n",
      "5/5 [==============================] - 0s 13ms/step - loss: -2.0520 - accuracy: 0.6441 - val_loss: -2.5229 - val_accuracy: 0.7733\n",
      "Epoch 16/500\n",
      "5/5 [==============================] - 0s 12ms/step - loss: -2.2715 - accuracy: 0.6441 - val_loss: -2.7619 - val_accuracy: 0.7733\n",
      "Epoch 17/500\n",
      "5/5 [==============================] - 0s 12ms/step - loss: -2.4980 - accuracy: 0.6441 - val_loss: -2.9963 - val_accuracy: 0.7733\n",
      "Epoch 18/500\n",
      "5/5 [==============================] - 0s 11ms/step - loss: -2.7196 - accuracy: 0.6441 - val_loss: -3.2347 - val_accuracy: 0.7733\n",
      "Epoch 19/500\n",
      "5/5 [==============================] - 0s 13ms/step - loss: -2.9438 - accuracy: 0.6441 - val_loss: -3.4676 - val_accuracy: 0.7733\n",
      "Epoch 20/500\n",
      "5/5 [==============================] - 0s 13ms/step - loss: -3.1651 - accuracy: 0.6441 - val_loss: -3.7030 - val_accuracy: 0.7733\n",
      "Epoch 21/500\n",
      "5/5 [==============================] - 0s 13ms/step - loss: -3.3872 - accuracy: 0.6441 - val_loss: -3.9384 - val_accuracy: 0.7733\n",
      "Epoch 22/500\n",
      "5/5 [==============================] - 0s 14ms/step - loss: -3.6088 - accuracy: 0.6441 - val_loss: -4.1731 - val_accuracy: 0.7733\n",
      "Epoch 23/500\n",
      "5/5 [==============================] - 0s 12ms/step - loss: -3.8288 - accuracy: 0.6441 - val_loss: -4.4051 - val_accuracy: 0.7733\n",
      "Epoch 24/500\n",
      "5/5 [==============================] - 0s 13ms/step - loss: -4.0467 - accuracy: 0.6441 - val_loss: -4.6359 - val_accuracy: 0.7733\n",
      "Epoch 25/500\n",
      "5/5 [==============================] - 0s 13ms/step - loss: -4.2626 - accuracy: 0.6441 - val_loss: -4.8685 - val_accuracy: 0.7733\n",
      "Epoch 26/500\n",
      "5/5 [==============================] - 0s 12ms/step - loss: -4.4795 - accuracy: 0.6441 - val_loss: -5.0979 - val_accuracy: 0.7733\n",
      "Epoch 27/500\n",
      "5/5 [==============================] - 0s 13ms/step - loss: -4.6909 - accuracy: 0.6441 - val_loss: -5.3239 - val_accuracy: 0.7733\n",
      "Epoch 28/500\n",
      "5/5 [==============================] - 0s 14ms/step - loss: -4.9007 - accuracy: 0.6441 - val_loss: -5.5440 - val_accuracy: 0.7733\n",
      "Epoch 29/500\n",
      "5/5 [==============================] - 0s 14ms/step - loss: -5.1064 - accuracy: 0.6441 - val_loss: -5.7638 - val_accuracy: 0.7733\n",
      "Epoch 30/500\n",
      "5/5 [==============================] - 0s 13ms/step - loss: -5.3090 - accuracy: 0.6441 - val_loss: -5.9796 - val_accuracy: 0.7733\n",
      "Epoch 31/500\n",
      "5/5 [==============================] - 0s 11ms/step - loss: -5.5113 - accuracy: 0.6441 - val_loss: -6.1922 - val_accuracy: 0.7733\n",
      "Epoch 32/500\n",
      "5/5 [==============================] - 0s 11ms/step - loss: -5.7059 - accuracy: 0.6441 - val_loss: -6.4072 - val_accuracy: 0.7733\n",
      "Epoch 33/500\n",
      "5/5 [==============================] - 0s 11ms/step - loss: -5.9018 - accuracy: 0.6441 - val_loss: -6.6177 - val_accuracy: 0.7733\n",
      "Epoch 34/500\n",
      "5/5 [==============================] - 0s 11ms/step - loss: -6.0929 - accuracy: 0.6441 - val_loss: -6.8282 - val_accuracy: 0.7733\n",
      "Epoch 35/500\n",
      "5/5 [==============================] - 0s 11ms/step - loss: -6.2868 - accuracy: 0.6441 - val_loss: -7.0328 - val_accuracy: 0.7733\n",
      "Epoch 36/500\n",
      "5/5 [==============================] - 0s 12ms/step - loss: -6.4716 - accuracy: 0.6441 - val_loss: -7.2377 - val_accuracy: 0.7733\n",
      "Epoch 37/500\n",
      "5/5 [==============================] - 0s 12ms/step - loss: -6.6577 - accuracy: 0.6441 - val_loss: -7.4392 - val_accuracy: 0.7733\n",
      "Epoch 38/500\n",
      "5/5 [==============================] - 0s 11ms/step - loss: -6.8398 - accuracy: 0.6441 - val_loss: -7.6420 - val_accuracy: 0.7733\n",
      "Epoch 39/500\n",
      "5/5 [==============================] - 0s 12ms/step - loss: -7.0236 - accuracy: 0.6441 - val_loss: -7.8384 - val_accuracy: 0.7733\n",
      "Epoch 40/500\n",
      "5/5 [==============================] - 0s 11ms/step - loss: -7.2023 - accuracy: 0.6441 - val_loss: -8.0342 - val_accuracy: 0.7733\n",
      "Epoch 41/500\n",
      "5/5 [==============================] - 0s 11ms/step - loss: -7.3818 - accuracy: 0.6441 - val_loss: -8.2264 - val_accuracy: 0.7733\n",
      "Epoch 42/500\n",
      "5/5 [==============================] - 0s 10ms/step - loss: -7.5602 - accuracy: 0.6441 - val_loss: -8.4234 - val_accuracy: 0.7733\n",
      "Epoch 43/500\n",
      "5/5 [==============================] - 0s 10ms/step - loss: -7.7364 - accuracy: 0.6441 - val_loss: -8.6197 - val_accuracy: 0.7733\n",
      "Epoch 44/500\n",
      "5/5 [==============================] - 0s 9ms/step - loss: -7.9156 - accuracy: 0.6441 - val_loss: -8.8143 - val_accuracy: 0.7733\n",
      "Epoch 45/500\n",
      "5/5 [==============================] - 0s 9ms/step - loss: -8.0893 - accuracy: 0.6441 - val_loss: -9.0011 - val_accuracy: 0.7733\n",
      "Epoch 46/500\n",
      "5/5 [==============================] - 0s 10ms/step - loss: -8.2622 - accuracy: 0.6441 - val_loss: -9.2019 - val_accuracy: 0.7733\n",
      "Epoch 47/500\n",
      "5/5 [==============================] - 0s 11ms/step - loss: -8.4361 - accuracy: 0.6441 - val_loss: -9.3752 - val_accuracy: 0.7733\n",
      "Epoch 48/500\n",
      "5/5 [==============================] - 0s 10ms/step - loss: -8.6083 - accuracy: 0.6441 - val_loss: -9.5709 - val_accuracy: 0.7733\n",
      "Epoch 49/500\n",
      "5/5 [==============================] - 0s 10ms/step - loss: -8.7688 - accuracy: 0.6441 - val_loss: -9.7473 - val_accuracy: 0.7733\n",
      "Epoch 50/500\n",
      "5/5 [==============================] - 0s 9ms/step - loss: -8.9307 - accuracy: 0.6441 - val_loss: -9.9135 - val_accuracy: 0.7733\n",
      "Epoch 51/500\n",
      "5/5 [==============================] - 0s 9ms/step - loss: -9.0911 - accuracy: 0.6441 - val_loss: -10.1060 - val_accuracy: 0.7733\n",
      "Epoch 52/500\n",
      "5/5 [==============================] - 0s 10ms/step - loss: -9.2434 - accuracy: 0.6441 - val_loss: -10.2738 - val_accuracy: 0.7733\n",
      "Epoch 53/500\n",
      "5/5 [==============================] - 0s 10ms/step - loss: -9.3976 - accuracy: 0.6441 - val_loss: -10.4003 - val_accuracy: 0.7733\n",
      "Epoch 54/500\n",
      "5/5 [==============================] - 0s 11ms/step - loss: -9.5318 - accuracy: 0.6441 - val_loss: -10.5323 - val_accuracy: 0.7733\n",
      "Epoch 55/500\n",
      "5/5 [==============================] - 0s 11ms/step - loss: -9.6738 - accuracy: 0.6441 - val_loss: -10.6737 - val_accuracy: 0.7733\n",
      "Epoch 56/500\n",
      "5/5 [==============================] - 0s 11ms/step - loss: -9.8179 - accuracy: 0.6441 - val_loss: -10.8296 - val_accuracy: 0.7733\n",
      "Epoch 57/500\n",
      "5/5 [==============================] - 0s 12ms/step - loss: -9.9336 - accuracy: 0.6441 - val_loss: -11.0050 - val_accuracy: 0.7733\n",
      "Epoch 58/500\n",
      "5/5 [==============================] - 0s 13ms/step - loss: -10.0650 - accuracy: 0.6441 - val_loss: -11.0657 - val_accuracy: 0.7733\n",
      "Epoch 59/500\n",
      "5/5 [==============================] - 0s 12ms/step - loss: -10.2007 - accuracy: 0.6441 - val_loss: -11.2757 - val_accuracy: 0.7733\n",
      "Epoch 60/500\n",
      "5/5 [==============================] - 0s 12ms/step - loss: -10.3202 - accuracy: 0.6441 - val_loss: -11.3389 - val_accuracy: 0.7733\n",
      "Epoch 61/500\n",
      "5/5 [==============================] - 0s 13ms/step - loss: -10.3880 - accuracy: 0.6441 - val_loss: -11.4052 - val_accuracy: 0.7733\n",
      "Epoch 62/500\n",
      "5/5 [==============================] - 0s 12ms/step - loss: -10.4596 - accuracy: 0.6441 - val_loss: -11.6738 - val_accuracy: 0.7733\n",
      "Epoch 63/500\n",
      "5/5 [==============================] - 0s 12ms/step - loss: -10.6907 - accuracy: 0.6441 - val_loss: -11.7390 - val_accuracy: 0.7733\n",
      "Epoch 64/500\n",
      "5/5 [==============================] - 0s 11ms/step - loss: -10.7603 - accuracy: 0.6441 - val_loss: -11.8006 - val_accuracy: 0.7733\n",
      "Epoch 65/500\n",
      "5/5 [==============================] - 0s 10ms/step - loss: -10.8292 - accuracy: 0.6441 - val_loss: -11.8604 - val_accuracy: 0.7733\n",
      "Epoch 66/500\n",
      "5/5 [==============================] - 0s 10ms/step - loss: -10.8936 - accuracy: 0.6441 - val_loss: -11.9220 - val_accuracy: 0.7733\n",
      "Epoch 67/500\n",
      "5/5 [==============================] - 0s 10ms/step - loss: -10.9602 - accuracy: 0.6441 - val_loss: -11.9825 - val_accuracy: 0.7733\n",
      "Epoch 68/500\n",
      "5/5 [==============================] - 0s 10ms/step - loss: -11.0248 - accuracy: 0.6441 - val_loss: -12.0398 - val_accuracy: 0.7733\n",
      "Epoch 69/500\n",
      "5/5 [==============================] - 0s 10ms/step - loss: -11.0892 - accuracy: 0.6441 - val_loss: -12.0952 - val_accuracy: 0.7733\n",
      "Epoch 70/500\n",
      "5/5 [==============================] - 0s 10ms/step - loss: -11.1495 - accuracy: 0.6441 - val_loss: -12.1522 - val_accuracy: 0.7733\n",
      "Epoch 71/500\n",
      "5/5 [==============================] - 0s 10ms/step - loss: -11.2124 - accuracy: 0.6441 - val_loss: -12.2078 - val_accuracy: 0.7733\n",
      "Epoch 72/500\n",
      "5/5 [==============================] - 0s 11ms/step - loss: -11.2724 - accuracy: 0.6441 - val_loss: -12.2624 - val_accuracy: 0.7733\n",
      "Epoch 73/500\n",
      "5/5 [==============================] - 0s 11ms/step - loss: -11.3317 - accuracy: 0.6441 - val_loss: -12.3167 - val_accuracy: 0.7733\n",
      "Epoch 74/500\n",
      "5/5 [==============================] - 0s 10ms/step - loss: -11.3881 - accuracy: 0.6441 - val_loss: -12.3717 - val_accuracy: 0.7733\n",
      "Epoch 75/500\n",
      "5/5 [==============================] - 0s 11ms/step - loss: -11.4455 - accuracy: 0.6441 - val_loss: -12.4294 - val_accuracy: 0.7733\n",
      "Epoch 76/500\n",
      "5/5 [==============================] - 0s 11ms/step - loss: -11.5110 - accuracy: 0.6441 - val_loss: -12.4855 - val_accuracy: 0.7733\n",
      "Epoch 77/500\n",
      "5/5 [==============================] - 0s 11ms/step - loss: -11.5687 - accuracy: 0.6441 - val_loss: -12.5421 - val_accuracy: 0.7733\n",
      "Epoch 78/500\n",
      "5/5 [==============================] - 0s 12ms/step - loss: -11.6284 - accuracy: 0.6441 - val_loss: -12.5979 - val_accuracy: 0.7733\n",
      "Epoch 79/500\n",
      "5/5 [==============================] - 0s 12ms/step - loss: -11.6891 - accuracy: 0.6441 - val_loss: -12.6499 - val_accuracy: 0.7733\n",
      "Epoch 80/500\n",
      "5/5 [==============================] - 0s 12ms/step - loss: -11.7462 - accuracy: 0.6441 - val_loss: -12.7008 - val_accuracy: 0.7733\n",
      "Epoch 81/500\n",
      "5/5 [==============================] - 0s 12ms/step - loss: -11.8042 - accuracy: 0.6441 - val_loss: -12.7556 - val_accuracy: 0.7733\n",
      "Epoch 82/500\n",
      "5/5 [==============================] - 0s 11ms/step - loss: -11.8635 - accuracy: 0.6441 - val_loss: -12.8082 - val_accuracy: 0.7733\n",
      "Epoch 83/500\n",
      "5/5 [==============================] - 0s 13ms/step - loss: -11.9227 - accuracy: 0.6441 - val_loss: -12.8639 - val_accuracy: 0.7733\n",
      "Epoch 84/500\n",
      "5/5 [==============================] - 0s 12ms/step - loss: -11.9786 - accuracy: 0.6441 - val_loss: -12.9167 - val_accuracy: 0.7733\n",
      "Epoch 85/500\n",
      "5/5 [==============================] - 0s 12ms/step - loss: -12.0392 - accuracy: 0.6441 - val_loss: -12.9697 - val_accuracy: 0.7733\n",
      "Epoch 86/500\n",
      "5/5 [==============================] - 0s 12ms/step - loss: -12.0940 - accuracy: 0.6441 - val_loss: -13.0222 - val_accuracy: 0.7733\n",
      "Epoch 87/500\n",
      "5/5 [==============================] - 0s 13ms/step - loss: -12.1476 - accuracy: 0.6441 - val_loss: -13.0748 - val_accuracy: 0.7733\n",
      "Epoch 88/500\n",
      "5/5 [==============================] - 0s 12ms/step - loss: -12.2000 - accuracy: 0.6441 - val_loss: -13.1236 - val_accuracy: 0.7733\n",
      "Epoch 89/500\n",
      "5/5 [==============================] - 0s 12ms/step - loss: -12.2513 - accuracy: 0.6441 - val_loss: -13.1747 - val_accuracy: 0.7733\n",
      "Epoch 90/500\n",
      "5/5 [==============================] - 0s 12ms/step - loss: -12.3027 - accuracy: 0.6441 - val_loss: -13.2219 - val_accuracy: 0.7733\n",
      "Epoch 91/500\n",
      "5/5 [==============================] - 0s 12ms/step - loss: -12.3522 - accuracy: 0.6441 - val_loss: -13.2668 - val_accuracy: 0.7733\n",
      "Epoch 92/500\n",
      "5/5 [==============================] - 0s 12ms/step - loss: -12.4034 - accuracy: 0.6441 - val_loss: -13.3119 - val_accuracy: 0.7733\n",
      "Epoch 93/500\n",
      "5/5 [==============================] - 0s 12ms/step - loss: -12.4498 - accuracy: 0.6441 - val_loss: -13.3589 - val_accuracy: 0.7733\n",
      "Epoch 94/500\n",
      "5/5 [==============================] - 0s 13ms/step - loss: -12.4993 - accuracy: 0.6441 - val_loss: -13.4048 - val_accuracy: 0.7733\n",
      "Epoch 95/500\n",
      "5/5 [==============================] - 0s 12ms/step - loss: -12.5469 - accuracy: 0.6441 - val_loss: -13.4489 - val_accuracy: 0.7733\n",
      "Epoch 96/500\n",
      "5/5 [==============================] - 0s 12ms/step - loss: -12.5943 - accuracy: 0.6441 - val_loss: -13.4979 - val_accuracy: 0.7733\n",
      "Epoch 97/500\n",
      "5/5 [==============================] - 0s 11ms/step - loss: -12.6420 - accuracy: 0.6441 - val_loss: -13.5428 - val_accuracy: 0.7733\n",
      "Epoch 98/500\n",
      "5/5 [==============================] - 0s 12ms/step - loss: -12.6903 - accuracy: 0.6441 - val_loss: -13.5861 - val_accuracy: 0.7733\n",
      "Epoch 99/500\n",
      "5/5 [==============================] - 0s 11ms/step - loss: -12.7348 - accuracy: 0.6441 - val_loss: -13.6298 - val_accuracy: 0.7733\n",
      "Epoch 100/500\n",
      "5/5 [==============================] - 0s 12ms/step - loss: -12.7778 - accuracy: 0.6441 - val_loss: -13.6716 - val_accuracy: 0.7733\n",
      "Epoch 101/500\n",
      "5/5 [==============================] - 0s 11ms/step - loss: -12.8223 - accuracy: 0.6441 - val_loss: -13.7140 - val_accuracy: 0.7733\n",
      "Epoch 102/500\n",
      "5/5 [==============================] - 0s 12ms/step - loss: -12.8663 - accuracy: 0.6441 - val_loss: -13.7535 - val_accuracy: 0.7733\n",
      "Epoch 103/500\n",
      "5/5 [==============================] - 0s 12ms/step - loss: -12.9052 - accuracy: 0.6396 - val_loss: -13.7915 - val_accuracy: 0.7733\n",
      "Epoch 104/500\n",
      "5/5 [==============================] - 0s 12ms/step - loss: -12.9491 - accuracy: 0.6441 - val_loss: -13.8353 - val_accuracy: 0.7733\n",
      "Epoch 105/500\n",
      "5/5 [==============================] - 0s 12ms/step - loss: -12.9914 - accuracy: 0.6351 - val_loss: -13.8693 - val_accuracy: 0.7733\n",
      "Epoch 106/500\n",
      "5/5 [==============================] - 0s 11ms/step - loss: -13.0263 - accuracy: 0.6441 - val_loss: -13.9070 - val_accuracy: 0.7733\n",
      "Epoch 107/500\n",
      "5/5 [==============================] - 0s 12ms/step - loss: -13.0625 - accuracy: 0.6441 - val_loss: -13.9393 - val_accuracy: 0.7733\n",
      "Epoch 108/500\n",
      "5/5 [==============================] - 0s 11ms/step - loss: -13.0915 - accuracy: 0.6261 - val_loss: -13.9776 - val_accuracy: 0.7733\n",
      "Epoch 109/500\n",
      "5/5 [==============================] - 0s 12ms/step - loss: -13.1352 - accuracy: 0.6261 - val_loss: -14.0169 - val_accuracy: 0.7733\n",
      "Epoch 110/500\n",
      "5/5 [==============================] - 0s 12ms/step - loss: -13.1710 - accuracy: 0.6351 - val_loss: -14.0460 - val_accuracy: 0.7733\n",
      "Epoch 111/500\n",
      "5/5 [==============================] - 0s 12ms/step - loss: -13.1992 - accuracy: 0.6306 - val_loss: -14.0743 - val_accuracy: 0.7733\n",
      "Epoch 112/500\n",
      "5/5 [==============================] - 0s 12ms/step - loss: -13.2253 - accuracy: 0.6306 - val_loss: -14.1015 - val_accuracy: 0.7733\n",
      "Epoch 113/500\n",
      "5/5 [==============================] - 0s 12ms/step - loss: -13.2517 - accuracy: 0.6351 - val_loss: -14.1199 - val_accuracy: 0.7733\n",
      "Epoch 114/500\n",
      "5/5 [==============================] - 0s 12ms/step - loss: -13.2742 - accuracy: 0.6261 - val_loss: -14.1468 - val_accuracy: 0.7733\n",
      "Epoch 115/500\n",
      "5/5 [==============================] - 0s 12ms/step - loss: -13.2945 - accuracy: 0.6261 - val_loss: -14.1724 - val_accuracy: 0.7733\n",
      "Epoch 116/500\n",
      "5/5 [==============================] - 0s 12ms/step - loss: -13.3177 - accuracy: 0.6261 - val_loss: -14.1865 - val_accuracy: 0.7733\n",
      "Epoch 117/500\n",
      "5/5 [==============================] - 0s 11ms/step - loss: -13.3342 - accuracy: 0.6351 - val_loss: -14.2108 - val_accuracy: 0.7733\n",
      "Epoch 118/500\n",
      "5/5 [==============================] - 0s 9ms/step - loss: -13.3544 - accuracy: 0.6351 - val_loss: -14.2181 - val_accuracy: 0.7733\n",
      "Epoch 119/500\n",
      "5/5 [==============================] - 0s 9ms/step - loss: -13.3608 - accuracy: 0.6306 - val_loss: -14.2349 - val_accuracy: 0.7733\n",
      "Epoch 120/500\n",
      "5/5 [==============================] - 0s 9ms/step - loss: -13.3721 - accuracy: 0.6261 - val_loss: -14.2378 - val_accuracy: 0.7733\n",
      "Epoch 121/500\n",
      "5/5 [==============================] - 0s 10ms/step - loss: -13.3793 - accuracy: 0.6126 - val_loss: -14.2586 - val_accuracy: 0.7600\n",
      "Epoch 122/500\n",
      "5/5 [==============================] - 0s 9ms/step - loss: -13.3914 - accuracy: 0.6171 - val_loss: -14.2630 - val_accuracy: 0.7600\n",
      "Epoch 123/500\n",
      "5/5 [==============================] - 0s 10ms/step - loss: -13.3958 - accuracy: 0.6216 - val_loss: -14.2668 - val_accuracy: 0.7600\n",
      "Epoch 124/500\n",
      "5/5 [==============================] - 0s 9ms/step - loss: -13.3999 - accuracy: 0.6171 - val_loss: -14.2929 - val_accuracy: 0.7600\n",
      "Epoch 125/500\n",
      "5/5 [==============================] - 0s 10ms/step - loss: -13.4160 - accuracy: 0.6126 - val_loss: -14.2956 - val_accuracy: 0.7600\n",
      "Epoch 126/500\n",
      "5/5 [==============================] - 0s 10ms/step - loss: -13.4205 - accuracy: 0.6171 - val_loss: -14.2992 - val_accuracy: 0.7467\n",
      "Epoch 127/500\n",
      "5/5 [==============================] - 0s 9ms/step - loss: -13.4259 - accuracy: 0.6171 - val_loss: -14.3018 - val_accuracy: 0.7467\n",
      "Epoch 128/500\n",
      "5/5 [==============================] - 0s 10ms/step - loss: -13.4303 - accuracy: 0.6171 - val_loss: -14.3052 - val_accuracy: 0.7467\n",
      "Epoch 129/500\n",
      "5/5 [==============================] - 0s 9ms/step - loss: -13.4348 - accuracy: 0.6081 - val_loss: -14.3084 - val_accuracy: 0.7467\n",
      "Epoch 130/500\n",
      "5/5 [==============================] - 0s 9ms/step - loss: -13.4402 - accuracy: 0.6081 - val_loss: -14.3416 - val_accuracy: 0.7467\n",
      "Epoch 131/500\n",
      "5/5 [==============================] - 0s 9ms/step - loss: -13.4584 - accuracy: 0.6216 - val_loss: -14.3438 - val_accuracy: 0.7467\n",
      "Epoch 132/500\n",
      "5/5 [==============================] - 0s 9ms/step - loss: -13.4616 - accuracy: 0.5991 - val_loss: -14.3446 - val_accuracy: 0.7467\n",
      "Epoch 133/500\n",
      "5/5 [==============================] - 0s 9ms/step - loss: -13.4660 - accuracy: 0.5991 - val_loss: -14.3464 - val_accuracy: 0.7467\n",
      "Epoch 134/500\n",
      "5/5 [==============================] - 0s 11ms/step - loss: -13.4695 - accuracy: 0.6126 - val_loss: -14.3498 - val_accuracy: 0.7333\n",
      "Epoch 135/500\n",
      "5/5 [==============================] - 0s 9ms/step - loss: -13.4741 - accuracy: 0.5901 - val_loss: -14.3523 - val_accuracy: 0.6400\n",
      "Epoch 136/500\n",
      "5/5 [==============================] - 0s 10ms/step - loss: -13.4788 - accuracy: 0.5856 - val_loss: -14.3533 - val_accuracy: 0.7333\n",
      "Epoch 137/500\n",
      "5/5 [==============================] - 0s 10ms/step - loss: -13.4820 - accuracy: 0.6036 - val_loss: -14.3564 - val_accuracy: 0.6933\n",
      "Epoch 138/500\n",
      "5/5 [==============================] - 0s 9ms/step - loss: -13.4856 - accuracy: 0.5991 - val_loss: -14.3574 - val_accuracy: 0.6533\n",
      "Epoch 139/500\n",
      "5/5 [==============================] - 0s 9ms/step - loss: -13.4896 - accuracy: 0.5315 - val_loss: -14.3574 - val_accuracy: 0.7067\n",
      "Epoch 140/500\n",
      "5/5 [==============================] - 0s 10ms/step - loss: -13.4921 - accuracy: 0.6036 - val_loss: -14.3587 - val_accuracy: 0.7067\n",
      "Epoch 141/500\n",
      "5/5 [==============================] - 0s 10ms/step - loss: -13.4961 - accuracy: 0.5946 - val_loss: -14.3618 - val_accuracy: 0.7067\n",
      "Epoch 142/500\n",
      "5/5 [==============================] - 0s 10ms/step - loss: -13.4998 - accuracy: 0.5676 - val_loss: -14.3617 - val_accuracy: 0.7067\n",
      "Epoch 143/500\n",
      "5/5 [==============================] - 0s 11ms/step - loss: -13.5023 - accuracy: 0.5991 - val_loss: -14.3603 - val_accuracy: 0.7600\n",
      "Epoch 144/500\n",
      "5/5 [==============================] - 0s 10ms/step - loss: -13.5044 - accuracy: 0.6126 - val_loss: -14.3586 - val_accuracy: 0.7600\n",
      "Epoch 145/500\n",
      "5/5 [==============================] - 0s 12ms/step - loss: -13.5052 - accuracy: 0.6216 - val_loss: -14.3573 - val_accuracy: 0.7733\n",
      "Epoch 146/500\n",
      "5/5 [==============================] - 0s 12ms/step - loss: -13.5085 - accuracy: 0.6171 - val_loss: -14.3574 - val_accuracy: 0.7600\n",
      "Epoch 147/500\n",
      "5/5 [==============================] - 0s 12ms/step - loss: -13.5098 - accuracy: 0.6126 - val_loss: -14.3558 - val_accuracy: 0.7733\n",
      "Epoch 148/500\n",
      "5/5 [==============================] - 0s 12ms/step - loss: -13.5129 - accuracy: 0.6126 - val_loss: -14.3565 - val_accuracy: 0.7600\n",
      "Epoch 149/500\n",
      "5/5 [==============================] - 0s 11ms/step - loss: -13.5145 - accuracy: 0.6171 - val_loss: -14.3566 - val_accuracy: 0.7200\n",
      "Epoch 150/500\n",
      "5/5 [==============================] - 0s 11ms/step - loss: -13.5169 - accuracy: 0.6081 - val_loss: -14.3579 - val_accuracy: 0.7200\n",
      "Epoch 151/500\n",
      "5/5 [==============================] - 0s 11ms/step - loss: -13.5194 - accuracy: 0.5946 - val_loss: -14.3577 - val_accuracy: 0.7200\n",
      "Epoch 152/500\n",
      "5/5 [==============================] - 0s 11ms/step - loss: -13.5215 - accuracy: 0.6036 - val_loss: -14.3571 - val_accuracy: 0.7200\n",
      "Epoch 153/500\n",
      "5/5 [==============================] - 0s 12ms/step - loss: -13.5233 - accuracy: 0.6216 - val_loss: -14.3579 - val_accuracy: 0.7600\n",
      "Epoch 154/500\n",
      "5/5 [==============================] - 0s 12ms/step - loss: -13.5252 - accuracy: 0.6126 - val_loss: -14.3591 - val_accuracy: 0.6800\n",
      "Epoch 155/500\n",
      "5/5 [==============================] - 0s 12ms/step - loss: -13.5263 - accuracy: 0.5991 - val_loss: -14.3600 - val_accuracy: 0.7600\n",
      "Epoch 156/500\n",
      "5/5 [==============================] - 0s 12ms/step - loss: -13.5278 - accuracy: 0.5856 - val_loss: -14.3597 - val_accuracy: 0.6800\n",
      "Epoch 157/500\n",
      "5/5 [==============================] - 0s 11ms/step - loss: -13.5294 - accuracy: 0.5946 - val_loss: -14.3593 - val_accuracy: 0.7200\n",
      "Epoch 158/500\n",
      "5/5 [==============================] - 0s 12ms/step - loss: -13.5307 - accuracy: 0.5856 - val_loss: -14.3590 - val_accuracy: 0.6800\n",
      "Epoch 159/500\n",
      "5/5 [==============================] - 0s 11ms/step - loss: -13.5321 - accuracy: 0.5676 - val_loss: -14.3577 - val_accuracy: 0.7200\n",
      "Epoch 160/500\n",
      "5/5 [==============================] - 0s 10ms/step - loss: -13.5339 - accuracy: 0.5766 - val_loss: -14.3575 - val_accuracy: 0.7333\n",
      "Epoch 161/500\n",
      "5/5 [==============================] - 0s 10ms/step - loss: -13.5358 - accuracy: 0.6126 - val_loss: -14.3569 - val_accuracy: 0.7600\n",
      "Epoch 162/500\n",
      "5/5 [==============================] - 0s 10ms/step - loss: -13.5375 - accuracy: 0.6216 - val_loss: -14.3564 - val_accuracy: 0.7600\n",
      "Epoch 163/500\n",
      "5/5 [==============================] - 0s 9ms/step - loss: -13.5385 - accuracy: 0.6216 - val_loss: -14.3559 - val_accuracy: 0.7600\n",
      "Epoch 164/500\n",
      "5/5 [==============================] - 0s 10ms/step - loss: -13.5405 - accuracy: 0.6216 - val_loss: -14.3556 - val_accuracy: 0.7200\n",
      "Epoch 165/500\n",
      "5/5 [==============================] - 0s 9ms/step - loss: -13.5420 - accuracy: 0.5856 - val_loss: -14.3537 - val_accuracy: 0.7200\n",
      "Epoch 166/500\n",
      "5/5 [==============================] - 0s 9ms/step - loss: -13.5439 - accuracy: 0.5811 - val_loss: -14.3540 - val_accuracy: 0.7200\n",
      "Epoch 167/500\n",
      "5/5 [==============================] - 0s 10ms/step - loss: -13.5455 - accuracy: 0.5991 - val_loss: -14.3534 - val_accuracy: 0.7600\n",
      "Epoch 168/500\n",
      "5/5 [==============================] - 0s 9ms/step - loss: -13.5476 - accuracy: 0.5901 - val_loss: -14.3525 - val_accuracy: 0.6800\n",
      "Epoch 169/500\n",
      "5/5 [==============================] - 0s 9ms/step - loss: -13.5494 - accuracy: 0.5631 - val_loss: -14.3500 - val_accuracy: 0.6667\n",
      "Epoch 170/500\n",
      "5/5 [==============================] - 0s 9ms/step - loss: -13.5518 - accuracy: 0.5856 - val_loss: -14.3478 - val_accuracy: 0.7600\n",
      "Epoch 171/500\n",
      "5/5 [==============================] - 0s 9ms/step - loss: -13.5534 - accuracy: 0.6216 - val_loss: -14.3460 - val_accuracy: 0.7600\n",
      "Epoch 172/500\n",
      "5/5 [==============================] - 0s 10ms/step - loss: -13.5553 - accuracy: 0.6216 - val_loss: -14.3453 - val_accuracy: 0.7600\n",
      "Epoch 173/500\n",
      "5/5 [==============================] - 0s 10ms/step - loss: -13.5566 - accuracy: 0.6216 - val_loss: -14.3437 - val_accuracy: 0.7600\n",
      "Epoch 174/500\n",
      "5/5 [==============================] - 0s 11ms/step - loss: -13.5588 - accuracy: 0.6216 - val_loss: -14.3429 - val_accuracy: 0.7600\n",
      "Epoch 175/500\n",
      "5/5 [==============================] - 0s 10ms/step - loss: -13.5607 - accuracy: 0.6216 - val_loss: -14.3415 - val_accuracy: 0.7600\n",
      "Epoch 176/500\n",
      "5/5 [==============================] - 0s 10ms/step - loss: -13.5628 - accuracy: 0.6126 - val_loss: -14.3419 - val_accuracy: 0.7200\n",
      "Epoch 177/500\n",
      "5/5 [==============================] - 0s 9ms/step - loss: -13.5646 - accuracy: 0.5811 - val_loss: -14.3411 - val_accuracy: 0.7200\n",
      "Epoch 178/500\n",
      "5/5 [==============================] - 0s 9ms/step - loss: -13.5662 - accuracy: 0.6171 - val_loss: -14.3396 - val_accuracy: 0.7600\n",
      "Epoch 179/500\n",
      "5/5 [==============================] - 0s 10ms/step - loss: -13.5674 - accuracy: 0.6216 - val_loss: -14.3388 - val_accuracy: 0.7200\n",
      "Epoch 180/500\n",
      "5/5 [==============================] - 0s 9ms/step - loss: -13.5699 - accuracy: 0.5901 - val_loss: -14.3379 - val_accuracy: 0.7200\n",
      "Epoch 181/500\n",
      "5/5 [==============================] - 0s 9ms/step - loss: -13.5717 - accuracy: 0.5991 - val_loss: -14.3385 - val_accuracy: 0.7200\n",
      "Epoch 182/500\n",
      "5/5 [==============================] - 0s 10ms/step - loss: -13.5729 - accuracy: 0.5811 - val_loss: -14.3385 - val_accuracy: 0.7600\n",
      "Epoch 183/500\n",
      "5/5 [==============================] - 0s 9ms/step - loss: -13.5747 - accuracy: 0.6171 - val_loss: -14.3390 - val_accuracy: 0.7200\n",
      "Epoch 184/500\n",
      "5/5 [==============================] - 0s 9ms/step - loss: -13.5773 - accuracy: 0.5541 - val_loss: -14.3384 - val_accuracy: 0.7600\n",
      "Epoch 185/500\n",
      "5/5 [==============================] - 0s 10ms/step - loss: -13.5783 - accuracy: 0.5946 - val_loss: -14.3383 - val_accuracy: 0.7200\n",
      "Epoch 186/500\n",
      "5/5 [==============================] - 0s 9ms/step - loss: -13.5800 - accuracy: 0.5766 - val_loss: -14.3365 - val_accuracy: 0.7600\n",
      "Epoch 187/500\n",
      "5/5 [==============================] - 0s 10ms/step - loss: -13.5828 - accuracy: 0.5676 - val_loss: -14.3371 - val_accuracy: 0.7600\n",
      "Epoch 188/500\n",
      "5/5 [==============================] - 0s 9ms/step - loss: -13.5845 - accuracy: 0.5991 - val_loss: -14.3361 - val_accuracy: 0.7600\n",
      "Epoch 189/500\n",
      "5/5 [==============================] - 0s 9ms/step - loss: -13.5864 - accuracy: 0.6216 - val_loss: -14.3363 - val_accuracy: 0.7600\n",
      "Epoch 190/500\n",
      "5/5 [==============================] - 0s 11ms/step - loss: -13.5882 - accuracy: 0.6036 - val_loss: -14.3351 - val_accuracy: 0.7200\n",
      "Epoch 191/500\n",
      "5/5 [==============================] - 0s 9ms/step - loss: -13.5908 - accuracy: 0.5811 - val_loss: -14.3356 - val_accuracy: 0.7200\n",
      "Epoch 192/500\n",
      "5/5 [==============================] - 0s 9ms/step - loss: -13.5933 - accuracy: 0.5721 - val_loss: -14.3340 - val_accuracy: 0.7600\n",
      "Epoch 193/500\n",
      "5/5 [==============================] - 0s 10ms/step - loss: -13.5954 - accuracy: 0.5946 - val_loss: -14.3332 - val_accuracy: 0.7200\n",
      "Epoch 194/500\n",
      "5/5 [==============================] - 0s 10ms/step - loss: -13.5988 - accuracy: 0.5676 - val_loss: -14.3314 - val_accuracy: 0.7600\n",
      "Epoch 195/500\n",
      "5/5 [==============================] - 0s 12ms/step - loss: -13.6009 - accuracy: 0.5631 - val_loss: -14.3300 - val_accuracy: 0.7600\n",
      "Epoch 196/500\n",
      "5/5 [==============================] - 0s 10ms/step - loss: -13.6037 - accuracy: 0.5946 - val_loss: -14.3318 - val_accuracy: 0.6933\n",
      "Epoch 197/500\n",
      "5/5 [==============================] - 0s 12ms/step - loss: -13.6062 - accuracy: 0.5360 - val_loss: -14.3313 - val_accuracy: 0.7600\n",
      "Epoch 198/500\n",
      "5/5 [==============================] - 0s 11ms/step - loss: -13.6093 - accuracy: 0.5946 - val_loss: -14.3316 - val_accuracy: 0.7200\n",
      "Epoch 199/500\n",
      "5/5 [==============================] - 0s 11ms/step - loss: -13.6117 - accuracy: 0.5721 - val_loss: -14.3320 - val_accuracy: 0.7600\n",
      "Epoch 200/500\n",
      "5/5 [==============================] - 0s 12ms/step - loss: -13.6149 - accuracy: 0.5811 - val_loss: -14.3337 - val_accuracy: 0.7600\n",
      "Epoch 201/500\n",
      "5/5 [==============================] - 0s 12ms/step - loss: -13.6173 - accuracy: 0.6126 - val_loss: -14.3355 - val_accuracy: 0.6800\n",
      "Epoch 202/500\n",
      "5/5 [==============================] - 0s 11ms/step - loss: -13.6200 - accuracy: 0.5495 - val_loss: -14.3361 - val_accuracy: 0.7600\n",
      "Epoch 203/500\n",
      "5/5 [==============================] - 0s 12ms/step - loss: -13.6223 - accuracy: 0.6126 - val_loss: -14.3373 - val_accuracy: 0.6400\n",
      "Epoch 204/500\n",
      "5/5 [==============================] - 0s 12ms/step - loss: -13.6251 - accuracy: 0.5270 - val_loss: -14.3369 - val_accuracy: 0.7600\n",
      "Epoch 205/500\n",
      "5/5 [==============================] - 0s 12ms/step - loss: -13.6277 - accuracy: 0.6261 - val_loss: -14.3374 - val_accuracy: 0.7600\n",
      "Epoch 206/500\n",
      "5/5 [==============================] - 0s 13ms/step - loss: -13.6309 - accuracy: 0.5631 - val_loss: -14.3385 - val_accuracy: 0.7200\n",
      "Epoch 207/500\n",
      "5/5 [==============================] - 0s 14ms/step - loss: -13.6336 - accuracy: 0.5721 - val_loss: -14.3381 - val_accuracy: 0.7200\n",
      "Epoch 208/500\n",
      "5/5 [==============================] - 0s 15ms/step - loss: -13.6361 - accuracy: 0.5811 - val_loss: -14.3388 - val_accuracy: 0.7067\n",
      "Epoch 209/500\n",
      "5/5 [==============================] - 0s 15ms/step - loss: -13.6395 - accuracy: 0.5631 - val_loss: -14.3402 - val_accuracy: 0.7467\n",
      "Epoch 210/500\n",
      "5/5 [==============================] - 0s 17ms/step - loss: -13.6422 - accuracy: 0.5721 - val_loss: -14.3412 - val_accuracy: 0.7200\n",
      "Epoch 211/500\n",
      "5/5 [==============================] - 0s 13ms/step - loss: -13.6447 - accuracy: 0.5450 - val_loss: -14.3415 - val_accuracy: 0.7600\n",
      "Epoch 212/500\n",
      "5/5 [==============================] - 0s 11ms/step - loss: -13.6484 - accuracy: 0.5901 - val_loss: -14.3438 - val_accuracy: 0.7200\n",
      "Epoch 213/500\n",
      "5/5 [==============================] - 0s 10ms/step - loss: -13.6515 - accuracy: 0.5766 - val_loss: -14.3453 - val_accuracy: 0.7467\n",
      "Epoch 214/500\n",
      "5/5 [==============================] - 0s 11ms/step - loss: -13.6555 - accuracy: 0.5450 - val_loss: -14.3466 - val_accuracy: 0.7200\n",
      "Epoch 215/500\n",
      "5/5 [==============================] - 0s 10ms/step - loss: -13.6593 - accuracy: 0.5946 - val_loss: -14.3469 - val_accuracy: 0.7200\n",
      "Epoch 216/500\n",
      "5/5 [==============================] - 0s 11ms/step - loss: -13.6633 - accuracy: 0.5270 - val_loss: -14.3456 - val_accuracy: 0.7867\n",
      "Epoch 217/500\n",
      "5/5 [==============================] - 0s 11ms/step - loss: -13.6675 - accuracy: 0.5901 - val_loss: -14.3458 - val_accuracy: 0.7200\n",
      "Epoch 218/500\n",
      "5/5 [==============================] - 0s 11ms/step - loss: -13.6722 - accuracy: 0.5541 - val_loss: -14.3474 - val_accuracy: 0.7200\n",
      "Epoch 219/500\n",
      "5/5 [==============================] - 0s 11ms/step - loss: -13.6771 - accuracy: 0.5766 - val_loss: -14.3487 - val_accuracy: 0.7200\n",
      "Epoch 220/500\n",
      "5/5 [==============================] - 0s 12ms/step - loss: -13.6813 - accuracy: 0.5586 - val_loss: -14.3502 - val_accuracy: 0.7467\n",
      "Epoch 221/500\n",
      "5/5 [==============================] - 0s 12ms/step - loss: -13.6862 - accuracy: 0.5676 - val_loss: -14.3516 - val_accuracy: 0.7600\n",
      "Epoch 222/500\n",
      "5/5 [==============================] - 0s 12ms/step - loss: -13.6898 - accuracy: 0.5721 - val_loss: -14.3519 - val_accuracy: 0.7200\n",
      "Epoch 223/500\n",
      "5/5 [==============================] - 0s 11ms/step - loss: -13.6941 - accuracy: 0.5495 - val_loss: -14.3550 - val_accuracy: 0.7600\n",
      "Epoch 224/500\n",
      "5/5 [==============================] - 0s 12ms/step - loss: -13.6984 - accuracy: 0.5631 - val_loss: -14.3539 - val_accuracy: 0.7600\n",
      "Epoch 225/500\n",
      "5/5 [==============================] - 0s 11ms/step - loss: -13.7026 - accuracy: 0.5721 - val_loss: -14.3569 - val_accuracy: 0.7200\n",
      "Epoch 226/500\n",
      "5/5 [==============================] - 0s 11ms/step - loss: -13.7076 - accuracy: 0.5631 - val_loss: -14.3573 - val_accuracy: 0.7200\n",
      "Epoch 227/500\n",
      "5/5 [==============================] - 0s 12ms/step - loss: -13.7119 - accuracy: 0.5541 - val_loss: -14.3602 - val_accuracy: 0.7200\n",
      "Epoch 228/500\n",
      "5/5 [==============================] - 0s 12ms/step - loss: -13.7166 - accuracy: 0.5631 - val_loss: -14.3589 - val_accuracy: 0.7200\n",
      "Epoch 229/500\n",
      "5/5 [==============================] - 0s 13ms/step - loss: -13.7198 - accuracy: 0.5586 - val_loss: -14.3614 - val_accuracy: 0.7200\n",
      "Epoch 230/500\n",
      "5/5 [==============================] - 0s 12ms/step - loss: -13.7255 - accuracy: 0.5405 - val_loss: -14.3651 - val_accuracy: 0.7867\n",
      "Epoch 231/500\n",
      "5/5 [==============================] - 0s 12ms/step - loss: -13.7293 - accuracy: 0.6036 - val_loss: -14.3650 - val_accuracy: 0.7200\n",
      "Epoch 232/500\n",
      "5/5 [==============================] - 0s 13ms/step - loss: -13.7338 - accuracy: 0.5270 - val_loss: -14.3688 - val_accuracy: 0.7200\n",
      "Epoch 233/500\n",
      "5/5 [==============================] - 0s 12ms/step - loss: -13.7379 - accuracy: 0.5631 - val_loss: -14.3656 - val_accuracy: 0.7600\n",
      "Epoch 234/500\n",
      "5/5 [==============================] - 0s 12ms/step - loss: -13.7400 - accuracy: 0.6081 - val_loss: -14.3672 - val_accuracy: 0.7200\n",
      "Epoch 235/500\n",
      "5/5 [==============================] - 0s 12ms/step - loss: -13.7473 - accuracy: 0.5000 - val_loss: -14.3718 - val_accuracy: 0.7200\n",
      "Epoch 236/500\n",
      "5/5 [==============================] - 0s 13ms/step - loss: -13.7514 - accuracy: 0.6036 - val_loss: -14.3706 - val_accuracy: 0.7867\n",
      "Epoch 237/500\n",
      "5/5 [==============================] - 0s 13ms/step - loss: -13.7549 - accuracy: 0.5541 - val_loss: -14.3747 - val_accuracy: 0.7200\n",
      "Epoch 238/500\n",
      "5/5 [==============================] - 0s 12ms/step - loss: -13.7610 - accuracy: 0.5856 - val_loss: -14.3754 - val_accuracy: 0.7867\n",
      "Epoch 239/500\n",
      "5/5 [==============================] - 0s 12ms/step - loss: -13.7662 - accuracy: 0.5495 - val_loss: -14.3778 - val_accuracy: 0.7067\n",
      "Epoch 240/500\n",
      "5/5 [==============================] - 0s 12ms/step - loss: -13.7705 - accuracy: 0.5586 - val_loss: -14.3792 - val_accuracy: 0.7200\n",
      "Epoch 241/500\n",
      "5/5 [==============================] - 0s 12ms/step - loss: -13.7754 - accuracy: 0.5450 - val_loss: -14.3810 - val_accuracy: 0.7200\n",
      "Epoch 242/500\n",
      "5/5 [==============================] - 0s 12ms/step - loss: -13.7799 - accuracy: 0.5586 - val_loss: -14.3830 - val_accuracy: 0.7867\n",
      "Epoch 243/500\n",
      "5/5 [==============================] - 0s 12ms/step - loss: -13.7836 - accuracy: 0.5541 - val_loss: -14.3855 - val_accuracy: 0.7200\n",
      "Epoch 244/500\n",
      "5/5 [==============================] - 0s 12ms/step - loss: -13.7903 - accuracy: 0.5586 - val_loss: -14.3924 - val_accuracy: 0.7867\n",
      "Epoch 245/500\n",
      "5/5 [==============================] - 0s 12ms/step - loss: -13.7959 - accuracy: 0.5676 - val_loss: -14.3945 - val_accuracy: 0.7200\n",
      "Epoch 246/500\n",
      "5/5 [==============================] - 0s 12ms/step - loss: -13.8033 - accuracy: 0.5586 - val_loss: -14.4082 - val_accuracy: 0.7867\n",
      "Epoch 247/500\n",
      "5/5 [==============================] - 0s 12ms/step - loss: -13.8150 - accuracy: 0.5450 - val_loss: -14.4107 - val_accuracy: 0.7600\n",
      "Epoch 248/500\n",
      "5/5 [==============================] - 0s 12ms/step - loss: -13.8219 - accuracy: 0.5766 - val_loss: -14.4110 - val_accuracy: 0.7200\n",
      "Epoch 249/500\n",
      "5/5 [==============================] - 0s 12ms/step - loss: -13.8257 - accuracy: 0.5541 - val_loss: -14.4122 - val_accuracy: 0.7867\n",
      "Epoch 250/500\n",
      "5/5 [==============================] - 0s 12ms/step - loss: -13.8305 - accuracy: 0.5721 - val_loss: -14.4167 - val_accuracy: 0.7200\n",
      "Epoch 251/500\n",
      "5/5 [==============================] - 0s 11ms/step - loss: -13.8345 - accuracy: 0.5676 - val_loss: -14.4219 - val_accuracy: 0.7600\n",
      "Epoch 252/500\n",
      "5/5 [==============================] - 0s 9ms/step - loss: -13.8477 - accuracy: 0.5360 - val_loss: -14.4270 - val_accuracy: 0.7200\n",
      "Epoch 253/500\n",
      "5/5 [==============================] - 0s 10ms/step - loss: -13.8510 - accuracy: 0.5676 - val_loss: -14.4259 - val_accuracy: 0.7200\n",
      "Epoch 254/500\n",
      "5/5 [==============================] - 0s 10ms/step - loss: -13.8562 - accuracy: 0.5360 - val_loss: -14.4255 - val_accuracy: 0.7600\n",
      "Epoch 255/500\n",
      "5/5 [==============================] - 0s 10ms/step - loss: -13.8619 - accuracy: 0.5541 - val_loss: -14.4303 - val_accuracy: 0.7600\n",
      "Epoch 256/500\n",
      "5/5 [==============================] - 0s 10ms/step - loss: -13.8705 - accuracy: 0.5586 - val_loss: -14.4385 - val_accuracy: 0.7200\n",
      "Epoch 257/500\n",
      "5/5 [==============================] - 0s 10ms/step - loss: -13.8787 - accuracy: 0.5766 - val_loss: -14.4435 - val_accuracy: 0.7067\n",
      "Epoch 258/500\n",
      "5/5 [==============================] - 0s 10ms/step - loss: -13.8821 - accuracy: 0.5676 - val_loss: -14.4430 - val_accuracy: 0.7200\n",
      "Epoch 259/500\n",
      "5/5 [==============================] - 0s 11ms/step - loss: -13.8883 - accuracy: 0.5360 - val_loss: -14.4547 - val_accuracy: 0.7867\n",
      "Epoch 260/500\n",
      "5/5 [==============================] - 0s 11ms/step - loss: -13.8989 - accuracy: 0.5721 - val_loss: -14.4546 - val_accuracy: 0.7200\n",
      "Epoch 261/500\n",
      "5/5 [==============================] - 0s 11ms/step - loss: -13.9030 - accuracy: 0.5495 - val_loss: -14.4606 - val_accuracy: 0.7867\n",
      "Epoch 262/500\n",
      "5/5 [==============================] - 0s 12ms/step - loss: -13.9092 - accuracy: 0.5811 - val_loss: -14.4695 - val_accuracy: 0.6933\n",
      "Epoch 263/500\n",
      "5/5 [==============================] - 0s 12ms/step - loss: -13.9183 - accuracy: 0.5180 - val_loss: -14.4723 - val_accuracy: 0.7867\n",
      "Epoch 264/500\n",
      "5/5 [==============================] - 0s 13ms/step - loss: -13.9225 - accuracy: 0.5586 - val_loss: -14.4744 - val_accuracy: 0.7200\n",
      "Epoch 265/500\n",
      "5/5 [==============================] - 0s 13ms/step - loss: -13.9287 - accuracy: 0.5901 - val_loss: -14.4823 - val_accuracy: 0.7200\n",
      "Epoch 266/500\n",
      "5/5 [==============================] - 0s 14ms/step - loss: -13.9379 - accuracy: 0.5090 - val_loss: -14.4865 - val_accuracy: 0.7867\n",
      "Epoch 267/500\n",
      "5/5 [==============================] - 0s 13ms/step - loss: -13.9442 - accuracy: 0.6171 - val_loss: -14.4955 - val_accuracy: 0.7200\n",
      "Epoch 268/500\n",
      "5/5 [==============================] - 0s 13ms/step - loss: -13.9538 - accuracy: 0.5135 - val_loss: -14.5035 - val_accuracy: 0.7867\n",
      "Epoch 269/500\n",
      "5/5 [==============================] - 0s 12ms/step - loss: -13.9614 - accuracy: 0.5901 - val_loss: -14.5101 - val_accuracy: 0.7200\n",
      "Epoch 270/500\n",
      "5/5 [==============================] - 0s 11ms/step - loss: -13.9702 - accuracy: 0.5360 - val_loss: -14.5203 - val_accuracy: 0.7867\n",
      "Epoch 271/500\n",
      "5/5 [==============================] - 0s 11ms/step - loss: -13.9781 - accuracy: 0.5766 - val_loss: -14.5254 - val_accuracy: 0.7200\n",
      "Epoch 272/500\n",
      "5/5 [==============================] - 0s 11ms/step - loss: -13.9871 - accuracy: 0.5225 - val_loss: -14.5327 - val_accuracy: 0.7600\n",
      "Epoch 273/500\n",
      "5/5 [==============================] - 0s 11ms/step - loss: -13.9936 - accuracy: 0.5811 - val_loss: -14.5440 - val_accuracy: 0.7200\n",
      "Epoch 274/500\n",
      "5/5 [==============================] - 0s 11ms/step - loss: -14.0022 - accuracy: 0.5405 - val_loss: -14.5442 - val_accuracy: 0.7600\n",
      "Epoch 275/500\n",
      "5/5 [==============================] - 0s 11ms/step - loss: -14.0082 - accuracy: 0.5766 - val_loss: -14.5665 - val_accuracy: 0.6533\n",
      "Epoch 276/500\n",
      "5/5 [==============================] - 0s 11ms/step - loss: -14.0175 - accuracy: 0.5360 - val_loss: -14.5799 - val_accuracy: 0.7600\n",
      "Epoch 277/500\n",
      "5/5 [==============================] - 0s 12ms/step - loss: -14.0265 - accuracy: 0.5586 - val_loss: -14.5910 - val_accuracy: 0.7200\n",
      "Epoch 278/500\n",
      "5/5 [==============================] - 0s 12ms/step - loss: -14.0350 - accuracy: 0.5676 - val_loss: -14.5981 - val_accuracy: 0.7867\n",
      "Epoch 279/500\n",
      "5/5 [==============================] - 0s 10ms/step - loss: -14.0428 - accuracy: 0.5405 - val_loss: -14.6051 - val_accuracy: 0.7200\n",
      "Epoch 280/500\n",
      "5/5 [==============================] - 0s 11ms/step - loss: -14.0504 - accuracy: 0.5631 - val_loss: -14.6128 - val_accuracy: 0.7867\n",
      "Epoch 281/500\n",
      "5/5 [==============================] - 0s 9ms/step - loss: -14.0587 - accuracy: 0.5676 - val_loss: -14.6179 - val_accuracy: 0.7200\n",
      "Epoch 282/500\n",
      "5/5 [==============================] - 0s 9ms/step - loss: -14.0649 - accuracy: 0.5405 - val_loss: -14.6225 - val_accuracy: 0.7600\n",
      "Epoch 283/500\n",
      "5/5 [==============================] - 0s 10ms/step - loss: -14.0765 - accuracy: 0.5586 - val_loss: -14.6281 - val_accuracy: 0.7200\n",
      "Epoch 284/500\n",
      "5/5 [==============================] - 0s 10ms/step - loss: -14.0858 - accuracy: 0.5360 - val_loss: -14.6327 - val_accuracy: 0.7600\n",
      "Epoch 285/500\n",
      "5/5 [==============================] - 0s 10ms/step - loss: -14.0971 - accuracy: 0.5721 - val_loss: -14.6420 - val_accuracy: 0.6933\n",
      "Epoch 286/500\n",
      "5/5 [==============================] - 0s 11ms/step - loss: -14.1061 - accuracy: 0.5721 - val_loss: -14.6458 - val_accuracy: 0.6267\n",
      "Epoch 287/500\n",
      "5/5 [==============================] - 0s 10ms/step - loss: -14.1138 - accuracy: 0.5270 - val_loss: -14.6506 - val_accuracy: 0.7600\n",
      "Epoch 288/500\n",
      "5/5 [==============================] - 0s 12ms/step - loss: -14.1259 - accuracy: 0.5495 - val_loss: -14.6613 - val_accuracy: 0.7600\n",
      "Epoch 289/500\n",
      "5/5 [==============================] - 0s 12ms/step - loss: -14.1359 - accuracy: 0.5495 - val_loss: -14.6689 - val_accuracy: 0.7600\n",
      "Epoch 290/500\n",
      "5/5 [==============================] - 0s 11ms/step - loss: -14.1461 - accuracy: 0.5901 - val_loss: -14.6823 - val_accuracy: 0.6267\n",
      "Epoch 291/500\n",
      "5/5 [==============================] - 0s 11ms/step - loss: -14.1589 - accuracy: 0.5450 - val_loss: -14.6913 - val_accuracy: 0.7600\n",
      "Epoch 292/500\n",
      "5/5 [==============================] - 0s 11ms/step - loss: -14.1699 - accuracy: 0.5495 - val_loss: -14.7033 - val_accuracy: 0.6667\n",
      "Epoch 293/500\n",
      "5/5 [==============================] - 0s 11ms/step - loss: -14.1808 - accuracy: 0.5766 - val_loss: -14.7161 - val_accuracy: 0.7333\n",
      "Epoch 294/500\n",
      "5/5 [==============================] - 0s 12ms/step - loss: -14.1939 - accuracy: 0.5315 - val_loss: -14.7244 - val_accuracy: 0.6933\n",
      "Epoch 295/500\n",
      "5/5 [==============================] - 0s 11ms/step - loss: -14.2055 - accuracy: 0.5901 - val_loss: -14.7402 - val_accuracy: 0.6933\n",
      "Epoch 296/500\n",
      "5/5 [==============================] - 0s 12ms/step - loss: -14.2201 - accuracy: 0.5180 - val_loss: -14.7494 - val_accuracy: 0.7600\n",
      "Epoch 297/500\n",
      "5/5 [==============================] - 0s 12ms/step - loss: -14.2309 - accuracy: 0.5901 - val_loss: -14.7601 - val_accuracy: 0.7333\n",
      "Epoch 298/500\n",
      "5/5 [==============================] - 0s 12ms/step - loss: -14.2419 - accuracy: 0.5450 - val_loss: -14.7696 - val_accuracy: 0.7600\n",
      "Epoch 299/500\n",
      "5/5 [==============================] - 0s 12ms/step - loss: -14.2540 - accuracy: 0.5495 - val_loss: -14.7800 - val_accuracy: 0.7333\n",
      "Epoch 300/500\n",
      "5/5 [==============================] - 0s 12ms/step - loss: -14.2646 - accuracy: 0.5991 - val_loss: -14.7836 - val_accuracy: 0.6933\n",
      "Epoch 301/500\n",
      "5/5 [==============================] - 0s 12ms/step - loss: -14.2748 - accuracy: 0.5315 - val_loss: -14.7956 - val_accuracy: 0.7600\n",
      "Epoch 302/500\n",
      "5/5 [==============================] - 0s 12ms/step - loss: -14.2850 - accuracy: 0.5811 - val_loss: -14.8062 - val_accuracy: 0.6933\n",
      "Epoch 303/500\n",
      "5/5 [==============================] - 0s 12ms/step - loss: -14.2956 - accuracy: 0.5315 - val_loss: -14.8134 - val_accuracy: 0.7600\n",
      "Epoch 304/500\n",
      "5/5 [==============================] - 0s 12ms/step - loss: -14.3060 - accuracy: 0.5495 - val_loss: -14.8251 - val_accuracy: 0.7600\n",
      "Epoch 305/500\n",
      "5/5 [==============================] - 0s 11ms/step - loss: -14.3140 - accuracy: 0.5991 - val_loss: -14.8315 - val_accuracy: 0.6933\n",
      "Epoch 306/500\n",
      "5/5 [==============================] - 0s 10ms/step - loss: -14.3231 - accuracy: 0.5225 - val_loss: -14.8405 - val_accuracy: 0.7600\n",
      "Epoch 307/500\n",
      "5/5 [==============================] - 0s 10ms/step - loss: -14.3314 - accuracy: 0.6036 - val_loss: -14.8477 - val_accuracy: 0.6933\n",
      "Epoch 308/500\n",
      "5/5 [==============================] - 0s 9ms/step - loss: -14.3411 - accuracy: 0.5000 - val_loss: -14.8561 - val_accuracy: 0.7600\n",
      "Epoch 309/500\n",
      "5/5 [==============================] - 0s 11ms/step - loss: -14.3496 - accuracy: 0.5946 - val_loss: -14.8656 - val_accuracy: 0.7333\n",
      "Epoch 310/500\n",
      "5/5 [==============================] - 0s 11ms/step - loss: -14.3588 - accuracy: 0.5360 - val_loss: -14.8722 - val_accuracy: 0.7333\n",
      "Epoch 311/500\n",
      "5/5 [==============================] - 0s 12ms/step - loss: -14.3671 - accuracy: 0.5586 - val_loss: -14.8824 - val_accuracy: 0.7333\n",
      "Epoch 312/500\n",
      "5/5 [==============================] - 0s 11ms/step - loss: -14.3754 - accuracy: 0.5766 - val_loss: -14.8892 - val_accuracy: 0.6933\n",
      "Epoch 313/500\n",
      "5/5 [==============================] - 0s 12ms/step - loss: -14.3851 - accuracy: 0.5315 - val_loss: -14.8975 - val_accuracy: 0.7600\n",
      "Epoch 314/500\n",
      "5/5 [==============================] - 0s 11ms/step - loss: -14.3932 - accuracy: 0.5631 - val_loss: -14.9110 - val_accuracy: 0.6933\n",
      "Epoch 315/500\n",
      "5/5 [==============================] - 0s 12ms/step - loss: -14.4032 - accuracy: 0.5721 - val_loss: -14.9178 - val_accuracy: 0.7600\n",
      "Epoch 316/500\n",
      "5/5 [==============================] - 0s 12ms/step - loss: -14.4125 - accuracy: 0.5405 - val_loss: -14.9294 - val_accuracy: 0.6933\n",
      "Epoch 317/500\n",
      "5/5 [==============================] - 0s 11ms/step - loss: -14.4230 - accuracy: 0.5541 - val_loss: -14.9329 - val_accuracy: 0.7333\n",
      "Epoch 318/500\n",
      "5/5 [==============================] - 0s 11ms/step - loss: -14.4294 - accuracy: 0.5721 - val_loss: -14.9433 - val_accuracy: 0.6267\n",
      "Epoch 319/500\n",
      "5/5 [==============================] - 0s 12ms/step - loss: -14.4393 - accuracy: 0.5495 - val_loss: -14.9489 - val_accuracy: 0.7600\n",
      "Epoch 320/500\n",
      "5/5 [==============================] - 0s 13ms/step - loss: -14.4476 - accuracy: 0.5405 - val_loss: -14.9595 - val_accuracy: 0.7333\n",
      "Epoch 321/500\n",
      "5/5 [==============================] - 0s 12ms/step - loss: -14.4569 - accuracy: 0.5405 - val_loss: -14.9655 - val_accuracy: 0.7600\n",
      "Epoch 322/500\n",
      "5/5 [==============================] - 0s 12ms/step - loss: -14.4654 - accuracy: 0.5901 - val_loss: -14.9760 - val_accuracy: 0.6800\n",
      "Epoch 323/500\n",
      "5/5 [==============================] - 0s 13ms/step - loss: -14.4744 - accuracy: 0.5315 - val_loss: -14.9821 - val_accuracy: 0.7333\n",
      "Epoch 324/500\n",
      "5/5 [==============================] - 0s 13ms/step - loss: -14.4834 - accuracy: 0.5676 - val_loss: -14.9893 - val_accuracy: 0.7333\n",
      "Epoch 325/500\n",
      "5/5 [==============================] - 0s 15ms/step - loss: -14.4920 - accuracy: 0.5360 - val_loss: -15.0024 - val_accuracy: 0.7333\n",
      "Epoch 326/500\n",
      "5/5 [==============================] - 0s 13ms/step - loss: -14.5020 - accuracy: 0.5946 - val_loss: -15.0126 - val_accuracy: 0.7333\n",
      "Epoch 327/500\n",
      "5/5 [==============================] - 0s 13ms/step - loss: -14.5139 - accuracy: 0.4955 - val_loss: -15.0224 - val_accuracy: 0.7333\n",
      "Epoch 328/500\n",
      "5/5 [==============================] - 0s 14ms/step - loss: -14.5219 - accuracy: 0.5811 - val_loss: -15.0326 - val_accuracy: 0.7333\n",
      "Epoch 329/500\n",
      "5/5 [==============================] - 0s 12ms/step - loss: -14.5331 - accuracy: 0.5676 - val_loss: -15.0446 - val_accuracy: 0.7200\n",
      "Epoch 330/500\n",
      "5/5 [==============================] - 0s 12ms/step - loss: -14.5431 - accuracy: 0.5225 - val_loss: -15.0501 - val_accuracy: 0.7333\n",
      "Epoch 331/500\n",
      "5/5 [==============================] - 0s 12ms/step - loss: -14.5511 - accuracy: 0.5676 - val_loss: -15.0574 - val_accuracy: 0.7333\n",
      "Epoch 332/500\n",
      "5/5 [==============================] - 0s 12ms/step - loss: -14.5600 - accuracy: 0.5676 - val_loss: -15.0675 - val_accuracy: 0.6800\n",
      "Epoch 333/500\n",
      "5/5 [==============================] - 0s 12ms/step - loss: -14.5698 - accuracy: 0.5405 - val_loss: -15.0745 - val_accuracy: 0.7333\n",
      "Epoch 334/500\n",
      "5/5 [==============================] - 0s 13ms/step - loss: -14.5794 - accuracy: 0.5495 - val_loss: -15.0837 - val_accuracy: 0.7200\n",
      "Epoch 335/500\n",
      "5/5 [==============================] - 0s 12ms/step - loss: -14.5878 - accuracy: 0.5631 - val_loss: -15.0931 - val_accuracy: 0.7333\n",
      "Epoch 336/500\n",
      "5/5 [==============================] - 0s 12ms/step - loss: -14.5987 - accuracy: 0.5541 - val_loss: -15.1010 - val_accuracy: 0.7200\n",
      "Epoch 337/500\n",
      "5/5 [==============================] - 0s 12ms/step - loss: -14.6078 - accuracy: 0.5495 - val_loss: -15.1132 - val_accuracy: 0.7333\n",
      "Epoch 338/500\n",
      "5/5 [==============================] - 0s 12ms/step - loss: -14.6182 - accuracy: 0.5676 - val_loss: -15.1203 - val_accuracy: 0.6800\n",
      "Epoch 339/500\n",
      "5/5 [==============================] - 0s 12ms/step - loss: -14.6274 - accuracy: 0.5405 - val_loss: -15.1276 - val_accuracy: 0.7333\n",
      "Epoch 340/500\n",
      "5/5 [==============================] - 0s 12ms/step - loss: -14.6369 - accuracy: 0.5631 - val_loss: -15.1391 - val_accuracy: 0.6267\n",
      "Epoch 341/500\n",
      "5/5 [==============================] - 0s 12ms/step - loss: -14.6475 - accuracy: 0.5270 - val_loss: -15.1453 - val_accuracy: 0.7333\n",
      "Epoch 342/500\n",
      "5/5 [==============================] - 0s 12ms/step - loss: -14.6569 - accuracy: 0.5541 - val_loss: -15.1565 - val_accuracy: 0.6800\n",
      "Epoch 343/500\n",
      "5/5 [==============================] - 0s 12ms/step - loss: -14.6669 - accuracy: 0.5450 - val_loss: -15.1636 - val_accuracy: 0.7333\n",
      "Epoch 344/500\n",
      "5/5 [==============================] - 0s 11ms/step - loss: -14.6769 - accuracy: 0.5676 - val_loss: -15.1774 - val_accuracy: 0.7333\n",
      "Epoch 345/500\n",
      "5/5 [==============================] - 0s 11ms/step - loss: -14.6878 - accuracy: 0.5586 - val_loss: -15.1877 - val_accuracy: 0.6933\n",
      "Epoch 346/500\n",
      "5/5 [==============================] - 0s 14ms/step - loss: -14.7003 - accuracy: 0.5405 - val_loss: -15.1986 - val_accuracy: 0.7333\n",
      "Epoch 347/500\n",
      "5/5 [==============================] - 0s 11ms/step - loss: -14.7102 - accuracy: 0.5586 - val_loss: -15.2110 - val_accuracy: 0.7333\n",
      "Epoch 348/500\n",
      "5/5 [==============================] - 0s 11ms/step - loss: -14.7217 - accuracy: 0.5676 - val_loss: -15.2190 - val_accuracy: 0.7333\n",
      "Epoch 349/500\n",
      "5/5 [==============================] - 0s 11ms/step - loss: -14.7318 - accuracy: 0.5586 - val_loss: -15.2322 - val_accuracy: 0.7333\n",
      "Epoch 350/500\n",
      "5/5 [==============================] - 0s 11ms/step - loss: -14.7444 - accuracy: 0.5631 - val_loss: -15.2424 - val_accuracy: 0.7333\n",
      "Epoch 351/500\n",
      "5/5 [==============================] - 0s 11ms/step - loss: -14.7539 - accuracy: 0.5676 - val_loss: -15.2553 - val_accuracy: 0.7333\n",
      "Epoch 352/500\n",
      "5/5 [==============================] - 0s 13ms/step - loss: -14.7661 - accuracy: 0.5586 - val_loss: -15.2657 - val_accuracy: 0.7333\n",
      "Epoch 353/500\n",
      "5/5 [==============================] - 0s 11ms/step - loss: -14.7752 - accuracy: 0.5676 - val_loss: -15.2773 - val_accuracy: 0.7333\n",
      "Epoch 354/500\n",
      "5/5 [==============================] - 0s 11ms/step - loss: -14.7883 - accuracy: 0.5586 - val_loss: -15.2864 - val_accuracy: 0.7333\n",
      "Epoch 355/500\n",
      "5/5 [==============================] - 0s 11ms/step - loss: -14.7977 - accuracy: 0.5586 - val_loss: -15.2987 - val_accuracy: 0.8000\n",
      "Epoch 356/500\n",
      "5/5 [==============================] - 0s 11ms/step - loss: -14.8084 - accuracy: 0.6036 - val_loss: -15.3097 - val_accuracy: 0.7600\n",
      "Epoch 357/500\n",
      "5/5 [==============================] - 0s 12ms/step - loss: -14.8193 - accuracy: 0.5901 - val_loss: -15.3181 - val_accuracy: 0.7600\n",
      "Epoch 358/500\n",
      "5/5 [==============================] - 0s 12ms/step - loss: -14.8318 - accuracy: 0.5631 - val_loss: -15.3288 - val_accuracy: 0.8000\n",
      "Epoch 359/500\n",
      "5/5 [==============================] - 0s 11ms/step - loss: -14.8412 - accuracy: 0.5946 - val_loss: -15.3405 - val_accuracy: 0.8000\n",
      "Epoch 360/500\n",
      "5/5 [==============================] - 0s 12ms/step - loss: -14.8509 - accuracy: 0.6261 - val_loss: -15.3504 - val_accuracy: 0.8267\n",
      "Epoch 361/500\n",
      "5/5 [==============================] - 0s 11ms/step - loss: -14.8619 - accuracy: 0.6081 - val_loss: -15.3617 - val_accuracy: 0.7600\n",
      "Epoch 362/500\n",
      "5/5 [==============================] - 0s 11ms/step - loss: -14.8716 - accuracy: 0.6036 - val_loss: -15.3652 - val_accuracy: 0.8267\n",
      "Epoch 363/500\n",
      "5/5 [==============================] - 0s 15ms/step - loss: -14.8824 - accuracy: 0.6036 - val_loss: -15.3807 - val_accuracy: 0.7600\n",
      "Epoch 364/500\n",
      "5/5 [==============================] - 0s 12ms/step - loss: -14.8933 - accuracy: 0.6081 - val_loss: -15.3881 - val_accuracy: 0.8000\n",
      "Epoch 365/500\n",
      "5/5 [==============================] - 0s 12ms/step - loss: -14.9049 - accuracy: 0.6171 - val_loss: -15.3968 - val_accuracy: 0.7600\n",
      "Epoch 366/500\n",
      "5/5 [==============================] - 0s 12ms/step - loss: -14.9153 - accuracy: 0.6081 - val_loss: -15.4089 - val_accuracy: 0.8000\n",
      "Epoch 367/500\n",
      "5/5 [==============================] - 0s 12ms/step - loss: -14.9303 - accuracy: 0.5991 - val_loss: -15.4212 - val_accuracy: 0.8000\n",
      "Epoch 368/500\n",
      "5/5 [==============================] - 0s 12ms/step - loss: -14.9418 - accuracy: 0.5991 - val_loss: -15.4302 - val_accuracy: 0.7600\n",
      "Epoch 369/500\n",
      "5/5 [==============================] - 0s 12ms/step - loss: -14.9551 - accuracy: 0.6171 - val_loss: -15.4395 - val_accuracy: 0.8000\n",
      "Epoch 370/500\n",
      "5/5 [==============================] - 0s 11ms/step - loss: -14.9654 - accuracy: 0.6036 - val_loss: -15.4477 - val_accuracy: 0.8000\n",
      "Epoch 371/500\n",
      "5/5 [==============================] - 0s 11ms/step - loss: -14.9765 - accuracy: 0.6081 - val_loss: -15.4565 - val_accuracy: 0.8000\n",
      "Epoch 372/500\n",
      "5/5 [==============================] - 0s 11ms/step - loss: -14.9870 - accuracy: 0.6306 - val_loss: -15.4669 - val_accuracy: 0.8000\n",
      "Epoch 373/500\n",
      "5/5 [==============================] - 0s 10ms/step - loss: -15.0019 - accuracy: 0.5946 - val_loss: -15.4784 - val_accuracy: 0.8000\n",
      "Epoch 374/500\n",
      "5/5 [==============================] - 0s 10ms/step - loss: -15.0103 - accuracy: 0.6306 - val_loss: -15.4886 - val_accuracy: 0.8000\n",
      "Epoch 375/500\n",
      "5/5 [==============================] - 0s 10ms/step - loss: -15.0238 - accuracy: 0.5856 - val_loss: -15.4958 - val_accuracy: 0.8000\n",
      "Epoch 376/500\n",
      "5/5 [==============================] - 0s 9ms/step - loss: -15.0332 - accuracy: 0.6126 - val_loss: -15.5063 - val_accuracy: 0.8000\n",
      "Epoch 377/500\n",
      "5/5 [==============================] - 0s 12ms/step - loss: -15.0448 - accuracy: 0.5901 - val_loss: -15.5214 - val_accuracy: 0.7600\n",
      "Epoch 378/500\n",
      "5/5 [==============================] - 0s 12ms/step - loss: -15.0578 - accuracy: 0.5856 - val_loss: -15.5293 - val_accuracy: 0.8267\n",
      "Epoch 379/500\n",
      "5/5 [==============================] - 0s 11ms/step - loss: -15.0663 - accuracy: 0.6622 - val_loss: -15.5414 - val_accuracy: 0.7867\n",
      "Epoch 380/500\n",
      "5/5 [==============================] - 0s 11ms/step - loss: -15.0779 - accuracy: 0.5946 - val_loss: -15.5519 - val_accuracy: 0.7600\n",
      "Epoch 381/500\n",
      "5/5 [==============================] - 0s 12ms/step - loss: -15.0898 - accuracy: 0.6081 - val_loss: -15.5609 - val_accuracy: 0.7867\n",
      "Epoch 382/500\n",
      "5/5 [==============================] - 0s 14ms/step - loss: -15.0982 - accuracy: 0.6171 - val_loss: -15.5663 - val_accuracy: 0.7600\n",
      "Epoch 383/500\n",
      "5/5 [==============================] - 0s 12ms/step - loss: -15.1082 - accuracy: 0.6126 - val_loss: -15.5791 - val_accuracy: 0.7467\n",
      "Epoch 384/500\n",
      "5/5 [==============================] - 0s 11ms/step - loss: -15.1200 - accuracy: 0.5991 - val_loss: -15.5859 - val_accuracy: 0.8000\n",
      "Epoch 385/500\n",
      "5/5 [==============================] - 0s 13ms/step - loss: -15.1289 - accuracy: 0.5901 - val_loss: -15.5963 - val_accuracy: 0.8267\n",
      "Epoch 386/500\n",
      "5/5 [==============================] - 0s 12ms/step - loss: -15.1402 - accuracy: 0.6081 - val_loss: -15.6084 - val_accuracy: 0.8000\n",
      "Epoch 387/500\n",
      "5/5 [==============================] - 0s 12ms/step - loss: -15.1508 - accuracy: 0.6396 - val_loss: -15.6150 - val_accuracy: 0.7467\n",
      "Epoch 388/500\n",
      "5/5 [==============================] - 0s 12ms/step - loss: -15.1599 - accuracy: 0.5901 - val_loss: -15.6250 - val_accuracy: 0.8267\n",
      "Epoch 389/500\n",
      "5/5 [==============================] - 0s 13ms/step - loss: -15.1710 - accuracy: 0.5991 - val_loss: -15.6332 - val_accuracy: 0.8267\n",
      "Epoch 390/500\n",
      "5/5 [==============================] - 0s 12ms/step - loss: -15.1799 - accuracy: 0.6351 - val_loss: -15.6395 - val_accuracy: 0.7467\n",
      "Epoch 391/500\n",
      "5/5 [==============================] - 0s 11ms/step - loss: -15.1885 - accuracy: 0.6126 - val_loss: -15.6457 - val_accuracy: 0.8267\n",
      "Epoch 392/500\n",
      "5/5 [==============================] - 0s 12ms/step - loss: -15.1971 - accuracy: 0.5991 - val_loss: -15.6536 - val_accuracy: 0.7600\n",
      "Epoch 393/500\n",
      "5/5 [==============================] - 0s 12ms/step - loss: -15.2062 - accuracy: 0.6306 - val_loss: -15.6636 - val_accuracy: 0.7600\n",
      "Epoch 394/500\n",
      "5/5 [==============================] - 0s 11ms/step - loss: -15.2162 - accuracy: 0.6261 - val_loss: -15.6694 - val_accuracy: 0.7600\n",
      "Epoch 395/500\n",
      "5/5 [==============================] - 0s 11ms/step - loss: -15.2233 - accuracy: 0.5991 - val_loss: -15.6790 - val_accuracy: 0.7600\n",
      "Epoch 396/500\n",
      "5/5 [==============================] - 0s 13ms/step - loss: -15.2329 - accuracy: 0.6126 - val_loss: -15.6867 - val_accuracy: 0.8267\n",
      "Epoch 397/500\n",
      "5/5 [==============================] - 0s 13ms/step - loss: -15.2418 - accuracy: 0.6126 - val_loss: -15.6959 - val_accuracy: 0.8267\n",
      "Epoch 398/500\n",
      "5/5 [==============================] - 0s 12ms/step - loss: -15.2521 - accuracy: 0.6622 - val_loss: -15.7052 - val_accuracy: 0.7200\n",
      "Epoch 399/500\n",
      "5/5 [==============================] - 0s 11ms/step - loss: -15.2614 - accuracy: 0.5811 - val_loss: -15.7118 - val_accuracy: 0.8000\n",
      "Epoch 400/500\n",
      "5/5 [==============================] - 0s 12ms/step - loss: -15.2681 - accuracy: 0.6036 - val_loss: -15.7196 - val_accuracy: 0.8000\n",
      "Epoch 401/500\n",
      "5/5 [==============================] - 0s 12ms/step - loss: -15.2772 - accuracy: 0.6081 - val_loss: -15.7276 - val_accuracy: 0.7600\n",
      "Epoch 402/500\n",
      "5/5 [==============================] - 0s 10ms/step - loss: -15.2846 - accuracy: 0.6081 - val_loss: -15.7347 - val_accuracy: 0.8267\n",
      "Epoch 403/500\n",
      "5/5 [==============================] - 0s 10ms/step - loss: -15.2949 - accuracy: 0.5811 - val_loss: -15.7412 - val_accuracy: 0.8267\n",
      "Epoch 404/500\n",
      "5/5 [==============================] - 0s 10ms/step - loss: -15.3001 - accuracy: 0.6712 - val_loss: -15.7480 - val_accuracy: 0.8400\n",
      "Epoch 405/500\n",
      "5/5 [==============================] - 0s 12ms/step - loss: -15.3090 - accuracy: 0.6171 - val_loss: -15.7593 - val_accuracy: 0.6933\n",
      "Epoch 406/500\n",
      "5/5 [==============================] - 0s 11ms/step - loss: -15.3167 - accuracy: 0.5811 - val_loss: -15.7611 - val_accuracy: 0.8400\n",
      "Epoch 407/500\n",
      "5/5 [==============================] - 0s 11ms/step - loss: -15.3231 - accuracy: 0.6261 - val_loss: -15.7686 - val_accuracy: 0.7600\n",
      "Epoch 408/500\n",
      "5/5 [==============================] - 0s 13ms/step - loss: -15.3322 - accuracy: 0.6351 - val_loss: -15.7740 - val_accuracy: 0.8267\n",
      "Epoch 409/500\n",
      "5/5 [==============================] - 0s 11ms/step - loss: -15.3397 - accuracy: 0.5811 - val_loss: -15.7797 - val_accuracy: 0.8267\n",
      "Epoch 410/500\n",
      "5/5 [==============================] - 0s 12ms/step - loss: -15.3479 - accuracy: 0.6351 - val_loss: -15.7876 - val_accuracy: 0.7600\n",
      "Epoch 411/500\n",
      "5/5 [==============================] - 0s 13ms/step - loss: -15.3550 - accuracy: 0.6216 - val_loss: -15.7927 - val_accuracy: 0.7600\n",
      "Epoch 412/500\n",
      "5/5 [==============================] - 0s 11ms/step - loss: -15.3642 - accuracy: 0.6171 - val_loss: -15.7986 - val_accuracy: 0.8267\n",
      "Epoch 413/500\n",
      "5/5 [==============================] - 0s 11ms/step - loss: -15.3696 - accuracy: 0.6261 - val_loss: -15.8057 - val_accuracy: 0.7200\n",
      "Epoch 414/500\n",
      "5/5 [==============================] - 0s 11ms/step - loss: -15.3777 - accuracy: 0.6081 - val_loss: -15.8109 - val_accuracy: 0.8267\n",
      "Epoch 415/500\n",
      "5/5 [==============================] - 0s 13ms/step - loss: -15.3862 - accuracy: 0.5991 - val_loss: -15.8149 - val_accuracy: 0.8267\n",
      "Epoch 416/500\n",
      "5/5 [==============================] - 0s 10ms/step - loss: -15.3942 - accuracy: 0.6441 - val_loss: -15.8261 - val_accuracy: 0.7067\n",
      "Epoch 417/500\n",
      "5/5 [==============================] - 0s 10ms/step - loss: -15.4008 - accuracy: 0.6036 - val_loss: -15.8326 - val_accuracy: 0.8267\n",
      "Epoch 418/500\n",
      "5/5 [==============================] - 0s 10ms/step - loss: -15.4064 - accuracy: 0.5946 - val_loss: -15.8387 - val_accuracy: 0.8267\n",
      "Epoch 419/500\n",
      "5/5 [==============================] - 0s 11ms/step - loss: -15.4133 - accuracy: 0.6036 - val_loss: -15.8413 - val_accuracy: 0.8267\n",
      "Epoch 420/500\n",
      "5/5 [==============================] - 0s 10ms/step - loss: -15.4194 - accuracy: 0.6757 - val_loss: -15.8515 - val_accuracy: 0.7200\n",
      "Epoch 421/500\n",
      "5/5 [==============================] - 0s 11ms/step - loss: -15.4285 - accuracy: 0.5946 - val_loss: -15.8562 - val_accuracy: 0.8267\n",
      "Epoch 422/500\n",
      "5/5 [==============================] - 0s 11ms/step - loss: -15.4365 - accuracy: 0.5811 - val_loss: -15.8606 - val_accuracy: 0.8267\n",
      "Epoch 423/500\n",
      "5/5 [==============================] - 0s 11ms/step - loss: -15.4410 - accuracy: 0.6667 - val_loss: -15.8692 - val_accuracy: 0.7333\n",
      "Epoch 424/500\n",
      "5/5 [==============================] - 0s 12ms/step - loss: -15.4494 - accuracy: 0.5856 - val_loss: -15.8735 - val_accuracy: 0.8267\n",
      "Epoch 425/500\n",
      "5/5 [==============================] - 0s 13ms/step - loss: -15.4562 - accuracy: 0.5946 - val_loss: -15.8787 - val_accuracy: 0.8267\n",
      "Epoch 426/500\n",
      "5/5 [==============================] - 0s 14ms/step - loss: -15.4633 - accuracy: 0.6667 - val_loss: -15.8880 - val_accuracy: 0.7067\n",
      "Epoch 427/500\n",
      "5/5 [==============================] - 0s 13ms/step - loss: -15.4688 - accuracy: 0.6036 - val_loss: -15.8896 - val_accuracy: 0.7200\n",
      "Epoch 428/500\n",
      "5/5 [==============================] - 0s 12ms/step - loss: -15.4761 - accuracy: 0.5901 - val_loss: -15.9005 - val_accuracy: 0.8267\n",
      "Epoch 429/500\n",
      "5/5 [==============================] - 0s 12ms/step - loss: -15.4789 - accuracy: 0.6081 - val_loss: -15.9047 - val_accuracy: 0.8267\n",
      "Epoch 430/500\n",
      "5/5 [==============================] - 0s 12ms/step - loss: -15.4895 - accuracy: 0.6577 - val_loss: -15.9179 - val_accuracy: 0.7200\n",
      "Epoch 431/500\n",
      "5/5 [==============================] - 0s 13ms/step - loss: -15.4913 - accuracy: 0.6126 - val_loss: -15.9099 - val_accuracy: 0.8000\n",
      "Epoch 432/500\n",
      "5/5 [==============================] - 0s 13ms/step - loss: -15.4935 - accuracy: 0.5901 - val_loss: -15.9170 - val_accuracy: 0.8267\n",
      "Epoch 433/500\n",
      "5/5 [==============================] - 0s 13ms/step - loss: -15.5050 - accuracy: 0.6216 - val_loss: -15.9312 - val_accuracy: 0.7733\n",
      "Epoch 434/500\n",
      "5/5 [==============================] - 0s 13ms/step - loss: -15.5133 - accuracy: 0.6351 - val_loss: -15.9372 - val_accuracy: 0.8400\n",
      "Epoch 435/500\n",
      "5/5 [==============================] - 0s 14ms/step - loss: -15.5212 - accuracy: 0.6036 - val_loss: -15.9400 - val_accuracy: 0.8400\n",
      "Epoch 436/500\n",
      "5/5 [==============================] - 0s 13ms/step - loss: -15.5260 - accuracy: 0.6757 - val_loss: -15.9477 - val_accuracy: 0.7467\n",
      "Epoch 437/500\n",
      "5/5 [==============================] - 0s 14ms/step - loss: -15.5344 - accuracy: 0.5766 - val_loss: -15.9546 - val_accuracy: 0.8267\n",
      "Epoch 438/500\n",
      "5/5 [==============================] - 0s 13ms/step - loss: -15.5401 - accuracy: 0.6396 - val_loss: -15.9595 - val_accuracy: 0.7067\n",
      "Epoch 439/500\n",
      "5/5 [==============================] - 0s 12ms/step - loss: -15.5463 - accuracy: 0.6126 - val_loss: -15.9652 - val_accuracy: 0.8267\n",
      "Epoch 440/500\n",
      "5/5 [==============================] - 0s 13ms/step - loss: -15.5526 - accuracy: 0.5991 - val_loss: -15.9715 - val_accuracy: 0.8267\n",
      "Epoch 441/500\n",
      "5/5 [==============================] - 0s 11ms/step - loss: -15.5584 - accuracy: 0.6622 - val_loss: -15.9762 - val_accuracy: 0.7467\n",
      "Epoch 442/500\n",
      "5/5 [==============================] - 0s 11ms/step - loss: -15.5649 - accuracy: 0.5946 - val_loss: -15.9801 - val_accuracy: 0.8267\n",
      "Epoch 443/500\n",
      "5/5 [==============================] - 0s 11ms/step - loss: -15.5718 - accuracy: 0.6126 - val_loss: -15.9862 - val_accuracy: 0.8267\n",
      "Epoch 444/500\n",
      "5/5 [==============================] - 0s 13ms/step - loss: -15.5769 - accuracy: 0.6351 - val_loss: -15.9929 - val_accuracy: 0.8267\n",
      "Epoch 445/500\n",
      "5/5 [==============================] - 0s 11ms/step - loss: -15.5839 - accuracy: 0.6216 - val_loss: -15.9961 - val_accuracy: 0.8267\n",
      "Epoch 446/500\n",
      "5/5 [==============================] - 0s 12ms/step - loss: -15.5891 - accuracy: 0.6351 - val_loss: -16.0029 - val_accuracy: 0.7600\n",
      "Epoch 447/500\n",
      "5/5 [==============================] - 0s 13ms/step - loss: -15.5951 - accuracy: 0.6306 - val_loss: -16.0083 - val_accuracy: 0.8000\n",
      "Epoch 448/500\n",
      "5/5 [==============================] - 0s 12ms/step - loss: -15.6000 - accuracy: 0.6306 - val_loss: -16.0130 - val_accuracy: 0.8267\n",
      "Epoch 449/500\n",
      "5/5 [==============================] - 0s 12ms/step - loss: -15.6081 - accuracy: 0.6306 - val_loss: -16.0198 - val_accuracy: 0.7600\n",
      "Epoch 450/500\n",
      "5/5 [==============================] - 0s 12ms/step - loss: -15.6141 - accuracy: 0.6081 - val_loss: -16.0277 - val_accuracy: 0.8267\n",
      "Epoch 451/500\n",
      "5/5 [==============================] - 0s 14ms/step - loss: -15.6189 - accuracy: 0.6577 - val_loss: -16.0338 - val_accuracy: 0.7067\n",
      "Epoch 452/500\n",
      "5/5 [==============================] - 0s 14ms/step - loss: -15.6259 - accuracy: 0.5811 - val_loss: -16.0360 - val_accuracy: 0.8400\n",
      "Epoch 453/500\n",
      "5/5 [==============================] - 0s 12ms/step - loss: -15.6292 - accuracy: 0.6712 - val_loss: -16.0438 - val_accuracy: 0.7467\n",
      "Epoch 454/500\n",
      "5/5 [==============================] - 0s 14ms/step - loss: -15.6378 - accuracy: 0.5946 - val_loss: -16.0492 - val_accuracy: 0.8267\n",
      "Epoch 455/500\n",
      "5/5 [==============================] - 0s 13ms/step - loss: -15.6426 - accuracy: 0.6081 - val_loss: -16.0577 - val_accuracy: 0.8267\n",
      "Epoch 456/500\n",
      "5/5 [==============================] - 0s 14ms/step - loss: -15.6488 - accuracy: 0.6486 - val_loss: -16.0619 - val_accuracy: 0.7600\n",
      "Epoch 457/500\n",
      "5/5 [==============================] - 0s 14ms/step - loss: -15.6539 - accuracy: 0.6532 - val_loss: -16.0676 - val_accuracy: 0.7200\n",
      "Epoch 458/500\n",
      "5/5 [==============================] - 0s 14ms/step - loss: -15.6616 - accuracy: 0.6036 - val_loss: -16.0726 - val_accuracy: 0.8267\n",
      "Epoch 459/500\n",
      "5/5 [==============================] - 0s 16ms/step - loss: -15.6677 - accuracy: 0.6216 - val_loss: -16.0764 - val_accuracy: 0.7600\n",
      "Epoch 460/500\n",
      "5/5 [==============================] - 0s 15ms/step - loss: -15.6740 - accuracy: 0.6532 - val_loss: -16.0830 - val_accuracy: 0.7200\n",
      "Epoch 461/500\n",
      "5/5 [==============================] - 0s 14ms/step - loss: -15.6815 - accuracy: 0.6261 - val_loss: -16.0874 - val_accuracy: 0.8267\n",
      "Epoch 462/500\n",
      "5/5 [==============================] - 0s 14ms/step - loss: -15.6882 - accuracy: 0.6036 - val_loss: -16.0922 - val_accuracy: 0.8267\n",
      "Epoch 463/500\n",
      "5/5 [==============================] - 0s 15ms/step - loss: -15.6934 - accuracy: 0.6351 - val_loss: -16.0968 - val_accuracy: 0.7867\n",
      "Epoch 464/500\n",
      "5/5 [==============================] - 0s 13ms/step - loss: -15.6968 - accuracy: 0.6622 - val_loss: -16.1036 - val_accuracy: 0.7600\n",
      "Epoch 465/500\n",
      "5/5 [==============================] - 0s 15ms/step - loss: -15.7043 - accuracy: 0.5991 - val_loss: -16.1061 - val_accuracy: 0.8400\n",
      "Epoch 466/500\n",
      "5/5 [==============================] - 0s 16ms/step - loss: -15.7096 - accuracy: 0.6622 - val_loss: -16.1151 - val_accuracy: 0.7067\n",
      "Epoch 467/500\n",
      "5/5 [==============================] - 0s 14ms/step - loss: -15.7158 - accuracy: 0.6126 - val_loss: -16.1197 - val_accuracy: 0.8400\n",
      "Epoch 468/500\n",
      "5/5 [==============================] - 0s 14ms/step - loss: -15.7221 - accuracy: 0.6171 - val_loss: -16.1239 - val_accuracy: 0.8267\n",
      "Epoch 469/500\n",
      "5/5 [==============================] - 0s 13ms/step - loss: -15.7277 - accuracy: 0.6486 - val_loss: -16.1289 - val_accuracy: 0.8267\n",
      "Epoch 470/500\n",
      "5/5 [==============================] - 0s 12ms/step - loss: -15.7336 - accuracy: 0.6622 - val_loss: -16.1336 - val_accuracy: 0.7200\n",
      "Epoch 471/500\n",
      "5/5 [==============================] - 0s 13ms/step - loss: -15.7391 - accuracy: 0.5901 - val_loss: -16.1397 - val_accuracy: 0.8400\n",
      "Epoch 472/500\n",
      "5/5 [==============================] - 0s 13ms/step - loss: -15.7464 - accuracy: 0.6577 - val_loss: -16.1449 - val_accuracy: 0.7467\n",
      "Epoch 473/500\n",
      "5/5 [==============================] - 0s 12ms/step - loss: -15.7518 - accuracy: 0.6441 - val_loss: -16.1509 - val_accuracy: 0.7600\n",
      "Epoch 474/500\n",
      "5/5 [==============================] - 0s 13ms/step - loss: -15.7561 - accuracy: 0.6261 - val_loss: -16.1551 - val_accuracy: 0.8267\n",
      "Epoch 475/500\n",
      "5/5 [==============================] - 0s 12ms/step - loss: -15.7629 - accuracy: 0.5901 - val_loss: -16.1625 - val_accuracy: 0.8400\n",
      "Epoch 476/500\n",
      "5/5 [==============================] - 0s 14ms/step - loss: -15.7693 - accuracy: 0.6757 - val_loss: -16.1654 - val_accuracy: 0.7867\n",
      "Epoch 477/500\n",
      "5/5 [==============================] - 0s 12ms/step - loss: -15.7736 - accuracy: 0.6216 - val_loss: -16.1685 - val_accuracy: 0.8400\n",
      "Epoch 478/500\n",
      "5/5 [==============================] - 0s 13ms/step - loss: -15.7776 - accuracy: 0.6081 - val_loss: -16.1755 - val_accuracy: 0.7867\n",
      "Epoch 479/500\n",
      "5/5 [==============================] - 0s 13ms/step - loss: -15.7861 - accuracy: 0.6396 - val_loss: -16.1771 - val_accuracy: 0.7867\n",
      "Epoch 480/500\n",
      "5/5 [==============================] - 0s 15ms/step - loss: -15.7900 - accuracy: 0.6532 - val_loss: -16.1823 - val_accuracy: 0.7867\n",
      "Epoch 481/500\n",
      "5/5 [==============================] - 0s 12ms/step - loss: -15.7951 - accuracy: 0.6261 - val_loss: -16.1896 - val_accuracy: 0.7867\n",
      "Epoch 482/500\n",
      "5/5 [==============================] - 0s 13ms/step - loss: -15.8018 - accuracy: 0.5991 - val_loss: -16.1932 - val_accuracy: 0.8400\n",
      "Epoch 483/500\n",
      "5/5 [==============================] - 0s 14ms/step - loss: -15.8077 - accuracy: 0.6577 - val_loss: -16.2004 - val_accuracy: 0.7067\n",
      "Epoch 484/500\n",
      "5/5 [==============================] - 0s 16ms/step - loss: -15.8131 - accuracy: 0.6171 - val_loss: -16.2039 - val_accuracy: 0.8400\n",
      "Epoch 485/500\n",
      "5/5 [==============================] - 0s 14ms/step - loss: -15.8191 - accuracy: 0.6577 - val_loss: -16.2088 - val_accuracy: 0.6933\n",
      "Epoch 486/500\n",
      "5/5 [==============================] - 0s 13ms/step - loss: -15.8245 - accuracy: 0.5991 - val_loss: -16.2147 - val_accuracy: 0.8400\n",
      "Epoch 487/500\n",
      "5/5 [==============================] - 0s 12ms/step - loss: -15.8300 - accuracy: 0.6532 - val_loss: -16.2216 - val_accuracy: 0.7067\n",
      "Epoch 488/500\n",
      "5/5 [==============================] - 0s 14ms/step - loss: -15.8370 - accuracy: 0.6126 - val_loss: -16.2240 - val_accuracy: 0.8400\n",
      "Epoch 489/500\n",
      "5/5 [==============================] - 0s 14ms/step - loss: -15.8404 - accuracy: 0.6577 - val_loss: -16.2297 - val_accuracy: 0.7600\n",
      "Epoch 490/500\n",
      "5/5 [==============================] - 0s 11ms/step - loss: -15.8473 - accuracy: 0.6216 - val_loss: -16.2363 - val_accuracy: 0.7867\n",
      "Epoch 491/500\n",
      "5/5 [==============================] - 0s 12ms/step - loss: -15.8542 - accuracy: 0.6216 - val_loss: -16.2420 - val_accuracy: 0.7867\n",
      "Epoch 492/500\n",
      "5/5 [==============================] - 0s 13ms/step - loss: -15.8601 - accuracy: 0.6486 - val_loss: -16.2478 - val_accuracy: 0.8000\n",
      "Epoch 493/500\n",
      "5/5 [==============================] - 0s 15ms/step - loss: -15.8658 - accuracy: 0.6486 - val_loss: -16.2517 - val_accuracy: 0.8400\n",
      "Epoch 494/500\n",
      "5/5 [==============================] - 0s 13ms/step - loss: -15.8686 - accuracy: 0.6036 - val_loss: -16.2497 - val_accuracy: 0.8400\n",
      "Epoch 495/500\n",
      "5/5 [==============================] - 0s 13ms/step - loss: -15.8724 - accuracy: 0.6667 - val_loss: -16.2556 - val_accuracy: 0.7600\n",
      "Epoch 496/500\n",
      "5/5 [==============================] - 0s 14ms/step - loss: -15.8797 - accuracy: 0.6396 - val_loss: -16.2625 - val_accuracy: 0.8400\n",
      "Epoch 497/500\n",
      "5/5 [==============================] - 0s 12ms/step - loss: -15.8852 - accuracy: 0.6622 - val_loss: -16.2661 - val_accuracy: 0.7867\n",
      "Epoch 498/500\n",
      "5/5 [==============================] - 0s 12ms/step - loss: -15.8910 - accuracy: 0.6261 - val_loss: -16.2723 - val_accuracy: 0.8000\n",
      "Epoch 499/500\n",
      "5/5 [==============================] - 0s 12ms/step - loss: -15.8976 - accuracy: 0.6351 - val_loss: -16.2736 - val_accuracy: 0.8000\n",
      "Epoch 500/500\n",
      "5/5 [==============================] - 0s 14ms/step - loss: -15.9015 - accuracy: 0.6486 - val_loss: -16.2789 - val_accuracy: 0.8400\n",
      "27.823740005493164\n"
     ]
    }
   ],
   "execution_count": 33
  },
  {
   "cell_type": "code",
   "metadata": {
    "id": "KNW9V8Ofi6sy",
    "ExecuteTime": {
     "end_time": "2025-03-28T11:12:34.944173Z",
     "start_time": "2025-03-28T11:12:34.939163Z"
    }
   },
   "source": [
    "# зауважте, що час виконання залежно від версії DirectML або типу обладнання може суттєво відрізнятися\n",
    "# також час виконання на першій ітерації під відеокартою зазвичай вищий, ніж на наступних"
   ],
   "outputs": [],
   "execution_count": 34
  },
  {
   "cell_type": "code",
   "metadata": {
    "id": "qIcf1PKQi6sy",
    "outputId": "14465e40-8dca-4d57-a030-5be2ba4573e7",
    "ExecuteTime": {
     "end_time": "2025-03-28T11:12:35.317188Z",
     "start_time": "2025-03-28T11:12:34.954164Z"
    }
   },
   "source": [
    "#Because latent space is two-dimensional, there are a few visualizations that can be done at this point.\n",
    "#One is to look at the neighborhoods of different classes on the latent 2D plane:\n",
    "colors = np.array(list(islice(cycle(['#377eb8', '#ff7f00', '#4daf4a',\n",
    "                                             '#f781bf', '#a65628', '#984ea3',\n",
    "                                             '#999999', '#e41a1c', '#dede00']), int(max(valid_y) + 1))))\n",
    "\n",
    "start_time = time.time()\n",
    "x_train_encoded = encoder.predict(train_x, batch_size=500)\n",
    "plt.figure(figsize=(6, 6))\n",
    "plt.scatter(x_train_encoded[:, 0], x_train_encoded[:, 1], c = colors[train_y])\n",
    "plt.colorbar()\n",
    "plt.show()\n",
    "\n",
    "x_test_encoded = encoder.predict(valid_x, batch_size=500)\n",
    "plt.figure(figsize=(6, 6))\n",
    "plt.scatter(x_test_encoded[:, 0], x_test_encoded[:, 1], c = colors[valid_y])\n",
    "plt.colorbar()\n",
    "plt.show()\n",
    "end_time = time.time()\n",
    "end_time-start_time"
   ],
   "outputs": [
    {
     "name": "stdout",
     "output_type": "stream",
     "text": [
      "1/1 [==============================] - 0s 46ms/step\n"
     ]
    },
    {
     "data": {
      "text/plain": [
       "<Figure size 600x600 with 2 Axes>"
      ],
      "image/png": "[encoded data removed]"
     },
     "metadata": {},
     "output_type": "display_data"
    },
    {
     "name": "stdout",
     "output_type": "stream",
     "text": [
      "1/1 [==============================] - 0s 15ms/step\n"
     ]
    },
    {
     "data": {
      "text/plain": [
       "<Figure size 600x600 with 2 Axes>"
      ],
      "image/png": "[encoded data removed]"
     },
     "metadata": {},
     "output_type": "display_data"
    },
    {
     "data": {
      "text/plain": [
       "0.346360445022583"
      ]
     },
     "execution_count": 35,
     "metadata": {},
     "output_type": "execute_result"
    }
   ],
   "execution_count": 35
  },
  {
   "cell_type": "code",
   "metadata": {
    "id": "TQCFdOyli6sy",
    "outputId": "2ed78c02-a5ac-42b0-fcfa-eeeb86dd02ff",
    "ExecuteTime": {
     "end_time": "2025-03-28T11:12:35.348584Z",
     "start_time": "2025-03-28T11:12:35.333565Z"
    }
   },
   "source": [
    "start_time = time.time()\n",
    "train_x, valid_x, train_y, valid_y = model_selection.train_test_split(ab, y_pred)\n",
    "end_time = time.time()\n",
    "end_time-start_time"
   ],
   "outputs": [
    {
     "data": {
      "text/plain": [
       "0.00099945068359375"
      ]
     },
     "execution_count": 36,
     "metadata": {},
     "output_type": "execute_result"
    }
   ],
   "execution_count": 36
  },
  {
   "cell_type": "code",
   "metadata": {
    "id": "8jMhMQ6oi6sz",
    "outputId": "e16331e0-bfc4-400b-80cc-36987b49b655",
    "ExecuteTime": {
     "end_time": "2025-03-28T11:12:35.410694Z",
     "start_time": "2025-03-28T11:12:35.365171Z"
    }
   },
   "source": [
    "from sklearn.datasets import make_classification\n",
    "from imblearn.over_sampling import RandomOverSampler\n",
    "start_time = time.time()\n",
    "ros = RandomOverSampler(random_state=0)\n",
    "X_resampled, y_resampled = ros.fit_resample(X_embedded, y_pred)\n",
    "end_time = time.time()\n",
    "end_time-start_time"
   ],
   "outputs": [
    {
     "name": "stderr",
     "output_type": "stream",
     "text": [
      "C:\\Users\\dan\\.conda\\envs\\univ_gr_lab3_39\\lib\\site-packages\\sklearn\\utils\\deprecation.py:151: FutureWarning: 'force_all_finite' was renamed to 'ensure_all_finite' in 1.6 and will be removed in 1.8.\n",
      "  warnings.warn(\n",
      "C:\\Users\\dan\\.conda\\envs\\univ_gr_lab3_39\\lib\\site-packages\\sklearn\\base.py:484: FutureWarning: `BaseEstimator._check_n_features` is deprecated in 1.6 and will be removed in 1.7. Use `sklearn.utils.validation._check_n_features` instead.\n",
      "  warnings.warn(\n",
      "C:\\Users\\dan\\.conda\\envs\\univ_gr_lab3_39\\lib\\site-packages\\sklearn\\base.py:493: FutureWarning: `BaseEstimator._check_feature_names` is deprecated in 1.6 and will be removed in 1.7. Use `sklearn.utils.validation._check_feature_names` instead.\n",
      "  warnings.warn(\n"
     ]
    },
    {
     "data": {
      "text/plain": [
       "0.0010004043579101562"
      ]
     },
     "execution_count": 37,
     "metadata": {},
     "output_type": "execute_result"
    }
   ],
   "execution_count": 37
  },
  {
   "cell_type": "code",
   "metadata": {
    "id": "EodRtNS7i6sz",
    "ExecuteTime": {
     "end_time": "2025-03-28T11:12:35.441706Z",
     "start_time": "2025-03-28T11:12:35.426689Z"
    }
   },
   "source": [],
   "outputs": [],
   "execution_count": null
  },
  {
   "cell_type": "code",
   "metadata": {
    "id": "fPElk0uZi6sz",
    "outputId": "5b7ac599-226c-4874-ebb8-cfe838935976",
    "ExecuteTime": {
     "end_time": "2025-03-28T11:12:35.627242Z",
     "start_time": "2025-03-28T11:12:35.458306Z"
    }
   },
   "source": [
    "colors = np.array(list(islice(cycle(['#377eb8', '#ff7f00', '#4daf4a',\n",
    "                                             '#f781bf', '#a65628', '#984ea3',\n",
    "                                             '#999999', '#e41a1c', '#dede00']), int(max(y_pred) + 1))))\n",
    "\n",
    "plt.figure(figsize=(6, 6))\n",
    "plt.scatter(X_embedded[:, 0], X_embedded[:, 1], s=2, c=colors[y_pred])\n",
    "plt.colorbar()\n",
    "plt.show()\n",
    "\n",
    "plt.figure(figsize=(6, 6))\n",
    "plt.scatter(X_resampled[:, 0], X_resampled[:, 1], s=2, c=colors[y_resampled])\n",
    "plt.colorbar()\n",
    "plt.show()"
   ],
   "outputs": [
    {
     "data": {
      "text/plain": [
       "<Figure size 600x600 with 2 Axes>"
      ],
      "image/png": "[encoded data removed]"
     },
     "metadata": {},
     "output_type": "display_data"
    },
    {
     "data": {
      "text/plain": [
       "<Figure size 600x600 with 2 Axes>"
      ],
      "image/png": "[encoded data removed]"
     },
     "metadata": {},
     "output_type": "display_data"
    }
   ],
   "execution_count": 38
  },
  {
   "cell_type": "code",
   "metadata": {
    "id": "JlrB6Afli6sz",
    "ExecuteTime": {
     "end_time": "2025-03-28T11:12:35.657779Z",
     "start_time": "2025-03-28T11:12:35.643243Z"
    }
   },
   "source": [
    "train_x, valid_x, train_y, valid_y = model_selection.train_test_split(X_resampled, y_resampled)"
   ],
   "outputs": [],
   "execution_count": 39
  },
  {
   "cell_type": "code",
   "metadata": {
    "id": "bKYov9sdi6s5",
    "ExecuteTime": {
     "end_time": "2025-03-28T11:12:35.689003Z",
     "start_time": "2025-03-28T11:12:35.675796Z"
    }
   },
   "source": [
    "#X_resampled, y_resampled = ros.fit_resample(X_embedded, y_pred)"
   ],
   "outputs": [],
   "execution_count": 40
  },
  {
   "cell_type": "code",
   "metadata": {
    "id": "RkoTrBRki6s5",
    "outputId": "afbb9fdb-5eee-4285-aaca-6feca080335b",
    "ExecuteTime": {
     "end_time": "2025-03-28T11:12:35.721Z",
     "start_time": "2025-03-28T11:12:35.706002Z"
    }
   },
   "source": [
    "from imblearn.over_sampling import SMOTE, ADASYN\n",
    "start_time = time.time()\n",
    "X_resampled2, y_resampled2 = SMOTE().fit_resample(X_embedded, y_pred)\n",
    "#print(sorted(Counter(y_resampled).items()))\n",
    "end_time = time.time()\n",
    "end_time-start_time"
   ],
   "outputs": [
    {
     "name": "stderr",
     "output_type": "stream",
     "text": [
      "C:\\Users\\dan\\.conda\\envs\\univ_gr_lab3_39\\lib\\site-packages\\sklearn\\base.py:474: FutureWarning: `BaseEstimator._validate_data` is deprecated in 1.6 and will be removed in 1.7. Use `sklearn.utils.validation.validate_data` instead. This function becomes public and is part of the scikit-learn developer API.\n",
      "  warnings.warn(\n"
     ]
    },
    {
     "data": {
      "text/plain": [
       "0.002997875213623047"
      ]
     },
     "execution_count": 41,
     "metadata": {},
     "output_type": "execute_result"
    }
   ],
   "execution_count": 41
  },
  {
   "cell_type": "code",
   "metadata": {
    "id": "f_BY8Rt2i6s6",
    "outputId": "0a56b3ad-73ed-4906-bee3-2b58572dd54b",
    "ExecuteTime": {
     "end_time": "2025-03-28T11:12:35.752673Z",
     "start_time": "2025-03-28T11:12:35.737643Z"
    }
   },
   "source": [
    "start_time = time.time()\n",
    "clf_smote = LinearSVC().fit(X_resampled2, y_resampled2)\n",
    "end_time = time.time()\n",
    "end_time-start_time"
   ],
   "outputs": [
    {
     "data": {
      "text/plain": [
       "0.0020177364349365234"
      ]
     },
     "execution_count": 42,
     "metadata": {},
     "output_type": "execute_result"
    }
   ],
   "execution_count": 42
  },
  {
   "cell_type": "code",
   "metadata": {
    "id": "ERTu4xeIi6s6",
    "outputId": "c0a32a1a-69fa-4ce1-e8e1-abb706ad8f9a",
    "ExecuteTime": {
     "end_time": "2025-03-28T11:12:35.784263Z",
     "start_time": "2025-03-28T11:12:35.769728Z"
    }
   },
   "source": [
    "start_time = time.time()\n",
    "X_resampled3, y_resampled3 = ADASYN().fit_resample(X_embedded, y_pred)\n",
    "#print(sorted(Counter(y_resampled).items()))\n",
    "end_time = time.time()\n",
    "end_time-start_time"
   ],
   "outputs": [
    {
     "name": "stderr",
     "output_type": "stream",
     "text": [
      "C:\\Users\\dan\\.conda\\envs\\univ_gr_lab3_39\\lib\\site-packages\\sklearn\\base.py:474: FutureWarning: `BaseEstimator._validate_data` is deprecated in 1.6 and will be removed in 1.7. Use `sklearn.utils.validation.validate_data` instead. This function becomes public and is part of the scikit-learn developer API.\n",
      "  warnings.warn(\n"
     ]
    },
    {
     "data": {
      "text/plain": [
       "0.005010128021240234"
      ]
     },
     "execution_count": 43,
     "metadata": {},
     "output_type": "execute_result"
    }
   ],
   "execution_count": 43
  },
  {
   "cell_type": "code",
   "metadata": {
    "id": "57u-cmW6i6s6",
    "outputId": "6a345c6a-3fd1-4c93-9ab5-9e5fba9f4f0d",
    "ExecuteTime": {
     "end_time": "2025-03-28T11:12:35.815274Z",
     "start_time": "2025-03-28T11:12:35.801282Z"
    }
   },
   "source": [
    "start_time = time.time()\n",
    "clf_adasyn = LinearSVC().fit(X_resampled3, y_resampled3)\n",
    "end_time = time.time()\n",
    "end_time-start_time"
   ],
   "outputs": [
    {
     "data": {
      "text/plain": [
       "0.0010340213775634766"
      ]
     },
     "execution_count": 44,
     "metadata": {},
     "output_type": "execute_result"
    }
   ],
   "execution_count": 44
  },
  {
   "cell_type": "code",
   "metadata": {
    "id": "H30Rk0G1i6s7",
    "outputId": "57251a5b-4fb2-4a96-e536-ed901ae2100c",
    "ExecuteTime": {
     "end_time": "2025-03-28T11:12:36.080768Z",
     "start_time": "2025-03-28T11:12:35.832071Z"
    }
   },
   "source": [
    "plt.figure(figsize=(6, 6))\n",
    "plt.scatter(X_resampled[:, 0], X_resampled[:, 1], s=2, c=colors[y_resampled])\n",
    "plt.colorbar()\n",
    "plt.show()\n",
    "\n",
    "plt.figure(figsize=(6, 6))\n",
    "plt.scatter(X_resampled2[:, 0], X_resampled2[:, 1], s=2, c=colors[y_resampled2])\n",
    "plt.colorbar()\n",
    "plt.show()\n",
    "\n",
    "plt.figure(figsize=(6, 6))\n",
    "plt.scatter(X_resampled3[:, 0], X_resampled3[:, 1], s=2, c=colors[y_resampled3])\n",
    "plt.colorbar()\n",
    "plt.show()"
   ],
   "outputs": [
    {
     "data": {
      "text/plain": [
       "<Figure size 600x600 with 2 Axes>"
      ],
      "image/png": "[encoded data removed]"
     },
     "metadata": {},
     "output_type": "display_data"
    },
    {
     "data": {
      "text/plain": [
       "<Figure size 600x600 with 2 Axes>"
      ],
      "image/png": "[encoded data removed]"
     },
     "metadata": {},
     "output_type": "display_data"
    },
    {
     "data": {
      "text/plain": [
       "<Figure size 600x600 with 2 Axes>"
      ],
      "image/png": "[encoded data removed]"
     },
     "metadata": {},
     "output_type": "display_data"
    }
   ],
   "execution_count": 45
  },
  {
   "cell_type": "code",
   "metadata": {
    "id": "PdA165ORi6s7",
    "ExecuteTime": {
     "end_time": "2025-03-28T11:12:36.112097Z",
     "start_time": "2025-03-28T11:12:36.098523Z"
    }
   },
   "source": [
    "# stops here"
   ],
   "outputs": [],
   "execution_count": 46
  }
 ],
 "metadata": {
  "kernelspec": {
   "display_name": "Python 3 (ipykernel)",
   "language": "python",
   "name": "python3"
  },
  "language_info": {
   "codemirror_mode": {
    "name": "ipython",
    "version": 3
   },
   "file_extension": ".py",
   "mimetype": "text/x-python",
   "name": "python",
   "nbconvert_exporter": "python",
   "pygments_lexer": "ipython3",
   "version": "3.9.18"
  },
  "varInspector": {
   "cols": {
    "lenName": 16,
    "lenType": 16,
    "lenVar": 40
   },
   "kernels_config": {
    "python": {
     "delete_cmd_postfix": "",
     "delete_cmd_prefix": "del ",
     "library": "var_list.py",
     "varRefreshCmd": "print(var_dic_list())"
    },
    "r": {
     "delete_cmd_postfix": ") ",
     "delete_cmd_prefix": "rm(",
     "library": "var_list.r",
     "varRefreshCmd": "cat(var_dic_list()) "
    }
   },
   "types_to_exclude": [
    "module",
    "function",
    "builtin_function_or_method",
    "instance",
    "_Feature"
   ],
   "window_display": false
  },
  "colab": {
   "provenance": []
  }
 },
 "nbformat": 4,
 "nbformat_minor": 0
}
